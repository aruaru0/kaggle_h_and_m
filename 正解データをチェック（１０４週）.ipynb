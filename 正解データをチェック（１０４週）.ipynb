{
 "cells": [
  {
   "cell_type": "code",
   "execution_count": 1,
   "id": "063190e5",
   "metadata": {},
   "outputs": [
    {
     "name": "stdout",
     "output_type": "stream",
     "text": [
      "Requirement already satisfied: pyarrow in /opt/conda/lib/python3.8/site-packages (7.0.0)\n",
      "Requirement already satisfied: numpy>=1.16.6 in /opt/conda/lib/python3.8/site-packages (from pyarrow) (1.20.1)\n",
      "Requirement already satisfied: fastparquet in /opt/conda/lib/python3.8/site-packages (0.8.1)\n",
      "Requirement already satisfied: fsspec in /opt/conda/lib/python3.8/site-packages (from fastparquet) (0.9.0)\n",
      "Requirement already satisfied: numpy>=1.18 in /opt/conda/lib/python3.8/site-packages (from fastparquet) (1.20.1)\n",
      "Requirement already satisfied: cramjam>=2.3.0 in /opt/conda/lib/python3.8/site-packages (from fastparquet) (2.5.0)\n",
      "Requirement already satisfied: pandas>=1.1.0 in /opt/conda/lib/python3.8/site-packages (from fastparquet) (1.2.4)\n",
      "Requirement already satisfied: packaging in /opt/conda/lib/python3.8/site-packages (from fastparquet) (20.9)\n",
      "Requirement already satisfied: python-dateutil>=2.7.3 in /opt/conda/lib/python3.8/site-packages (from pandas>=1.1.0->fastparquet) (2.8.1)\n",
      "Requirement already satisfied: pytz>=2017.3 in /opt/conda/lib/python3.8/site-packages (from pandas>=1.1.0->fastparquet) (2021.1)\n",
      "Requirement already satisfied: six>=1.5 in /opt/conda/lib/python3.8/site-packages (from python-dateutil>=2.7.3->pandas>=1.1.0->fastparquet) (1.15.0)\n",
      "Requirement already satisfied: pyparsing>=2.0.2 in /opt/conda/lib/python3.8/site-packages (from packaging->fastparquet) (2.4.7)\n"
     ]
    }
   ],
   "source": [
    "!pip install pyarrow\n",
    "!pip install fastparquet"
   ]
  },
  {
   "cell_type": "code",
   "execution_count": 2,
   "id": "db651a9a",
   "metadata": {},
   "outputs": [],
   "source": [
    "val_week = 104"
   ]
  },
  {
   "cell_type": "code",
   "execution_count": 3,
   "id": "805ffe6c",
   "metadata": {},
   "outputs": [],
   "source": [
    "import json\n",
    "from tqdm import tqdm\n",
    "import numpy as np, pandas as pd, datetime as dt\n",
    "import matplotlib.pyplot as plt; plt.style.use('ggplot')\n",
    "import seaborn as sns\n",
    "from collections import defaultdict\n",
    "\n",
    "def iter_to_str(iterable):\n",
    "    return \" \".join(map(lambda x: str(0) + str(x), iterable))"
   ]
  },
  {
   "cell_type": "code",
   "execution_count": 15,
   "id": "e1b510af",
   "metadata": {},
   "outputs": [],
   "source": [
    "df = pd.read_parquet('../input/hm-parquets-of-datasets/transactions_train.parquet')\n",
    "sub = pd.read_csv('../input/h-and-m-personalized-fashion-recommendations/sample_submission.csv')\n",
    "cid = pd.DataFrame(sub.customer_id.apply(lambda s: int(s[-16:], 16)))"
   ]
  },
  {
   "cell_type": "code",
   "execution_count": 5,
   "id": "4f1cb62e",
   "metadata": {},
   "outputs": [],
   "source": [
    "from  gensim import models\n",
    "# with open('../input/handmitem2vec/cust_buy104.json', \"r\") as f :\n",
    "#     cust_buy = json.load(f)\n",
    "#model = models.Word2Vec.load('../input/handmitem2vec/word2vec_v2_week104.model')"
   ]
  },
  {
   "cell_type": "code",
   "execution_count": 6,
   "id": "0569ad85",
   "metadata": {},
   "outputs": [],
   "source": [
    "group = df.groupby('customer_id').sales_channel_id.mean().round().reset_index()\\\n",
    "    .merge(cid, on='customer_id', how='right').rename(columns={'sales_channel_id':'group'})\n",
    "grouping = group.group.fillna(1.0)\n",
    "\n",
    "# id of week to be used in a validation; set 105 if you would like to create a submission\n",
    "val = df.loc[df.week == val_week].groupby('customer_id').article_id.apply(iter_to_str).reset_index()\\\n",
    "    .merge(cid, on='customer_id', how='right')\n",
    "actual = val.article_id.apply(lambda s: [] if pd.isna(s) else s.split())\n",
    "last_date = df.loc[df.week < val_week].t_dat.max()"
   ]
  },
  {
   "cell_type": "markdown",
   "id": "fc2267fa",
   "metadata": {},
   "source": [
    "## データ分析"
   ]
  },
  {
   "cell_type": "code",
   "execution_count": 8,
   "id": "97f79b53",
   "metadata": {},
   "outputs": [],
   "source": [
    "# a = []\n",
    "# buy = []\n",
    "# actall = set()\n",
    "\n",
    "# for i in tqdm(range(len(sub))) :\n",
    "#     if len(actual[i]) == 0 :\n",
    "#         a.append(\"\")\n",
    "#         buy.append(\"\")\n",
    "#     else :\n",
    "#         actall = actall.union(actual[i])\n",
    "#         a.append(\" \".join(actual[i]))\n",
    "#         cid = sub['customer_id'][i]\n",
    "#         if cid not in cust_buy :\n",
    "#             buy.append(\" \")\n",
    "#         else : buy.append(cust_buy[cid])\n"
   ]
  },
  {
   "cell_type": "code",
   "execution_count": 17,
   "id": "af92e191",
   "metadata": {},
   "outputs": [],
   "source": [
    "# s = pd.DataFrame({'customer_id': list(sub['customer_id']), 'buy' : buy, \"actual\" : a})\n",
    "# s = s[s['actual'] != \"\"]"
   ]
  },
  {
   "cell_type": "markdown",
   "id": "1c5d2acf",
   "metadata": {},
   "source": [
    "## 正解が購入品に含まれている確率"
   ]
  },
  {
   "cell_type": "code",
   "execution_count": 9,
   "id": "bb466ed9",
   "metadata": {},
   "outputs": [],
   "source": [
    "# cnt = 0\n",
    "# tot = 0\n",
    "\n",
    "# for i in range(len(s)) :\n",
    "#     _, b, a = s.iloc[i]\n",
    "#     a = a.split(\" \")\n",
    "#     b = b.split(\" \")\n",
    "#     for e in b :\n",
    "#         tot += 1\n",
    "#         if e in a :\n",
    "#             cnt += 1\n",
    "\n",
    "# cnt/tot, cnt, tot"
   ]
  },
  {
   "cell_type": "code",
   "execution_count": null,
   "id": "7612f6a8",
   "metadata": {},
   "outputs": [],
   "source": []
  },
  {
   "cell_type": "code",
   "execution_count": 10,
   "id": "0b1c7c32",
   "metadata": {},
   "outputs": [],
   "source": [
    "# transactions = pd.read_csv(\"../input/h-and-m-personalized-fashion-recommendations/transactions_train.csv\", dtype=str, encoding='utf8')\n",
    "# articles = pd.read_csv(\"../input/h-and-m-personalized-fashion-recommendations/articles.csv\", dtype=str, encoding='utf8')\n",
    "# customers = pd.read_csv(\"../input/h-and-m-personalized-fashion-recommendations/customers.csv\", dtype=str, encoding='utf8')"
   ]
  },
  {
   "cell_type": "code",
   "execution_count": 11,
   "id": "bf318618",
   "metadata": {},
   "outputs": [],
   "source": [
    "# # 両方に共通して含まれないものはない\n",
    "# x = set(transactions['article_id'])\n",
    "# y = set(articles['article_id'])\n",
    "# len(x - y) "
   ]
  },
  {
   "cell_type": "code",
   "execution_count": 21,
   "id": "1c5b44d4",
   "metadata": {},
   "outputs": [
    {
     "data": {
      "text/plain": [
       "Timestamp('2020-09-15 00:00:00')"
      ]
     },
     "execution_count": 21,
     "metadata": {},
     "output_type": "execute_result"
    }
   ],
   "source": [
    "last_date"
   ]
  },
  {
   "cell_type": "code",
   "execution_count": 102,
   "id": "58a2f61c",
   "metadata": {},
   "outputs": [],
   "source": [
    "# 4日間の売れた商品リスト\n",
    "init_date = last_date - dt.timedelta(days=11)\n",
    "last_sell = df.loc[(df.t_dat >= init_date) & (df.t_dat <= last_date)]\n",
    "sell =  last_sell.groupby('customer_id')\\\n",
    "     .article_id.apply(iter_to_str).reset_index()\\\n",
    "     .merge(cid, on='customer_id', how='right').article_id.fillna('')"
   ]
  },
  {
   "cell_type": "code",
   "execution_count": 103,
   "id": "2ca7507e",
   "metadata": {},
   "outputs": [
    {
     "name": "stderr",
     "output_type": "stream",
     "text": [
      "100%|██████████| 1371980/1371980 [00:17<00:00, 76471.83it/s]\n"
     ]
    }
   ],
   "source": [
    "last_buy = defaultdict(list)\n",
    "for i in tqdm(range(len(sub))) :\n",
    "    x = set(sell[i].split(\" \")) - set('')\n",
    "    last_buy[sub['customer_id'][i]] = x"
   ]
  },
  {
   "cell_type": "code",
   "execution_count": 104,
   "id": "5074607a",
   "metadata": {},
   "outputs": [
    {
     "data": {
      "text/plain": [
       "{''}"
      ]
     },
     "execution_count": 104,
     "metadata": {},
     "output_type": "execute_result"
    }
   ],
   "source": [
    "last_buy['a3dbf5f0a5ec1df8da7f77855f118695ed6c7f5b6ea45dfe2c82a3f4f999542b']"
   ]
  },
  {
   "cell_type": "code",
   "execution_count": 20,
   "id": "b342f50d",
   "metadata": {},
   "outputs": [],
   "source": [
    "# model = models.Word2Vec.load('../input/word2vec.model')"
   ]
  },
  {
   "cell_type": "code",
   "execution_count": 83,
   "id": "1f2720ca",
   "metadata": {},
   "outputs": [
    {
     "name": "stderr",
     "output_type": "stream",
     "text": [
      "100%|██████████| 1371980/1371980 [7:09:16<00:00, 53.27it/s]  \n"
     ]
    }
   ],
   "source": [
    "# cust_similar = dict()\n",
    "# for i in tqdm(range(len(sub))): \n",
    "#     c = sub['customer_id'][i]\n",
    "#     x = model.wv.most_similar(c, topn=10)\n",
    "#     cust_similar[c] = x\n",
    "# #     if i == 100 : break\n",
    "# #     break"
   ]
  },
  {
   "cell_type": "code",
   "execution_count": 84,
   "id": "08ec80cf",
   "metadata": {},
   "outputs": [],
   "source": [
    "# import pickle\n",
    "# with open(\"cust_similar.pkl\", \"wb\") as f :\n",
    "#     pickle.dump(cust_similar, f)"
   ]
  },
  {
   "cell_type": "code",
   "execution_count": 96,
   "id": "f2cd3ef1",
   "metadata": {},
   "outputs": [
    {
     "data": {
      "text/plain": [
       "1371980"
      ]
     },
     "execution_count": 96,
     "metadata": {},
     "output_type": "execute_result"
    }
   ],
   "source": []
  },
  {
   "cell_type": "code",
   "execution_count": 95,
   "id": "9c218388",
   "metadata": {
    "scrolled": true
   },
   "outputs": [],
   "source": [
    "with open(\"cust_similar.pkl\", \"rb\") as f :\n",
    "    cust_similar = pickle.load(f)\n",
    "len(cust_similar)"
   ]
  },
  {
   "cell_type": "code",
   "execution_count": 105,
   "id": "af4be224",
   "metadata": {
    "scrolled": false
   },
   "outputs": [
    {
     "name": "stderr",
     "output_type": "stream",
     "text": [
      "100%|██████████| 1371980/1371980 [00:36<00:00, 38036.31it/s]"
     ]
    },
    {
     "name": "stdout",
     "output_type": "stream",
     "text": [
      "0.0625942247477676 4318 68984 6574\n"
     ]
    },
    {
     "name": "stderr",
     "output_type": "stream",
     "text": [
      "\n"
     ]
    }
   ],
   "source": [
    "l = []\n",
    "tot = 0\n",
    "hit = 0\n",
    "hit2 = 0\n",
    "for i in tqdm(range(len(sub))): \n",
    "    c = sub['customer_id'][i]\n",
    "    x = cust_similar[c]\n",
    "    t = []\n",
    "    for e, _ in x :\n",
    "#         print(\"--\", last_buy[e], e)\n",
    "        if last_buy[e] == {''}: continue\n",
    "        t += last_buy[e]\n",
    "    if len(actual[i]) != 0:\n",
    "        cnt = 0\n",
    "        tot += 1\n",
    "        for v in t :\n",
    "            if v in actual[i] :\n",
    "                cnt+=1\n",
    "        if cnt != 0 :\n",
    "            hit += 1\n",
    "            #print(i, cnt, hit, tot, set(t), actual[i])\n",
    "        hit2 += cnt\n",
    "    l.append(\" \".join(set(t)))\n",
    "#    if i == 10000: break\n",
    "print(hit/tot, hit, tot, hit2)"
   ]
  },
  {
   "cell_type": "code",
   "execution_count": 106,
   "id": "0deda83b",
   "metadata": {},
   "outputs": [],
   "source": [
    "sub['cust_vec'] = l"
   ]
  },
  {
   "cell_type": "code",
   "execution_count": 107,
   "id": "7294e885",
   "metadata": {},
   "outputs": [],
   "source": [
    "#sub.to_csv('submission_cust104.csv', index=False)"
   ]
  },
  {
   "cell_type": "code",
   "execution_count": 108,
   "id": "6a60041a",
   "metadata": {},
   "outputs": [
    {
     "data": {
      "text/html": [
       "<div>\n",
       "<style scoped>\n",
       "    .dataframe tbody tr th:only-of-type {\n",
       "        vertical-align: middle;\n",
       "    }\n",
       "\n",
       "    .dataframe tbody tr th {\n",
       "        vertical-align: top;\n",
       "    }\n",
       "\n",
       "    .dataframe thead th {\n",
       "        text-align: right;\n",
       "    }\n",
       "</style>\n",
       "<table border=\"1\" class=\"dataframe\">\n",
       "  <thead>\n",
       "    <tr style=\"text-align: right;\">\n",
       "      <th></th>\n",
       "      <th>customer_id</th>\n",
       "      <th>prediction</th>\n",
       "      <th>cust_vec</th>\n",
       "    </tr>\n",
       "  </thead>\n",
       "  <tbody>\n",
       "    <tr>\n",
       "      <th>0</th>\n",
       "      <td>00000dbacae5abe5e23885899a1fa44253a17956c6d1c3...</td>\n",
       "      <td>0706016001 0706016002 0372860001 0610776002 07...</td>\n",
       "      <td></td>\n",
       "    </tr>\n",
       "    <tr>\n",
       "      <th>1</th>\n",
       "      <td>0000423b00ade91418cceaf3b26c6af3dd342b51fd051e...</td>\n",
       "      <td>0706016001 0706016002 0372860001 0610776002 07...</td>\n",
       "      <td></td>\n",
       "    </tr>\n",
       "    <tr>\n",
       "      <th>2</th>\n",
       "      <td>000058a12d5b43e67d225668fa1f8d618c13dc232df0ca...</td>\n",
       "      <td>0706016001 0706016002 0372860001 0610776002 07...</td>\n",
       "      <td></td>\n",
       "    </tr>\n",
       "    <tr>\n",
       "      <th>3</th>\n",
       "      <td>00005ca1c9ed5f5146b52ac8639a40ca9d57aeff4d1bd2...</td>\n",
       "      <td>0706016001 0706016002 0372860001 0610776002 07...</td>\n",
       "      <td></td>\n",
       "    </tr>\n",
       "    <tr>\n",
       "      <th>4</th>\n",
       "      <td>00006413d8573cd20ed7128e53b7b13819fe5cfc2d801f...</td>\n",
       "      <td>0706016001 0706016002 0372860001 0610776002 07...</td>\n",
       "      <td></td>\n",
       "    </tr>\n",
       "    <tr>\n",
       "      <th>...</th>\n",
       "      <td>...</td>\n",
       "      <td>...</td>\n",
       "      <td>...</td>\n",
       "    </tr>\n",
       "    <tr>\n",
       "      <th>1371975</th>\n",
       "      <td>ffffbbf78b6eaac697a8a5dfbfd2bfa8113ee5b403e474...</td>\n",
       "      <td>0706016001 0706016002 0372860001 0610776002 07...</td>\n",
       "      <td>0878510001 0880553002 0811397013 0881887001 08...</td>\n",
       "    </tr>\n",
       "    <tr>\n",
       "      <th>1371976</th>\n",
       "      <td>ffffcd5046a6143d29a04fb8c424ce494a76e5cdf4fab5...</td>\n",
       "      <td>0706016001 0706016002 0372860001 0610776002 07...</td>\n",
       "      <td>0871710010 0859139003 0783346018 0751471037 07...</td>\n",
       "    </tr>\n",
       "    <tr>\n",
       "      <th>1371977</th>\n",
       "      <td>ffffcf35913a0bee60e8741cb2b4e78b8a98ee5ff2e6a1...</td>\n",
       "      <td>0706016001 0706016002 0372860001 0610776002 07...</td>\n",
       "      <td></td>\n",
       "    </tr>\n",
       "    <tr>\n",
       "      <th>1371978</th>\n",
       "      <td>ffffd7744cebcf3aca44ae7049d2a94b87074c3d4ffe38...</td>\n",
       "      <td>0706016001 0706016002 0372860001 0610776002 07...</td>\n",
       "      <td></td>\n",
       "    </tr>\n",
       "    <tr>\n",
       "      <th>1371979</th>\n",
       "      <td>ffffd9ac14e89946416d80e791d064701994755c3ab686...</td>\n",
       "      <td>0706016001 0706016002 0372860001 0610776002 07...</td>\n",
       "      <td>0874816003</td>\n",
       "    </tr>\n",
       "  </tbody>\n",
       "</table>\n",
       "<p>1371980 rows × 3 columns</p>\n",
       "</div>"
      ],
      "text/plain": [
       "                                               customer_id  \\\n",
       "0        00000dbacae5abe5e23885899a1fa44253a17956c6d1c3...   \n",
       "1        0000423b00ade91418cceaf3b26c6af3dd342b51fd051e...   \n",
       "2        000058a12d5b43e67d225668fa1f8d618c13dc232df0ca...   \n",
       "3        00005ca1c9ed5f5146b52ac8639a40ca9d57aeff4d1bd2...   \n",
       "4        00006413d8573cd20ed7128e53b7b13819fe5cfc2d801f...   \n",
       "...                                                    ...   \n",
       "1371975  ffffbbf78b6eaac697a8a5dfbfd2bfa8113ee5b403e474...   \n",
       "1371976  ffffcd5046a6143d29a04fb8c424ce494a76e5cdf4fab5...   \n",
       "1371977  ffffcf35913a0bee60e8741cb2b4e78b8a98ee5ff2e6a1...   \n",
       "1371978  ffffd7744cebcf3aca44ae7049d2a94b87074c3d4ffe38...   \n",
       "1371979  ffffd9ac14e89946416d80e791d064701994755c3ab686...   \n",
       "\n",
       "                                                prediction  \\\n",
       "0        0706016001 0706016002 0372860001 0610776002 07...   \n",
       "1        0706016001 0706016002 0372860001 0610776002 07...   \n",
       "2        0706016001 0706016002 0372860001 0610776002 07...   \n",
       "3        0706016001 0706016002 0372860001 0610776002 07...   \n",
       "4        0706016001 0706016002 0372860001 0610776002 07...   \n",
       "...                                                    ...   \n",
       "1371975  0706016001 0706016002 0372860001 0610776002 07...   \n",
       "1371976  0706016001 0706016002 0372860001 0610776002 07...   \n",
       "1371977  0706016001 0706016002 0372860001 0610776002 07...   \n",
       "1371978  0706016001 0706016002 0372860001 0610776002 07...   \n",
       "1371979  0706016001 0706016002 0372860001 0610776002 07...   \n",
       "\n",
       "                                                  cust_vec  \n",
       "0                                                           \n",
       "1                                                           \n",
       "2                                                           \n",
       "3                                                           \n",
       "4                                                           \n",
       "...                                                    ...  \n",
       "1371975  0878510001 0880553002 0811397013 0881887001 08...  \n",
       "1371976  0871710010 0859139003 0783346018 0751471037 07...  \n",
       "1371977                                                     \n",
       "1371978                                                     \n",
       "1371979                                         0874816003  \n",
       "\n",
       "[1371980 rows x 3 columns]"
      ]
     },
     "execution_count": 108,
     "metadata": {},
     "output_type": "execute_result"
    }
   ],
   "source": [
    "sub"
   ]
  },
  {
   "cell_type": "code",
   "execution_count": 109,
   "id": "3a1daede",
   "metadata": {},
   "outputs": [],
   "source": [
    "import numpy as np, pandas as pd, datetime as dt\n",
    "import matplotlib.pyplot as plt; plt.style.use('ggplot')\n",
    "import seaborn as sns\n",
    "from collections import defaultdict\n",
    "\n",
    "def iter_to_str(iterable):\n",
    "    return \" \".join(map(lambda x: str(0) + str(x), iterable))\n",
    "\n",
    "def apk(actual, predicted, k=12):\n",
    "    if len(predicted) > k:\n",
    "        predicted = predicted[:k]\n",
    "    score, nhits = 0.0, 0.0\n",
    "    for i, p in enumerate(predicted):\n",
    "        if p in actual and p not in predicted[:i]:\n",
    "            nhits += 1.0\n",
    "            score += nhits / (i + 1.0)\n",
    "    if not actual:\n",
    "        return 0.0\n",
    "    return score / min(len(actual), k)\n",
    "\n",
    "def mapk(actual, predicted, k=12, return_apks=False):\n",
    "    assert len(actual) == len(predicted)\n",
    "    apks = [apk(ac, pr, k) for ac, pr in zip(actual, predicted) if 0 < len(ac)]\n",
    "    if return_apks:\n",
    "        return apks\n",
    "    return np.mean(apks)\n",
    "\n",
    "def blend(dt, w=[], k=12):\n",
    "    if len(w) == 0:\n",
    "        w = [1] * (len(dt))\n",
    "    preds = []\n",
    "    for i in range(len(w)):\n",
    "        preds.append(dt[i].split())\n",
    "    res = {}\n",
    "    for i in range(len(preds)):\n",
    "        if w[i] < 0:\n",
    "            continue\n",
    "        for n, v in enumerate(preds[i]):\n",
    "            if v in res:\n",
    "                res[v] += (w[i] / (n + 1))\n",
    "            else:\n",
    "                res[v] = (w[i] / (n + 1))    \n",
    "    res = list(dict(sorted(res.items(), key=lambda item: -item[1])).keys())\n",
    "    return ' '.join(res[:k])\n",
    "\n",
    "def prune(pred, ok_set, k=12):\n",
    "    pred = pred.split()\n",
    "    post = []\n",
    "    for item in pred:\n",
    "        if int(item) in ok_set and not item in post:\n",
    "            post.append(item)\n",
    "    return \" \".join(post[:k])\n",
    "\n",
    "def validation(actual, predicted, grouping, score=0, index=-1, ignore=False, figsize=(12, 6)):\n",
    "    # actual, predicted : list of lists\n",
    "    # group : pandas Series\n",
    "    # score : pandas DataFrame\n",
    "    \n",
    "    vc = pd.Series(predicted).apply(len).value_counts()\n",
    "    print(\"Fill Rate = \", round(1 - sum(vc[k] * (12 - k) / 12 for k in (set(range(12)) & set(vc.index))) / len(actual), 3) * 100)\n",
    "    \n",
    "    \n",
    "    if ignore: return\n",
    "    ap12 = mapk(actual, predicted, return_apks=True)\n",
    "    map12 = round(np.mean(ap12), 6)\n",
    "    if isinstance(score, int): score = pd.DataFrame({g:[] for g in sorted(grouping.unique().tolist())})\n",
    "    if index == -1 : index = score.shape[0]\n",
    "    score.loc[index, \"All\"] = map12\n",
    "    plt.figure(figsize=figsize)\n",
    "    plt.subplot(1, 2, 1); sns.histplot(data=ap12, log_scale=(0, 10), bins=20); plt.title(f\"MAP@12 : {map12}\")\n",
    "    for g in grouping.unique():\n",
    "        map12 = round(mapk(actual[grouping == g], predicted[grouping == g]), 6)\n",
    "        score.loc[index, g] = map12\n",
    "    plt.subplot(1, 2, 2); score[[g for g in grouping.unique()[::-1]] + ['All']].loc[index].plot.barh(); plt.title(f\"MAP@12 of Groups\")\n",
    "    vc = pd.Series(predicted).apply(len).value_counts()\n",
    "    score.loc[index, \"Fill\"] = round(1 - sum(vc[k] * (12 - k) / 12 for k in (set(range(12)) & set(vc.index))) / len(actual), 3) * 100\n",
    "    display(score)\n",
    "    return score"
   ]
  },
  {
   "cell_type": "code",
   "execution_count": 110,
   "id": "5a580d0f",
   "metadata": {},
   "outputs": [
    {
     "name": "stdout",
     "output_type": "stream",
     "text": [
      "Fill Rate =  16.1\n"
     ]
    },
    {
     "data": {
      "text/html": [
       "<div>\n",
       "<style scoped>\n",
       "    .dataframe tbody tr th:only-of-type {\n",
       "        vertical-align: middle;\n",
       "    }\n",
       "\n",
       "    .dataframe tbody tr th {\n",
       "        vertical-align: top;\n",
       "    }\n",
       "\n",
       "    .dataframe thead th {\n",
       "        text-align: right;\n",
       "    }\n",
       "</style>\n",
       "<table border=\"1\" class=\"dataframe\">\n",
       "  <thead>\n",
       "    <tr style=\"text-align: right;\">\n",
       "      <th></th>\n",
       "      <th>1.0</th>\n",
       "      <th>2.0</th>\n",
       "      <th>All</th>\n",
       "      <th>Fill</th>\n",
       "    </tr>\n",
       "  </thead>\n",
       "  <tbody>\n",
       "    <tr>\n",
       "      <th>Simlar Customres</th>\n",
       "      <td>0.010723</td>\n",
       "      <td>0.012797</td>\n",
       "      <td>0.012111</td>\n",
       "      <td>16.1</td>\n",
       "    </tr>\n",
       "  </tbody>\n",
       "</table>\n",
       "</div>"
      ],
      "text/plain": [
       "                       1.0       2.0       All  Fill\n",
       "Simlar Customres  0.010723  0.012797  0.012111  16.1"
      ]
     },
     "metadata": {},
     "output_type": "display_data"
    },
    {
     "data": {
      "image/png": "[encoded data removed]",
      "text/plain": [
       "<Figure size 864x432 with 2 Axes>"
      ]
     },
     "metadata": {},
     "output_type": "display_data"
    }
   ],
   "source": [
    "predicted = sub['cust_vec'].apply(lambda s: [] if pd.isna(s) else s.split())\n",
    "#score = validation(actual, predicted, grouping, score, index='Similar Customers', ignore=(val_week == 105))\n",
    "score = validation(actual, predicted, grouping, index='Simlar Customres', ignore=(val_week == 105))"
   ]
  },
  {
   "cell_type": "code",
   "execution_count": null,
   "id": "4912c325",
   "metadata": {},
   "outputs": [],
   "source": []
  },
  {
   "cell_type": "code",
   "execution_count": null,
   "id": "8b2cf60b",
   "metadata": {},
   "outputs": [],
   "source": []
  }
 ],
 "metadata": {
  "kernelspec": {
   "display_name": "Python 3",
   "language": "python",
   "name": "python3"
  },
  "language_info": {
   "codemirror_mode": {
    "name": "ipython",
    "version": 3
   },
   "file_extension": ".py",
   "mimetype": "text/x-python",
   "name": "python",
   "nbconvert_exporter": "python",
   "pygments_lexer": "ipython3",
   "version": "3.8.8"
  }
 },
 "nbformat": 4,
 "nbformat_minor": 5
}
