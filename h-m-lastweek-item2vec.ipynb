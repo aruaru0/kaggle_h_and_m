{
 "cells": [
  {
   "cell_type": "code",
   "execution_count": 1,
   "id": "b28e5856",
   "metadata": {},
   "outputs": [
    {
     "name": "stdout",
     "output_type": "stream",
     "text": [
      "Requirement already satisfied: pyarrow in /opt/conda/lib/python3.8/site-packages (7.0.0)\n",
      "Requirement already satisfied: numpy>=1.16.6 in /opt/conda/lib/python3.8/site-packages (from pyarrow) (1.20.1)\n",
      "Requirement already satisfied: fastparquet in /opt/conda/lib/python3.8/site-packages (0.8.1)\n",
      "Requirement already satisfied: numpy>=1.18 in /opt/conda/lib/python3.8/site-packages (from fastparquet) (1.20.1)\n",
      "Requirement already satisfied: cramjam>=2.3.0 in /opt/conda/lib/python3.8/site-packages (from fastparquet) (2.5.0)\n",
      "Requirement already satisfied: pandas>=1.1.0 in /opt/conda/lib/python3.8/site-packages (from fastparquet) (1.2.4)\n",
      "Requirement already satisfied: packaging in /opt/conda/lib/python3.8/site-packages (from fastparquet) (20.9)\n",
      "Requirement already satisfied: fsspec in /opt/conda/lib/python3.8/site-packages (from fastparquet) (0.9.0)\n",
      "Requirement already satisfied: python-dateutil>=2.7.3 in /opt/conda/lib/python3.8/site-packages (from pandas>=1.1.0->fastparquet) (2.8.1)\n",
      "Requirement already satisfied: pytz>=2017.3 in /opt/conda/lib/python3.8/site-packages (from pandas>=1.1.0->fastparquet) (2021.1)\n",
      "Requirement already satisfied: six>=1.5 in /opt/conda/lib/python3.8/site-packages (from python-dateutil>=2.7.3->pandas>=1.1.0->fastparquet) (1.15.0)\n",
      "Requirement already satisfied: pyparsing>=2.0.2 in /opt/conda/lib/python3.8/site-packages (from packaging->fastparquet) (2.4.7)\n",
      "Requirement already satisfied: gensim in /opt/conda/lib/python3.8/site-packages (4.2.0)\n",
      "Requirement already satisfied: scipy>=0.18.1 in /opt/conda/lib/python3.8/site-packages (from gensim) (1.6.2)\n",
      "Requirement already satisfied: numpy>=1.17.0 in /opt/conda/lib/python3.8/site-packages (from gensim) (1.20.1)\n",
      "Requirement already satisfied: smart-open>=1.8.1 in /opt/conda/lib/python3.8/site-packages (from gensim) (6.0.0)\n",
      "Requirement already satisfied: optuna in /opt/conda/lib/python3.8/site-packages (2.10.0)\n",
      "Requirement already satisfied: alembic in /opt/conda/lib/python3.8/site-packages (from optuna) (1.7.7)\n",
      "Requirement already satisfied: tqdm in /opt/conda/lib/python3.8/site-packages (from optuna) (4.59.0)\n",
      "Requirement already satisfied: cliff in /opt/conda/lib/python3.8/site-packages (from optuna) (3.10.1)\n",
      "Requirement already satisfied: scipy!=1.4.0 in /opt/conda/lib/python3.8/site-packages (from optuna) (1.6.2)\n",
      "Requirement already satisfied: PyYAML in /opt/conda/lib/python3.8/site-packages (from optuna) (5.4.1)\n",
      "Requirement already satisfied: cmaes>=0.8.2 in /opt/conda/lib/python3.8/site-packages (from optuna) (0.8.2)\n",
      "Requirement already satisfied: sqlalchemy>=1.1.0 in /opt/conda/lib/python3.8/site-packages (from optuna) (1.3.23)\n",
      "Requirement already satisfied: packaging>=20.0 in /opt/conda/lib/python3.8/site-packages (from optuna) (20.9)\n",
      "Requirement already satisfied: numpy in /opt/conda/lib/python3.8/site-packages (from optuna) (1.20.1)\n",
      "Requirement already satisfied: colorlog in /opt/conda/lib/python3.8/site-packages (from optuna) (6.6.0)\n",
      "Requirement already satisfied: pyparsing>=2.0.2 in /opt/conda/lib/python3.8/site-packages (from packaging>=20.0->optuna) (2.4.7)\n",
      "Requirement already satisfied: Mako in /opt/conda/lib/python3.8/site-packages (from alembic->optuna) (1.2.0)\n",
      "Requirement already satisfied: importlib-resources in /opt/conda/lib/python3.8/site-packages (from alembic->optuna) (5.7.1)\n",
      "Requirement already satisfied: importlib-metadata in /opt/conda/lib/python3.8/site-packages (from alembic->optuna) (4.8.2)\n",
      "Requirement already satisfied: PrettyTable>=0.7.2 in /opt/conda/lib/python3.8/site-packages (from cliff->optuna) (3.3.0)\n",
      "Requirement already satisfied: cmd2>=1.0.0 in /opt/conda/lib/python3.8/site-packages (from cliff->optuna) (2.4.1)\n",
      "Requirement already satisfied: autopage>=0.4.0 in /opt/conda/lib/python3.8/site-packages (from cliff->optuna) (0.5.0)\n",
      "Requirement already satisfied: pbr!=2.1.0,>=2.0.0 in /opt/conda/lib/python3.8/site-packages (from cliff->optuna) (5.9.0)\n",
      "Requirement already satisfied: stevedore>=2.0.1 in /opt/conda/lib/python3.8/site-packages (from cliff->optuna) (3.5.0)\n",
      "Requirement already satisfied: pyperclip>=1.6 in /opt/conda/lib/python3.8/site-packages (from cmd2>=1.0.0->cliff->optuna) (1.8.2)\n",
      "Requirement already satisfied: attrs>=16.3.0 in /opt/conda/lib/python3.8/site-packages (from cmd2>=1.0.0->cliff->optuna) (20.3.0)\n",
      "Requirement already satisfied: wcwidth>=0.1.7 in /opt/conda/lib/python3.8/site-packages (from cmd2>=1.0.0->cliff->optuna) (0.2.5)\n",
      "Requirement already satisfied: zipp>=0.5 in /opt/conda/lib/python3.8/site-packages (from importlib-metadata->alembic->optuna) (3.4.1)\n",
      "Requirement already satisfied: MarkupSafe>=0.9.2 in /opt/conda/lib/python3.8/site-packages (from Mako->alembic->optuna) (1.1.1)\n"
     ]
    }
   ],
   "source": [
    "!pip install pyarrow\n",
    "!pip install fastparquet\n",
    "!pip install gensim\n",
    "!pip install optuna"
   ]
  },
  {
   "cell_type": "code",
   "execution_count": null,
   "id": "3ac32328",
   "metadata": {},
   "outputs": [],
   "source": []
  },
  {
   "cell_type": "markdown",
   "id": "e7422e43",
   "metadata": {
    "papermill": {
     "duration": 0.025678,
     "end_time": "2022-04-23T02:52:48.647042",
     "exception": false,
     "start_time": "2022-04-23T02:52:48.621364",
     "status": "completed"
    },
    "tags": []
   },
   "source": [
    "### Overview"
   ]
  },
  {
   "cell_type": "markdown",
   "id": "1d6f9f2c",
   "metadata": {
    "papermill": {
     "duration": 0.024266,
     "end_time": "2022-04-23T02:52:48.696123",
     "exception": false,
     "start_time": "2022-04-23T02:52:48.671857",
     "status": "completed"
    },
    "tags": []
   },
   "source": [
    "In this notebook, I would like to present a framework for **partitioned validation** using one-week hold out.  \n",
    "As an example of possible groupings of customers, here I choose '**online vs. offline**', which shows that it is more difficult to predict future purchases of offline uses than to predict those of online users.  \n",
    "  \n",
    "I use some tequniqus I learned from great discussions and notebooks shared in the H&M competition.  \n",
    "So, I would really like to thank all the authors of them."
   ]
  },
  {
   "cell_type": "markdown",
   "id": "8b0d854e",
   "metadata": {
    "papermill": {
     "duration": 0.025728,
     "end_time": "2022-04-23T02:52:48.746194",
     "exception": false,
     "start_time": "2022-04-23T02:52:48.720466",
     "status": "completed"
    },
    "tags": []
   },
   "source": [
    "- **Version 6**  \n",
    "I added and fixed the code so as to make it easier to record and show results of validations on the week from 2020-9-16 to 2020-9-22.  \n",
    "In Version 6, MAP@12 of hold-out validation is around 0.0183 for online users and 0.0298 for offline users.  "
   ]
  },
  {
   "cell_type": "markdown",
   "id": "0fd1e0be",
   "metadata": {
    "papermill": {
     "duration": 0.024089,
     "end_time": "2022-04-23T02:52:48.795238",
     "exception": false,
     "start_time": "2022-04-23T02:52:48.771149",
     "status": "completed"
    },
    "tags": []
   },
   "source": [
    "### Libraries and Functions"
   ]
  },
  {
   "cell_type": "code",
   "execution_count": 2,
   "id": "64f3a672",
   "metadata": {
    "_cell_guid": "b1076dfc-b9ad-4769-8c92-a6c4dae69d19",
    "_uuid": "8f2839f25d086af736a60e9eeb907d3b93b6e0e5",
    "execution": {
     "iopub.execute_input": "2022-04-23T02:52:48.847050Z",
     "iopub.status.busy": "2022-04-23T02:52:48.846251Z",
     "iopub.status.idle": "2022-04-23T02:52:49.983983Z",
     "shell.execute_reply": "2022-04-23T02:52:49.983046Z"
    },
    "papermill": {
     "duration": 1.166858,
     "end_time": "2022-04-23T02:52:49.987172",
     "exception": false,
     "start_time": "2022-04-23T02:52:48.820314",
     "status": "completed"
    },
    "tags": []
   },
   "outputs": [],
   "source": [
    "import numpy as np, pandas as pd, datetime as dt\n",
    "import matplotlib.pyplot as plt; plt.style.use('ggplot')\n",
    "import seaborn as sns\n",
    "from collections import defaultdict\n",
    "import optuna\n",
    "\n",
    "def iter_to_str(iterable):\n",
    "    return \" \".join(map(lambda x: str(0) + str(x), iterable))\n",
    "\n",
    "def apk(actual, predicted, k=12):\n",
    "    if len(predicted) > k:\n",
    "        predicted = predicted[:k]\n",
    "    score, nhits = 0.0, 0.0\n",
    "    for i, p in enumerate(predicted):\n",
    "        if p in actual and p not in predicted[:i]:\n",
    "            nhits += 1.0\n",
    "            score += nhits / (i + 1.0)\n",
    "    if not actual:\n",
    "        return 0.0\n",
    "    return score / min(len(actual), k)\n",
    "\n",
    "def mapk(actual, predicted, k=12, return_apks=False):\n",
    "    assert len(actual) == len(predicted)\n",
    "    apks = [apk(ac, pr, k) for ac, pr in zip(actual, predicted) if 0 < len(ac)]\n",
    "    if return_apks:\n",
    "        return apks\n",
    "    return np.mean(apks)\n",
    "\n",
    "def blend(dt, w=[], k=12):\n",
    "    if len(w) == 0:\n",
    "        w = [1] * (len(dt))\n",
    "    preds = []\n",
    "    for i in range(len(w)):\n",
    "        preds.append(dt[i].split())\n",
    "    res = {}\n",
    "    for i in range(len(preds)):\n",
    "        if w[i] < 0:\n",
    "            continue\n",
    "        for n, v in enumerate(preds[i]):\n",
    "            if v in res:\n",
    "                res[v] += (w[i] / (n + 1))\n",
    "            else:\n",
    "                res[v] = (w[i] / (n + 1))    \n",
    "    res = list(dict(sorted(res.items(), key=lambda item: -item[1])).keys())\n",
    "    return ' '.join(res[:k])\n",
    "\n",
    "def prune(pred, ok_set, k=12):\n",
    "    pred = pred.split()\n",
    "    post = []\n",
    "    for item in pred:\n",
    "        if int(item) in ok_set and not item in post:\n",
    "            post.append(item)\n",
    "    return \" \".join(post[:k])\n",
    "\n",
    "def validation(actual, predicted, grouping, score=0, index=-1, ignore=False, figsize=(12, 6)):\n",
    "    # actual, predicted : list of lists\n",
    "    # group : pandas Series\n",
    "    # score : pandas DataFrame\n",
    "    \n",
    "    vc = pd.Series(predicted).apply(len).value_counts()\n",
    "    print(\"Fill Rate = \", round(1 - sum(vc[k] * (12 - k) / 12 for k in (set(range(12)) & set(vc.index))) / len(actual), 3) * 100)\n",
    "    \n",
    "    \n",
    "    if ignore: return\n",
    "    ap12 = mapk(actual, predicted, return_apks=True)\n",
    "    map12 = round(np.mean(ap12), 6)\n",
    "    if isinstance(score, int): score = pd.DataFrame({g:[] for g in sorted(grouping.unique().tolist())})\n",
    "    if index == -1 : index = score.shape[0]\n",
    "    score.loc[index, \"All\"] = map12\n",
    "    plt.figure(figsize=figsize)\n",
    "    plt.subplot(1, 2, 1); sns.histplot(data=ap12, log_scale=(0, 10), bins=20); plt.title(f\"MAP@12 : {map12}\")\n",
    "    for g in grouping.unique():\n",
    "        map12 = round(mapk(actual[grouping == g], predicted[grouping == g]), 6)\n",
    "        score.loc[index, g] = map12\n",
    "    plt.subplot(1, 2, 2); score[[g for g in grouping.unique()[::-1]] + ['All']].loc[index].plot.barh(); plt.title(f\"MAP@12 of Groups\")\n",
    "    vc = pd.Series(predicted).apply(len).value_counts()\n",
    "    score.loc[index, \"Fill\"] = round(1 - sum(vc[k] * (12 - k) / 12 for k in (set(range(12)) & set(vc.index))) / len(actual), 3) * 100\n",
    "    display(score)\n",
    "    return score\n",
    "\n",
    "def calc_score(actual, predicted, grouping, score=0, index=-1, ignore=False, figsize=(12, 6)):\n",
    "    # actual, predicted : list of lists\n",
    "    # group : pandas Series\n",
    "    # score : pandas DataFrame\n",
    "    \n",
    "    vc = pd.Series(predicted).apply(len).value_counts()\n",
    "#     print(\"Fill Rate = \", round(1 - sum(vc[k] * (12 - k) / 12 for k in (set(range(12)) & set(vc.index))) / len(actual), 3) * 100)\n",
    "    if ignore: return\n",
    "    ap12 = mapk(actual, predicted, return_apks=True)\n",
    "    map12 = round(np.mean(ap12), 6)\n",
    "#     if isinstance(score, int): score = pd.DataFrame({g:[] for g in sorted(grouping.unique().tolist())})\n",
    "#     if index == -1 : index = score.shape[0]\n",
    "#     score.loc[index, \"All\"] = map12\n",
    "#     plt.figure(figsize=figsize)\n",
    "#     plt.subplot(1, 2, 1); sns.histplot(data=ap12, log_scale=(0, 10), bins=20); plt.title(f\"MAP@12 : {map12}\")\n",
    "#     for g in grouping.unique():\n",
    "#         map12 = round(mapk(actual[grouping == g], predicted[grouping == g]), 6)\n",
    "#         score.loc[index, g] = map12\n",
    "#     plt.subplot(1, 2, 2); score[[g for g in grouping.unique()[::-1]] + ['All']].loc[index].plot.barh(); plt.title(f\"MAP@12 of Groups\")\n",
    "#     vc = pd.Series(predicted).apply(len).value_counts()\n",
    "#     score.loc[index, \"Fill\"] = round(1 - sum(vc[k] * (12 - k) / 12 for k in (set(range(12)) & set(vc.index))) / len(actual), 3) * 100\n",
    "#     display(score)\n",
    "    return map12"
   ]
  },
  {
   "cell_type": "code",
   "execution_count": 3,
   "id": "85d1973d",
   "metadata": {},
   "outputs": [],
   "source": [
    "from tqdm import tqdm\n",
    "\n",
    "def sort_item2vec(colname, max_n = 2, none = \"\") :\n",
    "    l = []\n",
    "    for i in tqdm(range(len(sub))) :\n",
    "        wid = sub.iloc[i]['customer_id']\n",
    "        oc = sub.iloc[i][colname].split()\n",
    "        if len(oc) == 0 :\n",
    "            l.append(none)\n",
    "        elif wid not in cust_buy :\n",
    "            l.append(\" \".join(oc))            \n",
    "        elif len(oc) <= 1 :\n",
    "            l.append(\" \".join(oc))\n",
    "        else :\n",
    "            ll = []\n",
    "            for e in oc : \n",
    "                buy = cust_buy[wid].split(\" \")\n",
    "                p = model.wv.similarity(buy, e).mean()\n",
    "                ll.append([p, e])\n",
    "            ll.sort(reverse=True)\n",
    "            l.append(\" \".join(list(map(lambda x: x[1], ll[:max_n]))))\n",
    "    #     if i == 10: break\n",
    "\n",
    "    return l\n",
    "\n",
    "\n",
    "# 負のものを削除\n",
    "def remove_item2vec(colname, max_n = 2, none = \"\") :\n",
    "    l = []\n",
    "    for i in tqdm(range(len(sub))) :\n",
    "        wid = sub.iloc[i]['customer_id']\n",
    "        oc = sub.iloc[i][colname].split()\n",
    "        if len(oc) == 0 :\n",
    "            l.append(none)\n",
    "        elif wid not in cust_buy :\n",
    "            l.append(\" \".join(oc))            \n",
    "        elif len(oc) <= 1 :\n",
    "            l.append(\" \".join(oc))\n",
    "        else :\n",
    "            ll = []\n",
    "            rr = []\n",
    "            for e in oc : \n",
    "                buy = cust_buy[wid].split(\" \")\n",
    "                p = model.wv.similarity(buy, e).mean()\n",
    "                if p < 0 : \n",
    "                    rr.append(e)\n",
    "                else :\n",
    "                    ll.append(e)\n",
    "            l.append(\" \".join(ll+rr))\n",
    "    #     if i == 10: break\n",
    "\n",
    "    return l\n",
    "\n",
    "\n",
    "def cut_items(name, n = 12) :\n",
    "    l = []\n",
    "    for i in tqdm(range(len(sub))) :\n",
    "        s = sub[name][i].split(\" \")\n",
    "        l.append(\" \".join(s[:n]))\n",
    "    return l"
   ]
  },
  {
   "cell_type": "code",
   "execution_count": 4,
   "id": "6f3232b4",
   "metadata": {},
   "outputs": [],
   "source": [
    "val_week = 104\n",
    "use_item2vec = True\n",
    "is_load = True\n",
    "is_save = False"
   ]
  },
  {
   "cell_type": "markdown",
   "id": "e056aa6a",
   "metadata": {},
   "source": [
    "### wod2vec"
   ]
  },
  {
   "cell_type": "code",
   "execution_count": 5,
   "id": "4ae25e47",
   "metadata": {},
   "outputs": [
    {
     "name": "stdout",
     "output_type": "stream",
     "text": [
      "item2vec = 104\n"
     ]
    }
   ],
   "source": [
    "import json\n",
    "from  gensim import models\n",
    "\n",
    "if val_week == 104 :\n",
    "    print(\"item2vec = 104\")\n",
    "    model = models.Word2Vec.load('../input/handmitem2vec/word2vec_v2_week104.model')\n",
    "    with open('../input/handmitem2vec/cust_buy104.json', \"r\") as f :\n",
    "        cust_buy = json.load(f)\n",
    "else :\n",
    "    print(\"item2vec = 105\")\n",
    "    model = models.Word2Vec.load('../input/handmitem2vec/word2vec_v2.model')\n",
    "    with open('../input/handmitem2vec/cust_buy.json', \"r\") as f :\n",
    "        cust_buy = json.load(f)\n"
   ]
  },
  {
   "cell_type": "markdown",
   "id": "30ac55b6",
   "metadata": {
    "papermill": {
     "duration": 0.024177,
     "end_time": "2022-04-23T02:52:50.036764",
     "exception": false,
     "start_time": "2022-04-23T02:52:50.012587",
     "status": "completed"
    },
    "tags": []
   },
   "source": [
    "### Data"
   ]
  },
  {
   "cell_type": "code",
   "execution_count": 6,
   "id": "a18661ad",
   "metadata": {
    "_cell_guid": "b1076dfc-b9ad-4769-8c92-a6c4dae69d19",
    "_uuid": "8f2839f25d086af736a60e9eeb907d3b93b6e0e5",
    "execution": {
     "iopub.execute_input": "2022-04-23T02:52:50.087037Z",
     "iopub.status.busy": "2022-04-23T02:52:50.086358Z",
     "iopub.status.idle": "2022-04-23T02:53:03.473110Z",
     "shell.execute_reply": "2022-04-23T02:53:03.472009Z"
    },
    "papermill": {
     "duration": 13.414428,
     "end_time": "2022-04-23T02:53:03.475349",
     "exception": false,
     "start_time": "2022-04-23T02:52:50.060921",
     "status": "completed"
    },
    "tags": []
   },
   "outputs": [],
   "source": [
    "df = pd.read_parquet('../input/hm-parquets-of-datasets/transactions_train.parquet')\n",
    "sub = pd.read_csv('../input/h-and-m-personalized-fashion-recommendations/sample_submission.csv')\n",
    "cid = pd.DataFrame(sub.customer_id.apply(lambda s: int(s[-16:], 16)))"
   ]
  },
  {
   "cell_type": "markdown",
   "id": "20660a48",
   "metadata": {},
   "source": [
    "### Kangol x H&Mを除外（val_weekが105の場合）"
   ]
  },
  {
   "cell_type": "code",
   "execution_count": 7,
   "id": "83799c13",
   "metadata": {},
   "outputs": [],
   "source": [
    "# if val_week == 105 :\n",
    "#     print(\"remove Kangol x H&M\")\n",
    "#     articles_df = pd.read_csv(\"../input/h-and-m-personalized-fashion-recommendations/articles.csv\",dtype=str, encoding='utf8')\n",
    "#     xHM = []\n",
    "#     for i, e in enumerate(articles_df['detail_desc'].fillna(\"\")) :\n",
    "#         if 'Kangol x H&M' in e:\n",
    "#             #print(articles_df.iloc[i]['article_id'], e)\n",
    "#             xHM.append(int(articles_df.iloc[i]['article_id']))\n",
    "\n",
    "#     #xHM\n",
    "#     df = df[~df.article_id.isin(xHM)]"
   ]
  },
  {
   "cell_type": "markdown",
   "id": "360b3575",
   "metadata": {
    "papermill": {
     "duration": 0.024442,
     "end_time": "2022-04-23T02:53:03.525992",
     "exception": false,
     "start_time": "2022-04-23T02:53:03.501550",
     "status": "completed"
    },
    "tags": []
   },
   "source": [
    "### Definition of Groups"
   ]
  },
  {
   "cell_type": "code",
   "execution_count": 8,
   "id": "f7d168bf",
   "metadata": {
    "_cell_guid": "b1076dfc-b9ad-4769-8c92-a6c4dae69d19",
    "_uuid": "8f2839f25d086af736a60e9eeb907d3b93b6e0e5",
    "execution": {
     "iopub.execute_input": "2022-04-23T02:53:03.576075Z",
     "iopub.status.busy": "2022-04-23T02:53:03.575803Z",
     "iopub.status.idle": "2022-04-23T02:53:07.381439Z",
     "shell.execute_reply": "2022-04-23T02:53:07.380539Z"
    },
    "papermill": {
     "duration": 3.833687,
     "end_time": "2022-04-23T02:53:07.384015",
     "exception": false,
     "start_time": "2022-04-23T02:53:03.550328",
     "status": "completed"
    },
    "tags": []
   },
   "outputs": [],
   "source": [
    "group = df.groupby('customer_id').sales_channel_id.mean().round().reset_index()\\\n",
    "    .merge(cid, on='customer_id', how='right').rename(columns={'sales_channel_id':'group'})\n",
    "grouping = group.group.fillna(1.0)"
   ]
  },
  {
   "cell_type": "markdown",
   "id": "d4c2a2e5",
   "metadata": {
    "papermill": {
     "duration": 0.024286,
     "end_time": "2022-04-23T02:53:07.433418",
     "exception": false,
     "start_time": "2022-04-23T02:53:07.409132",
     "status": "completed"
    },
    "tags": []
   },
   "source": [
    "### One-Week Hold Out"
   ]
  },
  {
   "cell_type": "code",
   "execution_count": 9,
   "id": "a6390972",
   "metadata": {
    "execution": {
     "iopub.execute_input": "2022-04-23T02:53:07.483688Z",
     "iopub.status.busy": "2022-04-23T02:53:07.483396Z",
     "iopub.status.idle": "2022-04-23T02:53:12.081482Z",
     "shell.execute_reply": "2022-04-23T02:53:12.080368Z"
    },
    "papermill": {
     "duration": 4.626189,
     "end_time": "2022-04-23T02:53:12.083965",
     "exception": false,
     "start_time": "2022-04-23T02:53:07.457776",
     "status": "completed"
    },
    "tags": []
   },
   "outputs": [],
   "source": [
    "# id of week to be used in a validation; set 105 if you would like to create a submission\n",
    "val = df.loc[df.week == val_week].groupby('customer_id').article_id.apply(iter_to_str).reset_index()\\\n",
    "    .merge(cid, on='customer_id', how='right')\n",
    "actual = val.article_id.apply(lambda s: [] if pd.isna(s) else s.split())\n",
    "last_date = df.loc[df.week < val_week].t_dat.max()"
   ]
  },
  {
   "cell_type": "code",
   "execution_count": 10,
   "id": "d8859d3d",
   "metadata": {
    "execution": {
     "iopub.execute_input": "2022-04-23T02:53:12.135056Z",
     "iopub.status.busy": "2022-04-23T02:53:12.134777Z",
     "iopub.status.idle": "2022-04-23T02:53:12.143170Z",
     "shell.execute_reply": "2022-04-23T02:53:12.142195Z"
    },
    "papermill": {
     "duration": 0.036854,
     "end_time": "2022-04-23T02:53:12.145693",
     "exception": false,
     "start_time": "2022-04-23T02:53:12.108839",
     "status": "completed"
    },
    "tags": []
   },
   "outputs": [
    {
     "data": {
      "text/plain": [
       "Timestamp('2020-09-15 00:00:00')"
      ]
     },
     "execution_count": 10,
     "metadata": {},
     "output_type": "execute_result"
    }
   ],
   "source": [
    "last_date"
   ]
  },
  {
   "cell_type": "markdown",
   "id": "f232338e",
   "metadata": {},
   "source": [
    "## load Result"
   ]
  },
  {
   "cell_type": "code",
   "execution_count": 11,
   "id": "b0c06205",
   "metadata": {},
   "outputs": [
    {
     "name": "stdout",
     "output_type": "stream",
     "text": [
      "LOAD...\n",
      "Fill Rate =  28.7\n"
     ]
    },
    {
     "data": {
      "text/html": [
       "<div>\n",
       "<style scoped>\n",
       "    .dataframe tbody tr th:only-of-type {\n",
       "        vertical-align: middle;\n",
       "    }\n",
       "\n",
       "    .dataframe tbody tr th {\n",
       "        vertical-align: top;\n",
       "    }\n",
       "\n",
       "    .dataframe thead th {\n",
       "        text-align: right;\n",
       "    }\n",
       "</style>\n",
       "<table border=\"1\" class=\"dataframe\">\n",
       "  <thead>\n",
       "    <tr style=\"text-align: right;\">\n",
       "      <th></th>\n",
       "      <th>1.0</th>\n",
       "      <th>2.0</th>\n",
       "      <th>All</th>\n",
       "      <th>Fill</th>\n",
       "    </tr>\n",
       "  </thead>\n",
       "  <tbody>\n",
       "    <tr>\n",
       "      <th>Last Purchase</th>\n",
       "      <td>0.012807</td>\n",
       "      <td>0.024439</td>\n",
       "      <td>0.020594</td>\n",
       "      <td>28.7</td>\n",
       "    </tr>\n",
       "  </tbody>\n",
       "</table>\n",
       "</div>"
      ],
      "text/plain": [
       "                    1.0       2.0       All  Fill\n",
       "Last Purchase  0.012807  0.024439  0.020594  28.7"
      ]
     },
     "metadata": {},
     "output_type": "display_data"
    },
    {
     "data": {
      "text/html": [
       "<div>\n",
       "<style scoped>\n",
       "    .dataframe tbody tr th:only-of-type {\n",
       "        vertical-align: middle;\n",
       "    }\n",
       "\n",
       "    .dataframe tbody tr th {\n",
       "        vertical-align: top;\n",
       "    }\n",
       "\n",
       "    .dataframe thead th {\n",
       "        text-align: right;\n",
       "    }\n",
       "</style>\n",
       "<table border=\"1\" class=\"dataframe\">\n",
       "  <thead>\n",
       "    <tr style=\"text-align: right;\">\n",
       "      <th></th>\n",
       "      <th>customer_id</th>\n",
       "      <th>prediction</th>\n",
       "      <th>last_purchase</th>\n",
       "      <th>other_colors</th>\n",
       "      <th>trend_items</th>\n",
       "      <th>trend_items2</th>\n",
       "      <th>trend_ageatt</th>\n",
       "      <th>trend_woman</th>\n",
       "      <th>popular_items</th>\n",
       "      <th>buy_together</th>\n",
       "      <th>uucf</th>\n",
       "      <th>uucf2</th>\n",
       "    </tr>\n",
       "  </thead>\n",
       "  <tbody>\n",
       "    <tr>\n",
       "      <th>0</th>\n",
       "      <td>00000dbacae5abe5e23885899a1fa44253a17956c6d1c3...</td>\n",
       "      <td>0706016001 0706016002 0372860001 0610776002 07...</td>\n",
       "      <td>0568601043</td>\n",
       "      <td>0568601006</td>\n",
       "      <td>0900279001 0919273002 0762846006 0915529003 09...</td>\n",
       "      <td>0919273002 0915529003 0914805002 0751471001 08...</td>\n",
       "      <td>0884319002 0919273002 0909371001 0915529003 08...</td>\n",
       "      <td>0884319002 0919273002 0909371001 0915529003 08...</td>\n",
       "      <td>0568601006</td>\n",
       "      <td>0858856005 0762846031 0716670009 0568601044 07...</td>\n",
       "      <td></td>\n",
       "      <td>0762846031 0568601006 0568601044 0568601007 05...</td>\n",
       "    </tr>\n",
       "    <tr>\n",
       "      <th>1</th>\n",
       "      <td>0000423b00ade91418cceaf3b26c6af3dd342b51fd051e...</td>\n",
       "      <td>0706016001 0706016002 0372860001 0610776002 07...</td>\n",
       "      <td>0826211002</td>\n",
       "      <td></td>\n",
       "      <td>0448509014 0809238001 0706016001 0809238005 08...</td>\n",
       "      <td>0448509014 0809238001 0809238005 0751471001 08...</td>\n",
       "      <td>0448509014 0809238001 0809238005 0158340001 07...</td>\n",
       "      <td>0448509014 0809238001 0809238005 0158340001 07...</td>\n",
       "      <td>0673677002 0658298001</td>\n",
       "      <td></td>\n",
       "      <td></td>\n",
       "      <td></td>\n",
       "    </tr>\n",
       "    <tr>\n",
       "      <th>2</th>\n",
       "      <td>000058a12d5b43e67d225668fa1f8d618c13dc232df0ca...</td>\n",
       "      <td>0706016001 0706016002 0372860001 0610776002 07...</td>\n",
       "      <td>0794321007</td>\n",
       "      <td>0794321011</td>\n",
       "      <td>0762846027 0809238005 0751471001 0896169005 08...</td>\n",
       "      <td>0762846027 0809238005 0751471001 0896169005 09...</td>\n",
       "      <td>0762846027 0809238005 0751471001 0918525001 08...</td>\n",
       "      <td>0762846027 0809238005 0751471001 0918525001 08...</td>\n",
       "      <td></td>\n",
       "      <td>0794321007 0794321011 0805000001 0866610001 08...</td>\n",
       "      <td></td>\n",
       "      <td></td>\n",
       "    </tr>\n",
       "    <tr>\n",
       "      <th>3</th>\n",
       "      <td>00005ca1c9ed5f5146b52ac8639a40ca9d57aeff4d1bd2...</td>\n",
       "      <td>0706016001 0706016002 0372860001 0610776002 07...</td>\n",
       "      <td>0742079001 0732413001</td>\n",
       "      <td></td>\n",
       "      <td>0751471001 0809238001 0706016003 0673677002 09...</td>\n",
       "      <td>0861803009 0869331006 0805000008 0912204001 08...</td>\n",
       "      <td>0805000008 0912204001 0805000001 0730683019 06...</td>\n",
       "      <td></td>\n",
       "      <td></td>\n",
       "      <td></td>\n",
       "      <td></td>\n",
       "      <td></td>\n",
       "    </tr>\n",
       "    <tr>\n",
       "      <th>4</th>\n",
       "      <td>00006413d8573cd20ed7128e53b7b13819fe5cfc2d801f...</td>\n",
       "      <td>0706016001 0706016002 0372860001 0610776002 07...</td>\n",
       "      <td>0791587015 0927530004 0730683050 0896152002</td>\n",
       "      <td>0730683062 0927530006 0791587001 0896152001</td>\n",
       "      <td>0809238001 0914805002 0751471043 0900267001 09...</td>\n",
       "      <td>0919273002 0915529003 0809238001 0914805002 08...</td>\n",
       "      <td>0896152002 0914805002 0896169005 0896169002 07...</td>\n",
       "      <td>0896152002 0914805002 0896169005 0896169002 07...</td>\n",
       "      <td></td>\n",
       "      <td>0809961007 0791587018 0918292004 0918292001 07...</td>\n",
       "      <td></td>\n",
       "      <td>0896152002 0730683050 0791587015 0791587001 07...</td>\n",
       "    </tr>\n",
       "    <tr>\n",
       "      <th>...</th>\n",
       "      <td>...</td>\n",
       "      <td>...</td>\n",
       "      <td>...</td>\n",
       "      <td>...</td>\n",
       "      <td>...</td>\n",
       "      <td>...</td>\n",
       "      <td>...</td>\n",
       "      <td>...</td>\n",
       "      <td>...</td>\n",
       "      <td>...</td>\n",
       "      <td>...</td>\n",
       "      <td>...</td>\n",
       "    </tr>\n",
       "    <tr>\n",
       "      <th>1371975</th>\n",
       "      <td>ffffbbf78b6eaac697a8a5dfbfd2bfa8113ee5b403e474...</td>\n",
       "      <td>0706016001 0706016002 0372860001 0610776002 07...</td>\n",
       "      <td>0713997002 0720125039 0740922009 0791587007 08...</td>\n",
       "      <td>0557599023 0791587015 0720125007 0740922001 08...</td>\n",
       "      <td>0896169005 0898713001 0809238001 0448509014 08...</td>\n",
       "      <td>0896169005 0809238001 0448509014 0863583001 08...</td>\n",
       "      <td>0809238001 0448509014 0863583001 0809238005 01...</td>\n",
       "      <td>0809238001 0448509014 0863583001 0809238005 01...</td>\n",
       "      <td>0253448003</td>\n",
       "      <td>0918292001 0804992033 0852584017 0852584001 08...</td>\n",
       "      <td>0804992033 0720125039 0740922009 0557599022 07...</td>\n",
       "      <td>0557599022 0822344001 0822311001 0887681003 08...</td>\n",
       "    </tr>\n",
       "    <tr>\n",
       "      <th>1371976</th>\n",
       "      <td>ffffcd5046a6143d29a04fb8c424ce494a76e5cdf4fab5...</td>\n",
       "      <td>0706016001 0706016002 0372860001 0610776002 07...</td>\n",
       "      <td>0762846031 0853654012 0624486088 0853654002 07...</td>\n",
       "      <td>0624486001 0762846027 0759871025 0853654001</td>\n",
       "      <td>0805947001 0706016002 0706016001 0762846027 04...</td>\n",
       "      <td>0767423001 0805947001 0706016002 0706016001 04...</td>\n",
       "      <td>0805947001 0818754004 0706016002 0706016001 08...</td>\n",
       "      <td></td>\n",
       "      <td>0624486001 0507909001</td>\n",
       "      <td>0889460003 0762846031 0782734004 0783346001 09...</td>\n",
       "      <td></td>\n",
       "      <td>0762846031 0762846027 0762846026 0889460003 07...</td>\n",
       "    </tr>\n",
       "    <tr>\n",
       "      <th>1371977</th>\n",
       "      <td>ffffcf35913a0bee60e8741cb2b4e78b8a98ee5ff2e6a1...</td>\n",
       "      <td>0706016001 0706016002 0372860001 0610776002 07...</td>\n",
       "      <td>0762846027 0689365050 0794819001 0884081001</td>\n",
       "      <td>0884081002 0762846031 0794819003 0689365045</td>\n",
       "      <td>0781613006 0706016001 0706016002 0915526001 08...</td>\n",
       "      <td>0805947001 0448509014 0751471001 0762846027 09...</td>\n",
       "      <td>0805947001 0448509014 0751471001 0762846027 09...</td>\n",
       "      <td>0805947001 0448509014 0751471001 0762846027 09...</td>\n",
       "      <td>0636323002</td>\n",
       "      <td>0762846031 0762846027 0889460003 0762846029 08...</td>\n",
       "      <td>0762846027 0689365050 0762846031 0884081001 07...</td>\n",
       "      <td>0762846027 0762846026 0762846031 0889460003 07...</td>\n",
       "    </tr>\n",
       "    <tr>\n",
       "      <th>1371978</th>\n",
       "      <td>ffffd7744cebcf3aca44ae7049d2a94b87074c3d4ffe38...</td>\n",
       "      <td>0706016001 0706016002 0372860001 0610776002 07...</td>\n",
       "      <td>0882810001</td>\n",
       "      <td>0882810004</td>\n",
       "      <td>0714790020 0448509014 0715624010 0706016002 08...</td>\n",
       "      <td>0714790020 0448509014 0870328003 0767423011 07...</td>\n",
       "      <td>0874113005 0448509014 0870328003 0893432005 07...</td>\n",
       "      <td></td>\n",
       "      <td></td>\n",
       "      <td></td>\n",
       "      <td></td>\n",
       "      <td></td>\n",
       "    </tr>\n",
       "    <tr>\n",
       "      <th>1371979</th>\n",
       "      <td>ffffd9ac14e89946416d80e791d064701994755c3ab686...</td>\n",
       "      <td>0706016001 0706016002 0372860001 0610776002 07...</td>\n",
       "      <td>0806050001</td>\n",
       "      <td></td>\n",
       "      <td>0874819003 0903926001 0873274002 0908799002 09...</td>\n",
       "      <td>0914805002 0919273002 0918525001 0923758001 09...</td>\n",
       "      <td>0914805002 0903926001 0908799002 0923758001 09...</td>\n",
       "      <td>0914805002 0903926001 0908799002 0923758001 09...</td>\n",
       "      <td></td>\n",
       "      <td>0898886001 0806050001 0927225001</td>\n",
       "      <td></td>\n",
       "      <td></td>\n",
       "    </tr>\n",
       "  </tbody>\n",
       "</table>\n",
       "<p>1371980 rows × 12 columns</p>\n",
       "</div>"
      ],
      "text/plain": [
       "                                               customer_id  \\\n",
       "0        00000dbacae5abe5e23885899a1fa44253a17956c6d1c3...   \n",
       "1        0000423b00ade91418cceaf3b26c6af3dd342b51fd051e...   \n",
       "2        000058a12d5b43e67d225668fa1f8d618c13dc232df0ca...   \n",
       "3        00005ca1c9ed5f5146b52ac8639a40ca9d57aeff4d1bd2...   \n",
       "4        00006413d8573cd20ed7128e53b7b13819fe5cfc2d801f...   \n",
       "...                                                    ...   \n",
       "1371975  ffffbbf78b6eaac697a8a5dfbfd2bfa8113ee5b403e474...   \n",
       "1371976  ffffcd5046a6143d29a04fb8c424ce494a76e5cdf4fab5...   \n",
       "1371977  ffffcf35913a0bee60e8741cb2b4e78b8a98ee5ff2e6a1...   \n",
       "1371978  ffffd7744cebcf3aca44ae7049d2a94b87074c3d4ffe38...   \n",
       "1371979  ffffd9ac14e89946416d80e791d064701994755c3ab686...   \n",
       "\n",
       "                                                prediction  \\\n",
       "0        0706016001 0706016002 0372860001 0610776002 07...   \n",
       "1        0706016001 0706016002 0372860001 0610776002 07...   \n",
       "2        0706016001 0706016002 0372860001 0610776002 07...   \n",
       "3        0706016001 0706016002 0372860001 0610776002 07...   \n",
       "4        0706016001 0706016002 0372860001 0610776002 07...   \n",
       "...                                                    ...   \n",
       "1371975  0706016001 0706016002 0372860001 0610776002 07...   \n",
       "1371976  0706016001 0706016002 0372860001 0610776002 07...   \n",
       "1371977  0706016001 0706016002 0372860001 0610776002 07...   \n",
       "1371978  0706016001 0706016002 0372860001 0610776002 07...   \n",
       "1371979  0706016001 0706016002 0372860001 0610776002 07...   \n",
       "\n",
       "                                             last_purchase  \\\n",
       "0                                               0568601043   \n",
       "1                                               0826211002   \n",
       "2                                               0794321007   \n",
       "3                                    0742079001 0732413001   \n",
       "4              0791587015 0927530004 0730683050 0896152002   \n",
       "...                                                    ...   \n",
       "1371975  0713997002 0720125039 0740922009 0791587007 08...   \n",
       "1371976  0762846031 0853654012 0624486088 0853654002 07...   \n",
       "1371977        0762846027 0689365050 0794819001 0884081001   \n",
       "1371978                                         0882810001   \n",
       "1371979                                         0806050001   \n",
       "\n",
       "                                              other_colors  \\\n",
       "0                                               0568601006   \n",
       "1                                                            \n",
       "2                                               0794321011   \n",
       "3                                                            \n",
       "4              0730683062 0927530006 0791587001 0896152001   \n",
       "...                                                    ...   \n",
       "1371975  0557599023 0791587015 0720125007 0740922001 08...   \n",
       "1371976        0624486001 0762846027 0759871025 0853654001   \n",
       "1371977        0884081002 0762846031 0794819003 0689365045   \n",
       "1371978                                         0882810004   \n",
       "1371979                                                      \n",
       "\n",
       "                                               trend_items  \\\n",
       "0        0900279001 0919273002 0762846006 0915529003 09...   \n",
       "1        0448509014 0809238001 0706016001 0809238005 08...   \n",
       "2        0762846027 0809238005 0751471001 0896169005 08...   \n",
       "3        0751471001 0809238001 0706016003 0673677002 09...   \n",
       "4        0809238001 0914805002 0751471043 0900267001 09...   \n",
       "...                                                    ...   \n",
       "1371975  0896169005 0898713001 0809238001 0448509014 08...   \n",
       "1371976  0805947001 0706016002 0706016001 0762846027 04...   \n",
       "1371977  0781613006 0706016001 0706016002 0915526001 08...   \n",
       "1371978  0714790020 0448509014 0715624010 0706016002 08...   \n",
       "1371979  0874819003 0903926001 0873274002 0908799002 09...   \n",
       "\n",
       "                                              trend_items2  \\\n",
       "0        0919273002 0915529003 0914805002 0751471001 08...   \n",
       "1        0448509014 0809238001 0809238005 0751471001 08...   \n",
       "2        0762846027 0809238005 0751471001 0896169005 09...   \n",
       "3        0861803009 0869331006 0805000008 0912204001 08...   \n",
       "4        0919273002 0915529003 0809238001 0914805002 08...   \n",
       "...                                                    ...   \n",
       "1371975  0896169005 0809238001 0448509014 0863583001 08...   \n",
       "1371976  0767423001 0805947001 0706016002 0706016001 04...   \n",
       "1371977  0805947001 0448509014 0751471001 0762846027 09...   \n",
       "1371978  0714790020 0448509014 0870328003 0767423011 07...   \n",
       "1371979  0914805002 0919273002 0918525001 0923758001 09...   \n",
       "\n",
       "                                              trend_ageatt  \\\n",
       "0        0884319002 0919273002 0909371001 0915529003 08...   \n",
       "1        0448509014 0809238001 0809238005 0158340001 07...   \n",
       "2        0762846027 0809238005 0751471001 0918525001 08...   \n",
       "3        0805000008 0912204001 0805000001 0730683019 06...   \n",
       "4        0896152002 0914805002 0896169005 0896169002 07...   \n",
       "...                                                    ...   \n",
       "1371975  0809238001 0448509014 0863583001 0809238005 01...   \n",
       "1371976  0805947001 0818754004 0706016002 0706016001 08...   \n",
       "1371977  0805947001 0448509014 0751471001 0762846027 09...   \n",
       "1371978  0874113005 0448509014 0870328003 0893432005 07...   \n",
       "1371979  0914805002 0903926001 0908799002 0923758001 09...   \n",
       "\n",
       "                                               trend_woman  \\\n",
       "0        0884319002 0919273002 0909371001 0915529003 08...   \n",
       "1        0448509014 0809238001 0809238005 0158340001 07...   \n",
       "2        0762846027 0809238005 0751471001 0918525001 08...   \n",
       "3                                                            \n",
       "4        0896152002 0914805002 0896169005 0896169002 07...   \n",
       "...                                                    ...   \n",
       "1371975  0809238001 0448509014 0863583001 0809238005 01...   \n",
       "1371976                                                      \n",
       "1371977  0805947001 0448509014 0751471001 0762846027 09...   \n",
       "1371978                                                      \n",
       "1371979  0914805002 0903926001 0908799002 0923758001 09...   \n",
       "\n",
       "                 popular_items  \\\n",
       "0                   0568601006   \n",
       "1        0673677002 0658298001   \n",
       "2                                \n",
       "3                                \n",
       "4                                \n",
       "...                        ...   \n",
       "1371975             0253448003   \n",
       "1371976  0624486001 0507909001   \n",
       "1371977             0636323002   \n",
       "1371978                          \n",
       "1371979                          \n",
       "\n",
       "                                              buy_together  \\\n",
       "0        0858856005 0762846031 0716670009 0568601044 07...   \n",
       "1                                                            \n",
       "2        0794321007 0794321011 0805000001 0866610001 08...   \n",
       "3                                                            \n",
       "4        0809961007 0791587018 0918292004 0918292001 07...   \n",
       "...                                                    ...   \n",
       "1371975  0918292001 0804992033 0852584017 0852584001 08...   \n",
       "1371976  0889460003 0762846031 0782734004 0783346001 09...   \n",
       "1371977  0762846031 0762846027 0889460003 0762846029 08...   \n",
       "1371978                                                      \n",
       "1371979                   0898886001 0806050001 0927225001   \n",
       "\n",
       "                                                      uucf  \\\n",
       "0                                                            \n",
       "1                                                            \n",
       "2                                                            \n",
       "3                                                            \n",
       "4                                                            \n",
       "...                                                    ...   \n",
       "1371975  0804992033 0720125039 0740922009 0557599022 07...   \n",
       "1371976                                                      \n",
       "1371977  0762846027 0689365050 0762846031 0884081001 07...   \n",
       "1371978                                                      \n",
       "1371979                                                      \n",
       "\n",
       "                                                     uucf2  \n",
       "0        0762846031 0568601006 0568601044 0568601007 05...  \n",
       "1                                                           \n",
       "2                                                           \n",
       "3                                                           \n",
       "4        0896152002 0730683050 0791587015 0791587001 07...  \n",
       "...                                                    ...  \n",
       "1371975  0557599022 0822344001 0822311001 0887681003 08...  \n",
       "1371976  0762846031 0762846027 0762846026 0889460003 07...  \n",
       "1371977  0762846027 0762846026 0762846031 0889460003 07...  \n",
       "1371978                                                     \n",
       "1371979                                                     \n",
       "\n",
       "[1371980 rows x 12 columns]"
      ]
     },
     "execution_count": 11,
     "metadata": {},
     "output_type": "execute_result"
    },
    {
     "data": {
      "image/png": "[encoded data removed]",
      "text/plain": [
       "<Figure size 864x432 with 2 Axes>"
      ]
     },
     "metadata": {},
     "output_type": "display_data"
    }
   ],
   "source": [
    "if is_load :\n",
    "    print(\"LOAD...\")\n",
    "    if val_week == 105: \n",
    "        sub = pd.read_parquet('submission_all.parquet')\n",
    "    else :\n",
    "        sub = pd.read_parquet('submission_all_104.parquet')\n",
    "    predicted = sub['last_purchase'].apply(lambda s: [] if pd.isna(s) else s.split())\n",
    "    score = validation(actual, predicted, grouping, index='Last Purchase', ignore=(val_week == 105))\n",
    "        \n",
    "sub"
   ]
  },
  {
   "cell_type": "markdown",
   "id": "5a5d700d",
   "metadata": {},
   "source": [
    "# ======================"
   ]
  },
  {
   "cell_type": "code",
   "execution_count": 56,
   "id": "22ffdb73",
   "metadata": {},
   "outputs": [],
   "source": [
    "# mu = df.groupby('customer_id').price.mean().reset_index().rename(columns={'price':'mean'})\n",
    "# sigma = df.groupby('customer_id').price.std().reset_index().fillna(0).rename(columns={'price':'std'})\n",
    "# x = mu.merge(sigma, on='customer_id', how='left')\n",
    "# x['th'] = x['mean'] + x['std']\n",
    "# x = x.drop(['mean','std'], axis=1)\n",
    "# init_date = last_date - dt.timedelta(days=365)\n",
    "# train = df.loc[(df.t_dat >= init_date) & (df.t_dat <= last_date)].copy()\n",
    "# train = train.merge(x, on='customer_id', how='left')\n",
    "# train = train[train['price'] < train['th']]\n",
    "# del mu, sigma, x"
   ]
  },
  {
   "cell_type": "code",
   "execution_count": 57,
   "id": "712fa081",
   "metadata": {},
   "outputs": [],
   "source": [
    "# train = train.merge(train.groupby('customer_id').t_dat.max().reset_index().rename(columns={'t_dat':'l_dat'}),\n",
    "#                    on = 'customer_id', how='left')\n",
    "# train['d_dat'] = (train.l_dat - train.t_dat).dt.days\n",
    "# train = train.loc[train.d_dat < 2].sort_values(['t_dat'], ascending=False).drop_duplicates(['customer_id', 'article_id'])\n",
    "# #train = train.loc[train.d_dat < 9999].sort_values(['t_dat'], ascending=False).drop_duplicates(['customer_id', 'article_id'])\n",
    "# sub['price'] = train.groupby('customer_id')\\\n",
    "#     .article_id.apply(iter_to_str).reset_index()\\\n",
    "#     .merge(cid, on='customer_id', how='right').article_id.fillna('')"
   ]
  },
  {
   "cell_type": "code",
   "execution_count": 58,
   "id": "1dbee2d8",
   "metadata": {},
   "outputs": [
    {
     "name": "stdout",
     "output_type": "stream",
     "text": [
      "Fill Rate =  15.8\n"
     ]
    },
    {
     "data": {
      "text/html": [
       "<div>\n",
       "<style scoped>\n",
       "    .dataframe tbody tr th:only-of-type {\n",
       "        vertical-align: middle;\n",
       "    }\n",
       "\n",
       "    .dataframe tbody tr th {\n",
       "        vertical-align: top;\n",
       "    }\n",
       "\n",
       "    .dataframe thead th {\n",
       "        text-align: right;\n",
       "    }\n",
       "</style>\n",
       "<table border=\"1\" class=\"dataframe\">\n",
       "  <thead>\n",
       "    <tr style=\"text-align: right;\">\n",
       "      <th></th>\n",
       "      <th>1.0</th>\n",
       "      <th>2.0</th>\n",
       "      <th>All</th>\n",
       "      <th>Fill</th>\n",
       "    </tr>\n",
       "  </thead>\n",
       "  <tbody>\n",
       "    <tr>\n",
       "      <th>Price</th>\n",
       "      <td>0.009187</td>\n",
       "      <td>0.016549</td>\n",
       "      <td>0.014115</td>\n",
       "      <td>15.8</td>\n",
       "    </tr>\n",
       "    <tr>\n",
       "      <th>Last Purchase</th>\n",
       "      <td>0.012807</td>\n",
       "      <td>0.024439</td>\n",
       "      <td>0.020594</td>\n",
       "      <td>28.7</td>\n",
       "    </tr>\n",
       "    <tr>\n",
       "      <th>Customer</th>\n",
       "      <td>0.012839</td>\n",
       "      <td>0.024140</td>\n",
       "      <td>0.020404</td>\n",
       "      <td>15.8</td>\n",
       "    </tr>\n",
       "    <tr>\n",
       "      <th>Customer x</th>\n",
       "      <td>0.012920</td>\n",
       "      <td>0.024186</td>\n",
       "      <td>0.020461</td>\n",
       "      <td>16.4</td>\n",
       "    </tr>\n",
       "  </tbody>\n",
       "</table>\n",
       "</div>"
      ],
      "text/plain": [
       "                    1.0       2.0       All  Fill\n",
       "Price          0.009187  0.016549  0.014115  15.8\n",
       "Last Purchase  0.012807  0.024439  0.020594  28.7\n",
       "Customer       0.012839  0.024140  0.020404  15.8\n",
       "Customer x     0.012920  0.024186  0.020461  16.4"
      ]
     },
     "metadata": {},
     "output_type": "display_data"
    },
    {
     "data": {
      "image/png": "[encoded data removed]",
      "text/plain": [
       "<Figure size 864x432 with 2 Axes>"
      ]
     },
     "metadata": {},
     "output_type": "display_data"
    }
   ],
   "source": [
    "# predicted = sub['price'].apply(lambda s: [] if pd.isna(s) else s.split())\n",
    "# score = validation(actual, predicted, grouping, score, index='Price', ignore=(val_week == 105))"
   ]
  },
  {
   "cell_type": "markdown",
   "id": "19f85420",
   "metadata": {
    "papermill": {
     "duration": 0.02445,
     "end_time": "2022-04-23T02:53:12.195882",
     "exception": false,
     "start_time": "2022-04-23T02:53:12.171432",
     "status": "completed"
    },
    "tags": []
   },
   "source": [
    "### 最後に購入したアイテム(14日前から）"
   ]
  },
  {
   "cell_type": "code",
   "execution_count": 41,
   "id": "30bb7bf1",
   "metadata": {
    "execution": {
     "iopub.execute_input": "2022-04-23T02:53:12.247506Z",
     "iopub.status.busy": "2022-04-23T02:53:12.247239Z",
     "iopub.status.idle": "2022-04-23T02:54:05.216739Z",
     "shell.execute_reply": "2022-04-23T02:54:05.215781Z"
    },
    "papermill": {
     "duration": 52.998734,
     "end_time": "2022-04-23T02:54:05.219324",
     "exception": false,
     "start_time": "2022-04-23T02:53:12.220590",
     "status": "completed"
    },
    "tags": []
   },
   "outputs": [],
   "source": [
    "init_date = last_date - dt.timedelta(days=9999)\n",
    "train = df.loc[(df.t_dat >= init_date) & (df.t_dat <= last_date)].copy()\n",
    "train = train.merge(train.groupby('customer_id').t_dat.max().reset_index().rename(columns={'t_dat':'l_dat'}),\n",
    "                   on = 'customer_id', how='left')\n",
    "train['d_dat'] = (train.l_dat - train.t_dat).dt.days\n",
    "# train = train.loc[train.d_dat < 28].sort_values(['t_dat'], ascending=False).drop_duplicates(['customer_id', 'article_id'])\n",
    "train = train.loc[train.d_dat < 14].sort_values(['t_dat'], ascending=False).drop_duplicates(['customer_id', 'article_id'])\n",
    "#train = train.loc[train.d_dat < 9999].sort_values(['t_dat'], ascending=False).drop_duplicates(['customer_id', 'article_id'])\n",
    "sub['last_purchase'] = train.groupby('customer_id')\\\n",
    "    .article_id.apply(iter_to_str).reset_index()\\\n",
    "    .merge(cid, on='customer_id', how='right').article_id.fillna('')"
   ]
  },
  {
   "cell_type": "code",
   "execution_count": 42,
   "id": "e1780f99",
   "metadata": {},
   "outputs": [
    {
     "name": "stderr",
     "output_type": "stream",
     "text": [
      "100%|██████████| 1371980/1371980 [00:03<00:00, 357093.73it/s]\n"
     ]
    }
   ],
   "source": [
    "sub['last_purchase'] = cut_items('last_purchase', n = 5)"
   ]
  },
  {
   "cell_type": "code",
   "execution_count": 43,
   "id": "5ecbf8b3",
   "metadata": {},
   "outputs": [],
   "source": [
    "# if use_item2vec:\n",
    "#     sub['last_purchase'] = sort_item2vec('last_purchase', max_n=12)"
   ]
  },
  {
   "cell_type": "code",
   "execution_count": 44,
   "id": "f39b7eb0",
   "metadata": {},
   "outputs": [
    {
     "name": "stdout",
     "output_type": "stream",
     "text": [
      "Fill Rate =  24.8\n"
     ]
    },
    {
     "data": {
      "text/html": [
       "<div>\n",
       "<style scoped>\n",
       "    .dataframe tbody tr th:only-of-type {\n",
       "        vertical-align: middle;\n",
       "    }\n",
       "\n",
       "    .dataframe tbody tr th {\n",
       "        vertical-align: top;\n",
       "    }\n",
       "\n",
       "    .dataframe thead th {\n",
       "        text-align: right;\n",
       "    }\n",
       "</style>\n",
       "<table border=\"1\" class=\"dataframe\">\n",
       "  <thead>\n",
       "    <tr style=\"text-align: right;\">\n",
       "      <th></th>\n",
       "      <th>1.0</th>\n",
       "      <th>2.0</th>\n",
       "      <th>All</th>\n",
       "      <th>Fill</th>\n",
       "    </tr>\n",
       "  </thead>\n",
       "  <tbody>\n",
       "    <tr>\n",
       "      <th>Last Purchase</th>\n",
       "      <td>0.012669</td>\n",
       "      <td>0.023933</td>\n",
       "      <td>0.020209</td>\n",
       "      <td>24.8</td>\n",
       "    </tr>\n",
       "  </tbody>\n",
       "</table>\n",
       "</div>"
      ],
      "text/plain": [
       "                    1.0       2.0       All  Fill\n",
       "Last Purchase  0.012669  0.023933  0.020209  24.8"
      ]
     },
     "metadata": {},
     "output_type": "display_data"
    },
    {
     "data": {
      "image/png": "[encoded data removed]",
      "text/plain": [
       "<Figure size 864x432 with 2 Axes>"
      ]
     },
     "metadata": {},
     "output_type": "display_data"
    }
   ],
   "source": [
    "predicted = sub['last_purchase'].apply(lambda s: [] if pd.isna(s) else s.split())\n",
    "score = validation(actual, predicted, grouping, index='Last Purchase', ignore=(val_week == 105))\n",
    "#Last Purchase\t0.012392\t0.023801\t0.020029\t26.9\n",
    "#Last Purchase\t0.012807\t0.024439\t0.020594\t28.7\n",
    "#Last Purchase\t0.011057\t0.020228\t0.017196\t14.2\n",
    "#Last Purchase\t0.010913\t0.020194\t0.017126\t14.2 item2vec\n",
    "#Last Purchase\t0.012333\t0.023044\t0.019503\t21.4\n",
    "#20946 28\n",
    "#Last Purchase\t0.013837\t0.025449\t0.02161\t62.2 9999"
   ]
  },
  {
   "cell_type": "code",
   "execution_count": 40,
   "id": "62710a86",
   "metadata": {},
   "outputs": [
    {
     "name": "stdout",
     "output_type": "stream",
     "text": [
      "Fill Rate =  55.7\n"
     ]
    },
    {
     "data": {
      "text/html": [
       "<div>\n",
       "<style scoped>\n",
       "    .dataframe tbody tr th:only-of-type {\n",
       "        vertical-align: middle;\n",
       "    }\n",
       "\n",
       "    .dataframe tbody tr th {\n",
       "        vertical-align: top;\n",
       "    }\n",
       "\n",
       "    .dataframe thead th {\n",
       "        text-align: right;\n",
       "    }\n",
       "</style>\n",
       "<table border=\"1\" class=\"dataframe\">\n",
       "  <thead>\n",
       "    <tr style=\"text-align: right;\">\n",
       "      <th></th>\n",
       "      <th>1.0</th>\n",
       "      <th>2.0</th>\n",
       "      <th>All</th>\n",
       "      <th>Fill</th>\n",
       "    </tr>\n",
       "  </thead>\n",
       "  <tbody>\n",
       "    <tr>\n",
       "      <th>Last Purchase</th>\n",
       "      <td>0.011699</td>\n",
       "      <td>0.021961</td>\n",
       "      <td>0.018569</td>\n",
       "      <td>24.8</td>\n",
       "    </tr>\n",
       "    <tr>\n",
       "      <th>Customer X</th>\n",
       "      <td>0.016180</td>\n",
       "      <td>0.026624</td>\n",
       "      <td>0.023171</td>\n",
       "      <td>55.7</td>\n",
       "    </tr>\n",
       "  </tbody>\n",
       "</table>\n",
       "</div>"
      ],
      "text/plain": [
       "                    1.0       2.0       All  Fill\n",
       "Last Purchase  0.011699  0.021961  0.018569  24.8\n",
       "Customer X     0.016180  0.026624  0.023171  55.7"
      ]
     },
     "metadata": {},
     "output_type": "display_data"
    },
    {
     "data": {
      "image/png": "[encoded data removed]",
      "text/plain": [
       "<Figure size 864x432 with 2 Axes>"
      ]
     },
     "metadata": {},
     "output_type": "display_data"
    }
   ],
   "source": [
    "# 11日間の売れた商品リスト\n",
    "init_date = last_date - dt.timedelta(days=2)\n",
    "sold_set = set(df.loc[(df.t_dat >= init_date) & (df.t_dat <= last_date)].article_id.tolist())\n",
    "\n",
    "targets = ['last_purchase', 'buy_together', 'other_colors', 'popular_items', 'uucf', 'uucf2']\n",
    "weights = [10, 1, 2, 2 ,2, 1]\n",
    "\n",
    "sub['customer'] = sub[targets].apply(blend, w=weights, axis=1, k=100).apply(prune, ok_set=sold_set)\n",
    "predicted = sub.customer.apply(lambda s: [] if pd.isna(s) else s.split())\n",
    "score = validation(actual, predicted, grouping, score, index='Customer X', ignore=(val_week == 105))\n",
    "# 24625 0.024752 0.024641 0.024755 \n",
    "#Customer X\t0.016961\t0.028377\t0.024603\t55.7"
   ]
  },
  {
   "cell_type": "markdown",
   "id": "04d4be80",
   "metadata": {
    "papermill": {
     "duration": 0.024202,
     "end_time": "2022-04-23T02:54:05.268336",
     "exception": false,
     "start_time": "2022-04-23T02:54:05.244134",
     "status": "completed"
    },
    "tags": []
   },
   "source": [
    "### 購入したアイテムの他の色（６日前まで）"
   ]
  },
  {
   "cell_type": "code",
   "execution_count": 16,
   "id": "a4836d24",
   "metadata": {
    "execution": {
     "iopub.execute_input": "2022-04-23T02:54:05.319450Z",
     "iopub.status.busy": "2022-04-23T02:54:05.318417Z",
     "iopub.status.idle": "2022-04-23T02:54:27.941637Z",
     "shell.execute_reply": "2022-04-23T02:54:27.940646Z"
    },
    "papermill": {
     "duration": 22.651535,
     "end_time": "2022-04-23T02:54:27.944334",
     "exception": false,
     "start_time": "2022-04-23T02:54:05.292799",
     "status": "completed"
    },
    "tags": []
   },
   "outputs": [],
   "source": [
    "init_date = last_date - dt.timedelta(days=6)\n",
    "#init_date = last_date - dt.timedelta(days=14)\n",
    "train = df.loc[(df.t_dat >= init_date) & (df.t_dat <= last_date)].copy()\\\n",
    "    .groupby(['article_id']).t_dat.count().reset_index()\n",
    "adf = pd.read_parquet('../input/hm-parquets-of-datasets/articles.parquet')\n",
    "adf = adf.merge(train, on='article_id', how='left').rename(columns={'t_dat':'ct'})\\\n",
    "    .sort_values('ct', ascending=False).query('ct > 0')\n",
    "\n",
    "map_to_col = defaultdict(list)\n",
    "for aid in adf.article_id.tolist():\n",
    "    map_to_col[aid] = list(filter(lambda x: x != aid, adf[adf.product_code == aid // 1000].article_id.tolist()))[:1]\n",
    "\n",
    "def map_to_variation(s):\n",
    "    f = lambda item: iter_to_str(map_to_col[int(item)])\n",
    "    return ' '.join(map(f, s.split()))\n",
    "sub['other_colors'] = sub['last_purchase'].fillna('').apply(map_to_variation)"
   ]
  },
  {
   "cell_type": "code",
   "execution_count": 17,
   "id": "aaa2561e",
   "metadata": {},
   "outputs": [],
   "source": [
    "# # 11日間の売れた商品リストに入っていないアイテムは削除する\n",
    "init_date = last_date - dt.timedelta(days=11)\n",
    "sold_set = set(df.loc[(df.t_dat >= init_date) & (df.t_dat <= last_date)].article_id.tolist())\n",
    "\n",
    "sub['other_colors'] = sub['other_colors'].apply(prune, ok_set=sold_set)\n",
    "\n",
    "# l = []\n",
    "# for i in tqdm(range(len(sub))) :\n",
    "#     itms = sub['last_purchase'][i].split(\" \")\n",
    "#     t = set()\n",
    "#     for e in itms:\n",
    "# #         print(e)\n",
    "#         if e == \"\" : continue\n",
    "#         if int(e) not in sold_set : continue\n",
    "#         t.add(e)\n",
    "# #     break\n",
    "#     l.append(\" \".join(list(t)))\n",
    "\n",
    "# sub['last_purchase'] = l"
   ]
  },
  {
   "cell_type": "code",
   "execution_count": 18,
   "id": "c6703605",
   "metadata": {},
   "outputs": [],
   "source": [
    "if use_item2vec:\n",
    "    sub['other_colors'] = sort_item2vec('other_colors', max_n=6)"
   ]
  },
  {
   "cell_type": "code",
   "execution_count": 19,
   "id": "9cd52703",
   "metadata": {},
   "outputs": [],
   "source": [
    "# sub['other_colors'] = cut_items('other_colors', n=2)"
   ]
  },
  {
   "cell_type": "code",
   "execution_count": 20,
   "id": "d6acb7eb",
   "metadata": {},
   "outputs": [
    {
     "name": "stdout",
     "output_type": "stream",
     "text": [
      "Fill Rate =  14.799999999999999\n"
     ]
    },
    {
     "data": {
      "text/html": [
       "<div>\n",
       "<style scoped>\n",
       "    .dataframe tbody tr th:only-of-type {\n",
       "        vertical-align: middle;\n",
       "    }\n",
       "\n",
       "    .dataframe tbody tr th {\n",
       "        vertical-align: top;\n",
       "    }\n",
       "\n",
       "    .dataframe thead th {\n",
       "        text-align: right;\n",
       "    }\n",
       "</style>\n",
       "<table border=\"1\" class=\"dataframe\">\n",
       "  <thead>\n",
       "    <tr style=\"text-align: right;\">\n",
       "      <th></th>\n",
       "      <th>1.0</th>\n",
       "      <th>2.0</th>\n",
       "      <th>All</th>\n",
       "      <th>Fill</th>\n",
       "    </tr>\n",
       "  </thead>\n",
       "  <tbody>\n",
       "    <tr>\n",
       "      <th>Last Purchase</th>\n",
       "      <td>0.012807</td>\n",
       "      <td>0.024439</td>\n",
       "      <td>0.020594</td>\n",
       "      <td>28.7</td>\n",
       "    </tr>\n",
       "    <tr>\n",
       "      <th>Other Colors</th>\n",
       "      <td>0.005881</td>\n",
       "      <td>0.008720</td>\n",
       "      <td>0.007781</td>\n",
       "      <td>14.8</td>\n",
       "    </tr>\n",
       "  </tbody>\n",
       "</table>\n",
       "</div>"
      ],
      "text/plain": [
       "                    1.0       2.0       All  Fill\n",
       "Last Purchase  0.012807  0.024439  0.020594  28.7\n",
       "Other Colors   0.005881  0.008720  0.007781  14.8"
      ]
     },
     "metadata": {},
     "output_type": "display_data"
    },
    {
     "data": {
      "image/png": "[encoded data removed]",
      "text/plain": [
       "<Figure size 864x432 with 2 Axes>"
      ]
     },
     "metadata": {},
     "output_type": "display_data"
    }
   ],
   "source": [
    "predicted = sub['other_colors'].apply(lambda s: [] if pd.isna(s) else s.split())\n",
    "score = validation(actual, predicted, grouping, score, index='Other Colors', ignore=(val_week == 105))\n",
    "#0.008075(6) -> 0.007619(3) -> 0.007058(2) -> 0.005448(1)"
   ]
  },
  {
   "cell_type": "markdown",
   "id": "74681882",
   "metadata": {},
   "source": [
    "### ★ペアで購入した商品"
   ]
  },
  {
   "cell_type": "code",
   "execution_count": 13,
   "id": "444ebfa2",
   "metadata": {},
   "outputs": [
    {
     "data": {
      "text/plain": [
       "28582"
      ]
     },
     "execution_count": 13,
     "metadata": {},
     "output_type": "execute_result"
    }
   ],
   "source": [
    "init_date = last_date - dt.timedelta(days=28)\n",
    "train = df.loc[(df.t_dat >= init_date) & (df.t_dat <= last_date)].copy()\n",
    "u_art = train['article_id'].unique()\n",
    "len(u_art)"
   ]
  },
  {
   "cell_type": "code",
   "execution_count": 14,
   "id": "282fa998",
   "metadata": {},
   "outputs": [
    {
     "data": {
      "text/html": [
       "<div>\n",
       "<style scoped>\n",
       "    .dataframe tbody tr th:only-of-type {\n",
       "        vertical-align: middle;\n",
       "    }\n",
       "\n",
       "    .dataframe tbody tr th {\n",
       "        vertical-align: top;\n",
       "    }\n",
       "\n",
       "    .dataframe thead th {\n",
       "        text-align: right;\n",
       "    }\n",
       "</style>\n",
       "<table border=\"1\" class=\"dataframe\">\n",
       "  <thead>\n",
       "    <tr style=\"text-align: right;\">\n",
       "      <th></th>\n",
       "      <th>t_dat</th>\n",
       "      <th>customer_id</th>\n",
       "      <th>article_id</th>\n",
       "    </tr>\n",
       "  </thead>\n",
       "  <tbody>\n",
       "    <tr>\n",
       "      <th>0</th>\n",
       "      <td>2020-08-25</td>\n",
       "      <td>329094189075899</td>\n",
       "      <td>[821338004]</td>\n",
       "    </tr>\n",
       "    <tr>\n",
       "      <th>1</th>\n",
       "      <td>2020-08-25</td>\n",
       "      <td>745180086074610</td>\n",
       "      <td>[863595006, 865172002, 803685001, 778534004, 5...</td>\n",
       "    </tr>\n",
       "    <tr>\n",
       "      <th>2</th>\n",
       "      <td>2020-08-25</td>\n",
       "      <td>1195818762005827</td>\n",
       "      <td>[656048001]</td>\n",
       "    </tr>\n",
       "    <tr>\n",
       "      <th>3</th>\n",
       "      <td>2020-08-25</td>\n",
       "      <td>2319521627154817</td>\n",
       "      <td>[863595005, 874819001, 863595006]</td>\n",
       "    </tr>\n",
       "    <tr>\n",
       "      <th>4</th>\n",
       "      <td>2020-08-25</td>\n",
       "      <td>6425998243829547</td>\n",
       "      <td>[834906017]</td>\n",
       "    </tr>\n",
       "    <tr>\n",
       "      <th>...</th>\n",
       "      <td>...</td>\n",
       "      <td>...</td>\n",
       "      <td>...</td>\n",
       "    </tr>\n",
       "    <tr>\n",
       "      <th>347037</th>\n",
       "      <td>2020-09-22</td>\n",
       "      <td>18437941771381362708</td>\n",
       "      <td>[907188001, 907188001]</td>\n",
       "    </tr>\n",
       "    <tr>\n",
       "      <th>347038</th>\n",
       "      <td>2020-09-22</td>\n",
       "      <td>18438270306572912089</td>\n",
       "      <td>[751471043]</td>\n",
       "    </tr>\n",
       "    <tr>\n",
       "      <th>347039</th>\n",
       "      <td>2020-09-22</td>\n",
       "      <td>18439937050817258297</td>\n",
       "      <td>[891591003, 869706005]</td>\n",
       "    </tr>\n",
       "    <tr>\n",
       "      <th>347040</th>\n",
       "      <td>2020-09-22</td>\n",
       "      <td>18440902715633436014</td>\n",
       "      <td>[918894002, 761269001]</td>\n",
       "    </tr>\n",
       "    <tr>\n",
       "      <th>347041</th>\n",
       "      <td>2020-09-22</td>\n",
       "      <td>18443633011701112574</td>\n",
       "      <td>[914868002]</td>\n",
       "    </tr>\n",
       "  </tbody>\n",
       "</table>\n",
       "<p>347042 rows × 3 columns</p>\n",
       "</div>"
      ],
      "text/plain": [
       "            t_dat           customer_id  \\\n",
       "0      2020-08-25       329094189075899   \n",
       "1      2020-08-25       745180086074610   \n",
       "2      2020-08-25      1195818762005827   \n",
       "3      2020-08-25      2319521627154817   \n",
       "4      2020-08-25      6425998243829547   \n",
       "...           ...                   ...   \n",
       "347037 2020-09-22  18437941771381362708   \n",
       "347038 2020-09-22  18438270306572912089   \n",
       "347039 2020-09-22  18439937050817258297   \n",
       "347040 2020-09-22  18440902715633436014   \n",
       "347041 2020-09-22  18443633011701112574   \n",
       "\n",
       "                                               article_id  \n",
       "0                                             [821338004]  \n",
       "1       [863595006, 865172002, 803685001, 778534004, 5...  \n",
       "2                                             [656048001]  \n",
       "3                       [863595005, 874819001, 863595006]  \n",
       "4                                             [834906017]  \n",
       "...                                                   ...  \n",
       "347037                             [907188001, 907188001]  \n",
       "347038                                        [751471043]  \n",
       "347039                             [891591003, 869706005]  \n",
       "347040                             [918894002, 761269001]  \n",
       "347041                                        [914868002]  \n",
       "\n",
       "[347042 rows x 3 columns]"
      ]
     },
     "execution_count": 14,
     "metadata": {},
     "output_type": "execute_result"
    }
   ],
   "source": [
    "train = train.groupby(['t_dat', 'customer_id'], as_index=False)['article_id'].agg(list)\n",
    "train"
   ]
  },
  {
   "cell_type": "code",
   "execution_count": 15,
   "id": "fdc9d479",
   "metadata": {
    "scrolled": true
   },
   "outputs": [
    {
     "data": {
      "text/plain": [
       "26455"
      ]
     },
     "execution_count": 15,
     "metadata": {},
     "output_type": "execute_result"
    }
   ],
   "source": [
    "m = defaultdict(int)\n",
    "for e in train['article_id'] :\n",
    "    l = []\n",
    "    for v in e :\n",
    "        l.append(v)\n",
    "    l.sort()\n",
    "    for i in range(len(l)) :\n",
    "        for j in range(i+1, len(l)) :\n",
    "            m[(l[i], l[j])]+=1\n",
    "            \n",
    "mm = defaultdict(list)\n",
    "for e in m :\n",
    "    mm[e[0]].append((m[e], e[1]))\n",
    "\n",
    "for e in mm :\n",
    "    mm[e].sort(reverse=True)\n",
    "    \n",
    "len(mm)"
   ]
  },
  {
   "cell_type": "code",
   "execution_count": 16,
   "id": "0622d2c6",
   "metadata": {
    "scrolled": false
   },
   "outputs": [
    {
     "name": "stderr",
     "output_type": "stream",
     "text": [
      "100%|██████████| 1371980/1371980 [00:30<00:00, 44633.46it/s]\n"
     ]
    },
    {
     "data": {
      "text/plain": [
       "['0779781015 0858856005 0762846031 0716670009 0851400020 0568601044 0762846027 0716672001 0912075007 0610776068 0921226002 0921226001',\n",
       " '',\n",
       " '0794321007 0794321011 0805000001 0805000007 0866610001 0805000008 0804992017 0794321008 0881111001 0923037003 0918292004 0918292001',\n",
       " '',\n",
       " '0809961007 0918292001 0791587018 0918292004 0868195004 0852584001 0894956006 0791587015 0905518001 0804992014 0912204001 0805000001',\n",
       " '',\n",
       " '0719530003 0760084003 0719530014 0788575004 0897730004 0901813001 0751471038 0751471001 0894780001 0797988002 0788575002 0883307004',\n",
       " '',\n",
       " '',\n",
       " '0673677023']"
      ]
     },
     "execution_count": 16,
     "metadata": {},
     "output_type": "execute_result"
    }
   ],
   "source": [
    "th = 5\n",
    "l = []\n",
    "for i in tqdm(range(len(sub))) :\n",
    "#     ci = sub['customer_id'][i]\n",
    "#     buy = []\n",
    "#     if ci in cust_buy :\n",
    "#         buy = cust_buy[ci].split(\" \")\n",
    "    lp = sub['last_purchase'][i].split(\" \")\n",
    "    t = defaultdict(int)\n",
    "    if len(lp) != 0 :\n",
    "        for e in lp :\n",
    "            if e == '' : break\n",
    "            j = int(e)\n",
    "            for v in mm[j][:24] :\n",
    "                if v[0] < th : break # スコアが１以下はスキップ\n",
    "                aid = \"0\" + str(v[1])\n",
    "#                 if aid in buy : continue\n",
    "                t[aid] += v[0]\n",
    "    t = list(t.items())\n",
    "    t = sorted(t, key=lambda x: x[0] in t)\n",
    "    t = [x[0] for x in t]\n",
    "    l.append(\" \".join(t[:12]))\n",
    "#     if i == 2: break\n",
    "l[:10]"
   ]
  },
  {
   "cell_type": "code",
   "execution_count": 17,
   "id": "80b20586",
   "metadata": {},
   "outputs": [
    {
     "data": {
      "text/html": [
       "<div>\n",
       "<style scoped>\n",
       "    .dataframe tbody tr th:only-of-type {\n",
       "        vertical-align: middle;\n",
       "    }\n",
       "\n",
       "    .dataframe tbody tr th {\n",
       "        vertical-align: top;\n",
       "    }\n",
       "\n",
       "    .dataframe thead th {\n",
       "        text-align: right;\n",
       "    }\n",
       "</style>\n",
       "<table border=\"1\" class=\"dataframe\">\n",
       "  <thead>\n",
       "    <tr style=\"text-align: right;\">\n",
       "      <th></th>\n",
       "      <th>customer_id</th>\n",
       "      <th>prediction</th>\n",
       "      <th>last_purchase</th>\n",
       "      <th>other_colors</th>\n",
       "      <th>trend_items</th>\n",
       "      <th>trend_items2</th>\n",
       "      <th>trend_ageatt</th>\n",
       "      <th>trend_woman</th>\n",
       "      <th>popular_items</th>\n",
       "      <th>uucf</th>\n",
       "      <th>buy_together</th>\n",
       "    </tr>\n",
       "  </thead>\n",
       "  <tbody>\n",
       "    <tr>\n",
       "      <th>0</th>\n",
       "      <td>00000dbacae5abe5e23885899a1fa44253a17956c6d1c3...</td>\n",
       "      <td>0706016001 0706016002 0372860001 0610776002 07...</td>\n",
       "      <td>0568601043</td>\n",
       "      <td>0568601006</td>\n",
       "      <td>0918890002 0919273002 0751471001 0894780001 09...</td>\n",
       "      <td>0919273002 0751471001 0894780001 0915529003 08...</td>\n",
       "      <td>0918890002 0884319002 0919273002 0762846006 07...</td>\n",
       "      <td>0918890002 0884319002 0919273002 0762846006 07...</td>\n",
       "      <td>0568601006</td>\n",
       "      <td></td>\n",
       "      <td>0779781015 0858856005 0762846031 0716670009 08...</td>\n",
       "    </tr>\n",
       "    <tr>\n",
       "      <th>1</th>\n",
       "      <td>0000423b00ade91418cceaf3b26c6af3dd342b51fd051e...</td>\n",
       "      <td>0706016001 0706016002 0372860001 0610776002 07...</td>\n",
       "      <td>0826211002</td>\n",
       "      <td></td>\n",
       "      <td>0448509014 0781613006 0751471001 0714790020 05...</td>\n",
       "      <td>0448509014 0751471001 0673677002 0714790020 08...</td>\n",
       "      <td>0448509014 0751471001 0863583001 0714790020 08...</td>\n",
       "      <td>0448509014 0751471001 0863583001 0714790020 08...</td>\n",
       "      <td>0673677002 0658298001</td>\n",
       "      <td></td>\n",
       "      <td></td>\n",
       "    </tr>\n",
       "    <tr>\n",
       "      <th>2</th>\n",
       "      <td>000058a12d5b43e67d225668fa1f8d618c13dc232df0ca...</td>\n",
       "      <td>0706016001 0706016002 0372860001 0610776002 07...</td>\n",
       "      <td>0794321007</td>\n",
       "      <td>0794321008</td>\n",
       "      <td>0762846027 0751471001 0714790020 0924243001 09...</td>\n",
       "      <td>0762846027 0751471001 0896169005 0714790020 09...</td>\n",
       "      <td>0762846027 0751471001 0896169005 0714790020 09...</td>\n",
       "      <td>0762846027 0751471001 0896169005 0714790020 09...</td>\n",
       "      <td></td>\n",
       "      <td></td>\n",
       "      <td>0794321007 0794321011 0805000001 0805000007 08...</td>\n",
       "    </tr>\n",
       "    <tr>\n",
       "      <th>3</th>\n",
       "      <td>00005ca1c9ed5f5146b52ac8639a40ca9d57aeff4d1bd2...</td>\n",
       "      <td>0706016001 0706016002 0372860001 0610776002 07...</td>\n",
       "      <td>0742079001 0732413001</td>\n",
       "      <td></td>\n",
       "      <td>0714790020 0929275001 0751471001 0895555001 05...</td>\n",
       "      <td>0861803009 0869331006 0914453002 0791587001 08...</td>\n",
       "      <td>0791587001 0902802005 0861803014 0805000001 08...</td>\n",
       "      <td></td>\n",
       "      <td></td>\n",
       "      <td></td>\n",
       "      <td></td>\n",
       "    </tr>\n",
       "    <tr>\n",
       "      <th>4</th>\n",
       "      <td>00006413d8573cd20ed7128e53b7b13819fe5cfc2d801f...</td>\n",
       "      <td>0706016001 0706016002 0372860001 0610776002 07...</td>\n",
       "      <td>0791587015 0927530004 0730683050 0896152002</td>\n",
       "      <td>0927530006 0730683062 0791587001 0896152001</td>\n",
       "      <td>0919273002 0918890002 0895555001 0928206001 09...</td>\n",
       "      <td>0919273002 0896169005 0928206001 0915529003 08...</td>\n",
       "      <td>0919273002 0918890002 0896169002 0896169005 09...</td>\n",
       "      <td>0919273002 0918890002 0896169002 0896169005 09...</td>\n",
       "      <td></td>\n",
       "      <td></td>\n",
       "      <td>0809961007 0918292001 0791587018 0918292004 08...</td>\n",
       "    </tr>\n",
       "  </tbody>\n",
       "</table>\n",
       "</div>"
      ],
      "text/plain": [
       "                                         customer_id  \\\n",
       "0  00000dbacae5abe5e23885899a1fa44253a17956c6d1c3...   \n",
       "1  0000423b00ade91418cceaf3b26c6af3dd342b51fd051e...   \n",
       "2  000058a12d5b43e67d225668fa1f8d618c13dc232df0ca...   \n",
       "3  00005ca1c9ed5f5146b52ac8639a40ca9d57aeff4d1bd2...   \n",
       "4  00006413d8573cd20ed7128e53b7b13819fe5cfc2d801f...   \n",
       "\n",
       "                                          prediction  \\\n",
       "0  0706016001 0706016002 0372860001 0610776002 07...   \n",
       "1  0706016001 0706016002 0372860001 0610776002 07...   \n",
       "2  0706016001 0706016002 0372860001 0610776002 07...   \n",
       "3  0706016001 0706016002 0372860001 0610776002 07...   \n",
       "4  0706016001 0706016002 0372860001 0610776002 07...   \n",
       "\n",
       "                                 last_purchase  \\\n",
       "0                                   0568601043   \n",
       "1                                   0826211002   \n",
       "2                                   0794321007   \n",
       "3                        0742079001 0732413001   \n",
       "4  0791587015 0927530004 0730683050 0896152002   \n",
       "\n",
       "                                  other_colors  \\\n",
       "0                                   0568601006   \n",
       "1                                                \n",
       "2                                   0794321008   \n",
       "3                                                \n",
       "4  0927530006 0730683062 0791587001 0896152001   \n",
       "\n",
       "                                         trend_items  \\\n",
       "0  0918890002 0919273002 0751471001 0894780001 09...   \n",
       "1  0448509014 0781613006 0751471001 0714790020 05...   \n",
       "2  0762846027 0751471001 0714790020 0924243001 09...   \n",
       "3  0714790020 0929275001 0751471001 0895555001 05...   \n",
       "4  0919273002 0918890002 0895555001 0928206001 09...   \n",
       "\n",
       "                                        trend_items2  \\\n",
       "0  0919273002 0751471001 0894780001 0915529003 08...   \n",
       "1  0448509014 0751471001 0673677002 0714790020 08...   \n",
       "2  0762846027 0751471001 0896169005 0714790020 09...   \n",
       "3  0861803009 0869331006 0914453002 0791587001 08...   \n",
       "4  0919273002 0896169005 0928206001 0915529003 08...   \n",
       "\n",
       "                                        trend_ageatt  \\\n",
       "0  0918890002 0884319002 0919273002 0762846006 07...   \n",
       "1  0448509014 0751471001 0863583001 0714790020 08...   \n",
       "2  0762846027 0751471001 0896169005 0714790020 09...   \n",
       "3  0791587001 0902802005 0861803014 0805000001 08...   \n",
       "4  0919273002 0918890002 0896169002 0896169005 09...   \n",
       "\n",
       "                                         trend_woman          popular_items  \\\n",
       "0  0918890002 0884319002 0919273002 0762846006 07...             0568601006   \n",
       "1  0448509014 0751471001 0863583001 0714790020 08...  0673677002 0658298001   \n",
       "2  0762846027 0751471001 0896169005 0714790020 09...                          \n",
       "3                                                                             \n",
       "4  0919273002 0918890002 0896169002 0896169005 09...                          \n",
       "\n",
       "  uucf                                       buy_together  \n",
       "0       0779781015 0858856005 0762846031 0716670009 08...  \n",
       "1                                                          \n",
       "2       0794321007 0794321011 0805000001 0805000007 08...  \n",
       "3                                                          \n",
       "4       0809961007 0918292001 0791587018 0918292004 08...  "
      ]
     },
     "execution_count": 17,
     "metadata": {},
     "output_type": "execute_result"
    }
   ],
   "source": [
    "sub['buy_together'] = l\n",
    "sub.head(5)"
   ]
  },
  {
   "cell_type": "code",
   "execution_count": null,
   "id": "b08691dc",
   "metadata": {},
   "outputs": [],
   "source": []
  },
  {
   "cell_type": "code",
   "execution_count": 18,
   "id": "c24206e7",
   "metadata": {},
   "outputs": [
    {
     "name": "stdout",
     "output_type": "stream",
     "text": [
      "Fill Rate =  44.6\n"
     ]
    }
   ],
   "source": [
    "predicted = sub['buy_together'].apply(lambda s: [] if pd.isna(s) else s.split())\n",
    "score = validation(actual, predicted, grouping, score, index='Buy Together', ignore=(val_week == 105))\n",
    "#0.014198 0.014810 0.015348 0.015676"
   ]
  },
  {
   "cell_type": "markdown",
   "id": "895be8f2",
   "metadata": {
    "papermill": {
     "duration": 0.024242,
     "end_time": "2022-04-23T02:54:27.993856",
     "exception": false,
     "start_time": "2022-04-23T02:54:27.969614",
     "status": "completed"
    },
    "tags": []
   },
   "source": [
    "### 人気商品 ：年齢層、オンライン／オフライン（４日前まで）グループは1,2,na<-1"
   ]
  },
  {
   "cell_type": "code",
   "execution_count": 13,
   "id": "0d404a3b",
   "metadata": {
    "execution": {
     "iopub.execute_input": "2022-04-23T02:54:28.101513Z",
     "iopub.status.busy": "2022-04-23T02:54:28.101197Z",
     "iopub.status.idle": "2022-04-23T02:54:28.790544Z",
     "shell.execute_reply": "2022-04-23T02:54:28.789961Z"
    },
    "papermill": {
     "duration": 0.717592,
     "end_time": "2022-04-23T02:54:28.792599",
     "exception": false,
     "start_time": "2022-04-23T02:54:28.075007",
     "status": "completed"
    },
    "tags": []
   },
   "outputs": [],
   "source": [
    "# cdf = pd.read_parquet('../input/handmitem2vec/customers.parquet')\n",
    "# cdf.fashion_news_frequency.unique()\n",
    "# cdf.head()"
   ]
  },
  {
   "cell_type": "code",
   "execution_count": 11,
   "id": "53277e00",
   "metadata": {
    "execution": {
     "iopub.execute_input": "2022-04-23T02:54:28.845758Z",
     "iopub.status.busy": "2022-04-23T02:54:28.845431Z",
     "iopub.status.idle": "2022-04-23T02:54:29.633355Z",
     "shell.execute_reply": "2022-04-23T02:54:29.632503Z"
    },
    "papermill": {
     "duration": 0.817427,
     "end_time": "2022-04-23T02:54:29.635547",
     "exception": false,
     "start_time": "2022-04-23T02:54:28.818120",
     "status": "completed"
    },
    "tags": []
   },
   "outputs": [
    {
     "data": {
      "text/plain": [
       "array(['(46.0, 51.0]', '(23.0, 25.0]', '(51.0, 57.0]', '(-1.001, 20.0]',\n",
       "       '(31.0, 38.0]', '(28.0, 31.0]', '(57.0, 99.0]', '(38.0, 46.0]',\n",
       "       '(25.0, 28.0]', '(20.0, 23.0]'], dtype=object)"
      ]
     },
     "execution_count": 11,
     "metadata": {},
     "output_type": "execute_result"
    }
   ],
   "source": [
    "cdf = pd.read_parquet('../input/handmitem2vec/customers.parquet')\n",
    "cdf = cdf[['customer_id','age','attribute']]\n",
    "#listBin = [-1, 19, 29, 39, 49, 59, 69, 119]\n",
    "listBin = [-1, 19, 34, 49, 119]\n",
    "#cdf['cust_feature'] = pd.cut(cdf['age'], listBin).astype(str).str.cat(cdf['attribute'].astype(str))\n",
    "#cdf['cust_feature'] = pd.qcut(cdf['age'], 10).astype(str).str.cat(cdf['attribute'].astype(str))\n",
    "#cdf['cust_feature'] = pd.cut(cdf['age'], listBin).astype(str)\n",
    "cdf['cust_feature'] = pd.qcut(cdf['age'], 10).astype(str)\n",
    "cdf = cdf.drop('age', axis=1)\n",
    "cdf = cdf.drop('attribute', axis=1)\n",
    "cdf['cust_feature'].unique()"
   ]
  },
  {
   "cell_type": "code",
   "execution_count": 12,
   "id": "4a08b60d",
   "metadata": {},
   "outputs": [],
   "source": [
    "# # 4日間の売れた商品リスト\n",
    "# init_date = last_date - dt.timedelta(days=4)\n",
    "# sold_set = set(df.loc[(df.t_dat >= init_date) & (df.t_dat <= last_date)].article_id.tolist())\n",
    "# len(sold_set)"
   ]
  },
  {
   "cell_type": "code",
   "execution_count": 13,
   "id": "ed913370",
   "metadata": {
    "execution": {
     "iopub.execute_input": "2022-04-23T02:54:29.691307Z",
     "iopub.status.busy": "2022-04-23T02:54:29.690924Z",
     "iopub.status.idle": "2022-04-23T02:54:41.819653Z",
     "shell.execute_reply": "2022-04-23T02:54:41.818775Z"
    },
    "papermill": {
     "duration": 12.159356,
     "end_time": "2022-04-23T02:54:41.822092",
     "exception": false,
     "start_time": "2022-04-23T02:54:29.662736",
     "status": "completed"
    },
    "tags": []
   },
   "outputs": [],
   "source": [
    "init_date = last_date - dt.timedelta(days=5 - 1)\n",
    "group_df = pd.concat([cid, group.group.fillna(1)], axis=1) # grouping can be changed\n",
    "group_df = group_df.merge(cdf, on='customer_id', how='right')\n",
    "group_df.columns = ['customer_id', 'group', 'cust_feature']\n",
    "group_df['cust_feature'] = group_df['group'].astype(str).str.cat(group_df['cust_feature'])\n",
    "train = df.loc[(df.t_dat >= init_date) & (df.t_dat <= last_date)].copy()\\\n",
    "    .merge(group_df, on='customer_id', how='left')\\\n",
    "    .groupby(['cust_feature', 'article_id']).t_dat.count().reset_index()\n",
    "\n",
    "items = defaultdict(str)\n",
    "for g in train.cust_feature.unique():\n",
    "#    items[g] = iter_to_str(train.loc[train.cust_feature == g].sort_values('t_dat', ascending=False).article_id.tolist()[:30])\n",
    "    items[g] = iter_to_str(train.loc[train.cust_feature == g].sort_values('t_dat', ascending=False).article_id.tolist()[:20])\n",
    "\n",
    "sub['trend_items'] = group_df.cust_feature.map(items)"
   ]
  },
  {
   "cell_type": "code",
   "execution_count": 15,
   "id": "6875588f",
   "metadata": {},
   "outputs": [
    {
     "name": "stderr",
     "output_type": "stream",
     "text": [
      "100%|██████████| 1371980/1371980 [05:05<00:00, 4487.70it/s]\n"
     ]
    }
   ],
   "source": [
    "if use_item2vec:\n",
    "    #normal = \"0706016001 0706016002 0372860001 0610776002 0759871002 0464297007 0372860002 0610776001 0399223001 0706016003 0720125001 0156231001\"\n",
    "    sub['trend_items'] = sort_item2vec('trend_items', max_n=12)"
   ]
  },
  {
   "cell_type": "code",
   "execution_count": 16,
   "id": "df0ec3a3",
   "metadata": {},
   "outputs": [],
   "source": [
    "# sub['trend_items'] = remove_item2vec('trend_items', max_n=12)"
   ]
  },
  {
   "cell_type": "code",
   "execution_count": 18,
   "id": "f50de39a",
   "metadata": {},
   "outputs": [
    {
     "name": "stdout",
     "output_type": "stream",
     "text": [
      "Fill Rate =  100.0\n"
     ]
    },
    {
     "data": {
      "text/html": [
       "<div>\n",
       "<style scoped>\n",
       "    .dataframe tbody tr th:only-of-type {\n",
       "        vertical-align: middle;\n",
       "    }\n",
       "\n",
       "    .dataframe tbody tr th {\n",
       "        vertical-align: top;\n",
       "    }\n",
       "\n",
       "    .dataframe thead th {\n",
       "        text-align: right;\n",
       "    }\n",
       "</style>\n",
       "<table border=\"1\" class=\"dataframe\">\n",
       "  <thead>\n",
       "    <tr style=\"text-align: right;\">\n",
       "      <th></th>\n",
       "      <th>1.0</th>\n",
       "      <th>2.0</th>\n",
       "      <th>All</th>\n",
       "      <th>Fill</th>\n",
       "    </tr>\n",
       "  </thead>\n",
       "  <tbody>\n",
       "    <tr>\n",
       "      <th>Trend Items</th>\n",
       "      <td>0.011111</td>\n",
       "      <td>0.010386</td>\n",
       "      <td>0.010625</td>\n",
       "      <td>100.0</td>\n",
       "    </tr>\n",
       "  </tbody>\n",
       "</table>\n",
       "</div>"
      ],
      "text/plain": [
       "                  1.0       2.0       All   Fill\n",
       "Trend Items  0.011111  0.010386  0.010625  100.0"
      ]
     },
     "metadata": {},
     "output_type": "display_data"
    },
    {
     "data": {
      "image/png": "[encoded data removed]",
      "text/plain": [
       "<Figure size 864x432 with 2 Axes>"
      ]
     },
     "metadata": {},
     "output_type": "display_data"
    }
   ],
   "source": [
    "predicted = sub['trend_items'].apply(lambda s: [] if pd.isna(s) else s.split())\n",
    "score = validation(actual, predicted, grouping, score, index='Trend Items', ignore=(val_week == 105))\n",
    "# Trend Items\t0.013180\t0.013154\t0.013163\t100.0"
   ]
  },
  {
   "cell_type": "markdown",
   "id": "d9ec7d69",
   "metadata": {},
   "source": [
    "### 人気商品 ：属性、~年齢層（大まかな）~、オンライン／オフライン（４日前まで）グループは1,2,na<-1"
   ]
  },
  {
   "cell_type": "code",
   "execution_count": 27,
   "id": "03a3bbc7",
   "metadata": {},
   "outputs": [
    {
     "data": {
      "text/plain": [
       "array(['Woman', 'Sports-person', 'Young', 'Have-kids', 'Man', 'None'],\n",
       "      dtype=object)"
      ]
     },
     "execution_count": 27,
     "metadata": {},
     "output_type": "execute_result"
    }
   ],
   "source": [
    "cdf = pd.read_parquet('../input/handmitem2vec/customers.parquet')\n",
    "cdf = cdf[['customer_id','age','attribute']]\n",
    "#listBin = [-1, 19, 29, 39, 49, 59, 69, 119]\n",
    "listBin = [-1, 19, 40, 119]\n",
    "#cdf['cust_feature'] = pd.cut(cdf['age'], listBin).astype(str).str.cat(cdf['attribute'].astype(str))\n",
    "cdf['cust_feature'] = cdf['attribute'].astype(str)\n",
    "cdf = cdf.drop('age', axis=1)\n",
    "cdf = cdf.drop('attribute', axis=1)\n",
    "cdf['cust_feature'].unique()"
   ]
  },
  {
   "cell_type": "code",
   "execution_count": 28,
   "id": "4b683df9",
   "metadata": {},
   "outputs": [],
   "source": [
    "# # 4日間の売れた商品リスト\n",
    "# init_date = last_date - dt.timedelta(days=4)\n",
    "# sold_set = set(df.loc[(df.t_dat >= init_date) & (df.t_dat <= last_date)].article_id.tolist())\n",
    "# len(sold_set)"
   ]
  },
  {
   "cell_type": "code",
   "execution_count": 29,
   "id": "b1dee42e",
   "metadata": {},
   "outputs": [],
   "source": [
    "init_date = last_date - dt.timedelta(days=5 - 1)\n",
    "group_df = pd.concat([cid, group.group.fillna(1)], axis=1) # grouping can be changed\n",
    "group_df = group_df.merge(cdf, on='customer_id', how='right')\n",
    "group_df.columns = ['customer_id', 'group', 'cust_feature']\n",
    "group_df['cust_feature'] = group_df['group'].astype(str).str.cat(group_df['cust_feature'])\n",
    "train = df.loc[(df.t_dat >= init_date) & (df.t_dat <= last_date)].copy()\\\n",
    "    .merge(group_df, on='customer_id', how='left')\\\n",
    "    .groupby(['cust_feature', 'article_id']).t_dat.count().reset_index()\n",
    "\n",
    "items = defaultdict(str)\n",
    "for g in train.cust_feature.unique():\n",
    "#    items[g] = iter_to_str(train.loc[train.cust_feature == g].sort_values('t_dat', ascending=False).article_id.tolist()[:30])\n",
    "    items[g] = iter_to_str(train.loc[train.cust_feature == g].sort_values('t_dat', ascending=False).article_id.tolist()[:20])\n",
    "\n",
    "sub['trend_items2'] = group_df.cust_feature.map(items)"
   ]
  },
  {
   "cell_type": "code",
   "execution_count": 30,
   "id": "2d0f67d6",
   "metadata": {},
   "outputs": [],
   "source": [
    "if use_item2vec:\n",
    "    sub['trend_items2'] = sort_item2vec('trend_items2', max_n=12)"
   ]
  },
  {
   "cell_type": "code",
   "execution_count": 20,
   "id": "1447dd00",
   "metadata": {},
   "outputs": [
    {
     "name": "stdout",
     "output_type": "stream",
     "text": [
      "Fill Rate =  99.3\n"
     ]
    },
    {
     "data": {
      "text/html": [
       "<div>\n",
       "<style scoped>\n",
       "    .dataframe tbody tr th:only-of-type {\n",
       "        vertical-align: middle;\n",
       "    }\n",
       "\n",
       "    .dataframe tbody tr th {\n",
       "        vertical-align: top;\n",
       "    }\n",
       "\n",
       "    .dataframe thead th {\n",
       "        text-align: right;\n",
       "    }\n",
       "</style>\n",
       "<table border=\"1\" class=\"dataframe\">\n",
       "  <thead>\n",
       "    <tr style=\"text-align: right;\">\n",
       "      <th></th>\n",
       "      <th>1.0</th>\n",
       "      <th>2.0</th>\n",
       "      <th>All</th>\n",
       "      <th>Fill</th>\n",
       "    </tr>\n",
       "  </thead>\n",
       "  <tbody>\n",
       "    <tr>\n",
       "      <th>Last Purchase</th>\n",
       "      <td>0.012807</td>\n",
       "      <td>0.024439</td>\n",
       "      <td>0.020594</td>\n",
       "      <td>28.7</td>\n",
       "    </tr>\n",
       "    <tr>\n",
       "      <th>Prediction</th>\n",
       "      <td>0.002488</td>\n",
       "      <td>0.002739</td>\n",
       "      <td>0.002656</td>\n",
       "      <td>100.0</td>\n",
       "    </tr>\n",
       "    <tr>\n",
       "      <th>Trend</th>\n",
       "      <td>0.016538</td>\n",
       "      <td>0.015541</td>\n",
       "      <td>0.015871</td>\n",
       "      <td>100.0</td>\n",
       "    </tr>\n",
       "    <tr>\n",
       "      <th>Trend Items</th>\n",
       "      <td>0.013180</td>\n",
       "      <td>0.013154</td>\n",
       "      <td>0.013163</td>\n",
       "      <td>100.0</td>\n",
       "    </tr>\n",
       "    <tr>\n",
       "      <th>Trend Items2</th>\n",
       "      <td>0.015666</td>\n",
       "      <td>0.014084</td>\n",
       "      <td>0.014607</td>\n",
       "      <td>99.3</td>\n",
       "    </tr>\n",
       "  </tbody>\n",
       "</table>\n",
       "</div>"
      ],
      "text/plain": [
       "                    1.0       2.0       All   Fill\n",
       "Last Purchase  0.012807  0.024439  0.020594   28.7\n",
       "Prediction     0.002488  0.002739  0.002656  100.0\n",
       "Trend          0.016538  0.015541  0.015871  100.0\n",
       "Trend Items    0.013180  0.013154  0.013163  100.0\n",
       "Trend Items2   0.015666  0.014084  0.014607   99.3"
      ]
     },
     "metadata": {},
     "output_type": "display_data"
    },
    {
     "data": {
      "image/png": "[encoded data removed]",
      "text/plain": [
       "<Figure size 864x432 with 2 Axes>"
      ]
     },
     "metadata": {},
     "output_type": "display_data"
    }
   ],
   "source": [
    "predicted = sub['trend_items2'].apply(lambda s: [] if pd.isna(s) else s.split())\n",
    "score = validation(actual, predicted, grouping, score, index='Trend Items2', ignore=(val_week == 105))"
   ]
  },
  {
   "cell_type": "markdown",
   "id": "3c607fe2",
   "metadata": {},
   "source": [
    "### 人気商品 ： Active（４日前まで）グループは1,2,na<-1"
   ]
  },
  {
   "cell_type": "code",
   "execution_count": 32,
   "id": "a19d7056",
   "metadata": {},
   "outputs": [],
   "source": [
    "# cdf = pd.read_parquet('../input/handmitem2vec/customers.parquet')\n",
    "# cdf = cdf[['customer_id','attribute','Active']]\n",
    "# cdf['cust_feature'] = cdf['attribute'].astype(str).str.cat(cdf['Active'].astype(str))\n",
    "# cdf = cdf.drop('attribute', axis=1)\n",
    "# cdf['cust_feature'].unique()"
   ]
  },
  {
   "cell_type": "code",
   "execution_count": 33,
   "id": "806b7dbd",
   "metadata": {},
   "outputs": [],
   "source": [
    "# # 4日間の売れた商品リスト\n",
    "# init_date = last_date - dt.timedelta(days=4)\n",
    "# sold_set = set(df.loc[(df.t_dat >= init_date) & (df.t_dat <= last_date)].article_id.tolist())\n",
    "# len(sold_set)"
   ]
  },
  {
   "cell_type": "code",
   "execution_count": 34,
   "id": "be1e8f90",
   "metadata": {},
   "outputs": [],
   "source": [
    "# init_date = last_date - dt.timedelta(days=5 - 1)\n",
    "# group_df = pd.concat([cid, group.group.fillna(1)], axis=1) # grouping can be changed\n",
    "# group_df = group_df.merge(cdf, on='customer_id', how='right')\n",
    "# group_df.columns = ['customer_id', 'group', 'Active', 'cust_feature']\n",
    "# group_df['cust_feature'] = group_df['group'].astype(str).str.cat(group_df['cust_feature'])\n",
    "\n",
    "# train = df.loc[(df.t_dat >= init_date) & (df.t_dat <= last_date)].copy()\\\n",
    "#     .merge(group_df, on='customer_id', how='left')\\\n",
    "#     .groupby(['cust_feature', 'article_id']).t_dat.count().reset_index()\n",
    "\n",
    "# items = defaultdict(str)\n",
    "# for g in train.cust_feature.unique():\n",
    "# #    items[g] = iter_to_str(train.loc[train.cust_feature == g].sort_values('t_dat', ascending=False).article_id.tolist()[:30])\n",
    "#     items[g] = iter_to_str(train.loc[train.cust_feature == g].sort_values('t_dat', ascending=False).article_id.tolist()[:20])\n",
    "\n",
    "# sub['trend_active'] = group_df.cust_feature.map(items)\n",
    "# sub['trend_active'] = sub['trend_active'].fillna(\"\")"
   ]
  },
  {
   "cell_type": "code",
   "execution_count": 35,
   "id": "ce1d0ec5",
   "metadata": {},
   "outputs": [
    {
     "data": {
      "text/plain": [
       "array(['(34, 49]Woman', '(19, 34]Woman', '(49, 119]Sports-person',\n",
       "       '(49, 119]Woman', nan, '(19, 34]Young', '(19, 34]Have-kids',\n",
       "       '(19, 34]Man', '(34, 49]Man', '(-1, 19]Woman', '(34, 49]Have-kids',\n",
       "       '(49, 119]Young', '(49, 119]Man', '(19, 34]None',\n",
       "       '(34, 49]Sports-person', '(49, 119]Have-kids', '(-1, 19]Young',\n",
       "       '(19, 34]Sports-person', '(34, 49]Young', '(-1, 19]Sports-person',\n",
       "       '(-1, 19]Man', '(34, 49]None', '(49, 119]None',\n",
       "       '(-1, 19]Have-kids', '(-1, 19]None'], dtype=object)"
      ]
     },
     "execution_count": 35,
     "metadata": {},
     "output_type": "execute_result"
    }
   ],
   "source": [
    "# cdf = pd.read_parquet('../input/handmitem2vec/customers.parquet')\n",
    "# cdf = cdf[cdf['Active'] == 1]\n",
    "# cdf = cdf[['customer_id','attribute']]\n",
    "# cdf.columns = ['customer_id', 'cust_feature']\n",
    "# cdf['cust_feature'].unique()\n",
    "\n",
    "cdf = pd.read_parquet('../input/handmitem2vec/customers.parquet')\n",
    "cdf = cdf[['customer_id','age','attribute','Active']]\n",
    "#listBin = [-1, 19, 29, 39, 49, 59, 69, 119]\n",
    "listBin = [-1, 19, 34, 49, 119]\n",
    "cdf['cust_feature'] = pd.cut(cdf['age'], listBin).astype(str).str.cat(cdf['attribute'].astype(str))#.str.cat(cdf['Active'].astype(str))\n",
    "#cdf['cust_feature'] = pd.qcut(cdf['age'], 10).astype(str).str.cat(cdf['attribute'].astype(str))\n",
    "#cdf['cust_feature'] = pd.cut(cdf['age'], listBin).astype(str)\n",
    "#cdf['cust_feature'] = pd.qcut(cdf['age'], 10).astype(str)\n",
    "cdf = cdf.drop('age', axis=1)\n",
    "cdf = cdf.drop('attribute', axis=1)\n",
    "cdf = cdf.drop('Active', axis=1)\n",
    "\n",
    "cdf['cust_feature'].unique()"
   ]
  },
  {
   "cell_type": "code",
   "execution_count": 36,
   "id": "89bd3703",
   "metadata": {},
   "outputs": [],
   "source": [
    "# # 4日間の売れた商品リスト\n",
    "# init_date = last_date - dt.timedelta(days=4)\n",
    "# sold_set = set(df.loc[(df.t_dat >= init_date) & (df.t_dat <= last_date)].article_id.tolist())\n",
    "# len(sold_set)"
   ]
  },
  {
   "cell_type": "code",
   "execution_count": 37,
   "id": "468f5327",
   "metadata": {},
   "outputs": [],
   "source": [
    "init_date = last_date - dt.timedelta(days=5 - 1)\n",
    "group_df = pd.concat([cid, group.group.fillna(1)], axis=1) # grouping can be changed\n",
    "group_df = group_df.merge(cdf, on='customer_id', how='left')\n",
    "group_df.columns = ['customer_id', 'group', 'cust_feature']\n",
    "group_df['cust_feature'] = group_df['group'].astype(str).str.cat(group_df['cust_feature'])\n",
    "\n",
    "train = df.loc[(df.t_dat >= init_date) & (df.t_dat <= last_date)].copy()\\\n",
    "    .merge(group_df, on='customer_id', how='left')\\\n",
    "    .groupby(['cust_feature', 'article_id']).t_dat.count().reset_index()\n",
    "\n",
    "items = defaultdict(str)\n",
    "for g in train.cust_feature.unique():\n",
    "    items[g] = iter_to_str(train.loc[train.cust_feature == g].sort_values('t_dat', ascending=False).article_id.tolist()[:20])\n",
    "\n",
    "sub['trend_ageatt'] = group_df.cust_feature.map(items)\n",
    "sub['trend_ageatt'] = sub['trend_ageatt'].fillna(\"\")"
   ]
  },
  {
   "cell_type": "code",
   "execution_count": 38,
   "id": "a3335844",
   "metadata": {},
   "outputs": [],
   "source": [
    "if use_item2vec:\n",
    "    sub['trend_ageatt'] = sort_item2vec('trend_ageatt', max_n=12)"
   ]
  },
  {
   "cell_type": "code",
   "execution_count": 21,
   "id": "fd33f555",
   "metadata": {},
   "outputs": [
    {
     "name": "stdout",
     "output_type": "stream",
     "text": [
      "Fill Rate =  98.1\n"
     ]
    },
    {
     "data": {
      "text/html": [
       "<div>\n",
       "<style scoped>\n",
       "    .dataframe tbody tr th:only-of-type {\n",
       "        vertical-align: middle;\n",
       "    }\n",
       "\n",
       "    .dataframe tbody tr th {\n",
       "        vertical-align: top;\n",
       "    }\n",
       "\n",
       "    .dataframe thead th {\n",
       "        text-align: right;\n",
       "    }\n",
       "</style>\n",
       "<table border=\"1\" class=\"dataframe\">\n",
       "  <thead>\n",
       "    <tr style=\"text-align: right;\">\n",
       "      <th></th>\n",
       "      <th>1.0</th>\n",
       "      <th>2.0</th>\n",
       "      <th>All</th>\n",
       "      <th>Fill</th>\n",
       "    </tr>\n",
       "  </thead>\n",
       "  <tbody>\n",
       "    <tr>\n",
       "      <th>Last Purchase</th>\n",
       "      <td>0.012807</td>\n",
       "      <td>0.024439</td>\n",
       "      <td>0.020594</td>\n",
       "      <td>28.7</td>\n",
       "    </tr>\n",
       "    <tr>\n",
       "      <th>Prediction</th>\n",
       "      <td>0.002488</td>\n",
       "      <td>0.002739</td>\n",
       "      <td>0.002656</td>\n",
       "      <td>100.0</td>\n",
       "    </tr>\n",
       "    <tr>\n",
       "      <th>Trend</th>\n",
       "      <td>0.016538</td>\n",
       "      <td>0.015541</td>\n",
       "      <td>0.015871</td>\n",
       "      <td>100.0</td>\n",
       "    </tr>\n",
       "    <tr>\n",
       "      <th>Trend Items</th>\n",
       "      <td>0.013180</td>\n",
       "      <td>0.013154</td>\n",
       "      <td>0.013163</td>\n",
       "      <td>100.0</td>\n",
       "    </tr>\n",
       "    <tr>\n",
       "      <th>Trend Items2</th>\n",
       "      <td>0.015666</td>\n",
       "      <td>0.014084</td>\n",
       "      <td>0.014607</td>\n",
       "      <td>99.3</td>\n",
       "    </tr>\n",
       "    <tr>\n",
       "      <th>Trend age+attr</th>\n",
       "      <td>0.015130</td>\n",
       "      <td>0.015277</td>\n",
       "      <td>0.015229</td>\n",
       "      <td>98.1</td>\n",
       "    </tr>\n",
       "  </tbody>\n",
       "</table>\n",
       "</div>"
      ],
      "text/plain": [
       "                     1.0       2.0       All   Fill\n",
       "Last Purchase   0.012807  0.024439  0.020594   28.7\n",
       "Prediction      0.002488  0.002739  0.002656  100.0\n",
       "Trend           0.016538  0.015541  0.015871  100.0\n",
       "Trend Items     0.013180  0.013154  0.013163  100.0\n",
       "Trend Items2    0.015666  0.014084  0.014607   99.3\n",
       "Trend age+attr  0.015130  0.015277  0.015229   98.1"
      ]
     },
     "metadata": {},
     "output_type": "display_data"
    },
    {
     "data": {
      "image/png": "[encoded data removed]",
      "text/plain": [
       "<Figure size 864x432 with 2 Axes>"
      ]
     },
     "metadata": {},
     "output_type": "display_data"
    }
   ],
   "source": [
    "predicted = sub['trend_ageatt'].apply(lambda s: [] if pd.isna(s) else s.split())\n",
    "score = validation(actual, predicted, grouping, score, index='Trend age+attr', ignore=(val_week == 105))"
   ]
  },
  {
   "cell_type": "markdown",
   "id": "2e707db7",
   "metadata": {},
   "source": [
    "### Woman "
   ]
  },
  {
   "cell_type": "code",
   "execution_count": 40,
   "id": "ab271055",
   "metadata": {},
   "outputs": [],
   "source": [
    "# cdf = pd.read_parquet('../input/handmitem2vec/customers.parquet')\n",
    "# #cdf = cdf[cdf['fashion_news_frequency'] >= 1]\n",
    "# cdf = cdf[cdf['attribute'] == 'Woman']\n",
    "# # cdf = cdf[cdf['Active'] == 1]\n",
    "# cdf"
   ]
  },
  {
   "cell_type": "code",
   "execution_count": 41,
   "id": "c5c564ee",
   "metadata": {},
   "outputs": [
    {
     "data": {
      "text/plain": [
       "array(['(34, 49]', '(19, 34]', '(49, 119]', '(-1, 19]', nan], dtype=object)"
      ]
     },
     "execution_count": 41,
     "metadata": {},
     "output_type": "execute_result"
    }
   ],
   "source": [
    "cdf = pd.read_parquet('../input/handmitem2vec/customers.parquet')\n",
    "#cdf = cdf[cdf['fashion_news_frequency'] >= 1]\n",
    "cdf = cdf[cdf['attribute'] == 'Woman']\n",
    "# cdf = cdf[cdf['Active'] == 1]\n",
    "cdf = cdf[['customer_id','age']]\n",
    "# cdf.columns = ['customer_id', 'cust_feature']\n",
    "# cdf['cust_feature'].unique()\n",
    "#listBin = [-1, 19, 29, 39, 49, 59, 69, 119]\n",
    "listBin = [-1, 19, 34, 49, 119]\n",
    "#cdf['cust_feature'] = pd.cut(cdf['age'], listBin).astype(str).str.cat(cdf['Active'].astype(str))\n",
    "#cdf['cust_feature'] = pd.qcut(cdf['age'], 10).astype(str).str.cat(cdf['attribute'].astype(str))\n",
    "cdf['cust_feature'] = pd.cut(cdf['age'], listBin).astype(str)\n",
    "#cdf['cust_feature'] = pd.qcut(cdf['age'], 10).astype(str)\n",
    "cdf = cdf.drop('age', axis=1)\n",
    "cdf['cust_feature'].unique()"
   ]
  },
  {
   "cell_type": "code",
   "execution_count": 42,
   "id": "021b80ee",
   "metadata": {},
   "outputs": [],
   "source": [
    "# # 4日間の売れた商品リスト\n",
    "# init_date = last_date - dt.timedelta(days=4)\n",
    "# sold_set = set(df.loc[(df.t_dat >= init_date) & (df.t_dat <= last_date)].article_id.tolist())\n",
    "# len(sold_set)"
   ]
  },
  {
   "cell_type": "code",
   "execution_count": 43,
   "id": "24c0fa50",
   "metadata": {},
   "outputs": [],
   "source": [
    "init_date = last_date - dt.timedelta(days=5 - 1)\n",
    "group_df = pd.concat([cid, group.group.fillna(1)], axis=1) # grouping can be changed\n",
    "group_df = group_df.merge(cdf, on='customer_id', how='left')\n",
    "group_df.columns = ['customer_id', 'group', 'cust_feature']\n",
    "group_df['cust_feature'] = group_df['group'].astype(str).str.cat(group_df['cust_feature'])\n",
    "\n",
    "train = df.loc[(df.t_dat >= init_date) & (df.t_dat <= last_date)].copy()\\\n",
    "    .merge(group_df, on='customer_id', how='left')\\\n",
    "    .groupby(['cust_feature', 'article_id']).t_dat.count().reset_index()\n",
    "\n",
    "items = defaultdict(str)\n",
    "for g in train.cust_feature.unique():\n",
    "    items[g] = iter_to_str(train.loc[train.cust_feature == g].sort_values('t_dat', ascending=False).article_id.tolist()[:20])\n",
    "\n",
    "sub['trend_woman'] = group_df.cust_feature.map(items)\n",
    "sub['trend_woman'] = sub['trend_woman'].fillna(\"\")"
   ]
  },
  {
   "cell_type": "code",
   "execution_count": null,
   "id": "6567dd5d",
   "metadata": {},
   "outputs": [],
   "source": []
  },
  {
   "cell_type": "code",
   "execution_count": 44,
   "id": "c530bda0",
   "metadata": {},
   "outputs": [],
   "source": [
    "if use_item2vec:\n",
    "    sub['trend_woman'] = sort_item2vec('trend_woman', max_n=12)"
   ]
  },
  {
   "cell_type": "code",
   "execution_count": 22,
   "id": "4c171bc8",
   "metadata": {},
   "outputs": [
    {
     "name": "stdout",
     "output_type": "stream",
     "text": [
      "Fill Rate =  74.8\n"
     ]
    },
    {
     "data": {
      "text/html": [
       "<div>\n",
       "<style scoped>\n",
       "    .dataframe tbody tr th:only-of-type {\n",
       "        vertical-align: middle;\n",
       "    }\n",
       "\n",
       "    .dataframe tbody tr th {\n",
       "        vertical-align: top;\n",
       "    }\n",
       "\n",
       "    .dataframe thead th {\n",
       "        text-align: right;\n",
       "    }\n",
       "</style>\n",
       "<table border=\"1\" class=\"dataframe\">\n",
       "  <thead>\n",
       "    <tr style=\"text-align: right;\">\n",
       "      <th></th>\n",
       "      <th>1.0</th>\n",
       "      <th>2.0</th>\n",
       "      <th>All</th>\n",
       "      <th>Fill</th>\n",
       "    </tr>\n",
       "  </thead>\n",
       "  <tbody>\n",
       "    <tr>\n",
       "      <th>Last Purchase</th>\n",
       "      <td>0.012807</td>\n",
       "      <td>0.024439</td>\n",
       "      <td>0.020594</td>\n",
       "      <td>28.7</td>\n",
       "    </tr>\n",
       "    <tr>\n",
       "      <th>Prediction</th>\n",
       "      <td>0.002488</td>\n",
       "      <td>0.002739</td>\n",
       "      <td>0.002656</td>\n",
       "      <td>100.0</td>\n",
       "    </tr>\n",
       "    <tr>\n",
       "      <th>Trend</th>\n",
       "      <td>0.016538</td>\n",
       "      <td>0.015541</td>\n",
       "      <td>0.015871</td>\n",
       "      <td>100.0</td>\n",
       "    </tr>\n",
       "    <tr>\n",
       "      <th>Trend Items</th>\n",
       "      <td>0.013180</td>\n",
       "      <td>0.013154</td>\n",
       "      <td>0.013163</td>\n",
       "      <td>100.0</td>\n",
       "    </tr>\n",
       "    <tr>\n",
       "      <th>Trend Items2</th>\n",
       "      <td>0.015666</td>\n",
       "      <td>0.014084</td>\n",
       "      <td>0.014607</td>\n",
       "      <td>99.3</td>\n",
       "    </tr>\n",
       "    <tr>\n",
       "      <th>Trend age+attr</th>\n",
       "      <td>0.015130</td>\n",
       "      <td>0.015277</td>\n",
       "      <td>0.015229</td>\n",
       "      <td>98.1</td>\n",
       "    </tr>\n",
       "    <tr>\n",
       "      <th>Trend Woman</th>\n",
       "      <td>0.013489</td>\n",
       "      <td>0.012324</td>\n",
       "      <td>0.012709</td>\n",
       "      <td>74.8</td>\n",
       "    </tr>\n",
       "  </tbody>\n",
       "</table>\n",
       "</div>"
      ],
      "text/plain": [
       "                     1.0       2.0       All   Fill\n",
       "Last Purchase   0.012807  0.024439  0.020594   28.7\n",
       "Prediction      0.002488  0.002739  0.002656  100.0\n",
       "Trend           0.016538  0.015541  0.015871  100.0\n",
       "Trend Items     0.013180  0.013154  0.013163  100.0\n",
       "Trend Items2    0.015666  0.014084  0.014607   99.3\n",
       "Trend age+attr  0.015130  0.015277  0.015229   98.1\n",
       "Trend Woman     0.013489  0.012324  0.012709   74.8"
      ]
     },
     "metadata": {},
     "output_type": "display_data"
    },
    {
     "data": {
      "image/png": "[encoded data removed]",
      "text/plain": [
       "<Figure size 864x432 with 2 Axes>"
      ]
     },
     "metadata": {},
     "output_type": "display_data"
    }
   ],
   "source": [
    "predicted = sub['trend_woman'].apply(lambda s: [] if pd.isna(s) else s.split())\n",
    "score = validation(actual, predicted, grouping, score, index='Trend Woman', ignore=(val_week == 105))"
   ]
  },
  {
   "cell_type": "markdown",
   "id": "6fbb4633",
   "metadata": {},
   "source": [
    "### item2vecだけでの予測"
   ]
  },
  {
   "cell_type": "code",
   "execution_count": 46,
   "id": "9fd72693",
   "metadata": {},
   "outputs": [],
   "source": [
    "# # 11日間の売れた商品リスト\n",
    "# init_date = last_date - dt.timedelta(days=11)\n",
    "# sold_set = set(df.loc[(df.t_dat >= init_date) & (df.t_dat <= last_date)].article_id.tolist())"
   ]
  },
  {
   "cell_type": "code",
   "execution_count": 47,
   "id": "dfd001b4",
   "metadata": {},
   "outputs": [],
   "source": [
    "# l = []\n",
    "# for i in tqdm(range(len(sub))) :\n",
    "#     cid = sub.iloc[i]['customer_id']\n",
    "#     if cid not in cust_buy :\n",
    "#         l.append(\"\")\n",
    "#         continue\n",
    "#     item = cust_buy[cid].split(\" \")\n",
    "#     r = model.wv.most_similar(item, topn=20)\n",
    "#     t = []\n",
    "#     for x, p in r :\n",
    "#         if int(x) in sold_set :\n",
    "#             t.append(x)\n",
    "#     l.append(\" \".join(t[:12]))\n",
    "# #     if i == 10 : break\n",
    "\n",
    "# sub['item2vec'] = l"
   ]
  },
  {
   "cell_type": "code",
   "execution_count": 48,
   "id": "86bde9a6",
   "metadata": {},
   "outputs": [],
   "source": [
    "# predicted = sub['item2vec'].apply(lambda s: [] if pd.isna(s) else s.split())\n",
    "# score = validation(actual, predicted, grouping, score, index='item2vec', ignore=(val_week == 105))"
   ]
  },
  {
   "cell_type": "code",
   "execution_count": null,
   "id": "d9bf2616",
   "metadata": {},
   "outputs": [],
   "source": []
  },
  {
   "cell_type": "code",
   "execution_count": 49,
   "id": "44aab177",
   "metadata": {
    "scrolled": false
   },
   "outputs": [],
   "source": [
    "# cnt = 0\n",
    "# for i in range(len(actual)) :\n",
    "    \n",
    "#     if len(actual[i]) != 0 :\n",
    "#         cid = sub['customer_id'][i]\n",
    "# #         print(i, cid)\n",
    "# #         print(actual[i])\n",
    "#         if cid not in cust_buy : continue\n",
    "#         item = cust_buy[cid].split(\" \")\n",
    "# #         print(item[-1])\n",
    "#         r = model.wv.most_similar(item, topn=12)\n",
    "#         t = []\n",
    "#         for x, p in r :\n",
    "#             if x in actual[i] :\n",
    "#                 print(\"HIT\", i, x)\n",
    "#                 cnt+=1\n",
    "#             if int(x) in sold_set :\n",
    "#                 t.append(x)\n",
    "# #         print(r, t)\n",
    "# #         print(t)\n",
    "# #         cnt+=1\n",
    "# #         print(\"-\"*40)\n",
    "        \n",
    "#     if i == 100000: break\n",
    "# cnt/100000"
   ]
  },
  {
   "cell_type": "code",
   "execution_count": null,
   "id": "3db0789e",
   "metadata": {},
   "outputs": [],
   "source": []
  },
  {
   "cell_type": "code",
   "execution_count": null,
   "id": "d8222eb2",
   "metadata": {
    "execution": {
     "iopub.execute_input": "2022-04-23T02:54:41.875288Z",
     "iopub.status.busy": "2022-04-23T02:54:41.874521Z",
     "iopub.status.idle": "2022-04-23T02:54:41.880672Z",
     "shell.execute_reply": "2022-04-23T02:54:41.880035Z"
    },
    "papermill": {
     "duration": 0.035409,
     "end_time": "2022-04-23T02:54:41.883257",
     "exception": false,
     "start_time": "2022-04-23T02:54:41.847848",
     "status": "completed"
    },
    "scrolled": false,
    "tags": []
   },
   "outputs": [],
   "source": []
  },
  {
   "cell_type": "markdown",
   "id": "547a8bc7",
   "metadata": {},
   "source": [
    "## kangol"
   ]
  },
  {
   "cell_type": "code",
   "execution_count": 50,
   "id": "7577a1df",
   "metadata": {},
   "outputs": [],
   "source": [
    "# articles_df = pd.read_csv(\"../input/h-and-m-personalized-fashion-recommendations/articles.csv\",dtype=str, encoding='utf8')"
   ]
  },
  {
   "cell_type": "code",
   "execution_count": 51,
   "id": "f174a9b8",
   "metadata": {
    "scrolled": true
   },
   "outputs": [],
   "source": [
    "# xHM = []\n",
    "# for i, e in enumerate(articles_df['detail_desc'].fillna(\"\")) :\n",
    "#     if 'Kangol x H&M' in e:\n",
    "#         print(articles_df.iloc[i]['article_id'], e)\n",
    "#         xHM.append(articles_df.iloc[i]['article_id'])\n",
    "# #     elif 'Whooli Chen x H&M' in e :\n",
    "# #         print(articles_df.iloc[i]['article_id'], e)\n",
    "# #         xHM.append(articles_df.iloc[i]['article_id'])\n",
    "        \n",
    "# xHM\n"
   ]
  },
  {
   "cell_type": "code",
   "execution_count": 52,
   "id": "5b8d21d5",
   "metadata": {},
   "outputs": [],
   "source": [
    "# ll = \" \".join(xHM[-12:])\n",
    "# sub['kangol'] = [ll for _ in range(len(sub))]"
   ]
  },
  {
   "cell_type": "code",
   "execution_count": 53,
   "id": "ef160133",
   "metadata": {},
   "outputs": [],
   "source": [
    "# sub['kangol'] = sort_item2vec('kangol', max_n=12)"
   ]
  },
  {
   "cell_type": "code",
   "execution_count": 54,
   "id": "a09dfe41",
   "metadata": {},
   "outputs": [],
   "source": [
    "# predicted = sub['kangol'].apply(lambda s: [] if pd.isna(s) else s.split())\n",
    "# score = validation(actual, predicted, grouping, score, index='kangol', ignore=(val_week == 105))"
   ]
  },
  {
   "cell_type": "code",
   "execution_count": 55,
   "id": "03708013",
   "metadata": {},
   "outputs": [],
   "source": [
    "#sub.head()"
   ]
  },
  {
   "cell_type": "markdown",
   "id": "7848d8ef",
   "metadata": {},
   "source": [
    "## 数年間定番アイテム"
   ]
  },
  {
   "cell_type": "code",
   "execution_count": 56,
   "id": "ef06fb32",
   "metadata": {},
   "outputs": [
    {
     "name": "stdout",
     "output_type": "stream",
     "text": [
      "48399\n",
      "2018-09-20 00:00:00 2018-09-20 23:59:00 48399 11542\n",
      "2018-09-21 00:00:00 2018-09-21 23:59:00 47543 7812\n",
      "2018-09-22 00:00:00 2018-09-22 23:59:00 17635 4457\n",
      "2018-09-23 00:00:00 2018-09-23 23:59:00 52230 3910\n",
      "2018-09-24 00:00:00 2018-09-24 23:59:00 45984 3556\n",
      "2018-09-25 00:00:00 2018-09-25 23:59:00 43857 3272\n",
      "2018-09-26 00:00:00 2018-09-26 23:59:00 48224 3121\n",
      "2018-09-27 00:00:00 2018-09-27 23:59:00 44261 2970\n",
      "2018-09-28 00:00:00 2018-09-28 23:59:00 66900 2898\n",
      "2018-09-29 00:00:00 2018-09-29 23:59:00 141700 2857\n",
      "2018-09-30 00:00:00 2018-09-30 23:59:00 38043 2590\n",
      "2019-09-15 00:00:00 2019-09-15 23:59:00 31112 499\n",
      "2019-09-16 00:00:00 2019-09-16 23:59:00 33716 356\n",
      "2019-09-17 00:00:00 2019-09-17 23:59:00 37008 312\n",
      "2019-09-18 00:00:00 2019-09-18 23:59:00 39063 290\n",
      "2019-09-19 00:00:00 2019-09-19 23:59:00 36491 275\n",
      "2019-09-20 00:00:00 2019-09-20 23:59:00 31508 257\n",
      "2019-09-21 00:00:00 2019-09-21 23:59:00 20542 234\n",
      "2019-09-22 00:00:00 2019-09-22 23:59:00 33950 220\n",
      "2019-09-23 00:00:00 2019-09-23 23:59:00 34076 213\n",
      "2019-09-24 00:00:00 2019-09-24 23:59:00 36702 210\n",
      "2019-09-25 00:00:00 2019-09-25 23:59:00 41256 209\n",
      "2019-09-26 00:00:00 2019-09-26 23:59:00 37128 202\n",
      "2019-09-27 00:00:00 2019-09-27 23:59:00 35597 201\n",
      "2019-09-28 00:00:00 2019-09-28 23:59:00 198622 201\n",
      "2019-09-29 00:00:00 2019-09-29 23:59:00 40043 196\n",
      "2020-09-15 00:00:00 2020-09-15 23:59:00 26053 99\n",
      "2020-09-16 00:00:00 2020-09-16 23:59:00 27028 84\n",
      "2020-09-17 00:00:00 2020-09-17 23:59:00 40718 79\n",
      "2020-09-18 00:00:00 2020-09-18 23:59:00 39284 77\n",
      "2020-09-19 00:00:00 2020-09-19 23:59:00 36796 76\n",
      "2020-09-20 00:00:00 2020-09-20 23:59:00 31489 72\n",
      "2020-09-21 00:00:00 2020-09-21 23:59:00 32130 71\n",
      "2020-09-22 00:00:00 2020-09-22 23:59:00 32866 70\n"
     ]
    }
   ],
   "source": [
    "# dayly sale\n",
    "\n",
    "# 2018\n",
    "day = 20\n",
    "start = dt.datetime(2018,9,day,0,0)\n",
    "end = dt.datetime(2018,9,day,23,59)\n",
    "x = df.loc[(df.t_dat >= start) & (df.t_dat <= end)].article_id.tolist()\n",
    "\n",
    "popular = set(x)\n",
    "print(len(x))\n",
    "\n",
    "for day in range(20, 31, 1) :\n",
    "    start = dt.datetime(2018,9,day,0,0)\n",
    "    end = dt.datetime(2018,9,day,23,59)\n",
    "    x = df.loc[(df.t_dat >= start) & (df.t_dat <= end)].article_id.tolist()\n",
    "    popular &= set(x)\n",
    "    print(start, end, len(x), len(popular))\n",
    "\n",
    "# 2019\n",
    "for day in range(15, 30, 1) :\n",
    "    start = dt.datetime(2019,9,day,0,0)\n",
    "    end = dt.datetime(2019,9,day,23,59)\n",
    "    x = df.loc[(df.t_dat >= start) & (df.t_dat <= end)].article_id.tolist()\n",
    "    popular &= set(x)\n",
    "    print(start, end, len(x), len(popular))\n",
    "\n",
    "# 2020\n",
    "for day in range(15, 23, 1) :\n",
    "    start = dt.datetime(2020,9,day,0,0)\n",
    "    end = dt.datetime(2020,9,day,23,59)\n",
    "    x = df.loc[(df.t_dat >= start) & (df.t_dat <= end)].article_id.tolist()\n",
    "    popular &= set(x)\n",
    "    print(start, end, len(x), len(popular))\n",
    "\n"
   ]
  },
  {
   "cell_type": "code",
   "execution_count": 57,
   "id": "51f30936",
   "metadata": {
    "scrolled": false
   },
   "outputs": [
    {
     "name": "stderr",
     "output_type": "stream",
     "text": [
      "100%|██████████| 1371980/1371980 [00:11<00:00, 117292.63it/s]\n"
     ]
    }
   ],
   "source": [
    "from tqdm import tqdm\n",
    "from collections import defaultdict\n",
    "\n",
    "l = []\n",
    "for i in tqdm(range(len(sub))):\n",
    "    c_id = sub['customer_id'][i]\n",
    "    if c_id not in cust_buy :\n",
    "        l.append(\"\")\n",
    "        continue\n",
    "        \n",
    "    t = defaultdict(int)\n",
    "    li = cust_buy[c_id].split(\" \")\n",
    "    #li.reverse()\n",
    "#     print(cid, li)\n",
    "    for e in li:\n",
    "        if int(e) in popular :\n",
    "            t[e] += 1\n",
    "#     if len(t) != 0 : print(cid, t)\n",
    "#     print(t)\n",
    "    ti = []\n",
    "    for e in t :\n",
    "        ti.append([t[e],e])\n",
    "    ti.sort(reverse=True)\n",
    "    ti = list(map(lambda x: x[1], ti)) \n",
    "    l.append(\" \".join(ti))\n",
    "#     if i == 100: break\n",
    "sub['popular_items'] = l "
   ]
  },
  {
   "cell_type": "code",
   "execution_count": 58,
   "id": "5fe74f69",
   "metadata": {},
   "outputs": [
    {
     "name": "stdout",
     "output_type": "stream",
     "text": [
      "Fill Rate =  3.4000000000000004\n"
     ]
    },
    {
     "data": {
      "text/html": [
       "<div>\n",
       "<style scoped>\n",
       "    .dataframe tbody tr th:only-of-type {\n",
       "        vertical-align: middle;\n",
       "    }\n",
       "\n",
       "    .dataframe tbody tr th {\n",
       "        vertical-align: top;\n",
       "    }\n",
       "\n",
       "    .dataframe thead th {\n",
       "        text-align: right;\n",
       "    }\n",
       "</style>\n",
       "<table border=\"1\" class=\"dataframe\">\n",
       "  <thead>\n",
       "    <tr style=\"text-align: right;\">\n",
       "      <th></th>\n",
       "      <th>1.0</th>\n",
       "      <th>2.0</th>\n",
       "      <th>All</th>\n",
       "      <th>Fill</th>\n",
       "    </tr>\n",
       "  </thead>\n",
       "  <tbody>\n",
       "    <tr>\n",
       "      <th>Last Purchase</th>\n",
       "      <td>0.012807</td>\n",
       "      <td>0.024439</td>\n",
       "      <td>0.020594</td>\n",
       "      <td>28.7</td>\n",
       "    </tr>\n",
       "    <tr>\n",
       "      <th>Other Colors</th>\n",
       "      <td>0.005881</td>\n",
       "      <td>0.008720</td>\n",
       "      <td>0.007781</td>\n",
       "      <td>14.8</td>\n",
       "    </tr>\n",
       "    <tr>\n",
       "      <th>Trend Items</th>\n",
       "      <td>0.010388</td>\n",
       "      <td>0.009330</td>\n",
       "      <td>0.009679</td>\n",
       "      <td>100.0</td>\n",
       "    </tr>\n",
       "    <tr>\n",
       "      <th>Trend Items2</th>\n",
       "      <td>0.010851</td>\n",
       "      <td>0.011156</td>\n",
       "      <td>0.011055</td>\n",
       "      <td>99.3</td>\n",
       "    </tr>\n",
       "    <tr>\n",
       "      <th>Trend age+attr</th>\n",
       "      <td>0.011482</td>\n",
       "      <td>0.010881</td>\n",
       "      <td>0.011080</td>\n",
       "      <td>98.1</td>\n",
       "    </tr>\n",
       "    <tr>\n",
       "      <th>Trend Woman</th>\n",
       "      <td>0.010283</td>\n",
       "      <td>0.008410</td>\n",
       "      <td>0.009029</td>\n",
       "      <td>74.8</td>\n",
       "    </tr>\n",
       "    <tr>\n",
       "      <th>Popular Items</th>\n",
       "      <td>0.003576</td>\n",
       "      <td>0.002567</td>\n",
       "      <td>0.002901</td>\n",
       "      <td>3.4</td>\n",
       "    </tr>\n",
       "  </tbody>\n",
       "</table>\n",
       "</div>"
      ],
      "text/plain": [
       "                     1.0       2.0       All   Fill\n",
       "Last Purchase   0.012807  0.024439  0.020594   28.7\n",
       "Other Colors    0.005881  0.008720  0.007781   14.8\n",
       "Trend Items     0.010388  0.009330  0.009679  100.0\n",
       "Trend Items2    0.010851  0.011156  0.011055   99.3\n",
       "Trend age+attr  0.011482  0.010881  0.011080   98.1\n",
       "Trend Woman     0.010283  0.008410  0.009029   74.8\n",
       "Popular Items   0.003576  0.002567  0.002901    3.4"
      ]
     },
     "metadata": {},
     "output_type": "display_data"
    },
    {
     "data": {
      "image/png": "[encoded data removed]",
      "text/plain": [
       "<Figure size 864x432 with 2 Axes>"
      ]
     },
     "metadata": {},
     "output_type": "display_data"
    }
   ],
   "source": [
    "predicted = sub['popular_items'].apply(lambda s: [] if pd.isna(s) else s.split())\n",
    "#score = validation(actual, predicted, grouping, index='anytime popular', ignore=(val_week == 105))\n",
    "score = validation(actual, predicted, grouping, score, index='Popular Items', ignore=(val_week == 105))\n",
    "#Popular Items\t0.003576\t0.002567\t0.002901\t3.4"
   ]
  },
  {
   "cell_type": "markdown",
   "id": "6d5244f5",
   "metadata": {},
   "source": [
    "## ★嗜好の似たカスタマーが購入したもの"
   ]
  },
  {
   "cell_type": "code",
   "execution_count": 19,
   "id": "83fea44e",
   "metadata": {},
   "outputs": [
    {
     "data": {
      "text/html": [
       "<div>\n",
       "<style scoped>\n",
       "    .dataframe tbody tr th:only-of-type {\n",
       "        vertical-align: middle;\n",
       "    }\n",
       "\n",
       "    .dataframe tbody tr th {\n",
       "        vertical-align: top;\n",
       "    }\n",
       "\n",
       "    .dataframe thead th {\n",
       "        text-align: right;\n",
       "    }\n",
       "</style>\n",
       "<table border=\"1\" class=\"dataframe\">\n",
       "  <thead>\n",
       "    <tr style=\"text-align: right;\">\n",
       "      <th></th>\n",
       "      <th>customer_id</th>\n",
       "      <th>prediction</th>\n",
       "    </tr>\n",
       "  </thead>\n",
       "  <tbody>\n",
       "    <tr>\n",
       "      <th>0</th>\n",
       "      <td>00000dbacae5abe5e23885899a1fa44253a17956c6d1c3...</td>\n",
       "      <td>0706016001 0706016002 0372860001 0610776002 07...</td>\n",
       "    </tr>\n",
       "    <tr>\n",
       "      <th>1</th>\n",
       "      <td>0000423b00ade91418cceaf3b26c6af3dd342b51fd051e...</td>\n",
       "      <td>0706016001 0706016002 0372860001 0610776002 07...</td>\n",
       "    </tr>\n",
       "    <tr>\n",
       "      <th>2</th>\n",
       "      <td>000058a12d5b43e67d225668fa1f8d618c13dc232df0ca...</td>\n",
       "      <td>0706016001 0706016002 0372860001 0610776002 07...</td>\n",
       "    </tr>\n",
       "    <tr>\n",
       "      <th>3</th>\n",
       "      <td>00005ca1c9ed5f5146b52ac8639a40ca9d57aeff4d1bd2...</td>\n",
       "      <td>0706016001 0706016002 0372860001 0610776002 07...</td>\n",
       "    </tr>\n",
       "    <tr>\n",
       "      <th>4</th>\n",
       "      <td>00006413d8573cd20ed7128e53b7b13819fe5cfc2d801f...</td>\n",
       "      <td>0706016001 0706016002 0372860001 0610776002 07...</td>\n",
       "    </tr>\n",
       "    <tr>\n",
       "      <th>5</th>\n",
       "      <td>000064249685c11552da43ef22a5030f35a147f723d5b0...</td>\n",
       "      <td>0706016001 0706016002 0372860001 0610776002 07...</td>\n",
       "    </tr>\n",
       "    <tr>\n",
       "      <th>6</th>\n",
       "      <td>0000757967448a6cb83efb3ea7a3fb9d418ac7adf2379d...</td>\n",
       "      <td>['0448509014', '0719530003', '0448509001', '07...</td>\n",
       "    </tr>\n",
       "    <tr>\n",
       "      <th>7</th>\n",
       "      <td>00007d2de826758b65a93dd24ce629ed66842531df6699...</td>\n",
       "      <td>0706016001 0706016002 0372860001 0610776002 07...</td>\n",
       "    </tr>\n",
       "    <tr>\n",
       "      <th>8</th>\n",
       "      <td>00007e8d4e54114b5b2a9b51586325a8d0fa74ea23ef77...</td>\n",
       "      <td>0706016001 0706016002 0372860001 0610776002 07...</td>\n",
       "    </tr>\n",
       "    <tr>\n",
       "      <th>9</th>\n",
       "      <td>00008469a21b50b3d147c97135e25b4201a8c58997f787...</td>\n",
       "      <td>0706016001 0706016002 0372860001 0610776002 07...</td>\n",
       "    </tr>\n",
       "  </tbody>\n",
       "</table>\n",
       "</div>"
      ],
      "text/plain": [
       "                                         customer_id  \\\n",
       "0  00000dbacae5abe5e23885899a1fa44253a17956c6d1c3...   \n",
       "1  0000423b00ade91418cceaf3b26c6af3dd342b51fd051e...   \n",
       "2  000058a12d5b43e67d225668fa1f8d618c13dc232df0ca...   \n",
       "3  00005ca1c9ed5f5146b52ac8639a40ca9d57aeff4d1bd2...   \n",
       "4  00006413d8573cd20ed7128e53b7b13819fe5cfc2d801f...   \n",
       "5  000064249685c11552da43ef22a5030f35a147f723d5b0...   \n",
       "6  0000757967448a6cb83efb3ea7a3fb9d418ac7adf2379d...   \n",
       "7  00007d2de826758b65a93dd24ce629ed66842531df6699...   \n",
       "8  00007e8d4e54114b5b2a9b51586325a8d0fa74ea23ef77...   \n",
       "9  00008469a21b50b3d147c97135e25b4201a8c58997f787...   \n",
       "\n",
       "                                          prediction  \n",
       "0  0706016001 0706016002 0372860001 0610776002 07...  \n",
       "1  0706016001 0706016002 0372860001 0610776002 07...  \n",
       "2  0706016001 0706016002 0372860001 0610776002 07...  \n",
       "3  0706016001 0706016002 0372860001 0610776002 07...  \n",
       "4  0706016001 0706016002 0372860001 0610776002 07...  \n",
       "5  0706016001 0706016002 0372860001 0610776002 07...  \n",
       "6  ['0448509014', '0719530003', '0448509001', '07...  \n",
       "7  0706016001 0706016002 0372860001 0610776002 07...  \n",
       "8  0706016001 0706016002 0372860001 0610776002 07...  \n",
       "9  0706016001 0706016002 0372860001 0610776002 07...  "
      ]
     },
     "execution_count": 19,
     "metadata": {},
     "output_type": "execute_result"
    }
   ],
   "source": [
    "if val_week == 105 :\n",
    "    uucf = pd.read_csv('../input/uucf-2-0814.csv')\n",
    "else :\n",
    "    print(\"104\")\n",
    "#    uucf = pd.read_csv('../input/uucf104.csv')\n",
    "    uucf = pd.read_csv('../input/uucf104-2-0814.csv')\n",
    "\n",
    "uucf.head(10)"
   ]
  },
  {
   "cell_type": "code",
   "execution_count": 20,
   "id": "2a2f3c11",
   "metadata": {},
   "outputs": [
    {
     "name": "stderr",
     "output_type": "stream",
     "text": [
      "100%|██████████| 1371980/1371980 [00:06<00:00, 223574.04it/s]\n"
     ]
    }
   ],
   "source": [
    "l = []\n",
    "for i in tqdm(range(len(uucf))) :\n",
    "    s = uucf['prediction'][i]\n",
    "    if s[0] == '[' :\n",
    "        s = \" \".join(eval(s))\n",
    "    else : s = \"\"\n",
    "    l.append(s)\n",
    "sub['uucf'] = l\n",
    "del uucf"
   ]
  },
  {
   "cell_type": "code",
   "execution_count": 21,
   "id": "91e9357f",
   "metadata": {},
   "outputs": [
    {
     "name": "stdout",
     "output_type": "stream",
     "text": [
      "Fill Rate =  16.0\n"
     ]
    }
   ],
   "source": [
    "predicted = sub['uucf'].apply(lambda s: [] if pd.isna(s) else s.split())\n",
    "score = validation(actual, predicted, grouping, score, index='uucf Items', ignore=(val_week == 105))\n",
    "# 8352 9737 8653\n",
    "# 0.011568"
   ]
  },
  {
   "cell_type": "markdown",
   "id": "b6c153da",
   "metadata": {},
   "source": [
    "## ★another uucf"
   ]
  },
  {
   "cell_type": "code",
   "execution_count": 22,
   "id": "4de0ab33",
   "metadata": {},
   "outputs": [],
   "source": [
    "from collections import defaultdict\n",
    "\n",
    "def remove_(in_df, num = 10000) :\n",
    "    m = defaultdict(int)\n",
    "    target, tmax = \"\", 0\n",
    "    for i in tqdm(range(len(in_df))) :\n",
    "        p = in_df['prediction'][i]\n",
    "        m[p] += 1\n",
    "        if m[p] > tmax :\n",
    "            tmax = m[p]\n",
    "            target = p\n",
    "\n",
    "    l = []\n",
    "    skip = 0\n",
    "    for i in tqdm(range(len(in_df))) :\n",
    "        p = in_df['prediction'][i]\n",
    "        if m[p] >= num:\n",
    "            l.append(\"\")\n",
    "            skip += 1\n",
    "        else :\n",
    "            l.append(p)\n",
    "    print(\"skip = \", skip)\n",
    "    return l"
   ]
  },
  {
   "cell_type": "code",
   "execution_count": 23,
   "id": "a861b432",
   "metadata": {},
   "outputs": [
    {
     "data": {
      "text/html": [
       "<div>\n",
       "<style scoped>\n",
       "    .dataframe tbody tr th:only-of-type {\n",
       "        vertical-align: middle;\n",
       "    }\n",
       "\n",
       "    .dataframe tbody tr th {\n",
       "        vertical-align: top;\n",
       "    }\n",
       "\n",
       "    .dataframe thead th {\n",
       "        text-align: right;\n",
       "    }\n",
       "</style>\n",
       "<table border=\"1\" class=\"dataframe\">\n",
       "  <thead>\n",
       "    <tr style=\"text-align: right;\">\n",
       "      <th></th>\n",
       "      <th>customer_id</th>\n",
       "      <th>prediction</th>\n",
       "    </tr>\n",
       "  </thead>\n",
       "  <tbody>\n",
       "    <tr>\n",
       "      <th>0</th>\n",
       "      <td>00000dbacae5abe5e23885899a1fa44253a17956c6d1c3...</td>\n",
       "      <td>0762846031 0568601006 0568601044 0568601007 05...</td>\n",
       "    </tr>\n",
       "    <tr>\n",
       "      <th>1</th>\n",
       "      <td>0000423b00ade91418cceaf3b26c6af3dd342b51fd051e...</td>\n",
       "      <td></td>\n",
       "    </tr>\n",
       "    <tr>\n",
       "      <th>2</th>\n",
       "      <td>000058a12d5b43e67d225668fa1f8d618c13dc232df0ca...</td>\n",
       "      <td>0805000001 0794321011 0794321007 0740519002 08...</td>\n",
       "    </tr>\n",
       "    <tr>\n",
       "      <th>3</th>\n",
       "      <td>00005ca1c9ed5f5146b52ac8639a40ca9d57aeff4d1bd2...</td>\n",
       "      <td></td>\n",
       "    </tr>\n",
       "    <tr>\n",
       "      <th>4</th>\n",
       "      <td>00006413d8573cd20ed7128e53b7b13819fe5cfc2d801f...</td>\n",
       "      <td>0896152002 0730683050 0791587015 0791587018 07...</td>\n",
       "    </tr>\n",
       "    <tr>\n",
       "      <th>5</th>\n",
       "      <td>000064249685c11552da43ef22a5030f35a147f723d5b0...</td>\n",
       "      <td></td>\n",
       "    </tr>\n",
       "    <tr>\n",
       "      <th>6</th>\n",
       "      <td>0000757967448a6cb83efb3ea7a3fb9d418ac7adf2379d...</td>\n",
       "      <td>0448509014 0719530003 0448509018 0760084003 04...</td>\n",
       "    </tr>\n",
       "    <tr>\n",
       "      <th>7</th>\n",
       "      <td>00007d2de826758b65a93dd24ce629ed66842531df6699...</td>\n",
       "      <td></td>\n",
       "    </tr>\n",
       "    <tr>\n",
       "      <th>8</th>\n",
       "      <td>00007e8d4e54114b5b2a9b51586325a8d0fa74ea23ef77...</td>\n",
       "      <td></td>\n",
       "    </tr>\n",
       "    <tr>\n",
       "      <th>9</th>\n",
       "      <td>00008469a21b50b3d147c97135e25b4201a8c58997f787...</td>\n",
       "      <td></td>\n",
       "    </tr>\n",
       "  </tbody>\n",
       "</table>\n",
       "</div>"
      ],
      "text/plain": [
       "                                         customer_id  \\\n",
       "0  00000dbacae5abe5e23885899a1fa44253a17956c6d1c3...   \n",
       "1  0000423b00ade91418cceaf3b26c6af3dd342b51fd051e...   \n",
       "2  000058a12d5b43e67d225668fa1f8d618c13dc232df0ca...   \n",
       "3  00005ca1c9ed5f5146b52ac8639a40ca9d57aeff4d1bd2...   \n",
       "4  00006413d8573cd20ed7128e53b7b13819fe5cfc2d801f...   \n",
       "5  000064249685c11552da43ef22a5030f35a147f723d5b0...   \n",
       "6  0000757967448a6cb83efb3ea7a3fb9d418ac7adf2379d...   \n",
       "7  00007d2de826758b65a93dd24ce629ed66842531df6699...   \n",
       "8  00007e8d4e54114b5b2a9b51586325a8d0fa74ea23ef77...   \n",
       "9  00008469a21b50b3d147c97135e25b4201a8c58997f787...   \n",
       "\n",
       "                                          prediction  \n",
       "0  0762846031 0568601006 0568601044 0568601007 05...  \n",
       "1                                                     \n",
       "2  0805000001 0794321011 0794321007 0740519002 08...  \n",
       "3                                                     \n",
       "4  0896152002 0730683050 0791587015 0791587018 07...  \n",
       "5                                                     \n",
       "6  0448509014 0719530003 0448509018 0760084003 04...  \n",
       "7                                                     \n",
       "8                                                     \n",
       "9                                                     "
      ]
     },
     "metadata": {},
     "output_type": "display_data"
    }
   ],
   "source": [
    "if val_week == 105 :\n",
    "    uucf = pd.read_csv('../input/cf-v2.csv').fillna(\"\")\n",
    "else :\n",
    "    print(\"104\")\n",
    "#    uucf = pd.read_csv('../input/uucf104.csv')\n",
    "    uucf = pd.read_csv('../input/cf104-v2.csv').fillna(\"\")\n",
    "\n",
    "# uucf['prediction'] = remove_(uucf, 10)\n",
    "\n",
    "sub['uucf2'] = uucf['prediction']\n",
    "display(uucf.head(10))\n",
    "del uucf"
   ]
  },
  {
   "cell_type": "code",
   "execution_count": 24,
   "id": "e66e3f53",
   "metadata": {},
   "outputs": [
    {
     "name": "stdout",
     "output_type": "stream",
     "text": [
      "Fill Rate =  25.4\n"
     ]
    }
   ],
   "source": [
    "predicted = sub['uucf2'].apply(lambda s: [] if pd.isna(s) else s.split())\n",
    "score = validation(actual, predicted, grouping, score, index='uucf2 Items', ignore=(val_week == 105))\n",
    "# 8352 9737 8653\n",
    "# 0.011568 0.011552 0.011568"
   ]
  },
  {
   "cell_type": "code",
   "execution_count": 25,
   "id": "84c389a7",
   "metadata": {},
   "outputs": [
    {
     "data": {
      "text/html": [
       "<div>\n",
       "<style scoped>\n",
       "    .dataframe tbody tr th:only-of-type {\n",
       "        vertical-align: middle;\n",
       "    }\n",
       "\n",
       "    .dataframe tbody tr th {\n",
       "        vertical-align: top;\n",
       "    }\n",
       "\n",
       "    .dataframe thead th {\n",
       "        text-align: right;\n",
       "    }\n",
       "</style>\n",
       "<table border=\"1\" class=\"dataframe\">\n",
       "  <thead>\n",
       "    <tr style=\"text-align: right;\">\n",
       "      <th></th>\n",
       "      <th>customer_id</th>\n",
       "      <th>prediction</th>\n",
       "      <th>last_purchase</th>\n",
       "      <th>other_colors</th>\n",
       "      <th>trend_items</th>\n",
       "      <th>trend_items2</th>\n",
       "      <th>trend_ageatt</th>\n",
       "      <th>trend_woman</th>\n",
       "      <th>popular_items</th>\n",
       "      <th>uucf</th>\n",
       "      <th>buy_together</th>\n",
       "      <th>uucf2</th>\n",
       "    </tr>\n",
       "  </thead>\n",
       "  <tbody>\n",
       "    <tr>\n",
       "      <th>0</th>\n",
       "      <td>00000dbacae5abe5e23885899a1fa44253a17956c6d1c3...</td>\n",
       "      <td>0706016001 0706016002 0372860001 0610776002 07...</td>\n",
       "      <td>0568601043</td>\n",
       "      <td>0568601006</td>\n",
       "      <td>0918890002 0919273002 0751471001 0894780001 09...</td>\n",
       "      <td>0919273002 0751471001 0894780001 0915529003 08...</td>\n",
       "      <td>0918890002 0884319002 0919273002 0762846006 07...</td>\n",
       "      <td>0918890002 0884319002 0919273002 0762846006 07...</td>\n",
       "      <td>0568601006</td>\n",
       "      <td></td>\n",
       "      <td>0779781015 0858856005 0762846031 0716670009 08...</td>\n",
       "      <td>0762846031 0568601006 0568601044 0568601007 05...</td>\n",
       "    </tr>\n",
       "    <tr>\n",
       "      <th>1</th>\n",
       "      <td>0000423b00ade91418cceaf3b26c6af3dd342b51fd051e...</td>\n",
       "      <td>0706016001 0706016002 0372860001 0610776002 07...</td>\n",
       "      <td>0826211002</td>\n",
       "      <td></td>\n",
       "      <td>0448509014 0781613006 0751471001 0714790020 05...</td>\n",
       "      <td>0448509014 0751471001 0673677002 0714790020 08...</td>\n",
       "      <td>0448509014 0751471001 0863583001 0714790020 08...</td>\n",
       "      <td>0448509014 0751471001 0863583001 0714790020 08...</td>\n",
       "      <td>0673677002 0658298001</td>\n",
       "      <td></td>\n",
       "      <td></td>\n",
       "      <td></td>\n",
       "    </tr>\n",
       "    <tr>\n",
       "      <th>2</th>\n",
       "      <td>000058a12d5b43e67d225668fa1f8d618c13dc232df0ca...</td>\n",
       "      <td>0706016001 0706016002 0372860001 0610776002 07...</td>\n",
       "      <td>0794321007</td>\n",
       "      <td>0794321008</td>\n",
       "      <td>0762846027 0751471001 0714790020 0924243001 09...</td>\n",
       "      <td>0762846027 0751471001 0896169005 0714790020 09...</td>\n",
       "      <td>0762846027 0751471001 0896169005 0714790020 09...</td>\n",
       "      <td>0762846027 0751471001 0896169005 0714790020 09...</td>\n",
       "      <td></td>\n",
       "      <td></td>\n",
       "      <td>0794321007 0794321011 0805000001 0805000007 08...</td>\n",
       "      <td>0805000001 0794321011 0794321007 0740519002 08...</td>\n",
       "    </tr>\n",
       "    <tr>\n",
       "      <th>3</th>\n",
       "      <td>00005ca1c9ed5f5146b52ac8639a40ca9d57aeff4d1bd2...</td>\n",
       "      <td>0706016001 0706016002 0372860001 0610776002 07...</td>\n",
       "      <td>0742079001 0732413001</td>\n",
       "      <td></td>\n",
       "      <td>0714790020 0929275001 0751471001 0895555001 05...</td>\n",
       "      <td>0861803009 0869331006 0914453002 0791587001 08...</td>\n",
       "      <td>0791587001 0902802005 0861803014 0805000001 08...</td>\n",
       "      <td></td>\n",
       "      <td></td>\n",
       "      <td></td>\n",
       "      <td></td>\n",
       "      <td></td>\n",
       "    </tr>\n",
       "    <tr>\n",
       "      <th>4</th>\n",
       "      <td>00006413d8573cd20ed7128e53b7b13819fe5cfc2d801f...</td>\n",
       "      <td>0706016001 0706016002 0372860001 0610776002 07...</td>\n",
       "      <td>0791587015 0927530004 0730683050 0896152002</td>\n",
       "      <td>0927530006 0730683062 0791587001 0896152001</td>\n",
       "      <td>0919273002 0918890002 0895555001 0928206001 09...</td>\n",
       "      <td>0919273002 0896169005 0928206001 0915529003 08...</td>\n",
       "      <td>0919273002 0918890002 0896169002 0896169005 09...</td>\n",
       "      <td>0919273002 0918890002 0896169002 0896169005 09...</td>\n",
       "      <td></td>\n",
       "      <td></td>\n",
       "      <td>0809961007 0918292001 0791587018 0918292004 08...</td>\n",
       "      <td>0896152002 0730683050 0791587015 0791587018 07...</td>\n",
       "    </tr>\n",
       "    <tr>\n",
       "      <th>...</th>\n",
       "      <td>...</td>\n",
       "      <td>...</td>\n",
       "      <td>...</td>\n",
       "      <td>...</td>\n",
       "      <td>...</td>\n",
       "      <td>...</td>\n",
       "      <td>...</td>\n",
       "      <td>...</td>\n",
       "      <td>...</td>\n",
       "      <td>...</td>\n",
       "      <td>...</td>\n",
       "      <td>...</td>\n",
       "    </tr>\n",
       "    <tr>\n",
       "      <th>1371975</th>\n",
       "      <td>ffffbbf78b6eaac697a8a5dfbfd2bfa8113ee5b403e474...</td>\n",
       "      <td>0706016001 0706016002 0372860001 0610776002 07...</td>\n",
       "      <td>0713997002 0720125039 0740922009 0791587007 08...</td>\n",
       "      <td>0557599023 0720125007 0740922001 0804992014 07...</td>\n",
       "      <td>0448509014 0918522001 0915529005 0918292001 09...</td>\n",
       "      <td>0896169005 0448509014 0918522001 0915529005 09...</td>\n",
       "      <td>0896169005 0863583001 0448509014 0918522001 09...</td>\n",
       "      <td>0896169005 0863583001 0448509014 0918522001 09...</td>\n",
       "      <td>0253448003</td>\n",
       "      <td>0804992033 0720125039 0740922009 0791587007 05...</td>\n",
       "      <td>0918292001 0804992033 0852584017 0804992013 09...</td>\n",
       "      <td>0557599022 0822344001 0822311001 0887681003 08...</td>\n",
       "    </tr>\n",
       "    <tr>\n",
       "      <th>1371976</th>\n",
       "      <td>ffffcd5046a6143d29a04fb8c424ce494a76e5cdf4fab5...</td>\n",
       "      <td>0706016001 0706016002 0372860001 0610776002 07...</td>\n",
       "      <td>0762846031 0853654012 0624486088 0853654002 07...</td>\n",
       "      <td>0624486001 0762846027 0759871025 0853654007</td>\n",
       "      <td>0762846027 0706016003 0448509014 0573085028 09...</td>\n",
       "      <td>0706016002 0706016001 0706016003 0448509014 07...</td>\n",
       "      <td>0706016002 0706016001 0772902001 0706016003 04...</td>\n",
       "      <td></td>\n",
       "      <td>0624486001 0507909001</td>\n",
       "      <td></td>\n",
       "      <td>0889460003 0762846031 0782734004 0783346001 08...</td>\n",
       "      <td>0762846031 0762846026 0759871025 0759871002 08...</td>\n",
       "    </tr>\n",
       "    <tr>\n",
       "      <th>1371977</th>\n",
       "      <td>ffffcf35913a0bee60e8741cb2b4e78b8a98ee5ff2e6a1...</td>\n",
       "      <td>0706016001 0706016002 0372860001 0610776002 07...</td>\n",
       "      <td>0762846027 0689365050 0884081001 0794819001</td>\n",
       "      <td>0884081002 0762846006 0794819003 0689365045</td>\n",
       "      <td>0448509014 0866731001 0706016003 0924243002 07...</td>\n",
       "      <td>0673677002 0751471001 0448509014 0866731001 09...</td>\n",
       "      <td>0909370001 0751471001 0448509014 0866731001 09...</td>\n",
       "      <td>0909370001 0751471001 0448509014 0866731001 09...</td>\n",
       "      <td>0636323002</td>\n",
       "      <td>0762846027 0689365050 0762846031 0884081001 07...</td>\n",
       "      <td>0762846027 0762846031 0762846029 0889460003 08...</td>\n",
       "      <td>0762846027 0762846026 0889460003 0762846029 08...</td>\n",
       "    </tr>\n",
       "    <tr>\n",
       "      <th>1371978</th>\n",
       "      <td>ffffd7744cebcf3aca44ae7049d2a94b87074c3d4ffe38...</td>\n",
       "      <td>0706016001 0706016002 0372860001 0610776002 07...</td>\n",
       "      <td>0882810001</td>\n",
       "      <td>0882810004</td>\n",
       "      <td>0714790020 0448509014 0915529005 0706016002 07...</td>\n",
       "      <td>0714790020 0909059002 0870328003 0448509014 07...</td>\n",
       "      <td>0714790020 0874113005 0715624010 0572998009 07...</td>\n",
       "      <td></td>\n",
       "      <td></td>\n",
       "      <td></td>\n",
       "      <td></td>\n",
       "      <td></td>\n",
       "    </tr>\n",
       "    <tr>\n",
       "      <th>1371979</th>\n",
       "      <td>ffffd9ac14e89946416d80e791d064701994755c3ab686...</td>\n",
       "      <td>0706016001 0706016002 0372860001 0610776002 07...</td>\n",
       "      <td>0806050001</td>\n",
       "      <td></td>\n",
       "      <td>0903926002 0930380003 0863646001 0923758001 09...</td>\n",
       "      <td>0919273002 0894780001 0915529003 0915529005 09...</td>\n",
       "      <td>0918890002 0919273002 0903926002 0915529003 08...</td>\n",
       "      <td>0918890002 0919273002 0903926002 0915529003 08...</td>\n",
       "      <td></td>\n",
       "      <td></td>\n",
       "      <td>0898886001 0806050001 0927225001 0918443003</td>\n",
       "      <td></td>\n",
       "    </tr>\n",
       "  </tbody>\n",
       "</table>\n",
       "<p>1371980 rows × 12 columns</p>\n",
       "</div>"
      ],
      "text/plain": [
       "                                               customer_id  \\\n",
       "0        00000dbacae5abe5e23885899a1fa44253a17956c6d1c3...   \n",
       "1        0000423b00ade91418cceaf3b26c6af3dd342b51fd051e...   \n",
       "2        000058a12d5b43e67d225668fa1f8d618c13dc232df0ca...   \n",
       "3        00005ca1c9ed5f5146b52ac8639a40ca9d57aeff4d1bd2...   \n",
       "4        00006413d8573cd20ed7128e53b7b13819fe5cfc2d801f...   \n",
       "...                                                    ...   \n",
       "1371975  ffffbbf78b6eaac697a8a5dfbfd2bfa8113ee5b403e474...   \n",
       "1371976  ffffcd5046a6143d29a04fb8c424ce494a76e5cdf4fab5...   \n",
       "1371977  ffffcf35913a0bee60e8741cb2b4e78b8a98ee5ff2e6a1...   \n",
       "1371978  ffffd7744cebcf3aca44ae7049d2a94b87074c3d4ffe38...   \n",
       "1371979  ffffd9ac14e89946416d80e791d064701994755c3ab686...   \n",
       "\n",
       "                                                prediction  \\\n",
       "0        0706016001 0706016002 0372860001 0610776002 07...   \n",
       "1        0706016001 0706016002 0372860001 0610776002 07...   \n",
       "2        0706016001 0706016002 0372860001 0610776002 07...   \n",
       "3        0706016001 0706016002 0372860001 0610776002 07...   \n",
       "4        0706016001 0706016002 0372860001 0610776002 07...   \n",
       "...                                                    ...   \n",
       "1371975  0706016001 0706016002 0372860001 0610776002 07...   \n",
       "1371976  0706016001 0706016002 0372860001 0610776002 07...   \n",
       "1371977  0706016001 0706016002 0372860001 0610776002 07...   \n",
       "1371978  0706016001 0706016002 0372860001 0610776002 07...   \n",
       "1371979  0706016001 0706016002 0372860001 0610776002 07...   \n",
       "\n",
       "                                             last_purchase  \\\n",
       "0                                               0568601043   \n",
       "1                                               0826211002   \n",
       "2                                               0794321007   \n",
       "3                                    0742079001 0732413001   \n",
       "4              0791587015 0927530004 0730683050 0896152002   \n",
       "...                                                    ...   \n",
       "1371975  0713997002 0720125039 0740922009 0791587007 08...   \n",
       "1371976  0762846031 0853654012 0624486088 0853654002 07...   \n",
       "1371977        0762846027 0689365050 0884081001 0794819001   \n",
       "1371978                                         0882810001   \n",
       "1371979                                         0806050001   \n",
       "\n",
       "                                              other_colors  \\\n",
       "0                                               0568601006   \n",
       "1                                                            \n",
       "2                                               0794321008   \n",
       "3                                                            \n",
       "4              0927530006 0730683062 0791587001 0896152001   \n",
       "...                                                    ...   \n",
       "1371975  0557599023 0720125007 0740922001 0804992014 07...   \n",
       "1371976        0624486001 0762846027 0759871025 0853654007   \n",
       "1371977        0884081002 0762846006 0794819003 0689365045   \n",
       "1371978                                         0882810004   \n",
       "1371979                                                      \n",
       "\n",
       "                                               trend_items  \\\n",
       "0        0918890002 0919273002 0751471001 0894780001 09...   \n",
       "1        0448509014 0781613006 0751471001 0714790020 05...   \n",
       "2        0762846027 0751471001 0714790020 0924243001 09...   \n",
       "3        0714790020 0929275001 0751471001 0895555001 05...   \n",
       "4        0919273002 0918890002 0895555001 0928206001 09...   \n",
       "...                                                    ...   \n",
       "1371975  0448509014 0918522001 0915529005 0918292001 09...   \n",
       "1371976  0762846027 0706016003 0448509014 0573085028 09...   \n",
       "1371977  0448509014 0866731001 0706016003 0924243002 07...   \n",
       "1371978  0714790020 0448509014 0915529005 0706016002 07...   \n",
       "1371979  0903926002 0930380003 0863646001 0923758001 09...   \n",
       "\n",
       "                                              trend_items2  \\\n",
       "0        0919273002 0751471001 0894780001 0915529003 08...   \n",
       "1        0448509014 0751471001 0673677002 0714790020 08...   \n",
       "2        0762846027 0751471001 0896169005 0714790020 09...   \n",
       "3        0861803009 0869331006 0914453002 0791587001 08...   \n",
       "4        0919273002 0896169005 0928206001 0915529003 08...   \n",
       "...                                                    ...   \n",
       "1371975  0896169005 0448509014 0918522001 0915529005 09...   \n",
       "1371976  0706016002 0706016001 0706016003 0448509014 07...   \n",
       "1371977  0673677002 0751471001 0448509014 0866731001 09...   \n",
       "1371978  0714790020 0909059002 0870328003 0448509014 07...   \n",
       "1371979  0919273002 0894780001 0915529003 0915529005 09...   \n",
       "\n",
       "                                              trend_ageatt  \\\n",
       "0        0918890002 0884319002 0919273002 0762846006 07...   \n",
       "1        0448509014 0751471001 0863583001 0714790020 08...   \n",
       "2        0762846027 0751471001 0896169005 0714790020 09...   \n",
       "3        0791587001 0902802005 0861803014 0805000001 08...   \n",
       "4        0919273002 0918890002 0896169002 0896169005 09...   \n",
       "...                                                    ...   \n",
       "1371975  0896169005 0863583001 0448509014 0918522001 09...   \n",
       "1371976  0706016002 0706016001 0772902001 0706016003 04...   \n",
       "1371977  0909370001 0751471001 0448509014 0866731001 09...   \n",
       "1371978  0714790020 0874113005 0715624010 0572998009 07...   \n",
       "1371979  0918890002 0919273002 0903926002 0915529003 08...   \n",
       "\n",
       "                                               trend_woman  \\\n",
       "0        0918890002 0884319002 0919273002 0762846006 07...   \n",
       "1        0448509014 0751471001 0863583001 0714790020 08...   \n",
       "2        0762846027 0751471001 0896169005 0714790020 09...   \n",
       "3                                                            \n",
       "4        0919273002 0918890002 0896169002 0896169005 09...   \n",
       "...                                                    ...   \n",
       "1371975  0896169005 0863583001 0448509014 0918522001 09...   \n",
       "1371976                                                      \n",
       "1371977  0909370001 0751471001 0448509014 0866731001 09...   \n",
       "1371978                                                      \n",
       "1371979  0918890002 0919273002 0903926002 0915529003 08...   \n",
       "\n",
       "                 popular_items  \\\n",
       "0                   0568601006   \n",
       "1        0673677002 0658298001   \n",
       "2                                \n",
       "3                                \n",
       "4                                \n",
       "...                        ...   \n",
       "1371975             0253448003   \n",
       "1371976  0624486001 0507909001   \n",
       "1371977             0636323002   \n",
       "1371978                          \n",
       "1371979                          \n",
       "\n",
       "                                                      uucf  \\\n",
       "0                                                            \n",
       "1                                                            \n",
       "2                                                            \n",
       "3                                                            \n",
       "4                                                            \n",
       "...                                                    ...   \n",
       "1371975  0804992033 0720125039 0740922009 0791587007 05...   \n",
       "1371976                                                      \n",
       "1371977  0762846027 0689365050 0762846031 0884081001 07...   \n",
       "1371978                                                      \n",
       "1371979                                                      \n",
       "\n",
       "                                              buy_together  \\\n",
       "0        0779781015 0858856005 0762846031 0716670009 08...   \n",
       "1                                                            \n",
       "2        0794321007 0794321011 0805000001 0805000007 08...   \n",
       "3                                                            \n",
       "4        0809961007 0918292001 0791587018 0918292004 08...   \n",
       "...                                                    ...   \n",
       "1371975  0918292001 0804992033 0852584017 0804992013 09...   \n",
       "1371976  0889460003 0762846031 0782734004 0783346001 08...   \n",
       "1371977  0762846027 0762846031 0762846029 0889460003 08...   \n",
       "1371978                                                      \n",
       "1371979        0898886001 0806050001 0927225001 0918443003   \n",
       "\n",
       "                                                     uucf2  \n",
       "0        0762846031 0568601006 0568601044 0568601007 05...  \n",
       "1                                                           \n",
       "2        0805000001 0794321011 0794321007 0740519002 08...  \n",
       "3                                                           \n",
       "4        0896152002 0730683050 0791587015 0791587018 07...  \n",
       "...                                                    ...  \n",
       "1371975  0557599022 0822344001 0822311001 0887681003 08...  \n",
       "1371976  0762846031 0762846026 0759871025 0759871002 08...  \n",
       "1371977  0762846027 0762846026 0889460003 0762846029 08...  \n",
       "1371978                                                     \n",
       "1371979                                                     \n",
       "\n",
       "[1371980 rows x 12 columns]"
      ]
     },
     "execution_count": 25,
     "metadata": {},
     "output_type": "execute_result"
    }
   ],
   "source": [
    "sub"
   ]
  },
  {
   "cell_type": "markdown",
   "id": "5e953207",
   "metadata": {},
   "source": [
    "## ☆tf recommender"
   ]
  },
  {
   "cell_type": "code",
   "execution_count": 12,
   "id": "b02c700c",
   "metadata": {},
   "outputs": [
    {
     "name": "stdout",
     "output_type": "stream",
     "text": [
      "104\n"
     ]
    },
    {
     "data": {
      "text/html": [
       "<div>\n",
       "<style scoped>\n",
       "    .dataframe tbody tr th:only-of-type {\n",
       "        vertical-align: middle;\n",
       "    }\n",
       "\n",
       "    .dataframe tbody tr th {\n",
       "        vertical-align: top;\n",
       "    }\n",
       "\n",
       "    .dataframe thead th {\n",
       "        text-align: right;\n",
       "    }\n",
       "</style>\n",
       "<table border=\"1\" class=\"dataframe\">\n",
       "  <thead>\n",
       "    <tr style=\"text-align: right;\">\n",
       "      <th></th>\n",
       "      <th>customer_id</th>\n",
       "      <th>prediction</th>\n",
       "    </tr>\n",
       "  </thead>\n",
       "  <tbody>\n",
       "    <tr>\n",
       "      <th>0</th>\n",
       "      <td>00000dbacae5abe5e23885899a1fa44253a17956c6d1c3...</td>\n",
       "      <td>0568601043 0858856005 0912075007 0568601044 08...</td>\n",
       "    </tr>\n",
       "    <tr>\n",
       "      <th>1</th>\n",
       "      <td>0000423b00ade91418cceaf3b26c6af3dd342b51fd051e...</td>\n",
       "      <td>0935092001 0909911001 0926164001 0881919002 08...</td>\n",
       "    </tr>\n",
       "    <tr>\n",
       "      <th>2</th>\n",
       "      <td>000058a12d5b43e67d225668fa1f8d618c13dc232df0ca...</td>\n",
       "      <td>0624257001 0805000007 0876148003 0884319001 09...</td>\n",
       "    </tr>\n",
       "    <tr>\n",
       "      <th>3</th>\n",
       "      <td>00005ca1c9ed5f5146b52ac8639a40ca9d57aeff4d1bd2...</td>\n",
       "      <td>0914441001 0636207006 0300024058 0721266003 05...</td>\n",
       "    </tr>\n",
       "    <tr>\n",
       "      <th>4</th>\n",
       "      <td>00006413d8573cd20ed7128e53b7b13819fe5cfc2d801f...</td>\n",
       "      <td>0914868003 0699755078 0894746003 0906830001 08...</td>\n",
       "    </tr>\n",
       "    <tr>\n",
       "      <th>5</th>\n",
       "      <td>000064249685c11552da43ef22a5030f35a147f723d5b0...</td>\n",
       "      <td>0781758004 0395127001 0766402021 0715828017 07...</td>\n",
       "    </tr>\n",
       "    <tr>\n",
       "      <th>6</th>\n",
       "      <td>0000757967448a6cb83efb3ea7a3fb9d418ac7adf2379d...</td>\n",
       "      <td>0448509014 0719530003 0448509018 0640021024 08...</td>\n",
       "    </tr>\n",
       "    <tr>\n",
       "      <th>7</th>\n",
       "      <td>00007d2de826758b65a93dd24ce629ed66842531df6699...</td>\n",
       "      <td>0920972001 0806388002 0899749001 0873679001 06...</td>\n",
       "    </tr>\n",
       "    <tr>\n",
       "      <th>8</th>\n",
       "      <td>00007e8d4e54114b5b2a9b51586325a8d0fa74ea23ef77...</td>\n",
       "      <td>0473954014 0860822003 0748355012 0792469001 07...</td>\n",
       "    </tr>\n",
       "    <tr>\n",
       "      <th>9</th>\n",
       "      <td>00008469a21b50b3d147c97135e25b4201a8c58997f787...</td>\n",
       "      <td>0810825001 0810557006 0294008056 0810557001 05...</td>\n",
       "    </tr>\n",
       "  </tbody>\n",
       "</table>\n",
       "</div>"
      ],
      "text/plain": [
       "                                         customer_id  \\\n",
       "0  00000dbacae5abe5e23885899a1fa44253a17956c6d1c3...   \n",
       "1  0000423b00ade91418cceaf3b26c6af3dd342b51fd051e...   \n",
       "2  000058a12d5b43e67d225668fa1f8d618c13dc232df0ca...   \n",
       "3  00005ca1c9ed5f5146b52ac8639a40ca9d57aeff4d1bd2...   \n",
       "4  00006413d8573cd20ed7128e53b7b13819fe5cfc2d801f...   \n",
       "5  000064249685c11552da43ef22a5030f35a147f723d5b0...   \n",
       "6  0000757967448a6cb83efb3ea7a3fb9d418ac7adf2379d...   \n",
       "7  00007d2de826758b65a93dd24ce629ed66842531df6699...   \n",
       "8  00007e8d4e54114b5b2a9b51586325a8d0fa74ea23ef77...   \n",
       "9  00008469a21b50b3d147c97135e25b4201a8c58997f787...   \n",
       "\n",
       "                                          prediction  \n",
       "0  0568601043 0858856005 0912075007 0568601044 08...  \n",
       "1  0935092001 0909911001 0926164001 0881919002 08...  \n",
       "2  0624257001 0805000007 0876148003 0884319001 09...  \n",
       "3  0914441001 0636207006 0300024058 0721266003 05...  \n",
       "4  0914868003 0699755078 0894746003 0906830001 08...  \n",
       "5  0781758004 0395127001 0766402021 0715828017 07...  \n",
       "6  0448509014 0719530003 0448509018 0640021024 08...  \n",
       "7  0920972001 0806388002 0899749001 0873679001 06...  \n",
       "8  0473954014 0860822003 0748355012 0792469001 07...  \n",
       "9  0810825001 0810557006 0294008056 0810557001 05...  "
      ]
     },
     "metadata": {},
     "output_type": "display_data"
    }
   ],
   "source": [
    "if val_week == 105 :\n",
    "    tf = pd.read_csv('../input/submission_tf.csv').fillna(\"\")\n",
    "else :\n",
    "    print(\"104\")\n",
    "#    uucf = pd.read_csv('../input/uucf104.csv')\n",
    "    tf = pd.read_csv('../input/submission_tf_104.csv').fillna(\"\")\n",
    "\n",
    "# uucf['prediction'] = remove_(uucf, 10)\n",
    "\n",
    "sub['tf'] = tf['prediction']\n",
    "display(tf.head(10))\n",
    "del tf"
   ]
  },
  {
   "cell_type": "code",
   "execution_count": 13,
   "id": "a196563a",
   "metadata": {},
   "outputs": [
    {
     "name": "stdout",
     "output_type": "stream",
     "text": [
      "Fill Rate =  100.0\n"
     ]
    },
    {
     "data": {
      "text/html": [
       "<div>\n",
       "<style scoped>\n",
       "    .dataframe tbody tr th:only-of-type {\n",
       "        vertical-align: middle;\n",
       "    }\n",
       "\n",
       "    .dataframe tbody tr th {\n",
       "        vertical-align: top;\n",
       "    }\n",
       "\n",
       "    .dataframe thead th {\n",
       "        text-align: right;\n",
       "    }\n",
       "</style>\n",
       "<table border=\"1\" class=\"dataframe\">\n",
       "  <thead>\n",
       "    <tr style=\"text-align: right;\">\n",
       "      <th></th>\n",
       "      <th>1.0</th>\n",
       "      <th>2.0</th>\n",
       "      <th>All</th>\n",
       "      <th>Fill</th>\n",
       "    </tr>\n",
       "  </thead>\n",
       "  <tbody>\n",
       "    <tr>\n",
       "      <th>Last Purchase</th>\n",
       "      <td>0.012807</td>\n",
       "      <td>0.024439</td>\n",
       "      <td>0.020594</td>\n",
       "      <td>28.7</td>\n",
       "    </tr>\n",
       "    <tr>\n",
       "      <th>tf Items</th>\n",
       "      <td>0.007530</td>\n",
       "      <td>0.015180</td>\n",
       "      <td>0.012651</td>\n",
       "      <td>100.0</td>\n",
       "    </tr>\n",
       "  </tbody>\n",
       "</table>\n",
       "</div>"
      ],
      "text/plain": [
       "                    1.0       2.0       All   Fill\n",
       "Last Purchase  0.012807  0.024439  0.020594   28.7\n",
       "tf Items       0.007530  0.015180  0.012651  100.0"
      ]
     },
     "metadata": {},
     "output_type": "display_data"
    },
    {
     "data": {
      "image/png": "[encoded data removed]",
      "text/plain": [
       "<Figure size 864x432 with 2 Axes>"
      ]
     },
     "metadata": {},
     "output_type": "display_data"
    }
   ],
   "source": [
    "predicted = sub['tf'].apply(lambda s: [] if pd.isna(s) else s.split())\n",
    "score = validation(actual, predicted, grouping, score, index='tf Items', ignore=(val_week == 105))"
   ]
  },
  {
   "cell_type": "code",
   "execution_count": 14,
   "id": "370fd4d3",
   "metadata": {},
   "outputs": [],
   "source": [
    "# # 11日間の売れた商品リスト\n",
    "# init_date = last_date - dt.timedelta(days=11)\n",
    "# last_sell = df.loc[(df.t_dat >= init_date) & (df.t_dat <= last_date)]\n",
    "# sell =  last_sell.groupby('customer_id')\\\n",
    "#      .article_id.apply(iter_to_str).reset_index()\\\n",
    "#      .merge(cid, on='customer_id', how='right').article_id.fillna('')"
   ]
  },
  {
   "cell_type": "code",
   "execution_count": 15,
   "id": "66d92460",
   "metadata": {},
   "outputs": [],
   "source": [
    "# last_buy = defaultdict(list)\n",
    "# for i in tqdm(range(len(sub))) :\n",
    "#     x = set(sell[i].split(\" \")) - set('')\n",
    "#     last_buy[sub['customer_id'][i]] = x"
   ]
  },
  {
   "cell_type": "code",
   "execution_count": 16,
   "id": "4e448b97",
   "metadata": {},
   "outputs": [],
   "source": [
    "# import pickle\n",
    "# with open(\"../input/handmitem2vec/cust_similar.pkl\", \"rb\") as f :\n",
    "#     cust_similar = pickle.load(f)\n",
    "# len(cust_similar)"
   ]
  },
  {
   "cell_type": "code",
   "execution_count": 17,
   "id": "c3a7938c",
   "metadata": {},
   "outputs": [],
   "source": [
    "# l = []\n",
    "# for i in tqdm(range(len(sub))): \n",
    "#     c = sub['customer_id'][i]\n",
    "#     x = cust_similar[c]\n",
    "#     y = set()\n",
    "#     if c in cust_buy :\n",
    "#         y = set(cust_buy[c].split(\" \"))\n",
    "#     t = []\n",
    "#     for e, _ in x :\n",
    "#         if e in y : continue # 既に購入しているものはスキップ\n",
    "#         if last_buy[e] == {''}: continue\n",
    "#         t += last_buy[e]\n",
    "#     l.append(\" \".join(set(t)))"
   ]
  },
  {
   "cell_type": "code",
   "execution_count": 18,
   "id": "967b5030",
   "metadata": {},
   "outputs": [],
   "source": [
    "# sub['similar_customers'] = l"
   ]
  },
  {
   "cell_type": "code",
   "execution_count": 19,
   "id": "93313281",
   "metadata": {},
   "outputs": [],
   "source": [
    "#if use_item2vec:\n",
    "#    sub['similar_customers'] = sort_item2vec('similar_customers', max_n=12)"
   ]
  },
  {
   "cell_type": "code",
   "execution_count": 20,
   "id": "19cb9a5e",
   "metadata": {},
   "outputs": [],
   "source": [
    "# predicted = sub['similar_customers'].apply(lambda s: [] if pd.isna(s) else s.split())\n",
    "# score = validation(actual, predicted, grouping, score, index='Similar Customers', ignore=(val_week == 105))"
   ]
  },
  {
   "cell_type": "markdown",
   "id": "6148cd65",
   "metadata": {},
   "source": [
    "## save"
   ]
  },
  {
   "cell_type": "code",
   "execution_count": 21,
   "id": "b8792b7c",
   "metadata": {},
   "outputs": [],
   "source": [
    "if is_save :\n",
    "    print(\"SAVE.....\")\n",
    "    if val_week == 105: \n",
    "        sub.to_parquet('submission_all.parquet', index=False)\n",
    "    else :\n",
    "        sub.to_parquet('submission_all_104.parquet', index=False)"
   ]
  },
  {
   "cell_type": "markdown",
   "id": "e54304e2",
   "metadata": {},
   "source": [
    "## memory clear"
   ]
  },
  {
   "cell_type": "code",
   "execution_count": 22,
   "id": "d7a00e3c",
   "metadata": {},
   "outputs": [],
   "source": [
    "# import gc\n",
    "# del model\n",
    "# del cust_buy\n",
    "# gc.collect()"
   ]
  },
  {
   "cell_type": "markdown",
   "id": "4ed1a6d5",
   "metadata": {
    "papermill": {
     "duration": 0.025811,
     "end_time": "2022-04-23T02:54:41.936402",
     "exception": false,
     "start_time": "2022-04-23T02:54:41.910591",
     "status": "completed"
    },
    "tags": []
   },
   "source": [
    "### 予測をブレンド"
   ]
  },
  {
   "cell_type": "code",
   "execution_count": 23,
   "id": "9f688865",
   "metadata": {
    "execution": {
     "iopub.execute_input": "2022-04-23T02:54:41.990942Z",
     "iopub.status.busy": "2022-04-23T02:54:41.990221Z",
     "iopub.status.idle": "2022-04-23T02:54:42.281459Z",
     "shell.execute_reply": "2022-04-23T02:54:42.280579Z"
    },
    "papermill": {
     "duration": 0.320912,
     "end_time": "2022-04-23T02:54:42.284143",
     "exception": false,
     "start_time": "2022-04-23T02:54:41.963231",
     "status": "completed"
    },
    "tags": []
   },
   "outputs": [],
   "source": [
    "# 11日間の売れた商品リスト\n",
    "init_date = last_date - dt.timedelta(days=2)\n",
    "sold_set = set(df.loc[(df.t_dat >= init_date) & (df.t_dat <= last_date)].article_id.tolist())"
   ]
  },
  {
   "cell_type": "code",
   "execution_count": 26,
   "id": "bcf3ecd7",
   "metadata": {
    "execution": {
     "iopub.execute_input": "2022-04-23T02:54:42.338292Z",
     "iopub.status.busy": "2022-04-23T02:54:42.337760Z",
     "iopub.status.idle": "2022-04-23T02:56:29.928714Z",
     "shell.execute_reply": "2022-04-23T02:56:29.927839Z"
    },
    "papermill": {
     "duration": 107.621413,
     "end_time": "2022-04-23T02:56:29.931535",
     "exception": false,
     "start_time": "2022-04-23T02:54:42.310122",
     "status": "completed"
    },
    "tags": []
   },
   "outputs": [
    {
     "name": "stdout",
     "output_type": "stream",
     "text": [
      "Fill Rate =  100.0\n"
     ]
    },
    {
     "data": {
      "text/html": [
       "<div>\n",
       "<style scoped>\n",
       "    .dataframe tbody tr th:only-of-type {\n",
       "        vertical-align: middle;\n",
       "    }\n",
       "\n",
       "    .dataframe tbody tr th {\n",
       "        vertical-align: top;\n",
       "    }\n",
       "\n",
       "    .dataframe thead th {\n",
       "        text-align: right;\n",
       "    }\n",
       "</style>\n",
       "<table border=\"1\" class=\"dataframe\">\n",
       "  <thead>\n",
       "    <tr style=\"text-align: right;\">\n",
       "      <th></th>\n",
       "      <th>1.0</th>\n",
       "      <th>2.0</th>\n",
       "      <th>All</th>\n",
       "      <th>Fill</th>\n",
       "    </tr>\n",
       "  </thead>\n",
       "  <tbody>\n",
       "    <tr>\n",
       "      <th>Last Purchase</th>\n",
       "      <td>0.012807</td>\n",
       "      <td>0.024439</td>\n",
       "      <td>0.020594</td>\n",
       "      <td>28.7</td>\n",
       "    </tr>\n",
       "    <tr>\n",
       "      <th>tf Items</th>\n",
       "      <td>0.007530</td>\n",
       "      <td>0.015180</td>\n",
       "      <td>0.012651</td>\n",
       "      <td>100.0</td>\n",
       "    </tr>\n",
       "    <tr>\n",
       "      <th>Prediction</th>\n",
       "      <td>0.022394</td>\n",
       "      <td>0.032620</td>\n",
       "      <td>0.029239</td>\n",
       "      <td>100.0</td>\n",
       "    </tr>\n",
       "  </tbody>\n",
       "</table>\n",
       "</div>"
      ],
      "text/plain": [
       "                    1.0       2.0       All   Fill\n",
       "Last Purchase  0.012807  0.024439  0.020594   28.7\n",
       "tf Items       0.007530  0.015180  0.012651  100.0\n",
       "Prediction     0.022394  0.032620  0.029239  100.0"
      ]
     },
     "metadata": {},
     "output_type": "display_data"
    },
    {
     "data": {
      "image/png": "[encoded data removed]",
      "text/plain": [
       "<Figure size 864x432 with 2 Axes>"
      ]
     },
     "metadata": {},
     "output_type": "display_data"
    }
   ],
   "source": [
    "# 11日間に販売実績のある商品だけ対象\n",
    "# targets = ['last_purchase', 'popular_items', 'other_colors', \n",
    "#            'trend_woman', 'trend_ageatt', 'trend_items2', 'trend_items' ]\n",
    "# weights = [1000, 5, 10, \n",
    "#            2, 2, 1.5, 1]\n",
    "\n",
    "\n",
    "# targets = ['last_purchase', 'other_colors', 'popular_items', \n",
    "#            'trend_woman', 'trend_ageatt', 'trend_items2',  'uucf', 'trend_items' ]\n",
    "# weights = [1000, 10, 5, \n",
    "#            1, 1, 1.3, 3, 0.5]\n",
    "\n",
    "# targets = ['last_purchase', 'uucf', 'other_colors', 'popular_items', \n",
    "#            'trend_woman', 'trend_ageatt', 'trend_items2', 'trend_items' ]\n",
    "# weights = [1000, 10, 10, 10, \n",
    "#            1, 1, 1.3, 0.5]\n",
    "targets = ['last_purchase', 'other_colors', 'popular_items', 'uucf', 'uucf2', 'buy_together',\n",
    "           'trend_woman', 'trend_ageatt', 'trend_items2', 'trend_items']\n",
    "weights = [10, 2 ,2, 2, 2, 1,\n",
    "           1, 1, 1.3, 0.5]\n",
    "# weights = [ 48.35, 11.65, 8.05, 15.5, 3.35, 5.65,\n",
    "#             7.85, 6.25, 10.45, 0.1, 1.0 ] \n",
    "\n",
    "sub['prediction'] = sub[targets].apply(blend, w=weights, axis=1, k=100).apply(prune, ok_set=sold_set)\n",
    "predicted = sub.prediction.apply(lambda s: [] if pd.isna(s) else s.split())\n",
    "score = validation(actual, predicted, grouping, score, index='Prediction', ignore=(val_week == 105))\n",
    "\n",
    "#score が定義されていないとき（loadした時）\n",
    "#score = validation(actual, predicted, grouping, index='Prediction', ignore=(val_week == 105))\n",
    "\n",
    "\n",
    "#Prediction\t0.019646\t0.031350\t0.027481\t100.0 [100, 5, 10, 2, 1] without itemvec\n",
    "#Prediction\t0.020333\t0.032050\t0.028177\t100.0 [100, 5, 10, 2, 1] with itemvec  \n",
    "\n",
    "#Prediction\t0.019675\t0.031394\t0.027520\t100.0 [100, 5, 10, 2, 1, 2]\n",
    "#Prediction\t0.020852\t0.032008\t0.028320\t100.0 [100, 5, 10, 2, 1, 2] test\n",
    "\n",
    "#Prediction\t0.019834\t0.031329\t0.027529\t100.0\n",
    "# 7 predictions with item2vec \n",
    "# first 3-items : 22754 23247 \n",
    "#       4-items : 15229 15732 15836 15873\n",
    "#     all items : 28536 \n",
    "# 0.028359 0.028392 28464 0.028675 0.029264 0.029302 0.029368 0.029332 0.029333 "
   ]
  },
  {
   "cell_type": "code",
   "execution_count": null,
   "id": "b6643b97",
   "metadata": {},
   "outputs": [],
   "source": []
  },
  {
   "cell_type": "code",
   "execution_count": 16,
   "id": "b75d35c9",
   "metadata": {
    "scrolled": false
   },
   "outputs": [],
   "source": [
    "# def objective(trial):\n",
    "#     trend_woman = trial.suggest_float('trend_woman', 0.1, 5.0, step=0.1)\n",
    "#     trend_ageatt = trial.suggest_float('trend_ageatt', 0.1, 5.0, step=0.1)\n",
    "#     trend_items2 = trial.suggest_float('trend_items2', 0.1, 5.0, step=0.1)\n",
    "#     trend_items = trial.suggest_float('trend_items', 1.0, 1.0, step=0.1)\n",
    "#     targets = ['trend_woman', 'trend_ageatt', 'trend_items2', 'trend_items']\n",
    "#     weights = [trend_woman, trend_ageatt, trend_items2, trend_items]\n",
    "#     sub['trend'] = sub[targets].apply(blend, w=weights, axis=1, k=100).apply(prune, ok_set=sold_set)\n",
    "#     predicted = sub.trend.apply(lambda s: [] if pd.isna(s) else s.split())\n",
    "#     score = calc_score(actual, predicted, grouping, index='Trend', ignore=(val_week == 105))\n",
    "#     return -score\n",
    "\n",
    "# study = optuna.create_study()\n",
    "# #study.enqueue_trial({'trend_woman':2, 'trend_ageatt':2, 'trend_items2':2.6, 'trend_items':1})\n",
    "# study.enqueue_trial({'trend_woman': 4.6,\n",
    "#  'trend_ageatt': 2.7,\n",
    "#  'trend_items2': 3.4000000000000004,\n",
    "#  'trend_items': 1.0})\n",
    "# study.optimize(objective, n_trials=100)\n",
    "# study.best_params"
   ]
  },
  {
   "cell_type": "code",
   "execution_count": 17,
   "id": "c44e2e48",
   "metadata": {},
   "outputs": [],
   "source": [
    "# targets = ['trend_woman', 'trend_ageatt', 'trend_items2', 'trend_items']\n",
    "# weights = [ 4.6 , 2.7 , 3.4 , 1.0 ]\n",
    "# sub['trend'] = sub[targets].apply(blend, w=weights, axis=1, k=100).apply(prune, ok_set=sold_set)\n",
    "# predicted = sub.trend.apply(lambda s: [] if pd.isna(s) else s.split())\n",
    "# score = validation(actual, predicted, grouping, score, index='Trend', ignore=(val_week == 105))"
   ]
  },
  {
   "cell_type": "code",
   "execution_count": 18,
   "id": "fe11da00",
   "metadata": {
    "scrolled": false
   },
   "outputs": [],
   "source": [
    "# def objective(trial):\n",
    "#     last_purchase = trial.suggest_float('last_purchase', 0.0, 50.0, step=0.05)\n",
    "#     uucf = trial.suggest_float('uucf', 0, 20, step=0.05)\n",
    "#     uucf2 = trial.suggest_float('uucf2', 0, 20, step=0.05)\n",
    "#     buy_together = trial.suggest_float('buy_together', 0, 20, step=0.05)\n",
    "#     other_colors = trial.suggest_float('other_colors', 0, 20, step=0.05)\n",
    "#     popular_items = trial.suggest_float('popular_items', 0, 20, step=0.05)\n",
    "#     trend_woman = trial.suggest_float('trend_woman', 0, 20, step=0.05)\n",
    "#     trend_ageatt = trial.suggest_float('trend_ageatt', 0, 20, step=0.05)\n",
    "#     trend_items2 = trial.suggest_float('trend_items2', 0, 20, step=0.05)\n",
    "#     trend_items = trial.suggest_float('trend_items', 0.0, 1.0, step=0.05)\n",
    "\n",
    "#     targets = ['last_purchase', 'other_colors', 'popular_items', 'uucf', 'uucf2', 'buy_together',\n",
    "#                'trend_woman', 'trend_ageatt', 'trend_items2', 'trend_items']\n",
    "#     weights = [last_purchase, other_colors, popular_items, uucf, uucf2, buy_together, \n",
    "#                trend_woman, trend_ageatt, trend_items2, trend_items]\n",
    "#     sub['prediction0'] = sub[targets].apply(blend, w=weights, axis=1, k=100).apply(prune, ok_set=sold_set)\n",
    "#     predicted = sub.prediction0.apply(lambda s: [] if pd.isna(s) else s.split())\n",
    "#     score = calc_score(actual, predicted, grouping, index='prediction0', ignore=(val_week == 105))\n",
    "#     return -score\n",
    "\n",
    "\n",
    "# # {'last_purchase': 10.8, 'uucf': 1.6, 'uucf2': 1.0, 'buy_together': 1.1, 'other_colors': 2.3, \n",
    "# #  'popular_items': 1.8, \n",
    "# #  'trend_woman': 1.0, 'trend_ageatt': 1.1, 'trend_items2': 1.4, 'trend_items': 0.4}\n",
    "# study = optuna.create_study()\n",
    "# study.enqueue_trial({\n",
    "#      'last_purchase': 48.35,\n",
    "#      'uucf': 15.5,\n",
    "#      'uucf2': 3.35,\n",
    "#      'buy_together': 5.65,\n",
    "#      'other_colors': 11.65,\n",
    "#      'popular_items': 8.05,\n",
    "#      'trend_woman': 7.85,\n",
    "#      'trend_ageatt': 6.25,\n",
    "#      'trend_items2': 10.45,\n",
    "#      'trend_items': 0.1})\n",
    "# study.optimize(objective, n_trials=200)\n",
    "# study.best_params"
   ]
  },
  {
   "cell_type": "code",
   "execution_count": null,
   "id": "f8705e56",
   "metadata": {},
   "outputs": [],
   "source": []
  },
  {
   "cell_type": "code",
   "execution_count": 19,
   "id": "d9b7fe77",
   "metadata": {},
   "outputs": [],
   "source": [
    "# targets = ['last_purchase','trend']\n",
    "# weights = [7.92,10-7.92]\n",
    "# sub['prediction0'] = sub[targets].apply(blend, w=weights, axis=1, k=100).apply(prune, ok_set=sold_set)\n",
    "# predicted = sub.prediction0.apply(lambda s: [] if pd.isna(s) else s.split())\n",
    "# score = validation(actual, predicted, grouping, score, index='Prediction0', ignore=(val_week == 105))"
   ]
  },
  {
   "cell_type": "code",
   "execution_count": 20,
   "id": "f3b80cf9",
   "metadata": {
    "scrolled": false
   },
   "outputs": [],
   "source": [
    "# def objective(trial):\n",
    "#     uucf = trial.suggest_float('uucf', 0.0, 10.0, step=0.1)\n",
    "#     uucf2 = trial.suggest_float('uucf2', 0.0, 10.0, step=0.1)\n",
    "#     trend = trial.suggest_float('trend', 0.0, 1.0, step=0.5)\n",
    "#     targets = ['uucf', 'uucf2','trend']\n",
    "#     weights = [uucf, uucf2 ,trend]\n",
    "#     sub['prediction1'] = sub[targets].apply(blend, w=weights, axis=1, k=100).apply(prune, ok_set=sold_set)\n",
    "#     predicted = sub.prediction1.apply(lambda s: [] if pd.isna(s) else s.split())\n",
    "#     score = calc_score(actual, predicted, grouping, index='prediction1', ignore=(val_week == 105))\n",
    "#     return -score\n",
    "\n",
    "# study = optuna.create_study()\n",
    "# study.enqueue_trial({'uucf': 3.1, 'uucf2': 0.9, 'trend': 1.0})\n",
    "# study.optimize(objective, n_trials=100)\n",
    "# study.best_params"
   ]
  },
  {
   "cell_type": "code",
   "execution_count": 21,
   "id": "62fd67ac",
   "metadata": {},
   "outputs": [],
   "source": [
    "# targets = ['uucf', 'uucf2','trend']\n",
    "# weights = [3.1, 0.9 , 1.0]\n",
    "# # targets = ['buy_together', 'other_colors', 'popular_items', 'trend']\n",
    "# # weights = [2,2,2,1]\n",
    "# sub['prediction1'] = sub[targets].apply(blend, w=weights, axis=1, k=100).apply(prune, ok_set=sold_set)\n",
    "# predicted = sub.prediction1.apply(lambda s: [] if pd.isna(s) else s.split())\n",
    "# score = validation(actual, predicted, grouping, score, index='Prediction1', ignore=(val_week == 105))"
   ]
  },
  {
   "cell_type": "code",
   "execution_count": 22,
   "id": "4bdaca19",
   "metadata": {
    "scrolled": false
   },
   "outputs": [],
   "source": [
    "# def objective(trial):\n",
    "#     buy_together = trial.suggest_float('buy_together', 0.0, 10.0, step=0.1)\n",
    "#     other_colors = trial.suggest_float('other_colors', 0.0, 10.0, step=0.1)\n",
    "#     popular_items = trial.suggest_float('popular_items', 0.0, 10.0, step=0.1)\n",
    "#     trend = trial.suggest_float('trend', 0.0, 1.0, step=0.5)\n",
    "#     targets = ['buy_together', 'other_colors', 'popular_items', 'trend']\n",
    "#     weights = [buy_together, other_colors, popular_items, trend]\n",
    "#     sub['prediction2'] = sub[targets].apply(blend, w=weights, axis=1, k=100).apply(prune, ok_set=sold_set)\n",
    "#     predicted = sub.prediction2.apply(lambda s: [] if pd.isna(s) else s.split())\n",
    "#     score = calc_score(actual, predicted, grouping, index='prediction2', ignore=(val_week == 105))\n",
    "#     return -score\n",
    "\n",
    "# study = optuna.create_study()\n",
    "# study.enqueue_trial({'buy_together': 1.1,\n",
    "#  'other_colors': 0.7000000000000001,\n",
    "#  'popular_items': 0.7000000000000001,\n",
    "#  'trend': 1.0})\n",
    "# study.optimize(objective, n_trials=100)\n",
    "# study.best_params"
   ]
  },
  {
   "cell_type": "code",
   "execution_count": 23,
   "id": "e4b0e9d8",
   "metadata": {},
   "outputs": [],
   "source": [
    "# targets = ['buy_together', 'other_colors', 'popular_items', 'trend']\n",
    "# weights = [1.1, 0.7, 0.7, 1.0]\n",
    "# sub['prediction2'] = sub[targets].apply(blend, w=weights, axis=1, k=100).apply(prune, ok_set=sold_set)\n",
    "# predicted = sub.prediction2.apply(lambda s: [] if pd.isna(s) else s.split())\n",
    "# score = validation(actual, predicted, grouping, score, index='Prediction2', ignore=(val_week == 105))"
   ]
  },
  {
   "cell_type": "code",
   "execution_count": 24,
   "id": "51ad616e",
   "metadata": {},
   "outputs": [],
   "source": [
    "# def objective(trial):\n",
    "#     prediction0 = trial.suggest_float('prediction0', 0.0, 10.0, step=0.1)\n",
    "#     prediction1 = trial.suggest_float('prediction1', 0.0, 10.0, step=0.1)\n",
    "#     prediction2 = trial.suggest_float('prediction2', 0.0, 10.0, step=0.1)\n",
    "#     targets = ['prediction0', 'prediction1', 'prediction2']\n",
    "#     weights = [prediction0, prediction1, prediction2]\n",
    "#     sub['prediction'] = sub[targets].apply(blend, w=weights, axis=1, k=100).apply(prune, ok_set=sold_set)\n",
    "#     predicted = sub.prediction.apply(lambda s: [] if pd.isna(s) else s.split())\n",
    "#     score = calc_score(actual, predicted, grouping, index='prediction', ignore=(val_week == 105))\n",
    "#     return -score\n",
    "\n",
    "# study = optuna.create_study()\n",
    "# # study.enqueue_trial({'buy_together': 1.1,\n",
    "# #  'other_colors': 0.7000000000000001,\n",
    "# #  'popular_items': 0.7000000000000001,\n",
    "# #  'trend': 1.0})\n",
    "# study.optimize(objective, n_trials=100)\n",
    "# study.best_params"
   ]
  },
  {
   "cell_type": "code",
   "execution_count": 25,
   "id": "4050780e",
   "metadata": {},
   "outputs": [],
   "source": [
    "# targets = ['prediction0', 'prediction1', 'prediction2']\n",
    "# weights = [1, 1, 1]\n",
    "# sub['prediction'] = sub[targets].apply(blend, w=weights, axis=1, k=100).apply(prune, ok_set=sold_set)\n",
    "# predicted = sub.prediction.apply(lambda s: [] if pd.isna(s) else s.split())\n",
    "# score = validation(actual, predicted, grouping, score, index='Prediction', ignore=(val_week == 105))"
   ]
  },
  {
   "cell_type": "code",
   "execution_count": null,
   "id": "0838a657",
   "metadata": {},
   "outputs": [],
   "source": []
  },
  {
   "cell_type": "code",
   "execution_count": 26,
   "id": "188f888c",
   "metadata": {
    "execution": {
     "iopub.execute_input": "2022-04-23T02:56:29.986245Z",
     "iopub.status.busy": "2022-04-23T02:56:29.985965Z",
     "iopub.status.idle": "2022-04-23T02:56:29.991960Z",
     "shell.execute_reply": "2022-04-23T02:56:29.990991Z"
    },
    "papermill": {
     "duration": 0.035039,
     "end_time": "2022-04-23T02:56:29.993830",
     "exception": false,
     "start_time": "2022-04-23T02:56:29.958791",
     "status": "completed"
    },
    "tags": []
   },
   "outputs": [
    {
     "data": {
      "text/plain": [
       "12"
      ]
     },
     "execution_count": 26,
     "metadata": {},
     "output_type": "execute_result"
    }
   ],
   "source": [
    "len(sub['prediction'][0].split())\n",
    "#sns.barplot(data=score, x='All', y=score.index)"
   ]
  },
  {
   "cell_type": "code",
   "execution_count": 27,
   "id": "828dc6cc",
   "metadata": {
    "execution": {
     "iopub.execute_input": "2022-04-23T02:56:30.048090Z",
     "iopub.status.busy": "2022-04-23T02:56:30.047798Z",
     "iopub.status.idle": "2022-04-23T02:56:43.215915Z",
     "shell.execute_reply": "2022-04-23T02:56:43.215126Z"
    },
    "papermill": {
     "duration": 13.19832,
     "end_time": "2022-04-23T02:56:43.218549",
     "exception": false,
     "start_time": "2022-04-23T02:56:30.020229",
     "status": "completed"
    },
    "tags": []
   },
   "outputs": [],
   "source": [
    "if val_week == 105: sub[['customer_id', 'prediction']].to_csv('submission.csv', index=False)"
   ]
  },
  {
   "cell_type": "code",
   "execution_count": 28,
   "id": "8507e243",
   "metadata": {},
   "outputs": [
    {
     "name": "stderr",
     "output_type": "stream",
     "text": [
      "100%|██████████| 1371980/1371980 [00:03<00:00, 368170.43it/s]\n"
     ]
    }
   ],
   "source": [
    "for i in tqdm(range(len(sub))) :\n",
    "    x = sub['prediction'][i].split(\" \")\n",
    "    if len(x) != 12 :\n",
    "        print(sub['customer_id'][i], x)\n",
    "        break"
   ]
  },
  {
   "cell_type": "code",
   "execution_count": null,
   "id": "7f2de9ec",
   "metadata": {},
   "outputs": [],
   "source": []
  },
  {
   "cell_type": "code",
   "execution_count": null,
   "id": "98be3bef",
   "metadata": {},
   "outputs": [],
   "source": []
  }
 ],
 "metadata": {
  "kernelspec": {
   "display_name": "Python 3",
   "language": "python",
   "name": "python3"
  },
  "language_info": {
   "codemirror_mode": {
    "name": "ipython",
    "version": 3
   },
   "file_extension": ".py",
   "mimetype": "text/x-python",
   "name": "python",
   "nbconvert_exporter": "python",
   "pygments_lexer": "ipython3",
   "version": "3.8.8"
  },
  "papermill": {
   "default_parameters": {},
   "duration": 247.434399,
   "end_time": "2022-04-23T02:56:45.942348",
   "environment_variables": {},
   "exception": null,
   "input_path": "__notebook__.ipynb",
   "output_path": "__notebook__.ipynb",
   "parameters": {},
   "start_time": "2022-04-23T02:52:38.507949",
   "version": "2.3.4"
  }
 },
 "nbformat": 4,
 "nbformat_minor": 5
}
