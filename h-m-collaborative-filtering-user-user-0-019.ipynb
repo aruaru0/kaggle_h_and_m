{
 "cells": [
  {
   "cell_type": "markdown",
   "id": "1e825ec5",
   "metadata": {
    "papermill": {
     "duration": 0.036283,
     "end_time": "2022-03-31T16:32:10.476740",
     "exception": false,
     "start_time": "2022-03-31T16:32:10.440457",
     "status": "completed"
    },
    "tags": []
   },
   "source": [
    "# H&M - Collaborative Filtering: User-user\n",
    "![](https://storage.googleapis.com/kaggle-competitions/kaggle/31254/logos/header.png)\n",
    "\n",
    "## A user-user collaborative filtering (UUCF) model for the competition [H&M Personalized Fashion Recommendations](https://www.kaggle.com/c/h-and-m-personalized-fashion-recommendations).\n",
    "\n",
    "\n",
    "A UUCF (user-user collaborative filtering) is one of the most common Recommender System. The core idea behind it is as follow: \n",
    "* For a given user (`u`), we will search for similar users. Let's say, the 10 most similar users to `u`. This is `u`'s neighborhood. \n",
    "* We search for the most popular items in this neighborhood of users similar to `u`, `I`\n",
    "* We check the items that are popular in the group of users similar to `u`, that `u` hasn't purchased yet.\n",
    "* We recommend those items to `u`\n",
    "\n",
    "Now, we need to operationalize two things here: \n",
    "* What does it mean that 2 users are similar?\n",
    "* What does it mean that an item is popular in a group of users?\n",
    "\n",
    "For the similarity among users, we will just compare their purchases. The overlap of their purchased items is the similarity of the users. With this idea, we want to capture users with similar consumption patterns.\n",
    "\n",
    "For the popularity of items in a group, there are more simple and more complex definitions. We can just take the number of purchases a given product has in a group and rank all the possible products with that metric. Or we can consider the similarity to the original user `u` and weight the purchases depending on who was purchasing. That way, purchases of users that are more similar to `u` will have a stronger impact on the overall ranking of products.\n",
    "\n",
    "---\n",
    "\n",
    "**In version 20 I have removed Heng's \"time is our best friend\" model as the fallback model for cold start and put a simple 12-most popular one in its place. Heng's baseline seems to be performing much better than my UUCF so the reporting a `0.019` score is actually a `-0.001` against doing nothing. I want to see the result of the UUCF by itself. I was expecting to outperform the baseline with a subset of users under the UUCF regime, but I couldn't till now. The next steps in order to make UUCF work would be to have a validation strategy and extract the hyperparameters of the code in order to find the optimal combination. Hope someone can make the UUCF perform better (I know it can).**\n",
    "\n",
    "If I can obtain a score that surpasses the `0.02`, using UUCF + Heng's baseline, I will share it for sure.\n",
    "\n",
    "\n",
    "\n",
    "# Please, _DO_ upvote if you find this kernel useful or interesting!"
   ]
  },
  {
   "cell_type": "markdown",
   "id": "a8486d27",
   "metadata": {
    "papermill": {
     "duration": 0.021038,
     "end_time": "2022-03-31T16:32:10.530902",
     "exception": false,
     "start_time": "2022-03-31T16:32:10.509864",
     "status": "completed"
    },
    "tags": []
   },
   "source": [
    "# Imports and prepare data"
   ]
  },
  {
   "cell_type": "code",
   "execution_count": 1,
   "id": "5681e3cb",
   "metadata": {
    "execution": {
     "iopub.execute_input": "2022-03-31T16:32:10.576682Z",
     "iopub.status.busy": "2022-03-31T16:32:10.575547Z",
     "iopub.status.idle": "2022-03-31T16:32:10.583633Z",
     "shell.execute_reply": "2022-03-31T16:32:10.584216Z",
     "shell.execute_reply.started": "2022-03-28T03:40:42.642235Z"
    },
    "papermill": {
     "duration": 0.03282,
     "end_time": "2022-03-31T16:32:10.584530",
     "exception": false,
     "start_time": "2022-03-31T16:32:10.551710",
     "status": "completed"
    },
    "tags": []
   },
   "outputs": [],
   "source": [
    "import time\n",
    "import numpy as np\n",
    "import pandas as pd\n",
    "\n",
    "import multiprocessing as mp\n",
    "from multiprocessing import Pool\n",
    "from functools import partial"
   ]
  },
  {
   "cell_type": "code",
   "execution_count": 2,
   "id": "b304eebe",
   "metadata": {
    "_cell_guid": "b1076dfc-b9ad-4769-8c92-a6c4dae69d19",
    "_uuid": "8f2839f25d086af736a60e9eeb907d3b93b6e0e5",
    "execution": {
     "iopub.execute_input": "2022-03-31T16:32:10.632854Z",
     "iopub.status.busy": "2022-03-31T16:32:10.629715Z",
     "iopub.status.idle": "2022-03-31T16:33:25.284462Z",
     "shell.execute_reply": "2022-03-31T16:33:25.285508Z",
     "shell.execute_reply.started": "2022-03-28T03:40:42.673142Z"
    },
    "papermill": {
     "duration": 74.679997,
     "end_time": "2022-03-31T16:33:25.285796",
     "exception": false,
     "start_time": "2022-03-31T16:32:10.605799",
     "status": "completed"
    },
    "tags": []
   },
   "outputs": [],
   "source": [
    "base_path = '../input/h-and-m-personalized-fashion-recommendations/'\n",
    "csv_train = f'{base_path}transactions_train.csv'\n",
    "csv_sub = f'{base_path}sample_submission.csv'\n",
    "csv_users = f'{base_path}customers.csv'\n",
    "csv_items = f'{base_path}articles.csv'\n",
    "\n",
    "df = pd.read_csv(csv_train, dtype={'article_id': str}, parse_dates=['t_dat'])\n",
    "df_sub = pd.read_csv(csv_sub)"
   ]
  },
  {
   "cell_type": "markdown",
   "id": "058ae5ca",
   "metadata": {
    "papermill": {
     "duration": 0.020781,
     "end_time": "2022-03-31T16:33:25.330299",
     "exception": false,
     "start_time": "2022-03-31T16:33:25.309518",
     "status": "completed"
    },
    "tags": []
   },
   "source": [
    "# Create mapping from ids to incremental integers and viceversa\n",
    "\n",
    "* We will reserve the term `user_id` as a integer from 0 and `customer_id` for the original id.\n",
    "* The same goes with `item_id` and `article_id`"
   ]
  },
  {
   "cell_type": "code",
   "execution_count": 3,
   "id": "c45fc891",
   "metadata": {
    "execution": {
     "iopub.execute_input": "2022-03-31T16:33:25.386666Z",
     "iopub.status.busy": "2022-03-31T16:33:25.385856Z",
     "iopub.status.idle": "2022-03-31T16:33:32.801446Z",
     "shell.execute_reply": "2022-03-31T16:33:32.800892Z",
     "shell.execute_reply.started": "2022-03-28T03:42:03.445914Z"
    },
    "papermill": {
     "duration": 7.443918,
     "end_time": "2022-03-31T16:33:32.801605",
     "exception": false,
     "start_time": "2022-03-31T16:33:25.357687",
     "status": "completed"
    },
    "tags": []
   },
   "outputs": [],
   "source": [
    "dfu = pd.read_csv(csv_users)\n",
    "dfi = pd.read_csv(csv_items, dtype={'article_id': str})\n",
    "\n",
    "ALL_USERS = dfu['customer_id'].unique().tolist()\n",
    "ALL_ITEMS = dfi['article_id'].unique().tolist()\n",
    "\n",
    "user_to_customer_map = {user_id: customer_id for user_id, customer_id in enumerate(ALL_USERS)}\n",
    "customer_to_user_map = {customer_id: user_id for user_id, customer_id in enumerate(ALL_USERS)}\n",
    "\n",
    "item_to_article_map = {item_id: article_id for item_id, article_id in enumerate(ALL_ITEMS)}\n",
    "article_to_item_map = {article_id: item_id for item_id, article_id in enumerate(ALL_ITEMS)}\n",
    "\n",
    "del dfu, dfi"
   ]
  },
  {
   "cell_type": "code",
   "execution_count": 4,
   "id": "332f7123",
   "metadata": {
    "execution": {
     "iopub.execute_input": "2022-03-31T16:33:32.849008Z",
     "iopub.status.busy": "2022-03-31T16:33:32.847949Z",
     "iopub.status.idle": "2022-03-31T16:33:45.897974Z",
     "shell.execute_reply": "2022-03-31T16:33:45.898481Z",
     "shell.execute_reply.started": "2022-03-28T03:42:10.970026Z"
    },
    "papermill": {
     "duration": 13.075628,
     "end_time": "2022-03-31T16:33:45.898660",
     "exception": false,
     "start_time": "2022-03-31T16:33:32.823032",
     "status": "completed"
    },
    "tags": []
   },
   "outputs": [],
   "source": [
    "df['user_id'] = df['customer_id'].map(customer_to_user_map)\n",
    "df['item_id'] = df['article_id'].map(article_to_item_map)"
   ]
  },
  {
   "cell_type": "markdown",
   "id": "5c6a817c",
   "metadata": {
    "papermill": {
     "duration": 0.020522,
     "end_time": "2022-03-31T16:33:45.942337",
     "exception": false,
     "start_time": "2022-03-31T16:33:45.921815",
     "status": "completed"
    },
    "tags": []
   },
   "source": [
    "# Build model"
   ]
  },
  {
   "cell_type": "markdown",
   "id": "6ec5b3de",
   "metadata": {
    "papermill": {
     "duration": 0.020827,
     "end_time": "2022-03-31T16:33:45.984954",
     "exception": false,
     "start_time": "2022-03-31T16:33:45.964127",
     "status": "completed"
    },
    "tags": []
   },
   "source": [
    "# Configuration parameters"
   ]
  },
  {
   "cell_type": "markdown",
   "id": "47b4069a",
   "metadata": {
    "papermill": {
     "duration": 0.02064,
     "end_time": "2022-03-31T16:33:46.026500",
     "exception": false,
     "start_time": "2022-03-31T16:33:46.005860",
     "status": "completed"
    },
    "tags": []
   },
   "source": [
    "Since UUCF is very computationally expensive, we will apply it only to a small subset of users. The hope is that, for those users, the recommendation are better than the other models.\n",
    "\n",
    "We will reduce the data from 2 fronts:\n",
    "* Keep only the most recent history. That is `START_DATE`.\n",
    "* Keep only users with at least `MINIMUM_PURCHASES`"
   ]
  },
  {
   "cell_type": "code",
   "execution_count": 5,
   "id": "7860082c",
   "metadata": {
    "execution": {
     "iopub.execute_input": "2022-03-31T16:33:46.073130Z",
     "iopub.status.busy": "2022-03-31T16:33:46.072514Z",
     "iopub.status.idle": "2022-03-31T16:33:46.075312Z",
     "shell.execute_reply": "2022-03-31T16:33:46.074712Z",
     "shell.execute_reply.started": "2022-03-28T03:42:26.740771Z"
    },
    "papermill": {
     "duration": 0.028095,
     "end_time": "2022-03-31T16:33:46.075445",
     "exception": false,
     "start_time": "2022-03-31T16:33:46.047350",
     "status": "completed"
    },
    "tags": []
   },
   "outputs": [],
   "source": [
    "N_SIMILAR_USERS = 30\n",
    "\n",
    "MINIMUM_PURCHASES = 3\n",
    "\n",
    "START_DATE = '2020-08-21'\n",
    "\n",
    "#DROP_PURCHASED_ITEMS = False\n",
    "DROP_PURCHASED_ITEMS = True\n",
    "\n",
    "DROP_USER_FROM_HIS_NEIGHBORHOOD = True\n",
    "\n",
    "TEST_RUN = False\n",
    "\n",
    "TEST_SIZE = 1000"
   ]
  },
  {
   "cell_type": "code",
   "execution_count": 6,
   "id": "4fa70ba8",
   "metadata": {
    "execution": {
     "iopub.execute_input": "2022-03-31T16:33:46.171212Z",
     "iopub.status.busy": "2022-03-31T16:33:46.120573Z",
     "iopub.status.idle": "2022-03-31T16:33:46.173672Z",
     "shell.execute_reply": "2022-03-31T16:33:46.173228Z",
     "shell.execute_reply.started": "2022-03-28T03:42:26.747609Z"
    },
    "papermill": {
     "duration": 0.077524,
     "end_time": "2022-03-31T16:33:46.173843",
     "exception": false,
     "start_time": "2022-03-31T16:33:46.096319",
     "status": "completed"
    },
    "tags": []
   },
   "outputs": [],
   "source": [
    "def flatten(l):\n",
    "    \"\"\" Flatten a list of lists\"\"\"\n",
    "    return [item for sublist in l for item in sublist]\n",
    "\n",
    "def compare_vectors(v1, v2):\n",
    "    \"\"\"Compare lists of purchased product for two given users\n",
    "    v1 stands for the \"vector representation for user 1\", which is a list of the purchases of u1\n",
    "    \n",
    "    Returns:\n",
    "        A value between 0 and 1 (similarity)\n",
    "    \"\"\"\n",
    "    intersection = len(set(v1) & set(v2))\n",
    "    denominator = np.sqrt(len(v1) * len(v2))\n",
    "    return intersection / denominator\n",
    "\n",
    "def get_similar_users(u, v, dfh):\n",
    "    \"\"\"\n",
    "    Get the N_SIMILAR_USERS most similar users to the given one with their similarity score\n",
    "    Arguments:\n",
    "        u: the user_id, \n",
    "        v:  the \"vector\" representation of the user (list of item_id)\n",
    "        dfh : the \"history of transaccions\" dataframe\n",
    "        \n",
    "    Returns:\n",
    "        tuple of lists ([similar user_id], [similarity scores])\n",
    "    \"\"\"\n",
    "    similar_users = dfh.apply(lambda v_other: compare_vectors(v, v_other)).sort_values(ascending=False).head(N_SIMILAR_USERS + 1)\n",
    "    \n",
    "    if DROP_USER_FROM_HIS_NEIGHBORHOOD:\n",
    "        similar_users = similar_users[similar_users.index != u]\n",
    "        \n",
    "    return similar_users.index.tolist(), similar_users.tolist()\n",
    "\n",
    "def get_items(u, v, dfh):\n",
    "    \"\"\" Get the recommend items for a given users\n",
    "    \n",
    "    It will:\n",
    "        1) Get similar users for the given user\n",
    "        2) Obtain all the items those users purchased\n",
    "        3) Rank them using the similarity scores of the user that purchased them\n",
    "        4) Return the 12 best ranked\n",
    "    \n",
    "    Arguments:\n",
    "        u: the user_id, \n",
    "        v:  the \"vector\" representation of the user (list of item_id)\n",
    "        dfh : the \"history of transaccions\" dataframe\n",
    "        \n",
    "    Returns:\n",
    "        list of item_id of lenght at most 12\n",
    "    \"\"\"\n",
    "    global i, n\n",
    "    \n",
    "    users, scores = get_similar_users(u, v, dfh)\n",
    "    df_nn = pd.DataFrame({'user': users, 'score': scores})\n",
    "    df_nn['items'] = df_nn.apply(lambda row: dfh.loc[row.user], axis=1)\n",
    "    df_nn['weighted_items'] = df_nn.apply(lambda row: [(item, row.score) for item in row['items']], axis=1)\n",
    "\n",
    "    recs = pd.DataFrame(flatten(df_nn['weighted_items'].tolist()), columns=['item', 'score']).groupby('item')['score'].sum().sort_values(ascending=False)\n",
    "    if DROP_PURCHASED_ITEMS:\n",
    "        recs = recs[~recs.index.isin(v)]\n",
    "    # Keep the first 12 and get the item_ids\n",
    "    i +=1\n",
    "    if i % 5000 == 0:\n",
    "        pid = mp.current_process().pid\n",
    "        print(f\"[PID {pid:>2d}] Finished {i:3d} / {n:5d} - {i/n*100:3.0f}%\")\n",
    "    #return recs.head(12).index.tolist()\n",
    "    return recs.head(50).index.tolist()\n",
    "def get_items_chunk(user_ids: np.array, dfh: pd.DataFrame):\n",
    "    \"\"\" Call get_item for a list of user_ids\n",
    "    \n",
    "    Arguments:\n",
    "        user_ids: list of user_id, \n",
    "        dfh: the \"history of transaccions\" dataframe\n",
    "        \n",
    "    Returns:\n",
    "        pd.Series with index user_id and list of item_id (recommendations) as value\n",
    "    \"\"\"\n",
    "    global i, n\n",
    "    i = 0\n",
    "    \n",
    "    n = len(user_ids)\n",
    "    pid = mp.current_process().pid\n",
    "    #print(f\"[PID {pid:>2d}] Started working with {n:5d} users\")\n",
    "    \n",
    "    df_user_vectors = pd.DataFrame(dfh.loc[user_ids]).reset_index()\n",
    "    df_user_vectors['recs'] = df_user_vectors.apply(lambda row: get_items(row.user_id, row.item_id, dfh), axis=1)\n",
    "    return df_user_vectors.set_index('user_id')['recs']\n",
    "\n",
    "def get_recommendations(users: list, dfh: pd.DataFrame):\n",
    "    \"\"\"\n",
    "    Obtained recommendation for the users using transaccion dfh in a parallelized manner\n",
    "    \n",
    "    Call get_items_chunk in a \"smart\" multiprocessing fashion\n",
    "    \n",
    "    Arguments:\n",
    "        users: list of user_id\n",
    "        dfh: the \"history of transaccions\" dataframe\n",
    "    \n",
    "    Returns:\n",
    "        pd.DataFrame with index user_id and list of item_id (recommendations) as value\n",
    "    \n",
    "    \"\"\"\n",
    "    time_start = time.time()\n",
    "    \n",
    "    # Split into approximately evenly sized chunks\n",
    "    # We will send just one batch to each CPU \n",
    "    user_chunks = np.array_split(users, mp.cpu_count())\n",
    "    \n",
    "    f = partial(get_items_chunk, dfh=dfh)\n",
    "    with Pool(mp.cpu_count()) as p:\n",
    "        res = p.map(f, user_chunks)\n",
    "    \n",
    "    df_rec = pd.DataFrame(pd.concat(res))\n",
    "\n",
    "    elapsed = (time.time() - time_start) / 60\n",
    "    print(f\"Finished get_recommendations({len(users)}). It took {elapsed:5.2f} mins\")\n",
    "    return df_rec\n",
    "\n",
    "\n",
    "def uucf(df, start_date=START_DATE):\n",
    "    \"\"\" Entry point for the UUCF model. \n",
    "    \n",
    "    Receive the original transactions_train.csv and a start_date and gets UUCF recommendations\n",
    "    \n",
    "    The model will not cover the full list of users, but just a subset of them.\n",
    "    \n",
    "    It will provide recommendations for users with at least MINIMUM_PURCHASES after start_date.\n",
    "    It might return less than 12 recs per user.\n",
    "    \n",
    "    An ad-hoc function for filling these gaps should be used downstream.\n",
    "    (See fill functionality right below)\n",
    "    \n",
    "    \n",
    "    Arguments:\n",
    "        df: The raw dataframe from transactions_train.csv\n",
    "        start_date: a date\n",
    "        \n",
    "    Returns:\n",
    "        a submission-like pd.DataFrame with columns [customer_id, prediction]\n",
    "        'prediction' is a list and not a string though\n",
    "    \n",
    "    \"\"\"\n",
    "    df_small = df[df['t_dat'] > start_date]\n",
    "    print(f\"Kept data from {start_date} on. Total rows: {len(df_small)}\")\n",
    "    \n",
    "    # H stands for \"Transaction history\"\n",
    "    # dfh is a series of user_id => list of item_id (the list of purchases in order)\n",
    "    dfh = df_small.groupby(\"user_id\")['item_id'].apply(lambda items: list(set(items)))\n",
    "    dfh = dfh[dfh.str.len() >= MINIMUM_PURCHASES]\n",
    "    if TEST_RUN:\n",
    "        print(\"WARNING: TEST_RUN is True. It will be a toy execution.\")\n",
    "        dfh = dfh.head(TEST_SIZE)\n",
    "    \n",
    "    users = dfh.index.tolist()\n",
    "    n_users = len(users)\n",
    "    print(f\"Total users in the time frame with at least {MINIMUM_PURCHASES}: {n_users}\")\n",
    "    \n",
    "    df_rec = get_recommendations(users, dfh)\n",
    "    df_rec['customer_id'] = df_rec.index.map(user_to_customer_map)\n",
    "    df_rec['prediction'] = df_rec['recs'].map(lambda l: [item_to_article_map[i] for i in l])\n",
    "    #df_rec['prediction'] = df_rec['recs'].map(lambda l: \" \".join(item_to_article_map[:len(l)]))\n",
    "    # Submission ready dataframe\n",
    "    df_rec.reset_index(drop=True)[['customer_id', 'prediction']]\n",
    "    return df_rec "
   ]
  },
  {
   "cell_type": "code",
   "execution_count": null,
   "id": "e57dc775",
   "metadata": {
    "execution": {
     "iopub.execute_input": "2022-03-31T16:33:46.220957Z",
     "iopub.status.busy": "2022-03-31T16:33:46.220319Z",
     "iopub.status.idle": "2022-04-01T01:37:55.519034Z",
     "shell.execute_reply": "2022-04-01T01:37:55.518056Z",
     "shell.execute_reply.started": "2022-03-28T03:42:26.810377Z"
    },
    "papermill": {
     "duration": 32649.324681,
     "end_time": "2022-04-01T01:37:55.519626",
     "exception": false,
     "start_time": "2022-03-31T16:33:46.194945",
     "status": "completed"
    },
    "tags": []
   },
   "outputs": [
    {
     "name": "stdout",
     "output_type": "stream",
     "text": [
      "Kept data from 2020-08-21 on. Total rows: 1190911\n",
      "Total users in the time frame with at least 3: 141572\n",
      "[PID 265] Finished 5000 / 23596 -  21%\n",
      "[PID 266] Finished 5000 / 23596 -  21%\n",
      "[PID 267] Finished 5000 / 23595 -  21%\n",
      "[PID 268] Finished 5000 / 23595 -  21%\n",
      "[PID 270] Finished 5000 / 23595 -  21%\n",
      "[PID 269] Finished 5000 / 23595 -  21%\n",
      "[PID 265] Finished 10000 / 23596 -  42%\n",
      "[PID 267] Finished 10000 / 23595 -  42%\n",
      "[PID 266] Finished 10000 / 23596 -  42%\n",
      "[PID 268] Finished 10000 / 23595 -  42%\n",
      "[PID 270] Finished 10000 / 23595 -  42%\n",
      "[PID 269] Finished 10000 / 23595 -  42%\n"
     ]
    }
   ],
   "source": [
    "df_recs = uucf(df)"
   ]
  },
  {
   "cell_type": "code",
   "execution_count": null,
   "id": "a23f4a2f",
   "metadata": {
    "execution": {
     "iopub.execute_input": "2022-04-01T01:37:55.601125Z",
     "iopub.status.busy": "2022-04-01T01:37:55.600417Z",
     "iopub.status.idle": "2022-04-01T01:37:55.889164Z",
     "shell.execute_reply": "2022-04-01T01:37:55.888535Z",
     "shell.execute_reply.started": "2022-03-28T03:42:40.681481Z"
    },
    "papermill": {
     "duration": 0.332287,
     "end_time": "2022-04-01T01:37:55.889313",
     "exception": false,
     "start_time": "2022-04-01T01:37:55.557026",
     "status": "completed"
    },
    "tags": []
   },
   "outputs": [],
   "source": [
    "df_recs[\"prediction\"]=df_recs[\"prediction\"].map(lambda x:\" \".join(x))\n",
    "#\" \".join(df_recs[\"prediction\"][13])"
   ]
  },
  {
   "cell_type": "code",
   "execution_count": null,
   "id": "7b2f5997",
   "metadata": {
    "execution": {
     "iopub.execute_input": "2022-04-01T01:37:55.972681Z",
     "iopub.status.busy": "2022-04-01T01:37:55.972083Z",
     "iopub.status.idle": "2022-04-01T01:37:55.993066Z",
     "shell.execute_reply": "2022-04-01T01:37:55.993516Z",
     "shell.execute_reply.started": "2022-03-28T03:42:40.691803Z"
    },
    "papermill": {
     "duration": 0.067404,
     "end_time": "2022-04-01T01:37:55.993683",
     "exception": false,
     "start_time": "2022-04-01T01:37:55.926279",
     "status": "completed"
    },
    "tags": []
   },
   "outputs": [],
   "source": [
    "df_recs"
   ]
  },
  {
   "cell_type": "code",
   "execution_count": null,
   "id": "982f3545",
   "metadata": {
    "execution": {
     "iopub.execute_input": "2022-04-01T01:37:56.077722Z",
     "iopub.status.busy": "2022-04-01T01:37:56.077122Z",
     "iopub.status.idle": "2022-04-01T01:37:56.079570Z",
     "shell.execute_reply": "2022-04-01T01:37:56.079141Z",
     "shell.execute_reply.started": "2022-03-28T03:42:40.730763Z"
    },
    "papermill": {
     "duration": 0.04461,
     "end_time": "2022-04-01T01:37:56.079703",
     "exception": false,
     "start_time": "2022-04-01T01:37:56.035093",
     "status": "completed"
    },
    "tags": []
   },
   "outputs": [],
   "source": [
    "#df_recs.to_csv(\"uucf_original.csv\", index=False)"
   ]
  },
  {
   "cell_type": "markdown",
   "id": "a2a5edfb",
   "metadata": {
    "papermill": {
     "duration": 0.037046,
     "end_time": "2022-04-01T01:37:56.155361",
     "exception": false,
     "start_time": "2022-04-01T01:37:56.118315",
     "status": "completed"
    },
    "tags": []
   },
   "source": [
    "# Fill the remainder with another model\n",
    "We will use [Heng Zheng](https://www.kaggle.com/hengzheng)'s [time is our best friend v2](https://www.kaggle.com/hengzheng/time-is-our-best-friend-v2/) which is simple and the best performing public model as of today.\n",
    "\n",
    "I have created a dataset with the submission file from that notebook [here](https://www.kaggle.com/julian3833/heng-zhengs-time-is-our-best-friend-v2-submission)."
   ]
  },
  {
   "cell_type": "code",
   "execution_count": null,
   "id": "76d2f136",
   "metadata": {
    "execution": {
     "iopub.execute_input": "2022-04-01T01:37:56.233473Z",
     "iopub.status.busy": "2022-04-01T01:37:56.232867Z",
     "iopub.status.idle": "2022-04-01T01:38:01.734490Z",
     "shell.execute_reply": "2022-04-01T01:38:01.733424Z",
     "shell.execute_reply.started": "2022-03-28T03:42:40.736538Z"
    },
    "papermill": {
     "duration": 5.541684,
     "end_time": "2022-04-01T01:38:01.734643",
     "exception": false,
     "start_time": "2022-04-01T01:37:56.192959",
     "status": "completed"
    },
    "tags": []
   },
   "outputs": [],
   "source": [
    "csv_fill = f'{base_path}sample_submission.csv'\n",
    "#'../input/h-m-content-based-12-most-popular-items-0-007/submission.csv'\n",
    "df_fill = pd.read_csv(csv_fill)"
   ]
  },
  {
   "cell_type": "code",
   "execution_count": 12,
   "id": "86144828",
   "metadata": {
    "execution": {
     "iopub.execute_input": "2022-04-01T01:38:01.813065Z",
     "iopub.status.busy": "2022-04-01T01:38:01.812413Z",
     "iopub.status.idle": "2022-04-01T01:38:01.820190Z",
     "shell.execute_reply": "2022-04-01T01:38:01.820602Z",
     "shell.execute_reply.started": "2022-03-28T03:42:45.256114Z"
    },
    "papermill": {
     "duration": 0.04864,
     "end_time": "2022-04-01T01:38:01.820805",
     "exception": false,
     "start_time": "2022-04-01T01:38:01.772165",
     "status": "completed"
    },
    "tags": []
   },
   "outputs": [],
   "source": [
    "def drop_duplicates(seq):\n",
    "    \"\"\" Remove duplicates of a given sequence keeping order\"\"\"\n",
    "    seen = set()\n",
    "    seen_add = seen.add\n",
    "    return [x for x in seq if not (x in seen or seen_add(x))]\n",
    "\n",
    "def fill_row(row):\n",
    "    uucf = row['prediction_uucf']\n",
    "    fill = row['prediction_fill'].split()\n",
    "    #new_list = drop_duplicates(uucf + fill)[:12]\n",
    "    new_list = drop_duplicates(uucf + fill)[:50]\n",
    "    return ' '.join(new_list)\n",
    "\n",
    "\n",
    "def fill(df_recs, df_fill):\n",
    "    df_recs['len'] = df_recs['prediction'].str.len()\n",
    "    df_recs = pd.merge(df_fill, df_recs, how='left', on='customer_id', suffixes=('_fill', '_uucf'))\n",
    "    \n",
    "    \n",
    "    # No recs from UUCF at all: use the fallback model \n",
    "    df_recs.loc[df_recs['prediction_uucf'].isnull(), 'prediction'] = df_recs['prediction_fill']\n",
    "\n",
    "\n",
    "    # Full UUCF recommendation\n",
    "    #mask = df_recs['prediction_uucf'].notnull() & (df_recs['len'] == 12)\n",
    "    mask = df_recs['prediction_uucf'].notnull() & (df_recs['len'] == 50)\n",
    "    df_recs.loc[mask, 'prediction'] = df_recs['prediction_uucf']\n",
    "\n",
    "\n",
    "    # Fill with another model. Not enough recs from UUCF\n",
    "    #fill_mask = df_recs['prediction_uucf'].notnull() & (df_recs['len'] < 12)\n",
    "    fill_mask = df_recs['prediction_uucf'].notnull() & (df_recs['len'] < 50)\n",
    "    df_recs.loc[fill_mask, 'prediction'] = df_recs[fill_mask].apply(fill_row, axis=1)\n",
    "    return df_recs.drop(['prediction_uucf', 'prediction_fill', 'len', 'recs'], axis=1)"
   ]
  },
  {
   "cell_type": "code",
   "execution_count": 13,
   "id": "00781895",
   "metadata": {
    "execution": {
     "iopub.execute_input": "2022-04-01T01:38:01.900602Z",
     "iopub.status.busy": "2022-04-01T01:38:01.900035Z",
     "iopub.status.idle": "2022-04-01T01:38:01.904434Z",
     "shell.execute_reply": "2022-04-01T01:38:01.904953Z",
     "shell.execute_reply.started": "2022-03-28T03:42:45.269831Z"
    },
    "papermill": {
     "duration": 0.046952,
     "end_time": "2022-04-01T01:38:01.905115",
     "exception": false,
     "start_time": "2022-04-01T01:38:01.858163",
     "status": "completed"
    },
    "tags": []
   },
   "outputs": [],
   "source": [
    "def fill_only_uucf(df_recs, df_fill):\n",
    "    df_recs['len'] = df_recs['prediction'].str.len()\n",
    "    df_recs = pd.merge(df_fill, df_recs, how='left', on='customer_id', suffixes=('_fill', '_uucf'))\n",
    "    \n",
    "    \n",
    "    # No recs from UUCF at all: use the fallback model \n",
    "    #df_recs.loc[df_recs['prediction_uucf'].isnull(), 'prediction'] = df_recs['prediction_fill']\n",
    "\n",
    "\n",
    "    # Fill UUCF recommendation\n",
    "    #mask = df_recs['prediction_uucf'].notnull() & (df_recs['len'] == 12)\n",
    "    mask = df_recs['prediction_uucf'].notnull()\n",
    "    #df_recs.loc[mask, 'prediction'] = df_recs['prediction_uucf']\n",
    "    df_recs.loc[mask, 'prediction'] = df_recs['prediction_uucf']\n",
    "    \n",
    "    return df_recs.drop(['prediction_uucf', 'prediction_fill', 'len', 'recs'], axis=1)"
   ]
  },
  {
   "cell_type": "code",
   "execution_count": 14,
   "id": "622b83ee",
   "metadata": {
    "execution": {
     "iopub.execute_input": "2022-04-01T01:38:01.983068Z",
     "iopub.status.busy": "2022-04-01T01:38:01.982423Z",
     "iopub.status.idle": "2022-04-01T01:38:03.869581Z",
     "shell.execute_reply": "2022-04-01T01:38:03.868938Z",
     "shell.execute_reply.started": "2022-03-28T03:42:45.28809Z"
    },
    "papermill": {
     "duration": 1.92733,
     "end_time": "2022-04-01T01:38:03.869736",
     "exception": false,
     "start_time": "2022-04-01T01:38:01.942406",
     "status": "completed"
    },
    "tags": []
   },
   "outputs": [
    {
     "data": {
      "text/html": [
       "<div>\n",
       "<style scoped>\n",
       "    .dataframe tbody tr th:only-of-type {\n",
       "        vertical-align: middle;\n",
       "    }\n",
       "\n",
       "    .dataframe tbody tr th {\n",
       "        vertical-align: top;\n",
       "    }\n",
       "\n",
       "    .dataframe thead th {\n",
       "        text-align: right;\n",
       "    }\n",
       "</style>\n",
       "<table border=\"1\" class=\"dataframe\">\n",
       "  <thead>\n",
       "    <tr style=\"text-align: right;\">\n",
       "      <th></th>\n",
       "      <th>customer_id</th>\n",
       "      <th>prediction</th>\n",
       "    </tr>\n",
       "  </thead>\n",
       "  <tbody>\n",
       "    <tr>\n",
       "      <th>0</th>\n",
       "      <td>00000dbacae5abe5e23885899a1fa44253a17956c6d1c3...</td>\n",
       "      <td>NaN</td>\n",
       "    </tr>\n",
       "    <tr>\n",
       "      <th>1</th>\n",
       "      <td>0000423b00ade91418cceaf3b26c6af3dd342b51fd051e...</td>\n",
       "      <td>NaN</td>\n",
       "    </tr>\n",
       "    <tr>\n",
       "      <th>2</th>\n",
       "      <td>000058a12d5b43e67d225668fa1f8d618c13dc232df0ca...</td>\n",
       "      <td>NaN</td>\n",
       "    </tr>\n",
       "    <tr>\n",
       "      <th>3</th>\n",
       "      <td>00005ca1c9ed5f5146b52ac8639a40ca9d57aeff4d1bd2...</td>\n",
       "      <td>NaN</td>\n",
       "    </tr>\n",
       "    <tr>\n",
       "      <th>4</th>\n",
       "      <td>00006413d8573cd20ed7128e53b7b13819fe5cfc2d801f...</td>\n",
       "      <td>NaN</td>\n",
       "    </tr>\n",
       "  </tbody>\n",
       "</table>\n",
       "</div>"
      ],
      "text/plain": [
       "                                         customer_id prediction\n",
       "0  00000dbacae5abe5e23885899a1fa44253a17956c6d1c3...        NaN\n",
       "1  0000423b00ade91418cceaf3b26c6af3dd342b51fd051e...        NaN\n",
       "2  000058a12d5b43e67d225668fa1f8d618c13dc232df0ca...        NaN\n",
       "3  00005ca1c9ed5f5146b52ac8639a40ca9d57aeff4d1bd2...        NaN\n",
       "4  00006413d8573cd20ed7128e53b7b13819fe5cfc2d801f...        NaN"
      ]
     },
     "execution_count": 14,
     "metadata": {},
     "output_type": "execute_result"
    }
   ],
   "source": [
    "# Fill with another model\n",
    "#df_sub = fill(df_recs, df_fill)\n",
    "#df_sub.head()\n",
    "\n",
    "df_sub2 = fill_only_uucf(df_recs, df_fill)\n",
    "df_sub2.head()"
   ]
  },
  {
   "cell_type": "code",
   "execution_count": 15,
   "id": "673c1205",
   "metadata": {
    "execution": {
     "iopub.execute_input": "2022-04-01T01:38:03.950400Z",
     "iopub.status.busy": "2022-04-01T01:38:03.949827Z",
     "iopub.status.idle": "2022-04-01T01:38:03.957469Z",
     "shell.execute_reply": "2022-04-01T01:38:03.958001Z",
     "shell.execute_reply.started": "2022-03-28T03:42:48.282409Z"
    },
    "papermill": {
     "duration": 0.048522,
     "end_time": "2022-04-01T01:38:03.958166",
     "exception": false,
     "start_time": "2022-04-01T01:38:03.909644",
     "status": "completed"
    },
    "tags": []
   },
   "outputs": [
    {
     "data": {
      "text/html": [
       "<div>\n",
       "<style scoped>\n",
       "    .dataframe tbody tr th:only-of-type {\n",
       "        vertical-align: middle;\n",
       "    }\n",
       "\n",
       "    .dataframe tbody tr th {\n",
       "        vertical-align: top;\n",
       "    }\n",
       "\n",
       "    .dataframe thead th {\n",
       "        text-align: right;\n",
       "    }\n",
       "</style>\n",
       "<table border=\"1\" class=\"dataframe\">\n",
       "  <thead>\n",
       "    <tr style=\"text-align: right;\">\n",
       "      <th></th>\n",
       "      <th>customer_id</th>\n",
       "      <th>prediction</th>\n",
       "    </tr>\n",
       "  </thead>\n",
       "  <tbody>\n",
       "    <tr>\n",
       "      <th>10</th>\n",
       "      <td>0000945f66de1a11d9447609b8b41b1bc987ba185a5496...</td>\n",
       "      <td>NaN</td>\n",
       "    </tr>\n",
       "    <tr>\n",
       "      <th>11</th>\n",
       "      <td>000097d91384a0c14893c09ed047a963c4fc6a5c021044...</td>\n",
       "      <td>NaN</td>\n",
       "    </tr>\n",
       "    <tr>\n",
       "      <th>12</th>\n",
       "      <td>00009c2aeae8761f738e4f937d9be6b49861a66339c2b1...</td>\n",
       "      <td>NaN</td>\n",
       "    </tr>\n",
       "    <tr>\n",
       "      <th>13</th>\n",
       "      <td>00009d946eec3ea54add5ba56d5210ea898def4b46c685...</td>\n",
       "      <td>0568601007 0578476001 0850917001 0643588007 07...</td>\n",
       "    </tr>\n",
       "    <tr>\n",
       "      <th>14</th>\n",
       "      <td>0000ae1bbb25e04bdc7e35f718e852adfb3fbb72ef38b3...</td>\n",
       "      <td>NaN</td>\n",
       "    </tr>\n",
       "    <tr>\n",
       "      <th>15</th>\n",
       "      <td>0000b2f1829e23b24feec422ef13df3ccedaedc85368e6...</td>\n",
       "      <td>0706016002 0706016001 0706016003 0706016062 09...</td>\n",
       "    </tr>\n",
       "    <tr>\n",
       "      <th>16</th>\n",
       "      <td>0000b7a134c3ec0d8842fad1fd4ca28517424c14fc4848...</td>\n",
       "      <td>NaN</td>\n",
       "    </tr>\n",
       "    <tr>\n",
       "      <th>17</th>\n",
       "      <td>0000b95f630aaa9313028ce9c41154bb95ac7afa34f55b...</td>\n",
       "      <td>NaN</td>\n",
       "    </tr>\n",
       "    <tr>\n",
       "      <th>18</th>\n",
       "      <td>0000c97821eb48d0e590fd309133f0a6c08f7750f64ccc...</td>\n",
       "      <td>NaN</td>\n",
       "    </tr>\n",
       "    <tr>\n",
       "      <th>19</th>\n",
       "      <td>0000d6c053fc8f9389d4565051f12402d5774aa4a9d2e5...</td>\n",
       "      <td>NaN</td>\n",
       "    </tr>\n",
       "  </tbody>\n",
       "</table>\n",
       "</div>"
      ],
      "text/plain": [
       "                                          customer_id  \\\n",
       "10  0000945f66de1a11d9447609b8b41b1bc987ba185a5496...   \n",
       "11  000097d91384a0c14893c09ed047a963c4fc6a5c021044...   \n",
       "12  00009c2aeae8761f738e4f937d9be6b49861a66339c2b1...   \n",
       "13  00009d946eec3ea54add5ba56d5210ea898def4b46c685...   \n",
       "14  0000ae1bbb25e04bdc7e35f718e852adfb3fbb72ef38b3...   \n",
       "15  0000b2f1829e23b24feec422ef13df3ccedaedc85368e6...   \n",
       "16  0000b7a134c3ec0d8842fad1fd4ca28517424c14fc4848...   \n",
       "17  0000b95f630aaa9313028ce9c41154bb95ac7afa34f55b...   \n",
       "18  0000c97821eb48d0e590fd309133f0a6c08f7750f64ccc...   \n",
       "19  0000d6c053fc8f9389d4565051f12402d5774aa4a9d2e5...   \n",
       "\n",
       "                                           prediction  \n",
       "10                                                NaN  \n",
       "11                                                NaN  \n",
       "12                                                NaN  \n",
       "13  0568601007 0578476001 0850917001 0643588007 07...  \n",
       "14                                                NaN  \n",
       "15  0706016002 0706016001 0706016003 0706016062 09...  \n",
       "16                                                NaN  \n",
       "17                                                NaN  \n",
       "18                                                NaN  \n",
       "19                                                NaN  "
      ]
     },
     "execution_count": 15,
     "metadata": {},
     "output_type": "execute_result"
    }
   ],
   "source": [
    "df_sub2[10:20]"
   ]
  },
  {
   "cell_type": "code",
   "execution_count": 16,
   "id": "95ab1238",
   "metadata": {
    "execution": {
     "iopub.execute_input": "2022-04-01T01:38:04.038663Z",
     "iopub.status.busy": "2022-04-01T01:38:04.038054Z",
     "iopub.status.idle": "2022-04-01T01:38:04.039833Z",
     "shell.execute_reply": "2022-04-01T01:38:04.040373Z",
     "shell.execute_reply.started": "2022-03-28T03:42:48.294027Z"
    },
    "papermill": {
     "duration": 0.044409,
     "end_time": "2022-04-01T01:38:04.040533",
     "exception": false,
     "start_time": "2022-04-01T01:38:03.996124",
     "status": "completed"
    },
    "tags": []
   },
   "outputs": [],
   "source": [
    "#list2str = lambda x: type(x) if type(x)=='' else type(x)"
   ]
  },
  {
   "cell_type": "code",
   "execution_count": 17,
   "id": "9fcefb36",
   "metadata": {
    "execution": {
     "iopub.execute_input": "2022-04-01T01:38:04.122709Z",
     "iopub.status.busy": "2022-04-01T01:38:04.122123Z",
     "iopub.status.idle": "2022-04-01T01:38:04.129545Z",
     "shell.execute_reply": "2022-04-01T01:38:04.129005Z",
     "shell.execute_reply.started": "2022-03-28T03:42:48.308159Z"
    },
    "papermill": {
     "duration": 0.050346,
     "end_time": "2022-04-01T01:38:04.129674",
     "exception": false,
     "start_time": "2022-04-01T01:38:04.079328",
     "status": "completed"
    },
    "tags": []
   },
   "outputs": [
    {
     "data": {
      "text/plain": [
       "'0568601007 0578476001 0850917001 0643588007 0751664001 0918200001 0881833002 0570189010 0871376002 0896928002 0842605014 0832036002 0900263001 0881269003 0803757005 0913688001 0611415034 0562245046 0928813001 0624257001 0881111001 0877769001 0895421001 0896343002 0896851001 0797892005 0921226004 0921226002 0920012003 0915526002 0903773001 0904584009 0896161001 0895423005 0909081002 0909320002 0889652003 0909884001 0916468003 0889652002 0930829001 0176209023 0851124001 0884174002 0881244001 0516859015 0568597006 0568601006 0624257028 0664405002'"
      ]
     },
     "execution_count": 17,
     "metadata": {},
     "output_type": "execute_result"
    }
   ],
   "source": [
    "df_sub2[\"prediction\"][13]"
   ]
  },
  {
   "cell_type": "code",
   "execution_count": 18,
   "id": "2c03f448",
   "metadata": {
    "execution": {
     "iopub.execute_input": "2022-04-01T01:38:04.211086Z",
     "iopub.status.busy": "2022-04-01T01:38:04.210496Z",
     "iopub.status.idle": "2022-04-01T01:38:04.212946Z",
     "shell.execute_reply": "2022-04-01T01:38:04.213359Z",
     "shell.execute_reply.started": "2022-03-28T03:42:48.325537Z"
    },
    "papermill": {
     "duration": 0.045219,
     "end_time": "2022-04-01T01:38:04.213526",
     "exception": false,
     "start_time": "2022-04-01T01:38:04.168307",
     "status": "completed"
    },
    "tags": []
   },
   "outputs": [],
   "source": [
    "#df_sub2[\"prediction\"][13].replace('\\', \\'',\" \")[2:-3]"
   ]
  },
  {
   "cell_type": "code",
   "execution_count": 19,
   "id": "97ac0d58",
   "metadata": {
    "execution": {
     "iopub.execute_input": "2022-04-01T01:38:04.295668Z",
     "iopub.status.busy": "2022-04-01T01:38:04.295064Z",
     "iopub.status.idle": "2022-04-01T01:38:04.676065Z",
     "shell.execute_reply": "2022-04-01T01:38:04.676503Z",
     "shell.execute_reply.started": "2022-03-28T03:42:48.332443Z"
    },
    "papermill": {
     "duration": 0.424832,
     "end_time": "2022-04-01T01:38:04.676664",
     "exception": false,
     "start_time": "2022-04-01T01:38:04.251832",
     "status": "completed"
    },
    "tags": []
   },
   "outputs": [
    {
     "data": {
      "text/html": [
       "<div>\n",
       "<style scoped>\n",
       "    .dataframe tbody tr th:only-of-type {\n",
       "        vertical-align: middle;\n",
       "    }\n",
       "\n",
       "    .dataframe tbody tr th {\n",
       "        vertical-align: top;\n",
       "    }\n",
       "\n",
       "    .dataframe thead th {\n",
       "        text-align: right;\n",
       "    }\n",
       "</style>\n",
       "<table border=\"1\" class=\"dataframe\">\n",
       "  <thead>\n",
       "    <tr style=\"text-align: right;\">\n",
       "      <th></th>\n",
       "      <th>customer_id</th>\n",
       "      <th>prediction</th>\n",
       "    </tr>\n",
       "  </thead>\n",
       "  <tbody>\n",
       "    <tr>\n",
       "      <th>10</th>\n",
       "      <td>0000945f66de1a11d9447609b8b41b1bc987ba185a5496...</td>\n",
       "      <td>nan</td>\n",
       "    </tr>\n",
       "    <tr>\n",
       "      <th>11</th>\n",
       "      <td>000097d91384a0c14893c09ed047a963c4fc6a5c021044...</td>\n",
       "      <td>nan</td>\n",
       "    </tr>\n",
       "    <tr>\n",
       "      <th>12</th>\n",
       "      <td>00009c2aeae8761f738e4f937d9be6b49861a66339c2b1...</td>\n",
       "      <td>nan</td>\n",
       "    </tr>\n",
       "    <tr>\n",
       "      <th>13</th>\n",
       "      <td>00009d946eec3ea54add5ba56d5210ea898def4b46c685...</td>\n",
       "      <td>0568601007 0578476001 0850917001 0643588007 07...</td>\n",
       "    </tr>\n",
       "    <tr>\n",
       "      <th>14</th>\n",
       "      <td>0000ae1bbb25e04bdc7e35f718e852adfb3fbb72ef38b3...</td>\n",
       "      <td>nan</td>\n",
       "    </tr>\n",
       "    <tr>\n",
       "      <th>15</th>\n",
       "      <td>0000b2f1829e23b24feec422ef13df3ccedaedc85368e6...</td>\n",
       "      <td>0706016002 0706016001 0706016003 0706016062 09...</td>\n",
       "    </tr>\n",
       "    <tr>\n",
       "      <th>16</th>\n",
       "      <td>0000b7a134c3ec0d8842fad1fd4ca28517424c14fc4848...</td>\n",
       "      <td>nan</td>\n",
       "    </tr>\n",
       "    <tr>\n",
       "      <th>17</th>\n",
       "      <td>0000b95f630aaa9313028ce9c41154bb95ac7afa34f55b...</td>\n",
       "      <td>nan</td>\n",
       "    </tr>\n",
       "    <tr>\n",
       "      <th>18</th>\n",
       "      <td>0000c97821eb48d0e590fd309133f0a6c08f7750f64ccc...</td>\n",
       "      <td>nan</td>\n",
       "    </tr>\n",
       "    <tr>\n",
       "      <th>19</th>\n",
       "      <td>0000d6c053fc8f9389d4565051f12402d5774aa4a9d2e5...</td>\n",
       "      <td>nan</td>\n",
       "    </tr>\n",
       "  </tbody>\n",
       "</table>\n",
       "</div>"
      ],
      "text/plain": [
       "                                          customer_id  \\\n",
       "10  0000945f66de1a11d9447609b8b41b1bc987ba185a5496...   \n",
       "11  000097d91384a0c14893c09ed047a963c4fc6a5c021044...   \n",
       "12  00009c2aeae8761f738e4f937d9be6b49861a66339c2b1...   \n",
       "13  00009d946eec3ea54add5ba56d5210ea898def4b46c685...   \n",
       "14  0000ae1bbb25e04bdc7e35f718e852adfb3fbb72ef38b3...   \n",
       "15  0000b2f1829e23b24feec422ef13df3ccedaedc85368e6...   \n",
       "16  0000b7a134c3ec0d8842fad1fd4ca28517424c14fc4848...   \n",
       "17  0000b95f630aaa9313028ce9c41154bb95ac7afa34f55b...   \n",
       "18  0000c97821eb48d0e590fd309133f0a6c08f7750f64ccc...   \n",
       "19  0000d6c053fc8f9389d4565051f12402d5774aa4a9d2e5...   \n",
       "\n",
       "                                           prediction  \n",
       "10                                                nan  \n",
       "11                                                nan  \n",
       "12                                                nan  \n",
       "13  0568601007 0578476001 0850917001 0643588007 07...  \n",
       "14                                                nan  \n",
       "15  0706016002 0706016001 0706016003 0706016062 09...  \n",
       "16                                                nan  \n",
       "17                                                nan  \n",
       "18                                                nan  \n",
       "19                                                nan  "
      ]
     },
     "execution_count": 19,
     "metadata": {},
     "output_type": "execute_result"
    }
   ],
   "source": [
    "df_sub2[\"prediction\"]=df_sub2[\"prediction\"].astype(str)\n",
    "#無理やりstr型にして、スペース区切りにする\n",
    "#df_sub2[\"prediction\"]=df_sub2[\"prediction\"].map(lambda x:x.replace('\\', \\'',\" \")[2:-3])\n",
    "df_sub2[10:20]"
   ]
  },
  {
   "cell_type": "code",
   "execution_count": 20,
   "id": "bf284928",
   "metadata": {
    "execution": {
     "iopub.execute_input": "2022-04-01T01:38:04.759834Z",
     "iopub.status.busy": "2022-04-01T01:38:04.758927Z",
     "iopub.status.idle": "2022-04-01T01:38:04.768800Z",
     "shell.execute_reply": "2022-04-01T01:38:04.768199Z",
     "shell.execute_reply.started": "2022-03-28T03:42:48.919345Z"
    },
    "papermill": {
     "duration": 0.053451,
     "end_time": "2022-04-01T01:38:04.768941",
     "exception": false,
     "start_time": "2022-04-01T01:38:04.715490",
     "status": "completed"
    },
    "tags": []
   },
   "outputs": [
    {
     "data": {
      "text/html": [
       "<div>\n",
       "<style scoped>\n",
       "    .dataframe tbody tr th:only-of-type {\n",
       "        vertical-align: middle;\n",
       "    }\n",
       "\n",
       "    .dataframe tbody tr th {\n",
       "        vertical-align: top;\n",
       "    }\n",
       "\n",
       "    .dataframe thead th {\n",
       "        text-align: right;\n",
       "    }\n",
       "</style>\n",
       "<table border=\"1\" class=\"dataframe\">\n",
       "  <thead>\n",
       "    <tr style=\"text-align: right;\">\n",
       "      <th></th>\n",
       "      <th>customer_id</th>\n",
       "      <th>prediction</th>\n",
       "    </tr>\n",
       "  </thead>\n",
       "  <tbody>\n",
       "    <tr>\n",
       "      <th>0</th>\n",
       "      <td>00000dbacae5abe5e23885899a1fa44253a17956c6d1c3...</td>\n",
       "      <td>nan</td>\n",
       "    </tr>\n",
       "    <tr>\n",
       "      <th>1</th>\n",
       "      <td>0000423b00ade91418cceaf3b26c6af3dd342b51fd051e...</td>\n",
       "      <td>nan</td>\n",
       "    </tr>\n",
       "    <tr>\n",
       "      <th>2</th>\n",
       "      <td>000058a12d5b43e67d225668fa1f8d618c13dc232df0ca...</td>\n",
       "      <td>nan</td>\n",
       "    </tr>\n",
       "    <tr>\n",
       "      <th>3</th>\n",
       "      <td>00005ca1c9ed5f5146b52ac8639a40ca9d57aeff4d1bd2...</td>\n",
       "      <td>nan</td>\n",
       "    </tr>\n",
       "    <tr>\n",
       "      <th>4</th>\n",
       "      <td>00006413d8573cd20ed7128e53b7b13819fe5cfc2d801f...</td>\n",
       "      <td>nan</td>\n",
       "    </tr>\n",
       "    <tr>\n",
       "      <th>...</th>\n",
       "      <td>...</td>\n",
       "      <td>...</td>\n",
       "    </tr>\n",
       "    <tr>\n",
       "      <th>1371975</th>\n",
       "      <td>ffffbbf78b6eaac697a8a5dfbfd2bfa8113ee5b403e474...</td>\n",
       "      <td>0918292001 0804992013 0805000010 0740922001 08...</td>\n",
       "    </tr>\n",
       "    <tr>\n",
       "      <th>1371976</th>\n",
       "      <td>ffffcd5046a6143d29a04fb8c424ce494a76e5cdf4fab5...</td>\n",
       "      <td>nan</td>\n",
       "    </tr>\n",
       "    <tr>\n",
       "      <th>1371977</th>\n",
       "      <td>ffffcf35913a0bee60e8741cb2b4e78b8a98ee5ff2e6a1...</td>\n",
       "      <td>0762846031 0762846026 0889460003 0751471001 09...</td>\n",
       "    </tr>\n",
       "    <tr>\n",
       "      <th>1371978</th>\n",
       "      <td>ffffd7744cebcf3aca44ae7049d2a94b87074c3d4ffe38...</td>\n",
       "      <td>nan</td>\n",
       "    </tr>\n",
       "    <tr>\n",
       "      <th>1371979</th>\n",
       "      <td>ffffd9ac14e89946416d80e791d064701994755c3ab686...</td>\n",
       "      <td>nan</td>\n",
       "    </tr>\n",
       "  </tbody>\n",
       "</table>\n",
       "<p>1371980 rows × 2 columns</p>\n",
       "</div>"
      ],
      "text/plain": [
       "                                               customer_id  \\\n",
       "0        00000dbacae5abe5e23885899a1fa44253a17956c6d1c3...   \n",
       "1        0000423b00ade91418cceaf3b26c6af3dd342b51fd051e...   \n",
       "2        000058a12d5b43e67d225668fa1f8d618c13dc232df0ca...   \n",
       "3        00005ca1c9ed5f5146b52ac8639a40ca9d57aeff4d1bd2...   \n",
       "4        00006413d8573cd20ed7128e53b7b13819fe5cfc2d801f...   \n",
       "...                                                    ...   \n",
       "1371975  ffffbbf78b6eaac697a8a5dfbfd2bfa8113ee5b403e474...   \n",
       "1371976  ffffcd5046a6143d29a04fb8c424ce494a76e5cdf4fab5...   \n",
       "1371977  ffffcf35913a0bee60e8741cb2b4e78b8a98ee5ff2e6a1...   \n",
       "1371978  ffffd7744cebcf3aca44ae7049d2a94b87074c3d4ffe38...   \n",
       "1371979  ffffd9ac14e89946416d80e791d064701994755c3ab686...   \n",
       "\n",
       "                                                prediction  \n",
       "0                                                      nan  \n",
       "1                                                      nan  \n",
       "2                                                      nan  \n",
       "3                                                      nan  \n",
       "4                                                      nan  \n",
       "...                                                    ...  \n",
       "1371975  0918292001 0804992013 0805000010 0740922001 08...  \n",
       "1371976                                                nan  \n",
       "1371977  0762846031 0762846026 0889460003 0751471001 09...  \n",
       "1371978                                                nan  \n",
       "1371979                                                nan  \n",
       "\n",
       "[1371980 rows x 2 columns]"
      ]
     },
     "execution_count": 20,
     "metadata": {},
     "output_type": "execute_result"
    }
   ],
   "source": [
    "df_sub2"
   ]
  },
  {
   "cell_type": "code",
   "execution_count": 21,
   "id": "0cbd2eec",
   "metadata": {
    "execution": {
     "iopub.execute_input": "2022-04-01T01:38:04.852994Z",
     "iopub.status.busy": "2022-04-01T01:38:04.852053Z",
     "iopub.status.idle": "2022-04-01T01:38:04.855168Z",
     "shell.execute_reply": "2022-04-01T01:38:04.855702Z",
     "shell.execute_reply.started": "2022-03-28T03:42:48.932954Z"
    },
    "papermill": {
     "duration": 0.047249,
     "end_time": "2022-04-01T01:38:04.855901",
     "exception": false,
     "start_time": "2022-04-01T01:38:04.808652",
     "status": "completed"
    },
    "tags": []
   },
   "outputs": [],
   "source": [
    "#df_sub.shape"
   ]
  },
  {
   "cell_type": "code",
   "execution_count": 22,
   "id": "bbbcba18",
   "metadata": {
    "execution": {
     "iopub.execute_input": "2022-04-01T01:38:04.940290Z",
     "iopub.status.busy": "2022-04-01T01:38:04.939372Z",
     "iopub.status.idle": "2022-04-01T01:38:04.944597Z",
     "shell.execute_reply": "2022-04-01T01:38:04.945149Z",
     "shell.execute_reply.started": "2022-03-28T03:42:48.945585Z"
    },
    "papermill": {
     "duration": 0.049365,
     "end_time": "2022-04-01T01:38:04.945312",
     "exception": false,
     "start_time": "2022-04-01T01:38:04.895947",
     "status": "completed"
    },
    "tags": []
   },
   "outputs": [
    {
     "data": {
      "text/plain": [
       "(1371980, 2)"
      ]
     },
     "execution_count": 22,
     "metadata": {},
     "output_type": "execute_result"
    }
   ],
   "source": [
    "df_sub2.shape"
   ]
  },
  {
   "cell_type": "code",
   "execution_count": 23,
   "id": "d589072b",
   "metadata": {
    "execution": {
     "iopub.execute_input": "2022-04-01T01:38:05.030116Z",
     "iopub.status.busy": "2022-04-01T01:38:05.029197Z",
     "iopub.status.idle": "2022-04-01T01:38:09.788442Z",
     "shell.execute_reply": "2022-04-01T01:38:09.787837Z",
     "shell.execute_reply.started": "2022-03-28T03:42:48.956512Z"
    },
    "papermill": {
     "duration": 4.802246,
     "end_time": "2022-04-01T01:38:09.788647",
     "exception": false,
     "start_time": "2022-04-01T01:38:04.986401",
     "status": "completed"
    },
    "tags": []
   },
   "outputs": [],
   "source": [
    "# Submit\n",
    "#df_sub.to_csv(\"uucf_fill_with_anothermodel.csv\", index=False)\n",
    "df_sub2.to_csv(\"uucf_only.csv\", index=False)"
   ]
  }
 ],
 "metadata": {
  "kernelspec": {
   "display_name": "Python 3",
   "language": "python",
   "name": "python3"
  },
  "language_info": {
   "codemirror_mode": {
    "name": "ipython",
    "version": 3
   },
   "file_extension": ".py",
   "mimetype": "text/x-python",
   "name": "python",
   "nbconvert_exporter": "python",
   "pygments_lexer": "ipython3",
   "version": "3.8.8"
  },
  "papermill": {
   "default_parameters": {},
   "duration": 32771.514618,
   "end_time": "2022-04-01T01:38:13.091924",
   "environment_variables": {},
   "exception": null,
   "input_path": "__notebook__.ipynb",
   "output_path": "__notebook__.ipynb",
   "parameters": {},
   "start_time": "2022-03-31T16:32:01.577306",
   "version": "2.3.3"
  }
 },
 "nbformat": 4,
 "nbformat_minor": 5
}
