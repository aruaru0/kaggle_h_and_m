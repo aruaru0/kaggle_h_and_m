{
 "cells": [
  {
   "cell_type": "code",
   "execution_count": 1,
   "id": "9dd327cf",
   "metadata": {},
   "outputs": [
    {
     "name": "stdout",
     "output_type": "stream",
     "text": [
      "Requirement already satisfied: pyarrow in /opt/conda/lib/python3.8/site-packages (7.0.0)\n",
      "Requirement already satisfied: numpy>=1.16.6 in /opt/conda/lib/python3.8/site-packages (from pyarrow) (1.20.1)\n",
      "Requirement already satisfied: fastparquet in /opt/conda/lib/python3.8/site-packages (0.8.1)\n",
      "Requirement already satisfied: fsspec in /opt/conda/lib/python3.8/site-packages (from fastparquet) (0.9.0)\n",
      "Requirement already satisfied: packaging in /opt/conda/lib/python3.8/site-packages (from fastparquet) (20.9)\n",
      "Requirement already satisfied: pandas>=1.1.0 in /opt/conda/lib/python3.8/site-packages (from fastparquet) (1.2.4)\n",
      "Requirement already satisfied: numpy>=1.18 in /opt/conda/lib/python3.8/site-packages (from fastparquet) (1.20.1)\n",
      "Requirement already satisfied: cramjam>=2.3.0 in /opt/conda/lib/python3.8/site-packages (from fastparquet) (2.5.0)\n",
      "Requirement already satisfied: python-dateutil>=2.7.3 in /opt/conda/lib/python3.8/site-packages (from pandas>=1.1.0->fastparquet) (2.8.1)\n",
      "Requirement already satisfied: pytz>=2017.3 in /opt/conda/lib/python3.8/site-packages (from pandas>=1.1.0->fastparquet) (2021.1)\n",
      "Requirement already satisfied: six>=1.5 in /opt/conda/lib/python3.8/site-packages (from python-dateutil>=2.7.3->pandas>=1.1.0->fastparquet) (1.15.0)\n",
      "Requirement already satisfied: pyparsing>=2.0.2 in /opt/conda/lib/python3.8/site-packages (from packaging->fastparquet) (2.4.7)\n"
     ]
    }
   ],
   "source": [
    "!pip install pyarrow\n",
    "!pip install fastparquet"
   ]
  },
  {
   "cell_type": "code",
   "execution_count": 2,
   "id": "2efd7404",
   "metadata": {},
   "outputs": [],
   "source": [
    "import numpy as np, pandas as pd, datetime as dt\n",
    "import matplotlib.pyplot as plt; plt.style.use('ggplot')\n",
    "import seaborn as sns\n",
    "from collections import defaultdict\n",
    "\n",
    "def iter_to_str(iterable):\n",
    "    return \" \".join(map(lambda x: str(0) + str(x), iterable))\n",
    "\n",
    "def apk(actual, predicted, k=12):\n",
    "    if len(predicted) > k:\n",
    "        predicted = predicted[:k]\n",
    "    score, nhits = 0.0, 0.0\n",
    "    for i, p in enumerate(predicted):\n",
    "        if p in actual and p not in predicted[:i]:\n",
    "            nhits += 1.0\n",
    "            score += nhits / (i + 1.0)\n",
    "    if not actual:\n",
    "        return 0.0\n",
    "    return score / min(len(actual), k)\n",
    "\n",
    "def mapk(actual, predicted, k=12, return_apks=False):\n",
    "    assert len(actual) == len(predicted)\n",
    "    apks = [apk(ac, pr, k) for ac, pr in zip(actual, predicted) if 0 < len(ac)]\n",
    "    if return_apks:\n",
    "        return apks\n",
    "    return np.mean(apks)\n",
    "\n",
    "def blend(dt, w=[], k=12):\n",
    "    if len(w) == 0:\n",
    "        w = [1] * (len(dt))\n",
    "    preds = []\n",
    "    for i in range(len(w)):\n",
    "        preds.append(dt[i].split())\n",
    "    res = {}\n",
    "    for i in range(len(preds)):\n",
    "        if w[i] < 0:\n",
    "            continue\n",
    "        for n, v in enumerate(preds[i]):\n",
    "            if v in res:\n",
    "                res[v] += (w[i] / (n + 1))\n",
    "            else:\n",
    "                res[v] = (w[i] / (n + 1))    \n",
    "    res = list(dict(sorted(res.items(), key=lambda item: -item[1])).keys())\n",
    "    return ' '.join(res[:k])\n",
    "\n",
    "def prune(pred, ok_set, k=12):\n",
    "    pred = pred.split()\n",
    "    post = []\n",
    "    for item in pred:\n",
    "        if int(item) in ok_set and not item in post:\n",
    "            post.append(item)\n",
    "    return \" \".join(post[:k])\n",
    "\n",
    "def validation(actual, predicted, grouping, score=0, index=-1, ignore=False, figsize=(12, 6)):\n",
    "    # actual, predicted : list of lists\n",
    "    # group : pandas Series\n",
    "    # score : pandas DataFrame\n",
    "    if ignore: return\n",
    "    ap12 = mapk(actual, predicted, return_apks=True)\n",
    "    map12 = round(np.mean(ap12), 6)\n",
    "    if isinstance(score, int): score = pd.DataFrame({g:[] for g in sorted(grouping.unique().tolist())})\n",
    "    if index == -1 : index = score.shape[0]\n",
    "    score.loc[index, \"All\"] = map12\n",
    "    plt.figure(figsize=figsize)\n",
    "    plt.subplot(1, 2, 1); sns.histplot(data=ap12, log_scale=(0, 10), bins=20); plt.title(f\"MAP@12 : {map12}\")\n",
    "    for g in grouping.unique():\n",
    "        map12 = round(mapk(actual[grouping == g], predicted[grouping == g]), 6)\n",
    "        score.loc[index, g] = map12\n",
    "    plt.subplot(1, 2, 2); score[[g for g in grouping.unique()[::-1]] + ['All']].loc[index].plot.barh(); plt.title(f\"MAP@12 of Groups\")\n",
    "    vc = pd.Series(predicted).apply(len).value_counts()\n",
    "    score.loc[index, \"Fill\"] = round(1 - sum(vc[k] * (12 - k) / 12 for k in (set(range(12)) & set(vc.index))) / len(actual), 3) * 100\n",
    "    display(score)\n",
    "    return score"
   ]
  },
  {
   "cell_type": "code",
   "execution_count": 3,
   "id": "e8977e54",
   "metadata": {},
   "outputs": [],
   "source": [
    "val_week = 104"
   ]
  },
  {
   "cell_type": "code",
   "execution_count": 4,
   "id": "6f118729",
   "metadata": {},
   "outputs": [],
   "source": [
    "df = pd.read_parquet('../input/hm-parquets-of-datasets/transactions_train.parquet')\n",
    "sub = pd.read_csv('../input/h-and-m-personalized-fashion-recommendations/sample_submission.csv')\n",
    "cid = pd.DataFrame(sub.customer_id.apply(lambda s: int(s[-16:], 16)))"
   ]
  },
  {
   "cell_type": "code",
   "execution_count": 5,
   "id": "2c6e0409",
   "metadata": {},
   "outputs": [],
   "source": [
    "group = df.groupby('customer_id').sales_channel_id.mean().round().reset_index()\\\n",
    "    .merge(cid, on='customer_id', how='right').rename(columns={'sales_channel_id':'group'})\n",
    "grouping = group.group.fillna(1.0)"
   ]
  },
  {
   "cell_type": "code",
   "execution_count": 6,
   "id": "bff2a6bc",
   "metadata": {},
   "outputs": [],
   "source": [
    "# id of week to be used in a validation; set 105 if you would like to create a submission\n",
    "val = df.loc[df.week == val_week].groupby('customer_id').article_id.apply(iter_to_str).reset_index()\\\n",
    "    .merge(cid, on='customer_id', how='right')\n",
    "actual = val.article_id.apply(lambda s: [] if pd.isna(s) else s.split())\n",
    "last_date = df.loc[df.week < val_week].t_dat.max()"
   ]
  },
  {
   "cell_type": "markdown",
   "id": "5501d9e6",
   "metadata": {},
   "source": [
    "## 定番を抜き出す"
   ]
  },
  {
   "cell_type": "code",
   "execution_count": 7,
   "id": "ab2c0310",
   "metadata": {},
   "outputs": [
    {
     "name": "stdout",
     "output_type": "stream",
     "text": [
      "48399\n",
      "2018-09-20 00:00:00 2018-09-20 23:59:00 48399 11542\n",
      "2018-09-21 00:00:00 2018-09-21 23:59:00 47543 7812\n",
      "2018-09-22 00:00:00 2018-09-22 23:59:00 17635 4457\n",
      "2018-09-23 00:00:00 2018-09-23 23:59:00 52230 3910\n",
      "2018-09-24 00:00:00 2018-09-24 23:59:00 45984 3556\n",
      "2018-09-25 00:00:00 2018-09-25 23:59:00 43857 3272\n",
      "2018-09-26 00:00:00 2018-09-26 23:59:00 48224 3121\n",
      "2018-09-27 00:00:00 2018-09-27 23:59:00 44261 2970\n",
      "2018-09-28 00:00:00 2018-09-28 23:59:00 66900 2898\n",
      "2018-09-29 00:00:00 2018-09-29 23:59:00 141700 2857\n",
      "2018-09-30 00:00:00 2018-09-30 23:59:00 38043 2590\n",
      "2019-09-15 00:00:00 2019-09-15 23:59:00 31112 499\n",
      "2019-09-16 00:00:00 2019-09-16 23:59:00 33716 356\n",
      "2019-09-17 00:00:00 2019-09-17 23:59:00 37008 312\n",
      "2019-09-18 00:00:00 2019-09-18 23:59:00 39063 290\n",
      "2019-09-19 00:00:00 2019-09-19 23:59:00 36491 275\n",
      "2019-09-20 00:00:00 2019-09-20 23:59:00 31508 257\n",
      "2019-09-21 00:00:00 2019-09-21 23:59:00 20542 234\n",
      "2019-09-22 00:00:00 2019-09-22 23:59:00 33950 220\n",
      "2019-09-23 00:00:00 2019-09-23 23:59:00 34076 213\n",
      "2019-09-24 00:00:00 2019-09-24 23:59:00 36702 210\n",
      "2019-09-25 00:00:00 2019-09-25 23:59:00 41256 209\n",
      "2019-09-26 00:00:00 2019-09-26 23:59:00 37128 202\n",
      "2019-09-27 00:00:00 2019-09-27 23:59:00 35597 201\n",
      "2019-09-28 00:00:00 2019-09-28 23:59:00 198622 201\n",
      "2019-09-29 00:00:00 2019-09-29 23:59:00 40043 196\n",
      "2020-09-15 00:00:00 2020-09-15 23:59:00 26053 99\n",
      "2020-09-16 00:00:00 2020-09-16 23:59:00 27028 84\n",
      "2020-09-17 00:00:00 2020-09-17 23:59:00 40718 79\n",
      "2020-09-18 00:00:00 2020-09-18 23:59:00 39284 77\n",
      "2020-09-19 00:00:00 2020-09-19 23:59:00 36796 76\n",
      "2020-09-20 00:00:00 2020-09-20 23:59:00 31489 72\n",
      "2020-09-21 00:00:00 2020-09-21 23:59:00 32130 71\n",
      "2020-09-22 00:00:00 2020-09-22 23:59:00 32866 70\n"
     ]
    }
   ],
   "source": [
    "# 2018\n",
    "day = 20\n",
    "start = dt.datetime(2018,9,day,0,0)\n",
    "end = dt.datetime(2018,9,day,23,59)\n",
    "x = df.loc[(df.t_dat >= start) & (df.t_dat <= end)].article_id.tolist()\n",
    "\n",
    "popular = set(x)\n",
    "print(len(x))\n",
    "\n",
    "for day in range(20, 31, 1) :\n",
    "    start = dt.datetime(2018,9,day,0,0)\n",
    "    end = dt.datetime(2018,9,day,23,59)\n",
    "    x = df.loc[(df.t_dat >= start) & (df.t_dat <= end)].article_id.tolist()\n",
    "    popular &= set(x)\n",
    "    print(start, end, len(x), len(popular))\n",
    "\n",
    "# 2019\n",
    "for day in range(15, 30, 1) :\n",
    "    start = dt.datetime(2019,9,day,0,0)\n",
    "    end = dt.datetime(2019,9,day,23,59)\n",
    "    x = df.loc[(df.t_dat >= start) & (df.t_dat <= end)].article_id.tolist()\n",
    "    popular &= set(x)\n",
    "    print(start, end, len(x), len(popular))\n",
    "\n",
    "# 2020\n",
    "for day in range(15, 23, 1) :\n",
    "    start = dt.datetime(2020,9,day,0,0)\n",
    "    end = dt.datetime(2020,9,day,23,59)\n",
    "    x = df.loc[(df.t_dat >= start) & (df.t_dat <= end)].article_id.tolist()\n",
    "    popular &= set(x)\n",
    "    print(start, end, len(x), len(popular))\n"
   ]
  },
  {
   "cell_type": "code",
   "execution_count": 8,
   "id": "d32710dd",
   "metadata": {},
   "outputs": [
    {
     "name": "stdout",
     "output_type": "stream",
     "text": [
      "item2vec = 104\n"
     ]
    }
   ],
   "source": [
    "import json\n",
    "\n",
    "if val_week == 104 :\n",
    "    print(\"item2vec = 104\")\n",
    "    with open('../input/handmitem2vec/cust_buy104.json', \"r\") as f :\n",
    "        cust_buy = json.load(f)\n",
    "else :\n",
    "    with open('../input/handmitem2vec/cust_buy.json', \"r\") as f :\n",
    "        cust_buy = json.load(f)"
   ]
  },
  {
   "cell_type": "code",
   "execution_count": 39,
   "id": "8c5fe1aa",
   "metadata": {},
   "outputs": [
    {
     "name": "stderr",
     "output_type": "stream",
     "text": [
      "100%|██████████| 1371980/1371980 [00:08<00:00, 156302.76it/s]\n"
     ]
    }
   ],
   "source": [
    "from tqdm import tqdm\n",
    "\n",
    "l = []\n",
    "for i in tqdm(range(len(sub))):\n",
    "    c_id = sub['customer_id'][i]\n",
    "    if c_id not in cust_buy :\n",
    "        l.append(\"\")\n",
    "        continue\n",
    "        \n",
    "    t = set()\n",
    "    li = cust_buy[c_id].split(\" \")\n",
    "    #li.reverse()\n",
    "#     print(cid, li)\n",
    "    for e in li:\n",
    "        if int(e) in popular :\n",
    "            t.add(e)\n",
    "#     if len(t) != 0 : print(cid, t)\n",
    "    l.append(\" \".join(t))\n",
    "#     break\n",
    "sub['popular'] = l "
   ]
  },
  {
   "cell_type": "code",
   "execution_count": 40,
   "id": "b48d547c",
   "metadata": {},
   "outputs": [
    {
     "data": {
      "text/html": [
       "<div>\n",
       "<style scoped>\n",
       "    .dataframe tbody tr th:only-of-type {\n",
       "        vertical-align: middle;\n",
       "    }\n",
       "\n",
       "    .dataframe tbody tr th {\n",
       "        vertical-align: top;\n",
       "    }\n",
       "\n",
       "    .dataframe thead th {\n",
       "        text-align: right;\n",
       "    }\n",
       "</style>\n",
       "<table border=\"1\" class=\"dataframe\">\n",
       "  <thead>\n",
       "    <tr style=\"text-align: right;\">\n",
       "      <th></th>\n",
       "      <th>customer_id</th>\n",
       "      <th>prediction</th>\n",
       "      <th>popular</th>\n",
       "      <th>popular_items</th>\n",
       "    </tr>\n",
       "  </thead>\n",
       "  <tbody>\n",
       "    <tr>\n",
       "      <th>0</th>\n",
       "      <td>00000dbacae5abe5e23885899a1fa44253a17956c6d1c3...</td>\n",
       "      <td>0568601006 0918522001 0924243001 0919273002 09...</td>\n",
       "      <td>0568601006</td>\n",
       "      <td>0918522001 0924243001 0919273002 0914805002 07...</td>\n",
       "    </tr>\n",
       "    <tr>\n",
       "      <th>1</th>\n",
       "      <td>0000423b00ade91418cceaf3b26c6af3dd342b51fd051e...</td>\n",
       "      <td>0658298001 0673677002 0865799006 0809238001 09...</td>\n",
       "      <td>0658298001 0673677002</td>\n",
       "      <td>0865799006 0809238001 0924243001 0909370001 08...</td>\n",
       "    </tr>\n",
       "    <tr>\n",
       "      <th>2</th>\n",
       "      <td>000058a12d5b43e67d225668fa1f8d618c13dc232df0ca...</td>\n",
       "      <td>0865799006 0809238001 0924243001 0909370001 08...</td>\n",
       "      <td></td>\n",
       "      <td>0865799006 0809238001 0924243001 0909370001 08...</td>\n",
       "    </tr>\n",
       "    <tr>\n",
       "      <th>3</th>\n",
       "      <td>00005ca1c9ed5f5146b52ac8639a40ca9d57aeff4d1bd2...</td>\n",
       "      <td>0924243001 0923758001 0865799006 0751471001 09...</td>\n",
       "      <td></td>\n",
       "      <td>0924243001 0923758001 0865799006 0751471001 09...</td>\n",
       "    </tr>\n",
       "    <tr>\n",
       "      <th>4</th>\n",
       "      <td>00006413d8573cd20ed7128e53b7b13819fe5cfc2d801f...</td>\n",
       "      <td>0924243001 0923758001 0865799006 0751471001 09...</td>\n",
       "      <td></td>\n",
       "      <td>0924243001 0923758001 0865799006 0751471001 09...</td>\n",
       "    </tr>\n",
       "  </tbody>\n",
       "</table>\n",
       "</div>"
      ],
      "text/plain": [
       "                                         customer_id  \\\n",
       "0  00000dbacae5abe5e23885899a1fa44253a17956c6d1c3...   \n",
       "1  0000423b00ade91418cceaf3b26c6af3dd342b51fd051e...   \n",
       "2  000058a12d5b43e67d225668fa1f8d618c13dc232df0ca...   \n",
       "3  00005ca1c9ed5f5146b52ac8639a40ca9d57aeff4d1bd2...   \n",
       "4  00006413d8573cd20ed7128e53b7b13819fe5cfc2d801f...   \n",
       "\n",
       "                                          prediction                popular  \\\n",
       "0  0568601006 0918522001 0924243001 0919273002 09...             0568601006   \n",
       "1  0658298001 0673677002 0865799006 0809238001 09...  0658298001 0673677002   \n",
       "2  0865799006 0809238001 0924243001 0909370001 08...                          \n",
       "3  0924243001 0923758001 0865799006 0751471001 09...                          \n",
       "4  0924243001 0923758001 0865799006 0751471001 09...                          \n",
       "\n",
       "                                       popular_items  \n",
       "0  0918522001 0924243001 0919273002 0914805002 07...  \n",
       "1  0865799006 0809238001 0924243001 0909370001 08...  \n",
       "2  0865799006 0809238001 0924243001 0909370001 08...  \n",
       "3  0924243001 0923758001 0865799006 0751471001 09...  \n",
       "4  0924243001 0923758001 0865799006 0751471001 09...  "
      ]
     },
     "execution_count": 40,
     "metadata": {},
     "output_type": "execute_result"
    }
   ],
   "source": [
    "sub.head()"
   ]
  },
  {
   "cell_type": "code",
   "execution_count": 41,
   "id": "79f7a546",
   "metadata": {},
   "outputs": [
    {
     "data": {
      "text/html": [
       "<div>\n",
       "<style scoped>\n",
       "    .dataframe tbody tr th:only-of-type {\n",
       "        vertical-align: middle;\n",
       "    }\n",
       "\n",
       "    .dataframe tbody tr th {\n",
       "        vertical-align: top;\n",
       "    }\n",
       "\n",
       "    .dataframe thead th {\n",
       "        text-align: right;\n",
       "    }\n",
       "</style>\n",
       "<table border=\"1\" class=\"dataframe\">\n",
       "  <thead>\n",
       "    <tr style=\"text-align: right;\">\n",
       "      <th></th>\n",
       "      <th>1.0</th>\n",
       "      <th>2.0</th>\n",
       "      <th>All</th>\n",
       "      <th>Fill</th>\n",
       "    </tr>\n",
       "  </thead>\n",
       "  <tbody>\n",
       "    <tr>\n",
       "      <th>anytime popular</th>\n",
       "      <td>0.003406</td>\n",
       "      <td>0.002471</td>\n",
       "      <td>0.00278</td>\n",
       "      <td>3.4</td>\n",
       "    </tr>\n",
       "  </tbody>\n",
       "</table>\n",
       "</div>"
      ],
      "text/plain": [
       "                      1.0       2.0      All  Fill\n",
       "anytime popular  0.003406  0.002471  0.00278   3.4"
      ]
     },
     "metadata": {},
     "output_type": "display_data"
    },
    {
     "data": {
      "image/png": "[encoded data removed]",
      "text/plain": [
       "<Figure size 864x432 with 2 Axes>"
      ]
     },
     "metadata": {},
     "output_type": "display_data"
    }
   ],
   "source": [
    "predicted = sub['popular'].apply(lambda s: [] if pd.isna(s) else s.split())\n",
    "score = validation(actual, predicted, grouping, index='anytime popular', ignore=(val_week == 105))"
   ]
  },
  {
   "cell_type": "markdown",
   "id": "3b1b319c",
   "metadata": {},
   "source": [
    "## 最終週のトレンド"
   ]
  },
  {
   "cell_type": "code",
   "execution_count": 12,
   "id": "0ad7a1dd",
   "metadata": {},
   "outputs": [
    {
     "data": {
      "text/plain": [
       "array(['(46.0, 51.0]', '(23.0, 25.0]', '(51.0, 57.0]', '(-1.001, 20.0]',\n",
       "       '(31.0, 38.0]', '(28.0, 31.0]', '(57.0, 99.0]', '(38.0, 46.0]',\n",
       "       '(25.0, 28.0]', '(20.0, 23.0]'], dtype=object)"
      ]
     },
     "execution_count": 12,
     "metadata": {},
     "output_type": "execute_result"
    }
   ],
   "source": [
    "cdf = pd.read_parquet('../input/handmitem2vec/customers.parquet')\n",
    "cdf = cdf[['customer_id','age','attribute']]\n",
    "#listBin = [-1, 19, 29, 39, 49, 59, 69, 119]\n",
    "listBin = [-1, 19, 34, 49, 119]\n",
    "#cdf['cust_feature'] = pd.cut(cdf['age'], listBin).astype(str).str.cat(cdf['attribute'].astype(str))\n",
    "#cdf['cust_feature'] = pd.qcut(cdf['age'], 10).astype(str).str.cat(cdf['attribute'].astype(str))\n",
    "#cdf['cust_feature'] = pd.cut(cdf['age'], listBin).astype(str)\n",
    "cdf['cust_feature'] = pd.qcut(cdf['age'], 10).astype(str)\n",
    "cdf = cdf.drop('age', axis=1)\n",
    "cdf = cdf.drop('attribute', axis=1)\n",
    "cdf['cust_feature'].unique()"
   ]
  },
  {
   "cell_type": "code",
   "execution_count": 13,
   "id": "3fcdcd33",
   "metadata": {},
   "outputs": [
    {
     "data": {
      "text/plain": [
       "16423"
      ]
     },
     "execution_count": 13,
     "metadata": {},
     "output_type": "execute_result"
    }
   ],
   "source": [
    "# 4日間の売れた商品リスト\n",
    "init_date = last_date - dt.timedelta(days=4)\n",
    "sold_set = set(df.loc[(df.t_dat >= init_date) & (df.t_dat <= last_date)].article_id.tolist())\n",
    "len(sold_set)"
   ]
  },
  {
   "cell_type": "code",
   "execution_count": 14,
   "id": "43562055",
   "metadata": {},
   "outputs": [],
   "source": [
    "init_date = last_date - dt.timedelta(days=5 - 1)\n",
    "group_df = pd.concat([cid, group.group.fillna(1)], axis=1) # grouping can be changed\n",
    "group_df = group_df.merge(cdf, on='customer_id', how='right')\n",
    "group_df.columns = ['customer_id', 'group', 'cust_feature']\n",
    "group_df['cust_feature'] = group_df['group'].astype(str).str.cat(group_df['cust_feature'])\n",
    "train = df.loc[(df.t_dat >= init_date) & (df.t_dat <= last_date)].copy()\\\n",
    "    .merge(group_df, on='customer_id', how='left')\\\n",
    "    .groupby(['cust_feature', 'article_id']).t_dat.count().reset_index()\n",
    "\n",
    "items = defaultdict(str)\n",
    "for g in train.cust_feature.unique():\n",
    "#    items[g] = iter_to_str(train.loc[train.cust_feature == g].sort_values('t_dat', ascending=False).article_id.tolist()[:30])\n",
    "    items[g] = iter_to_str(train.loc[train.cust_feature == g].sort_values('t_dat', ascending=False).article_id.tolist()[:20])\n",
    "\n",
    "sub['popular_items'] = group_df.cust_feature.map(items)"
   ]
  },
  {
   "cell_type": "code",
   "execution_count": 15,
   "id": "11082f17",
   "metadata": {},
   "outputs": [
    {
     "data": {
      "text/html": [
       "<div>\n",
       "<style scoped>\n",
       "    .dataframe tbody tr th:only-of-type {\n",
       "        vertical-align: middle;\n",
       "    }\n",
       "\n",
       "    .dataframe tbody tr th {\n",
       "        vertical-align: top;\n",
       "    }\n",
       "\n",
       "    .dataframe thead th {\n",
       "        text-align: right;\n",
       "    }\n",
       "</style>\n",
       "<table border=\"1\" class=\"dataframe\">\n",
       "  <thead>\n",
       "    <tr style=\"text-align: right;\">\n",
       "      <th></th>\n",
       "      <th>1.0</th>\n",
       "      <th>2.0</th>\n",
       "      <th>All</th>\n",
       "      <th>Fill</th>\n",
       "    </tr>\n",
       "  </thead>\n",
       "  <tbody>\n",
       "    <tr>\n",
       "      <th>anytime popular</th>\n",
       "      <td>0.003406</td>\n",
       "      <td>0.002471</td>\n",
       "      <td>0.002780</td>\n",
       "      <td>3.4</td>\n",
       "    </tr>\n",
       "    <tr>\n",
       "      <th>Popular Items</th>\n",
       "      <td>0.010388</td>\n",
       "      <td>0.009330</td>\n",
       "      <td>0.009679</td>\n",
       "      <td>100.0</td>\n",
       "    </tr>\n",
       "  </tbody>\n",
       "</table>\n",
       "</div>"
      ],
      "text/plain": [
       "                      1.0       2.0       All   Fill\n",
       "anytime popular  0.003406  0.002471  0.002780    3.4\n",
       "Popular Items    0.010388  0.009330  0.009679  100.0"
      ]
     },
     "metadata": {},
     "output_type": "display_data"
    },
    {
     "data": {
      "image/png": "[encoded data removed]",
      "text/plain": [
       "<Figure size 864x432 with 2 Axes>"
      ]
     },
     "metadata": {},
     "output_type": "display_data"
    }
   ],
   "source": [
    "predicted = sub['popular_items'].apply(lambda s: [] if pd.isna(s) else s.split())\n",
    "score = validation(actual, predicted, grouping, score, index='Popular Items', ignore=(val_week == 105))\n",
    "#0.012127 12, 0.012550 15, 0.013163 20 "
   ]
  },
  {
   "cell_type": "markdown",
   "id": "da8fbcf7",
   "metadata": {},
   "source": [
    "## マージ"
   ]
  },
  {
   "cell_type": "code",
   "execution_count": 17,
   "id": "c0a4ba51",
   "metadata": {},
   "outputs": [],
   "source": [
    "# 11日間の売れた商品リスト\n",
    "init_date = last_date - dt.timedelta(days=11)\n",
    "sold_set = set(df.loc[(df.t_dat >= init_date) & (df.t_dat <= last_date)].article_id.tolist())"
   ]
  },
  {
   "cell_type": "code",
   "execution_count": 18,
   "id": "80fa47e8",
   "metadata": {},
   "outputs": [
    {
     "data": {
      "text/html": [
       "<div>\n",
       "<style scoped>\n",
       "    .dataframe tbody tr th:only-of-type {\n",
       "        vertical-align: middle;\n",
       "    }\n",
       "\n",
       "    .dataframe tbody tr th {\n",
       "        vertical-align: top;\n",
       "    }\n",
       "\n",
       "    .dataframe thead th {\n",
       "        text-align: right;\n",
       "    }\n",
       "</style>\n",
       "<table border=\"1\" class=\"dataframe\">\n",
       "  <thead>\n",
       "    <tr style=\"text-align: right;\">\n",
       "      <th></th>\n",
       "      <th>1.0</th>\n",
       "      <th>2.0</th>\n",
       "      <th>All</th>\n",
       "      <th>Fill</th>\n",
       "    </tr>\n",
       "  </thead>\n",
       "  <tbody>\n",
       "    <tr>\n",
       "      <th>anytime popular</th>\n",
       "      <td>0.003406</td>\n",
       "      <td>0.002471</td>\n",
       "      <td>0.002780</td>\n",
       "      <td>3.4</td>\n",
       "    </tr>\n",
       "    <tr>\n",
       "      <th>Popular Items</th>\n",
       "      <td>0.010388</td>\n",
       "      <td>0.009330</td>\n",
       "      <td>0.009679</td>\n",
       "      <td>100.0</td>\n",
       "    </tr>\n",
       "    <tr>\n",
       "      <th>Prediction</th>\n",
       "      <td>0.011710</td>\n",
       "      <td>0.010272</td>\n",
       "      <td>0.010747</td>\n",
       "      <td>100.0</td>\n",
       "    </tr>\n",
       "  </tbody>\n",
       "</table>\n",
       "</div>"
      ],
      "text/plain": [
       "                      1.0       2.0       All   Fill\n",
       "anytime popular  0.003406  0.002471  0.002780    3.4\n",
       "Popular Items    0.010388  0.009330  0.009679  100.0\n",
       "Prediction       0.011710  0.010272  0.010747  100.0"
      ]
     },
     "metadata": {},
     "output_type": "display_data"
    },
    {
     "data": {
      "image/png": "[encoded data removed]",
      "text/plain": [
       "<Figure size 864x432 with 2 Axes>"
      ]
     },
     "metadata": {},
     "output_type": "display_data"
    }
   ],
   "source": [
    "# 11日間に販売実績のある商品だけ対象\n",
    "sub['prediction'] = sub[['popular', 'popular_items']]\\\n",
    "    .apply(blend, w=[100, 1], axis=1, k=32).apply(prune, ok_set=sold_set)\n",
    "# sub['prediction'] = sub[['last_purchase', 'other_colors', 'popular_items', 'kangol']]\\\n",
    "#     .apply(blend, w=[0, 0, 0, 1], axis=1, k=32).apply(prune, ok_set=sold_set)\n",
    "\n",
    "predicted = sub.prediction.apply(lambda s: [] if pd.isna(s) else s.split())\n",
    "score = validation(actual, predicted, grouping, score, index='Prediction', ignore=(val_week == 105))"
   ]
  },
  {
   "cell_type": "code",
   "execution_count": null,
   "id": "a30ae7bd",
   "metadata": {},
   "outputs": [],
   "source": []
  }
 ],
 "metadata": {
  "kernelspec": {
   "display_name": "Python 3",
   "language": "python",
   "name": "python3"
  },
  "language_info": {
   "codemirror_mode": {
    "name": "ipython",
    "version": 3
   },
   "file_extension": ".py",
   "mimetype": "text/x-python",
   "name": "python",
   "nbconvert_exporter": "python",
   "pygments_lexer": "ipython3",
   "version": "3.8.8"
  }
 },
 "nbformat": 4,
 "nbformat_minor": 5
}
