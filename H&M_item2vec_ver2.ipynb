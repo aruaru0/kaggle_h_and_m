{
  "nbformat": 4,
  "nbformat_minor": 0,
  "metadata": {
    "colab": {
      "name": "H&M_item2vec_ver2.ipynb",
      "provenance": [],
      "machine_shape": "hm",
      "authorship_tag": "ABX9TyOcEGzFKBh9NJtOgoeQ5Gic",
      "include_colab_link": true
    },
    "kernelspec": {
      "name": "python3",
      "display_name": "Python 3"
    },
    "language_info": {
      "name": "python"
    }
  },
  "cells": [
    {
      "cell_type": "markdown",
      "metadata": {
        "id": "view-in-github",
        "colab_type": "text"
      },
      "source": [
        "<a href=\"https://colab.research.google.com/github/aruaru0/kaggle_h_and_m/blob/main/H%26M_item2vec_ver2.ipynb\" target=\"_parent\"><img src=\"https://colab.research.google.com/assets/colab-badge.svg\" alt=\"Open In Colab\"/></a>"
      ]
    },
    {
      "cell_type": "markdown",
      "source": [
        "## item2vecの辞書を作成（各列を１つの文章に対応させたバージョン）"
      ],
      "metadata": {
        "id": "EPSoPxMUkCOT"
      }
    },
    {
      "cell_type": "code",
      "source": [
        "from google.colab import drive\n",
        "drive.mount('/content/drive')"
      ],
      "metadata": {
        "colab": {
          "base_uri": "https://localhost:8080/"
        },
        "id": "hOJnEUTpkSBZ",
        "outputId": "c48cb15b-760a-4c4a-c058-98d819bc6597"
      },
      "execution_count": 1,
      "outputs": [
        {
          "output_type": "stream",
          "name": "stdout",
          "text": [
            "Mounted at /content/drive\n"
          ]
        }
      ]
    },
    {
      "cell_type": "code",
      "execution_count": 8,
      "metadata": {
        "id": "L1H62Idij5N4"
      },
      "outputs": [],
      "source": [
        "import pandas as pd\n",
        "import numpy as np\n",
        "import matplotlib.pyplot as plt\n",
        "from tqdm import tqdm\n",
        "from collections import defaultdict\n",
        "import json\n",
        "import pickle\n",
        "from gensim.models import word2vec\n",
        "import multiprocessing\n",
        "cpu = multiprocessing.cpu_count()"
      ]
    },
    {
      "cell_type": "markdown",
      "source": [
        "## データ読み込み"
      ],
      "metadata": {
        "id": "dcmeMYdfkzfM"
      }
    },
    {
      "cell_type": "code",
      "source": [
        "transactions = pd.read_csv(\"/content/drive/MyDrive/datas/h_and_m/transactions_train.csv\",dtype=str, encoding='utf8')\n",
        "articles = pd.read_csv(\"/content/drive/MyDrive/datas/h_and_m/articles.csv\",dtype=str, encoding='utf8')\n",
        "customers = pd.read_csv(\"/content/drive/MyDrive/datas/h_and_m/customers.csv\",dtype=str, encoding='utf8')"
      ],
      "metadata": {
        "id": "dS3dF-Hkkl36"
      },
      "execution_count": 3,
      "outputs": []
    },
    {
      "cell_type": "markdown",
      "source": [
        "## テキストを作成（transactions）"
      ],
      "metadata": {
        "id": "9xPts9Jck_FE"
      }
    },
    {
      "cell_type": "code",
      "source": [
        "text = []"
      ],
      "metadata": {
        "id": "iFHQcR4hk3i1"
      },
      "execution_count": 4,
      "outputs": []
    },
    {
      "cell_type": "code",
      "source": [
        "for i in tqdm(range(len(transactions))) :\n",
        "  t_dat, customer_id, article_id, _, _  = transactions.iloc[i]\n",
        "  s = t_dat[:-3] + \" \" + customer_id + \" \" + article_id\n",
        "  text.append(s)\n",
        "\n",
        "len(text)"
      ],
      "metadata": {
        "colab": {
          "base_uri": "https://localhost:8080/"
        },
        "id": "jsqHeGYilM__",
        "outputId": "f27964bf-fa0e-449d-94c8-b669cbe128a2"
      },
      "execution_count": 6,
      "outputs": [
        {
          "output_type": "stream",
          "name": "stderr",
          "text": [
            "100%|██████████| 31788324/31788324 [34:41<00:00, 15269.83it/s]\n"
          ]
        },
        {
          "output_type": "execute_result",
          "data": {
            "text/plain": [
              "31788324"
            ]
          },
          "metadata": {},
          "execution_count": 6
        }
      ]
    },
    {
      "cell_type": "code",
      "source": [
        "with open('transactions.pkl', 'wb') as f :\n",
        "  pickle.dump(text,f)"
      ],
      "metadata": {
        "id": "Ma4Uxnm7pYzV"
      },
      "execution_count": 20,
      "outputs": []
    },
    {
      "cell_type": "markdown",
      "source": [
        "## テキストを作成（cutomers)"
      ],
      "metadata": {
        "id": "JVfRnkhDmlP-"
      }
    },
    {
      "cell_type": "code",
      "source": [
        "ctext = []\n",
        "post = dict()\n",
        "num = 0\n",
        "for i in tqdm(range(len(customers))) :\n",
        "  customer_id, _, _, _, _, age, postal_code = customers.iloc[i]\n",
        "  if postal_code in post :\n",
        "    pcode = str(post[postal_code])\n",
        "  else :\n",
        "    pcode = str(num)\n",
        "    num += 1\n",
        "  s = customer_id + \" age\" + str(age) + \" post\" + pcode\n",
        "  ctext.append(s)\n",
        "\n",
        "len(ctext), ctext[:10]"
      ],
      "metadata": {
        "colab": {
          "base_uri": "https://localhost:8080/"
        },
        "id": "mXTlDsXclQB2",
        "outputId": "99c66dd0-c4a6-4a5e-b636-8e9594563dd5"
      },
      "execution_count": 18,
      "outputs": [
        {
          "output_type": "stream",
          "name": "stderr",
          "text": [
            "100%|██████████| 1371980/1371980 [01:30<00:00, 15097.65it/s]\n"
          ]
        },
        {
          "output_type": "execute_result",
          "data": {
            "text/plain": [
              "(1371980,\n",
              " ['00000dbacae5abe5e23885899a1fa44253a17956c6d1c3d25f88aa139fdfc657 age49 post0',\n",
              "  '0000423b00ade91418cceaf3b26c6af3dd342b51fd051eec9c12fb36984420fa age25 post1',\n",
              "  '000058a12d5b43e67d225668fa1f8d618c13dc232df0cad8ffe7ad4a1091e318 age24 post2',\n",
              "  '00005ca1c9ed5f5146b52ac8639a40ca9d57aeff4d1bd2c5feb1ca5dff07c43e age54 post3',\n",
              "  '00006413d8573cd20ed7128e53b7b13819fe5cfc2d801fe7fc0f26dd8d65a85a age52 post4',\n",
              "  '000064249685c11552da43ef22a5030f35a147f723d5b02ddd9fd22452b1f5a6 agenan post5',\n",
              "  '0000757967448a6cb83efb3ea7a3fb9d418ac7adf2379d8cd0c725276a467a2a age20 post6',\n",
              "  '00007d2de826758b65a93dd24ce629ed66842531df6699338c5570910a014cc2 age32 post7',\n",
              "  '00007e8d4e54114b5b2a9b51586325a8d0fa74ea23ef77334eaec4ffccd7ebcc age20 post8',\n",
              "  '00008469a21b50b3d147c97135e25b4201a8c58997f78782a0cc706645e14493 age20 post9'])"
            ]
          },
          "metadata": {},
          "execution_count": 18
        }
      ]
    },
    {
      "cell_type": "code",
      "source": [
        "with open('customers.pkl', 'wb') as f :\n",
        "  pickle.dump(ctext,f)"
      ],
      "metadata": {
        "id": "h5sxqmKJl-th"
      },
      "execution_count": 19,
      "outputs": []
    },
    {
      "cell_type": "markdown",
      "source": [
        "## テキストを保存（articles）"
      ],
      "metadata": {
        "id": "w78uPBlgp6ml"
      }
    },
    {
      "cell_type": "code",
      "source": [
        "atext = []\n",
        "for i in tqdm(range(len(articles))) :\n",
        "  x = articles.iloc[i]\n",
        "  article_id = x['article_id']\n",
        "  product_code = x['product_code']\n",
        "  product_type_no = x['product_type_no']\n",
        "  graphical_appearance_no = x['graphical_appearance_no']\n",
        "  colour_group_code = x['colour_group_code']\n",
        "  s = article_id + \" pc\" + product_code + \" pt\" + product_type_no + \" gan\" + graphical_appearance_no + \" cg\"+colour_group_code\n",
        "  atext.append(s)\n",
        "\n",
        "len(atext), atext[:10]"
      ],
      "metadata": {
        "colab": {
          "base_uri": "https://localhost:8080/"
        },
        "id": "FStskGjSp_a8",
        "outputId": "6e9e02c7-8698-43c3-ec7b-a375e1b4f6d7"
      },
      "execution_count": 27,
      "outputs": [
        {
          "output_type": "stream",
          "name": "stderr",
          "text": [
            "100%|██████████| 105542/105542 [00:09<00:00, 11608.64it/s]\n"
          ]
        },
        {
          "output_type": "execute_result",
          "data": {
            "text/plain": [
              "(105542,\n",
              " ['0108775015 pc0108775 pt253 gan1010016 cg09',\n",
              "  '0108775044 pc0108775 pt253 gan1010016 cg10',\n",
              "  '0108775051 pc0108775 pt253 gan1010017 cg11',\n",
              "  '0110065001 pc0110065 pt306 gan1010016 cg09',\n",
              "  '0110065002 pc0110065 pt306 gan1010016 cg10',\n",
              "  '0110065011 pc0110065 pt306 gan1010016 cg12',\n",
              "  '0111565001 pc0111565 pt304 gan1010016 cg09',\n",
              "  '0111565003 pc0111565 pt302 gan1010016 cg13',\n",
              "  '0111586001 pc0111586 pt273 gan1010016 cg09',\n",
              "  '0111593001 pc0111593 pt304 gan1010016 cg09'])"
            ]
          },
          "metadata": {},
          "execution_count": 27
        }
      ]
    },
    {
      "cell_type": "code",
      "source": [
        "with open('articles.pkl', 'wb') as f :\n",
        "  pickle.dump(atext,f)"
      ],
      "metadata": {
        "id": "rUvYMv8jxS7l"
      },
      "execution_count": 28,
      "outputs": []
    },
    {
      "cell_type": "markdown",
      "source": [
        "## テキストファイルに保存"
      ],
      "metadata": {
        "id": "xlBiw6PXzi9v"
      }
    },
    {
      "cell_type": "code",
      "source": [
        "all = text + ctext + atext \n",
        "len(all)"
      ],
      "metadata": {
        "colab": {
          "base_uri": "https://localhost:8080/"
        },
        "id": "JX4JvL3gznPp",
        "outputId": "807ab85f-1e93-42a8-ee70-ace50372fba0"
      },
      "execution_count": 29,
      "outputs": [
        {
          "output_type": "execute_result",
          "data": {
            "text/plain": [
              "33265846"
            ]
          },
          "metadata": {},
          "execution_count": 29
        }
      ]
    },
    {
      "cell_type": "code",
      "source": [
        "# テキスト形式にしｔ保存\n",
        "with open('items.txt', 'w') as f:\n",
        "    for e in tqdm(all) :\n",
        "      f.write(e + '\\n')"
      ],
      "metadata": {
        "colab": {
          "base_uri": "https://localhost:8080/"
        },
        "id": "NXWwyG9qzqpn",
        "outputId": "19304ac6-3fa7-4af2-dea3-685b6b4a553c"
      },
      "execution_count": 31,
      "outputs": [
        {
          "output_type": "stream",
          "name": "stderr",
          "text": [
            "100%|██████████| 33265846/33265846 [00:25<00:00, 1310556.91it/s]\n"
          ]
        }
      ]
    },
    {
      "cell_type": "code",
      "source": [
        "!cp *.pkl *.txt /content/drive/MyDrive/datas/h_and_m/newItem2Vec"
      ],
      "metadata": {
        "id": "6-foJgiNz4w0"
      },
      "execution_count": 32,
      "outputs": []
    },
    {
      "cell_type": "markdown",
      "source": [
        "## item2vec辞書作成"
      ],
      "metadata": {
        "id": "PMME_ABM0RYY"
      }
    },
    {
      "cell_type": "code",
      "source": [
        "sentences = word2vec.LineSentence('items.txt')\n",
        "\n",
        "# word2vecのモデルを構築\n",
        "#     sg: 1ならskip-gram(cbowではなく)\n",
        "#     size: 単語ベクトルの次元数\n",
        "#     window: ウィンドウサイズ(今回は1行に含まれる全ての単語を対象とするため大きな値を設定)\n",
        "#     hs: 0ならネガティブサンプリング(1なら階層的ソフトマックス)\n",
        "#     negative: ネガティブサンプリングする単語数(結果への影響が予測できなかったのでデフォルトの5に設定)\n",
        "#     seed: 乱数シード(結果を安定させたいので固定値を設定)\n",
        "#model = word2vec.Word2Vec(sentences, sg=1, size=100, window=100000, hs=0, negative=5, seed=42)\n",
        "model = word2vec.Word2Vec(sentences,  size=128, window=100000, seed=42, min_count=1, workers=cpu)"
      ],
      "metadata": {
        "id": "ZfbOk-bN0UF0"
      },
      "execution_count": 34,
      "outputs": []
    },
    {
      "cell_type": "code",
      "source": [
        "model.save(\"/content/drive/MyDrive/datas/h_and_m/newItem2Vec/word2vec.model\")"
      ],
      "metadata": {
        "id": "q9TrjMHd0fN4"
      },
      "execution_count": 35,
      "outputs": []
    },
    {
      "cell_type": "code",
      "source": [
        "id = '000058a12d5b43e67d225668fa1f8d618c13dc232df0cad8ffe7ad4a1091e318'\n",
        "model.wv.most_similar(id, topn=5)"
      ],
      "metadata": {
        "colab": {
          "base_uri": "https://localhost:8080/"
        },
        "id": "89AtsbQ_0oqa",
        "outputId": "0545c640-ce88-4434-95a2-931495e8181e"
      },
      "execution_count": 36,
      "outputs": [
        {
          "output_type": "execute_result",
          "data": {
            "text/plain": [
              "[('5de4e583177a20b756360af9851ec968375c44ab3ee20ebef855c0f446ba961d',\n",
              "  0.9895027875900269),\n",
              " ('3bcd3076d4a83d2397414cdf9f66da7cf05054ef5fdaee2b4f8da2760529d894',\n",
              "  0.9894407391548157),\n",
              " ('01a2c06f2da389245e326eeac70cca42f870bba79a9fef2e5fef21f27bcf757a',\n",
              "  0.9887876510620117),\n",
              " ('83e116d976f1ab290bf87a2b862bd206cb694d8dfeae062a81631b76949de27c',\n",
              "  0.9884083271026611),\n",
              " ('0d29edfbaff1c3e8b926135a72565d80461b7891b6b8beb7005bd197c3e32149',\n",
              "  0.9880269169807434)]"
            ]
          },
          "metadata": {},
          "execution_count": 36
        }
      ]
    },
    {
      "cell_type": "code",
      "source": [
        "l = ['0541518023', '0663713001', '0685687001', '0554757003']\n",
        "for e in l:\n",
        "  res = model.wv.similarity(id, e)\n",
        "  print(res)"
      ],
      "metadata": {
        "colab": {
          "base_uri": "https://localhost:8080/"
        },
        "id": "EjX0zPos91eL",
        "outputId": "1c4c5358-fd5d-428f-9b74-90872232048b"
      },
      "execution_count": 45,
      "outputs": [
        {
          "output_type": "stream",
          "name": "stdout",
          "text": [
            "0.352682\n",
            "0.32407683\n",
            "0.23754314\n",
            "0.3784091\n",
            "0.13633782\n"
          ]
        }
      ]
    },
    {
      "cell_type": "code",
      "source": [
        "print(model.wv.similarity('age20', 'age25'))\n",
        "print(model.wv.similarity('age25', 'age52'))\n",
        "model.wv.most_similar('age25', topn=20)"
      ],
      "metadata": {
        "colab": {
          "base_uri": "https://localhost:8080/"
        },
        "id": "AKR-eCAb98_-",
        "outputId": "579e2ec4-2419-47dc-e842-62d2d9e2457a"
      },
      "execution_count": 60,
      "outputs": [
        {
          "output_type": "stream",
          "name": "stdout",
          "text": [
            "0.41733956\n",
            "0.098321795\n"
          ]
        },
        {
          "output_type": "execute_result",
          "data": {
            "text/plain": [
              "[('age24', 0.7840039730072021),\n",
              " ('age26', 0.7803231477737427),\n",
              " ('age23', 0.7514244318008423),\n",
              " ('age27', 0.7355345487594604),\n",
              " ('age28', 0.6681232452392578),\n",
              " ('age22', 0.6419914364814758),\n",
              " ('age29', 0.539645791053772),\n",
              " ('post1325686', 0.5327457189559937),\n",
              " ('post932006', 0.5103806257247925),\n",
              " ('post1353757', 0.5046486854553223),\n",
              " ('post1132238', 0.5004220604896545),\n",
              " ('post1228311', 0.4994319975376129),\n",
              " ('post1095593', 0.4977501630783081),\n",
              " ('post1369919', 0.49208348989486694),\n",
              " ('post1354543', 0.49184343218803406),\n",
              " ('post1363857', 0.491605669260025),\n",
              " ('post951146', 0.4914271831512451),\n",
              " ('post1122536', 0.4913509488105774),\n",
              " ('post1231404', 0.48656782507896423),\n",
              " ('post1311484', 0.48302674293518066)]"
            ]
          },
          "metadata": {},
          "execution_count": 60
        }
      ]
    },
    {
      "cell_type": "code",
      "source": [
        ""
      ],
      "metadata": {
        "id": "oSEpqkXI-lMt"
      },
      "execution_count": null,
      "outputs": []
    }
  ]
}