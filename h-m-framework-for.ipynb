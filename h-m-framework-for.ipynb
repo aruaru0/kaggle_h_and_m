{
 "cells": [
  {
   "cell_type": "code",
   "execution_count": 1,
   "id": "b28e5856",
   "metadata": {},
   "outputs": [
    {
     "name": "stdout",
     "output_type": "stream",
     "text": [
      "Requirement already satisfied: pyarrow in /opt/conda/lib/python3.8/site-packages (7.0.0)\n",
      "Requirement already satisfied: numpy>=1.16.6 in /opt/conda/lib/python3.8/site-packages (from pyarrow) (1.20.1)\n",
      "Requirement already satisfied: fastparquet in /opt/conda/lib/python3.8/site-packages (0.8.1)\n",
      "Requirement already satisfied: fsspec in /opt/conda/lib/python3.8/site-packages (from fastparquet) (0.9.0)\n",
      "Requirement already satisfied: numpy>=1.18 in /opt/conda/lib/python3.8/site-packages (from fastparquet) (1.20.1)\n",
      "Requirement already satisfied: pandas>=1.1.0 in /opt/conda/lib/python3.8/site-packages (from fastparquet) (1.2.4)\n",
      "Requirement already satisfied: cramjam>=2.3.0 in /opt/conda/lib/python3.8/site-packages (from fastparquet) (2.5.0)\n",
      "Requirement already satisfied: packaging in /opt/conda/lib/python3.8/site-packages (from fastparquet) (20.9)\n",
      "Requirement already satisfied: python-dateutil>=2.7.3 in /opt/conda/lib/python3.8/site-packages (from pandas>=1.1.0->fastparquet) (2.8.1)\n",
      "Requirement already satisfied: pytz>=2017.3 in /opt/conda/lib/python3.8/site-packages (from pandas>=1.1.0->fastparquet) (2021.1)\n",
      "Requirement already satisfied: six>=1.5 in /opt/conda/lib/python3.8/site-packages (from python-dateutil>=2.7.3->pandas>=1.1.0->fastparquet) (1.15.0)\n",
      "Requirement already satisfied: pyparsing>=2.0.2 in /opt/conda/lib/python3.8/site-packages (from packaging->fastparquet) (2.4.7)\n"
     ]
    }
   ],
   "source": [
    "!pip install pyarrow\n",
    "!pip install fastparquet"
   ]
  },
  {
   "cell_type": "markdown",
   "id": "e7422e43",
   "metadata": {
    "papermill": {
     "duration": 0.025678,
     "end_time": "2022-04-23T02:52:48.647042",
     "exception": false,
     "start_time": "2022-04-23T02:52:48.621364",
     "status": "completed"
    },
    "tags": []
   },
   "source": [
    "### Overview"
   ]
  },
  {
   "cell_type": "markdown",
   "id": "1d6f9f2c",
   "metadata": {
    "papermill": {
     "duration": 0.024266,
     "end_time": "2022-04-23T02:52:48.696123",
     "exception": false,
     "start_time": "2022-04-23T02:52:48.671857",
     "status": "completed"
    },
    "tags": []
   },
   "source": [
    "In this notebook, I would like to present a framework for **partitioned validation** using one-week hold out.  \n",
    "As an example of possible groupings of customers, here I choose '**online vs. offline**', which shows that it is more difficult to predict future purchases of offline uses than to predict those of online users.  \n",
    "  \n",
    "I use some tequniqus I learned from great discussions and notebooks shared in the H&M competition.  \n",
    "So, I would really like to thank all the authors of them."
   ]
  },
  {
   "cell_type": "markdown",
   "id": "8b0d854e",
   "metadata": {
    "papermill": {
     "duration": 0.025728,
     "end_time": "2022-04-23T02:52:48.746194",
     "exception": false,
     "start_time": "2022-04-23T02:52:48.720466",
     "status": "completed"
    },
    "tags": []
   },
   "source": [
    "- **Version 6**  \n",
    "I added and fixed the code so as to make it easier to record and show results of validations on the week from 2020-9-16 to 2020-9-22.  \n",
    "In Version 6, MAP@12 of hold-out validation is around 0.0183 for online users and 0.0298 for offline users.  "
   ]
  },
  {
   "cell_type": "markdown",
   "id": "0fd1e0be",
   "metadata": {
    "papermill": {
     "duration": 0.024089,
     "end_time": "2022-04-23T02:52:48.795238",
     "exception": false,
     "start_time": "2022-04-23T02:52:48.771149",
     "status": "completed"
    },
    "tags": []
   },
   "source": [
    "### Libraries and Functions"
   ]
  },
  {
   "cell_type": "code",
   "execution_count": 2,
   "id": "64f3a672",
   "metadata": {
    "_cell_guid": "b1076dfc-b9ad-4769-8c92-a6c4dae69d19",
    "_uuid": "8f2839f25d086af736a60e9eeb907d3b93b6e0e5",
    "execution": {
     "iopub.execute_input": "2022-04-23T02:52:48.847050Z",
     "iopub.status.busy": "2022-04-23T02:52:48.846251Z",
     "iopub.status.idle": "2022-04-23T02:52:49.983983Z",
     "shell.execute_reply": "2022-04-23T02:52:49.983046Z"
    },
    "papermill": {
     "duration": 1.166858,
     "end_time": "2022-04-23T02:52:49.987172",
     "exception": false,
     "start_time": "2022-04-23T02:52:48.820314",
     "status": "completed"
    },
    "tags": []
   },
   "outputs": [],
   "source": [
    "import numpy as np, pandas as pd, datetime as dt\n",
    "import matplotlib.pyplot as plt; plt.style.use('ggplot')\n",
    "import seaborn as sns\n",
    "from collections import defaultdict\n",
    "\n",
    "def iter_to_str(iterable):\n",
    "    return \" \".join(map(lambda x: str(0) + str(x), iterable))\n",
    "\n",
    "def apk(actual, predicted, k=12):\n",
    "    if len(predicted) > k:\n",
    "        predicted = predicted[:k]\n",
    "    score, nhits = 0.0, 0.0\n",
    "    for i, p in enumerate(predicted):\n",
    "        if p in actual and p not in predicted[:i]:\n",
    "            nhits += 1.0\n",
    "            score += nhits / (i + 1.0)\n",
    "    if not actual:\n",
    "        return 0.0\n",
    "    return score / min(len(actual), k)\n",
    "\n",
    "def mapk(actual, predicted, k=12, return_apks=False):\n",
    "    assert len(actual) == len(predicted)\n",
    "    apks = [apk(ac, pr, k) for ac, pr in zip(actual, predicted) if 0 < len(ac)]\n",
    "    if return_apks:\n",
    "        return apks\n",
    "    return np.mean(apks)\n",
    "\n",
    "def blend(dt, w=[], k=12):\n",
    "    if len(w) == 0:\n",
    "        w = [1] * (len(dt))\n",
    "    preds = []\n",
    "    for i in range(len(w)):\n",
    "        preds.append(dt[i].split())\n",
    "    res = {}\n",
    "    for i in range(len(preds)):\n",
    "        if w[i] < 0:\n",
    "            continue\n",
    "        for n, v in enumerate(preds[i]):\n",
    "            if v in res:\n",
    "                res[v] += (w[i] / (n + 1))\n",
    "            else:\n",
    "                res[v] = (w[i] / (n + 1))    \n",
    "    res = list(dict(sorted(res.items(), key=lambda item: -item[1])).keys())\n",
    "    return ' '.join(res[:k])\n",
    "\n",
    "def prune(pred, ok_set, k=12):\n",
    "    pred = pred.split()\n",
    "    post = []\n",
    "    for item in pred:\n",
    "        if int(item) in ok_set and not item in post:\n",
    "            post.append(item)\n",
    "    return \" \".join(post[:k])\n",
    "\n",
    "def validation(actual, predicted, grouping, score=0, index=-1, ignore=False, figsize=(12, 6)):\n",
    "    # actual, predicted : list of lists\n",
    "    # group : pandas Series\n",
    "    # score : pandas DataFrame\n",
    "    if ignore: return\n",
    "    ap12 = mapk(actual, predicted, return_apks=True)\n",
    "    map12 = round(np.mean(ap12), 6)\n",
    "    if isinstance(score, int): score = pd.DataFrame({g:[] for g in sorted(grouping.unique().tolist())})\n",
    "    if index == -1 : index = score.shape[0]\n",
    "    score.loc[index, \"All\"] = map12\n",
    "    plt.figure(figsize=figsize)\n",
    "    plt.subplot(1, 2, 1); sns.histplot(data=ap12, log_scale=(0, 10), bins=20); plt.title(f\"MAP@12 : {map12}\")\n",
    "    for g in grouping.unique():\n",
    "        map12 = round(mapk(actual[grouping == g], predicted[grouping == g]), 6)\n",
    "        score.loc[index, g] = map12\n",
    "    plt.subplot(1, 2, 2); score[[g for g in grouping.unique()[::-1]] + ['All']].loc[index].plot.barh(); plt.title(f\"MAP@12 of Groups\")\n",
    "    vc = pd.Series(predicted).apply(len).value_counts()\n",
    "    score.loc[index, \"Fill\"] = round(1 - sum(vc[k] * (12 - k) / 12 for k in (set(range(12)) & set(vc.index))) / len(actual), 3) * 100\n",
    "    display(score)\n",
    "    return score"
   ]
  },
  {
   "cell_type": "markdown",
   "id": "e056aa6a",
   "metadata": {},
   "source": [
    "### wod2vec"
   ]
  },
  {
   "cell_type": "code",
   "execution_count": 3,
   "id": "4ae25e47",
   "metadata": {},
   "outputs": [],
   "source": [
    "import json\n",
    "from  gensim import models\n",
    "\n",
    "model = models.Word2Vec.load('../input/handmitem2vec/word2vec_v2.model')\n",
    "with open('../input/handmitem2vec/cust_buy.json', \"r\") as f :\n",
    "    cust_buy = json.load(f)"
   ]
  },
  {
   "cell_type": "markdown",
   "id": "30ac55b6",
   "metadata": {
    "papermill": {
     "duration": 0.024177,
     "end_time": "2022-04-23T02:52:50.036764",
     "exception": false,
     "start_time": "2022-04-23T02:52:50.012587",
     "status": "completed"
    },
    "tags": []
   },
   "source": [
    "### Data"
   ]
  },
  {
   "cell_type": "code",
   "execution_count": 4,
   "id": "a18661ad",
   "metadata": {
    "_cell_guid": "b1076dfc-b9ad-4769-8c92-a6c4dae69d19",
    "_uuid": "8f2839f25d086af736a60e9eeb907d3b93b6e0e5",
    "execution": {
     "iopub.execute_input": "2022-04-23T02:52:50.087037Z",
     "iopub.status.busy": "2022-04-23T02:52:50.086358Z",
     "iopub.status.idle": "2022-04-23T02:53:03.473110Z",
     "shell.execute_reply": "2022-04-23T02:53:03.472009Z"
    },
    "papermill": {
     "duration": 13.414428,
     "end_time": "2022-04-23T02:53:03.475349",
     "exception": false,
     "start_time": "2022-04-23T02:52:50.060921",
     "status": "completed"
    },
    "tags": []
   },
   "outputs": [],
   "source": [
    "df = pd.read_parquet('../input/hm-parquets-of-datasets/transactions_train.parquet')\n",
    "sub = pd.read_csv('../input/h-and-m-personalized-fashion-recommendations/sample_submission.csv')\n",
    "cid = pd.DataFrame(sub.customer_id.apply(lambda s: int(s[-16:], 16)))"
   ]
  },
  {
   "cell_type": "markdown",
   "id": "360b3575",
   "metadata": {
    "papermill": {
     "duration": 0.024442,
     "end_time": "2022-04-23T02:53:03.525992",
     "exception": false,
     "start_time": "2022-04-23T02:53:03.501550",
     "status": "completed"
    },
    "tags": []
   },
   "source": [
    "### Definition of Groups"
   ]
  },
  {
   "cell_type": "code",
   "execution_count": 5,
   "id": "f7d168bf",
   "metadata": {
    "_cell_guid": "b1076dfc-b9ad-4769-8c92-a6c4dae69d19",
    "_uuid": "8f2839f25d086af736a60e9eeb907d3b93b6e0e5",
    "execution": {
     "iopub.execute_input": "2022-04-23T02:53:03.576075Z",
     "iopub.status.busy": "2022-04-23T02:53:03.575803Z",
     "iopub.status.idle": "2022-04-23T02:53:07.381439Z",
     "shell.execute_reply": "2022-04-23T02:53:07.380539Z"
    },
    "papermill": {
     "duration": 3.833687,
     "end_time": "2022-04-23T02:53:07.384015",
     "exception": false,
     "start_time": "2022-04-23T02:53:03.550328",
     "status": "completed"
    },
    "tags": []
   },
   "outputs": [],
   "source": [
    "group = df.groupby('customer_id').sales_channel_id.mean().round().reset_index()\\\n",
    "    .merge(cid, on='customer_id', how='right').rename(columns={'sales_channel_id':'group'})\n",
    "grouping = group.group.fillna(1.0)"
   ]
  },
  {
   "cell_type": "markdown",
   "id": "d4c2a2e5",
   "metadata": {
    "papermill": {
     "duration": 0.024286,
     "end_time": "2022-04-23T02:53:07.433418",
     "exception": false,
     "start_time": "2022-04-23T02:53:07.409132",
     "status": "completed"
    },
    "tags": []
   },
   "source": [
    "### One-Week Hold Out"
   ]
  },
  {
   "cell_type": "code",
   "execution_count": 6,
   "id": "a6390972",
   "metadata": {
    "execution": {
     "iopub.execute_input": "2022-04-23T02:53:07.483688Z",
     "iopub.status.busy": "2022-04-23T02:53:07.483396Z",
     "iopub.status.idle": "2022-04-23T02:53:12.081482Z",
     "shell.execute_reply": "2022-04-23T02:53:12.080368Z"
    },
    "papermill": {
     "duration": 4.626189,
     "end_time": "2022-04-23T02:53:12.083965",
     "exception": false,
     "start_time": "2022-04-23T02:53:07.457776",
     "status": "completed"
    },
    "tags": []
   },
   "outputs": [],
   "source": [
    "val_week = 105\n",
    "# id of week to be used in a validation; set 105 if you would like to create a submission\n",
    "val = df.loc[df.week == val_week].groupby('customer_id').article_id.apply(iter_to_str).reset_index()\\\n",
    "    .merge(cid, on='customer_id', how='right')\n",
    "actual = val.article_id.apply(lambda s: [] if pd.isna(s) else s.split())\n",
    "last_date = df.loc[df.week < val_week].t_dat.max()"
   ]
  },
  {
   "cell_type": "code",
   "execution_count": 7,
   "id": "d8859d3d",
   "metadata": {
    "execution": {
     "iopub.execute_input": "2022-04-23T02:53:12.135056Z",
     "iopub.status.busy": "2022-04-23T02:53:12.134777Z",
     "iopub.status.idle": "2022-04-23T02:53:12.143170Z",
     "shell.execute_reply": "2022-04-23T02:53:12.142195Z"
    },
    "papermill": {
     "duration": 0.036854,
     "end_time": "2022-04-23T02:53:12.145693",
     "exception": false,
     "start_time": "2022-04-23T02:53:12.108839",
     "status": "completed"
    },
    "tags": []
   },
   "outputs": [
    {
     "data": {
      "text/plain": [
       "Timestamp('2020-09-22 00:00:00')"
      ]
     },
     "execution_count": 7,
     "metadata": {},
     "output_type": "execute_result"
    }
   ],
   "source": [
    "last_date"
   ]
  },
  {
   "cell_type": "markdown",
   "id": "19f85420",
   "metadata": {
    "papermill": {
     "duration": 0.02445,
     "end_time": "2022-04-23T02:53:12.195882",
     "exception": false,
     "start_time": "2022-04-23T02:53:12.171432",
     "status": "completed"
    },
    "tags": []
   },
   "source": [
    "### 最後に購入したアイテム(14日前から）"
   ]
  },
  {
   "cell_type": "code",
   "execution_count": 8,
   "id": "30bb7bf1",
   "metadata": {
    "execution": {
     "iopub.execute_input": "2022-04-23T02:53:12.247506Z",
     "iopub.status.busy": "2022-04-23T02:53:12.247239Z",
     "iopub.status.idle": "2022-04-23T02:54:05.216739Z",
     "shell.execute_reply": "2022-04-23T02:54:05.215781Z"
    },
    "papermill": {
     "duration": 52.998734,
     "end_time": "2022-04-23T02:54:05.219324",
     "exception": false,
     "start_time": "2022-04-23T02:53:12.220590",
     "status": "completed"
    },
    "tags": []
   },
   "outputs": [],
   "source": [
    "init_date = last_date - dt.timedelta(days=9999)\n",
    "train = df.loc[(df.t_dat >= init_date) & (df.t_dat <= last_date)].copy()\n",
    "train = train.merge(train.groupby('customer_id').t_dat.max().reset_index().rename(columns={'t_dat':'l_dat'}),\n",
    "                   on = 'customer_id', how='left')\n",
    "train['d_dat'] = (train.l_dat - train.t_dat).dt.days\n",
    "train = train.loc[train.d_dat < 14].sort_values(['t_dat'], ascending=False).drop_duplicates(['customer_id', 'article_id'])\n",
    "sub['last_purchase'] = train.groupby('customer_id')\\\n",
    "    .article_id.apply(iter_to_str).reset_index()\\\n",
    "    .merge(cid, on='customer_id', how='right').article_id.fillna('')\n",
    "\n",
    "predicted = sub['last_purchase'].apply(lambda s: [] if pd.isna(s) else s.split())\n",
    "score = validation(actual, predicted, grouping, index='Last Purchase', ignore=(val_week == 105))"
   ]
  },
  {
   "cell_type": "markdown",
   "id": "04d4be80",
   "metadata": {
    "papermill": {
     "duration": 0.024202,
     "end_time": "2022-04-23T02:54:05.268336",
     "exception": false,
     "start_time": "2022-04-23T02:54:05.244134",
     "status": "completed"
    },
    "tags": []
   },
   "source": [
    "### 購入したアイテムの他の色（６日前まで）"
   ]
  },
  {
   "cell_type": "code",
   "execution_count": 9,
   "id": "a4836d24",
   "metadata": {
    "execution": {
     "iopub.execute_input": "2022-04-23T02:54:05.319450Z",
     "iopub.status.busy": "2022-04-23T02:54:05.318417Z",
     "iopub.status.idle": "2022-04-23T02:54:27.941637Z",
     "shell.execute_reply": "2022-04-23T02:54:27.940646Z"
    },
    "papermill": {
     "duration": 22.651535,
     "end_time": "2022-04-23T02:54:27.944334",
     "exception": false,
     "start_time": "2022-04-23T02:54:05.292799",
     "status": "completed"
    },
    "tags": []
   },
   "outputs": [],
   "source": [
    "init_date = last_date - dt.timedelta(days=6)\n",
    "#init_date = last_date - dt.timedelta(days=14)\n",
    "train = df.loc[(df.t_dat >= init_date) & (df.t_dat <= last_date)].copy()\\\n",
    "    .groupby(['article_id']).t_dat.count().reset_index()\n",
    "adf = pd.read_parquet('../input/hm-parquets-of-datasets/articles.parquet')\n",
    "adf = adf.merge(train, on='article_id', how='left').rename(columns={'t_dat':'ct'})\\\n",
    "    .sort_values('ct', ascending=False).query('ct > 0')\n",
    "\n",
    "map_to_col = defaultdict(list)\n",
    "for aid in adf.article_id.tolist():\n",
    "    map_to_col[aid] = list(filter(lambda x: x != aid, adf[adf.product_code == aid // 1000].article_id.tolist()))[:1]\n",
    "\n",
    "def map_to_variation(s):\n",
    "    f = lambda item: iter_to_str(map_to_col[int(item)])\n",
    "    return ' '.join(map(f, s.split()))\n",
    "sub['other_colors'] = sub['last_purchase'].fillna('').apply(map_to_variation)"
   ]
  },
  {
   "cell_type": "code",
   "execution_count": 10,
   "id": "1f448f1d",
   "metadata": {},
   "outputs": [],
   "source": [
    "from tqdm import tqdm\n",
    "\n",
    "\n",
    "def sort_item2vec(colname, max_n = 2, none = \"\") :\n",
    "    l = []\n",
    "    for i in tqdm(range(len(sub))) :\n",
    "        wid = sub.iloc[i]['customer_id']\n",
    "        oc = sub.iloc[i][colname].split()\n",
    "        if len(oc) == 0 :\n",
    "            l.append(none)\n",
    "        elif wid not in cust_buy :\n",
    "            l.append(\" \".join(oc))            \n",
    "        elif len(oc) <= 1 :\n",
    "            l.append(\" \".join(oc))\n",
    "        else :\n",
    "            ll = []\n",
    "            for e in oc : \n",
    "                buy = cust_buy[wid].split(\" \")\n",
    "                p = model.wv.similarity(buy, e).mean()\n",
    "                ll.append([p, e])\n",
    "            ll.sort(reverse=True)\n",
    "            l.append(\" \".join(list(map(lambda x: x[1], ll[:max_n]))))\n",
    "    #     if i == 10: break\n",
    "\n",
    "    return l"
   ]
  },
  {
   "cell_type": "code",
   "execution_count": 11,
   "id": "c6703605",
   "metadata": {},
   "outputs": [
    {
     "name": "stderr",
     "output_type": "stream",
     "text": [
      "100%|██████████| 1371980/1371980 [07:49<00:00, 2925.02it/s]\n"
     ]
    }
   ],
   "source": [
    "sub['other_colors'] = sort_item2vec('other_colors', max_n=2)"
   ]
  },
  {
   "cell_type": "code",
   "execution_count": 12,
   "id": "d6acb7eb",
   "metadata": {},
   "outputs": [],
   "source": [
    "predicted = sub['other_colors'].apply(lambda s: [] if pd.isna(s) else s.split())\n",
    "score = validation(actual, predicted, grouping, score, index='Other Colors', ignore=(val_week == 105))"
   ]
  },
  {
   "cell_type": "markdown",
   "id": "895be8f2",
   "metadata": {
    "papermill": {
     "duration": 0.024242,
     "end_time": "2022-04-23T02:54:27.993856",
     "exception": false,
     "start_time": "2022-04-23T02:54:27.969614",
     "status": "completed"
    },
    "tags": []
   },
   "source": [
    "### 各グループの人気商品（４日前まで）グループは1,2,na<-1"
   ]
  },
  {
   "cell_type": "code",
   "execution_count": 13,
   "id": "0d404a3b",
   "metadata": {
    "execution": {
     "iopub.execute_input": "2022-04-23T02:54:28.101513Z",
     "iopub.status.busy": "2022-04-23T02:54:28.101197Z",
     "iopub.status.idle": "2022-04-23T02:54:28.790544Z",
     "shell.execute_reply": "2022-04-23T02:54:28.789961Z"
    },
    "papermill": {
     "duration": 0.717592,
     "end_time": "2022-04-23T02:54:28.792599",
     "exception": false,
     "start_time": "2022-04-23T02:54:28.075007",
     "status": "completed"
    },
    "tags": []
   },
   "outputs": [],
   "source": [
    "# cdf = pd.read_parquet('../input/handmitem2vec/customers.parquet')\n",
    "# cdf.fashion_news_frequency.unique()\n",
    "# cdf.head()"
   ]
  },
  {
   "cell_type": "code",
   "execution_count": 14,
   "id": "53277e00",
   "metadata": {
    "execution": {
     "iopub.execute_input": "2022-04-23T02:54:28.845758Z",
     "iopub.status.busy": "2022-04-23T02:54:28.845431Z",
     "iopub.status.idle": "2022-04-23T02:54:29.633355Z",
     "shell.execute_reply": "2022-04-23T02:54:29.632503Z"
    },
    "papermill": {
     "duration": 0.817427,
     "end_time": "2022-04-23T02:54:29.635547",
     "exception": false,
     "start_time": "2022-04-23T02:54:28.818120",
     "status": "completed"
    },
    "tags": []
   },
   "outputs": [
    {
     "data": {
      "text/plain": [
       "array(['(46.0, 51.0]Woman', '(23.0, 25.0]Woman',\n",
       "       '(51.0, 57.0]Sports-person', '(51.0, 57.0]Woman',\n",
       "       '(-1.001, 20.0]Sports-person', '(-1.001, 20.0]Young',\n",
       "       '(31.0, 38.0]Woman', '(-1.001, 20.0]Woman', '(28.0, 31.0]Young',\n",
       "       '(28.0, 31.0]Have-kids', '(28.0, 31.0]Woman', '(57.0, 99.0]Woman',\n",
       "       '(38.0, 46.0]Woman', '(25.0, 28.0]Man', '(20.0, 23.0]Woman',\n",
       "       '(31.0, 38.0]Man', '(38.0, 46.0]Have-kids', '(25.0, 28.0]Woman',\n",
       "       '(57.0, 99.0]Young', '(20.0, 23.0]Young', '(23.0, 25.0]Young',\n",
       "       '(46.0, 51.0]Man', '(31.0, 38.0]Young', '(-1.001, 20.0]Man',\n",
       "       '(25.0, 28.0]Young', '(57.0, 99.0]Man', '(31.0, 38.0]Have-kids',\n",
       "       '(20.0, 23.0]None', '(38.0, 46.0]Sports-person',\n",
       "       '(46.0, 51.0]Young', '(46.0, 51.0]Have-kids',\n",
       "       '(25.0, 28.0]Sports-person', '(38.0, 46.0]Young',\n",
       "       '(28.0, 31.0]Sports-person', '(57.0, 99.0]Sports-person',\n",
       "       '(20.0, 23.0]Man', '(23.0, 25.0]Man', '(51.0, 57.0]Man',\n",
       "       '(51.0, 57.0]Young', '(46.0, 51.0]Sports-person',\n",
       "       '(25.0, 28.0]None', '(51.0, 57.0]Have-kids', '(38.0, 46.0]Man',\n",
       "       '(31.0, 38.0]Sports-person', '(25.0, 28.0]Have-kids',\n",
       "       '(38.0, 46.0]None', '(57.0, 99.0]None', '(51.0, 57.0]None',\n",
       "       '(23.0, 25.0]Sports-person', '(57.0, 99.0]Have-kids',\n",
       "       '(-1.001, 20.0]None', '(31.0, 38.0]None', '(28.0, 31.0]None',\n",
       "       '(23.0, 25.0]Have-kids', '(23.0, 25.0]None', '(28.0, 31.0]Man',\n",
       "       '(-1.001, 20.0]Have-kids', '(46.0, 51.0]None',\n",
       "       '(20.0, 23.0]Sports-person', '(20.0, 23.0]Have-kids'], dtype=object)"
      ]
     },
     "execution_count": 14,
     "metadata": {},
     "output_type": "execute_result"
    }
   ],
   "source": [
    "cdf = pd.read_parquet('../input/handmitem2vec/customers.parquet')\n",
    "cdf = cdf[['customer_id','age','attribute']]\n",
    "#listBin = [-1, 19, 29, 39, 49, 59, 69, 119]\n",
    "listBin = [-1, 19, 34, 49, 119]\n",
    "#cdf['cust_feature'] = pd.cut(cdf['age'], listBin).astype(str).str.cat(cdf['attribute'].astype(str))\n",
    "cdf['cust_feature'] = pd.qcut(cdf['age'], 10).astype(str).str.cat(cdf['attribute'].astype(str))\n",
    "#cdf['cust_feature'] = pd.cut(cdf['age'], listBin).astype(str)\n",
    "#cdf['cust_feature'] = pd.qcut(cdf['age'], 10).astype(str)\n",
    "cdf = cdf.drop('age', axis=1)\n",
    "cdf = cdf.drop('attribute', axis=1)\n",
    "cdf['cust_feature'].unique()"
   ]
  },
  {
   "cell_type": "code",
   "execution_count": null,
   "id": "4a08b60d",
   "metadata": {},
   "outputs": [],
   "source": []
  },
  {
   "cell_type": "code",
   "execution_count": 15,
   "id": "ed913370",
   "metadata": {
    "execution": {
     "iopub.execute_input": "2022-04-23T02:54:29.691307Z",
     "iopub.status.busy": "2022-04-23T02:54:29.690924Z",
     "iopub.status.idle": "2022-04-23T02:54:41.819653Z",
     "shell.execute_reply": "2022-04-23T02:54:41.818775Z"
    },
    "papermill": {
     "duration": 12.159356,
     "end_time": "2022-04-23T02:54:41.822092",
     "exception": false,
     "start_time": "2022-04-23T02:54:29.662736",
     "status": "completed"
    },
    "tags": []
   },
   "outputs": [],
   "source": [
    "init_date = last_date - dt.timedelta(days=5 - 1)\n",
    "group_df = pd.concat([cid, group.group.fillna(1)], axis=1) # grouping can be changed\n",
    "group_df = group_df.merge(cdf, on='customer_id', how='right')\n",
    "group_df.columns = ['customer_id', 'group', 'cust_feature']\n",
    "group_df['cust_feature'] = group_df['group'].astype(str).str.cat(group_df['cust_feature'])\n",
    "train = df.loc[(df.t_dat >= init_date) & (df.t_dat <= last_date)].copy()\\\n",
    "    .merge(group_df, on='customer_id', how='left')\\\n",
    "    .groupby(['cust_feature', 'article_id']).t_dat.count().reset_index()\n",
    "\n",
    "items = defaultdict(str)\n",
    "for g in train.cust_feature.unique():\n",
    "    items[g] = iter_to_str(train.loc[train.cust_feature == g].sort_values('t_dat', ascending=False).article_id.tolist()[:30])\n",
    "\n",
    "sub['popular_items'] = group_df.cust_feature.map(items)"
   ]
  },
  {
   "cell_type": "code",
   "execution_count": 16,
   "id": "6875588f",
   "metadata": {},
   "outputs": [
    {
     "name": "stderr",
     "output_type": "stream",
     "text": [
      "100%|██████████| 1371980/1371980 [56:31<00:00, 404.48it/s] \n"
     ]
    }
   ],
   "source": [
    "normal = \"0706016001 0706016002 0372860001 0610776002 0759871002 0464297007 0372860002 0610776001 0399223001 0706016003 0720125001 0156231001\"\n",
    "sub['popular_items'] = sort_item2vec('popular_items', max_n=12, none=normal)"
   ]
  },
  {
   "cell_type": "code",
   "execution_count": 17,
   "id": "f50de39a",
   "metadata": {},
   "outputs": [],
   "source": [
    "predicted = sub['popular_items'].apply(lambda s: [] if pd.isna(s) else s.split())\n",
    "score = validation(actual, predicted, grouping, score, index='Popular Items', ignore=(val_week == 105))"
   ]
  },
  {
   "cell_type": "code",
   "execution_count": 18,
   "id": "d8222eb2",
   "metadata": {
    "execution": {
     "iopub.execute_input": "2022-04-23T02:54:41.875288Z",
     "iopub.status.busy": "2022-04-23T02:54:41.874521Z",
     "iopub.status.idle": "2022-04-23T02:54:41.880672Z",
     "shell.execute_reply": "2022-04-23T02:54:41.880035Z"
    },
    "papermill": {
     "duration": 0.035409,
     "end_time": "2022-04-23T02:54:41.883257",
     "exception": false,
     "start_time": "2022-04-23T02:54:41.847848",
     "status": "completed"
    },
    "scrolled": false,
    "tags": []
   },
   "outputs": [],
   "source": [
    "sub.to_csv('submission_all.csv', index=False)"
   ]
  },
  {
   "cell_type": "code",
   "execution_count": 19,
   "id": "d7a00e3c",
   "metadata": {},
   "outputs": [
    {
     "data": {
      "text/plain": [
       "30"
      ]
     },
     "execution_count": 19,
     "metadata": {},
     "output_type": "execute_result"
    }
   ],
   "source": [
    "import gc\n",
    "del model\n",
    "del cust_buy\n",
    "gc.collect()"
   ]
  },
  {
   "cell_type": "markdown",
   "id": "4ed1a6d5",
   "metadata": {
    "papermill": {
     "duration": 0.025811,
     "end_time": "2022-04-23T02:54:41.936402",
     "exception": false,
     "start_time": "2022-04-23T02:54:41.910591",
     "status": "completed"
    },
    "tags": []
   },
   "source": [
    "### 予測をブレンド"
   ]
  },
  {
   "cell_type": "code",
   "execution_count": 20,
   "id": "9f688865",
   "metadata": {
    "execution": {
     "iopub.execute_input": "2022-04-23T02:54:41.990942Z",
     "iopub.status.busy": "2022-04-23T02:54:41.990221Z",
     "iopub.status.idle": "2022-04-23T02:54:42.281459Z",
     "shell.execute_reply": "2022-04-23T02:54:42.280579Z"
    },
    "papermill": {
     "duration": 0.320912,
     "end_time": "2022-04-23T02:54:42.284143",
     "exception": false,
     "start_time": "2022-04-23T02:54:41.963231",
     "status": "completed"
    },
    "tags": []
   },
   "outputs": [],
   "source": [
    "# 11日間の売れた商品リスト\n",
    "init_date = last_date - dt.timedelta(days=11)\n",
    "sold_set = set(df.loc[(df.t_dat >= init_date) & (df.t_dat <= last_date)].article_id.tolist())"
   ]
  },
  {
   "cell_type": "code",
   "execution_count": 21,
   "id": "bcf3ecd7",
   "metadata": {
    "execution": {
     "iopub.execute_input": "2022-04-23T02:54:42.338292Z",
     "iopub.status.busy": "2022-04-23T02:54:42.337760Z",
     "iopub.status.idle": "2022-04-23T02:56:29.928714Z",
     "shell.execute_reply": "2022-04-23T02:56:29.927839Z"
    },
    "papermill": {
     "duration": 107.621413,
     "end_time": "2022-04-23T02:56:29.931535",
     "exception": false,
     "start_time": "2022-04-23T02:54:42.310122",
     "status": "completed"
    },
    "tags": []
   },
   "outputs": [],
   "source": [
    "# 11日間に販売実績のある商品だけ対象\n",
    "sub['prediction'] = sub[['last_purchase', 'other_colors', 'popular_items']]\\\n",
    "    .apply(blend, w=[100, 10, 1], axis=1, k=32).apply(prune, ok_set=sold_set)\n",
    "predicted = sub.prediction.apply(lambda s: [] if pd.isna(s) else s.split())\n",
    "score = validation(actual, predicted, grouping, score, index='Prediction', ignore=(val_week == 105))"
   ]
  },
  {
   "cell_type": "code",
   "execution_count": 22,
   "id": "188f888c",
   "metadata": {
    "execution": {
     "iopub.execute_input": "2022-04-23T02:56:29.986245Z",
     "iopub.status.busy": "2022-04-23T02:56:29.985965Z",
     "iopub.status.idle": "2022-04-23T02:56:29.991960Z",
     "shell.execute_reply": "2022-04-23T02:56:29.990991Z"
    },
    "papermill": {
     "duration": 0.035039,
     "end_time": "2022-04-23T02:56:29.993830",
     "exception": false,
     "start_time": "2022-04-23T02:56:29.958791",
     "status": "completed"
    },
    "tags": []
   },
   "outputs": [
    {
     "data": {
      "text/plain": [
       "12"
      ]
     },
     "execution_count": 22,
     "metadata": {},
     "output_type": "execute_result"
    }
   ],
   "source": [
    "len(sub['prediction'][0].split())\n",
    "#sns.barplot(data=score, x='All', y=score.index)"
   ]
  },
  {
   "cell_type": "code",
   "execution_count": 23,
   "id": "828dc6cc",
   "metadata": {
    "execution": {
     "iopub.execute_input": "2022-04-23T02:56:30.048090Z",
     "iopub.status.busy": "2022-04-23T02:56:30.047798Z",
     "iopub.status.idle": "2022-04-23T02:56:43.215915Z",
     "shell.execute_reply": "2022-04-23T02:56:43.215126Z"
    },
    "papermill": {
     "duration": 13.19832,
     "end_time": "2022-04-23T02:56:43.218549",
     "exception": false,
     "start_time": "2022-04-23T02:56:30.020229",
     "status": "completed"
    },
    "tags": []
   },
   "outputs": [],
   "source": [
    "if val_week == 105: sub[['customer_id', 'prediction']].to_csv('submission.csv', index=False)"
   ]
  },
  {
   "cell_type": "code",
   "execution_count": 24,
   "id": "d6ad3ad6",
   "metadata": {},
   "outputs": [],
   "source": [
    "sub['prediction'] = sub['popular_items']"
   ]
  },
  {
   "cell_type": "code",
   "execution_count": 25,
   "id": "d7fb82ed",
   "metadata": {},
   "outputs": [],
   "source": [
    "if val_week == 105: sub[['customer_id', 'prediction']].to_csv('submission_popular.csv', index=False)"
   ]
  },
  {
   "cell_type": "code",
   "execution_count": null,
   "id": "24baffd5",
   "metadata": {},
   "outputs": [],
   "source": []
  }
 ],
 "metadata": {
  "kernelspec": {
   "display_name": "Python 3",
   "language": "python",
   "name": "python3"
  },
  "language_info": {
   "codemirror_mode": {
    "name": "ipython",
    "version": 3
   },
   "file_extension": ".py",
   "mimetype": "text/x-python",
   "name": "python",
   "nbconvert_exporter": "python",
   "pygments_lexer": "ipython3",
   "version": "3.8.8"
  },
  "papermill": {
   "default_parameters": {},
   "duration": 247.434399,
   "end_time": "2022-04-23T02:56:45.942348",
   "environment_variables": {},
   "exception": null,
   "input_path": "__notebook__.ipynb",
   "output_path": "__notebook__.ipynb",
   "parameters": {},
   "start_time": "2022-04-23T02:52:38.507949",
   "version": "2.3.4"
  }
 },
 "nbformat": 4,
 "nbformat_minor": 5
}
