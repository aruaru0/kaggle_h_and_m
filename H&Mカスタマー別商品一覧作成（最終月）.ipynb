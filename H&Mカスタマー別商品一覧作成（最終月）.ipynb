{
  "nbformat": 4,
  "nbformat_minor": 0,
  "metadata": {
    "colab": {
      "name": "H&Mカスタマー別商品一覧作成（最終月）.ipynb",
      "provenance": [],
      "collapsed_sections": [],
      "authorship_tag": "ABX9TyOweMUTW2lSFP31qdShU275",
      "include_colab_link": true
    },
    "kernelspec": {
      "name": "python3",
      "display_name": "Python 3"
    },
    "language_info": {
      "name": "python"
    }
  },
  "cells": [
    {
      "cell_type": "markdown",
      "metadata": {
        "id": "view-in-github",
        "colab_type": "text"
      },
      "source": [
        "<a href=\"https://colab.research.google.com/github/aruaru0/kaggle_h_and_m/blob/main/H%26M%E3%82%AB%E3%82%B9%E3%82%BF%E3%83%9E%E3%83%BC%E5%88%A5%E5%95%86%E5%93%81%E4%B8%80%E8%A6%A7%E4%BD%9C%E6%88%90%EF%BC%88%E6%9C%80%E7%B5%82%E6%9C%88%EF%BC%89.ipynb\" target=\"_parent\"><img src=\"https://colab.research.google.com/assets/colab-badge.svg\" alt=\"Open In Colab\"/></a>"
      ]
    },
    {
      "cell_type": "code",
      "source": [
        "from google.colab import drive\n",
        "drive.mount('/content/drive')"
      ],
      "metadata": {
        "colab": {
          "base_uri": "https://localhost:8080/"
        },
        "id": "uM2vZtuTsnNe",
        "outputId": "1a5f6f02-a910-4c3d-b89e-47325fc59c8a"
      },
      "execution_count": 1,
      "outputs": [
        {
          "output_type": "stream",
          "name": "stdout",
          "text": [
            "Mounted at /content/drive\n"
          ]
        }
      ]
    },
    {
      "cell_type": "code",
      "source": [
        "import pandas as pd\n",
        "import numpy as np\n",
        "from datetime import datetime, timedelta\n",
        "from collections import defaultdict\n",
        "import math\n",
        "from tqdm import tqdm\n",
        "import json\n",
        "\n",
        "from gensim.models import word2vec\n",
        "import multiprocessing\n",
        "cpu = multiprocessing.cpu_count()"
      ],
      "metadata": {
        "id": "4NyJiMW4s1uc"
      },
      "execution_count": 13,
      "outputs": []
    },
    {
      "cell_type": "markdown",
      "source": [
        "## ファイル読み込み"
      ],
      "metadata": {
        "id": "JcK95wgrs-EL"
      }
    },
    {
      "cell_type": "code",
      "source": [
        "df  = pd.read_csv('/content/drive/MyDrive/datas/h_and_m/transactions_train.csv',\n",
        "                            usecols= ['t_dat', 'customer_id', 'article_id'], \n",
        "                            dtype={'article_id': 'string', 't_dat': 'string', 'customer_id': 'string'})\n",
        "\n",
        "df['t_dat'] = pd.to_datetime(df['t_dat'])\n",
        "#last_ts = df['t_dat'].max()\n",
        "df.shape"
      ],
      "metadata": {
        "colab": {
          "base_uri": "https://localhost:8080/"
        },
        "id": "Aywa-dH-s8O5",
        "outputId": "88f1550c-71cf-40db-bcc9-b474573e84a7"
      },
      "execution_count": 5,
      "outputs": [
        {
          "output_type": "execute_result",
          "data": {
            "text/plain": [
              "(31788324, 3)"
            ]
          },
          "metadata": {},
          "execution_count": 5
        }
      ]
    },
    {
      "cell_type": "code",
      "source": [
        "last = df[df['t_dat'] >= datetime(2020,9,1,0,0)]\n",
        "last.head()"
      ],
      "metadata": {
        "colab": {
          "base_uri": "https://localhost:8080/",
          "height": 206
        },
        "id": "H-f8BRzQtGoC",
        "outputId": "58cff8ef-0354-4356-c970-6f67dadf3d93"
      },
      "execution_count": 6,
      "outputs": [
        {
          "output_type": "execute_result",
          "data": {
            "text/plain": [
              "              t_dat                                        customer_id  \\\n",
              "30990055 2020-09-01  0001d44dbe7f6c4b35200abdb052c77a87596fe1bdcc37...   \n",
              "30990056 2020-09-01  0001d44dbe7f6c4b35200abdb052c77a87596fe1bdcc37...   \n",
              "30990057 2020-09-01  0001d44dbe7f6c4b35200abdb052c77a87596fe1bdcc37...   \n",
              "30990058 2020-09-01  0001d44dbe7f6c4b35200abdb052c77a87596fe1bdcc37...   \n",
              "30990059 2020-09-01  0005ed68483efa39644c45185550a82dd09acb07622acb...   \n",
              "\n",
              "          article_id  \n",
              "30990055  0777148006  \n",
              "30990056  0835801001  \n",
              "30990057  0923134005  \n",
              "30990058  0865929003  \n",
              "30990059  0863646004  "
            ],
            "text/html": [
              "\n",
              "  <div id=\"df-faf8c0ce-f90f-421f-92a2-d10f3050e55f\">\n",
              "    <div class=\"colab-df-container\">\n",
              "      <div>\n",
              "<style scoped>\n",
              "    .dataframe tbody tr th:only-of-type {\n",
              "        vertical-align: middle;\n",
              "    }\n",
              "\n",
              "    .dataframe tbody tr th {\n",
              "        vertical-align: top;\n",
              "    }\n",
              "\n",
              "    .dataframe thead th {\n",
              "        text-align: right;\n",
              "    }\n",
              "</style>\n",
              "<table border=\"1\" class=\"dataframe\">\n",
              "  <thead>\n",
              "    <tr style=\"text-align: right;\">\n",
              "      <th></th>\n",
              "      <th>t_dat</th>\n",
              "      <th>customer_id</th>\n",
              "      <th>article_id</th>\n",
              "    </tr>\n",
              "  </thead>\n",
              "  <tbody>\n",
              "    <tr>\n",
              "      <th>30990055</th>\n",
              "      <td>2020-09-01</td>\n",
              "      <td>0001d44dbe7f6c4b35200abdb052c77a87596fe1bdcc37...</td>\n",
              "      <td>0777148006</td>\n",
              "    </tr>\n",
              "    <tr>\n",
              "      <th>30990056</th>\n",
              "      <td>2020-09-01</td>\n",
              "      <td>0001d44dbe7f6c4b35200abdb052c77a87596fe1bdcc37...</td>\n",
              "      <td>0835801001</td>\n",
              "    </tr>\n",
              "    <tr>\n",
              "      <th>30990057</th>\n",
              "      <td>2020-09-01</td>\n",
              "      <td>0001d44dbe7f6c4b35200abdb052c77a87596fe1bdcc37...</td>\n",
              "      <td>0923134005</td>\n",
              "    </tr>\n",
              "    <tr>\n",
              "      <th>30990058</th>\n",
              "      <td>2020-09-01</td>\n",
              "      <td>0001d44dbe7f6c4b35200abdb052c77a87596fe1bdcc37...</td>\n",
              "      <td>0865929003</td>\n",
              "    </tr>\n",
              "    <tr>\n",
              "      <th>30990059</th>\n",
              "      <td>2020-09-01</td>\n",
              "      <td>0005ed68483efa39644c45185550a82dd09acb07622acb...</td>\n",
              "      <td>0863646004</td>\n",
              "    </tr>\n",
              "  </tbody>\n",
              "</table>\n",
              "</div>\n",
              "      <button class=\"colab-df-convert\" onclick=\"convertToInteractive('df-faf8c0ce-f90f-421f-92a2-d10f3050e55f')\"\n",
              "              title=\"Convert this dataframe to an interactive table.\"\n",
              "              style=\"display:none;\">\n",
              "        \n",
              "  <svg xmlns=\"http://www.w3.org/2000/svg\" height=\"24px\"viewBox=\"0 0 24 24\"\n",
              "       width=\"24px\">\n",
              "    <path d=\"M0 0h24v24H0V0z\" fill=\"none\"/>\n",
              "    <path d=\"M18.56 5.44l.94 2.06.94-2.06 2.06-.94-2.06-.94-.94-2.06-.94 2.06-2.06.94zm-11 1L8.5 8.5l.94-2.06 2.06-.94-2.06-.94L8.5 2.5l-.94 2.06-2.06.94zm10 10l.94 2.06.94-2.06 2.06-.94-2.06-.94-.94-2.06-.94 2.06-2.06.94z\"/><path d=\"M17.41 7.96l-1.37-1.37c-.4-.4-.92-.59-1.43-.59-.52 0-1.04.2-1.43.59L10.3 9.45l-7.72 7.72c-.78.78-.78 2.05 0 2.83L4 21.41c.39.39.9.59 1.41.59.51 0 1.02-.2 1.41-.59l7.78-7.78 2.81-2.81c.8-.78.8-2.07 0-2.86zM5.41 20L4 18.59l7.72-7.72 1.47 1.35L5.41 20z\"/>\n",
              "  </svg>\n",
              "      </button>\n",
              "      \n",
              "  <style>\n",
              "    .colab-df-container {\n",
              "      display:flex;\n",
              "      flex-wrap:wrap;\n",
              "      gap: 12px;\n",
              "    }\n",
              "\n",
              "    .colab-df-convert {\n",
              "      background-color: #E8F0FE;\n",
              "      border: none;\n",
              "      border-radius: 50%;\n",
              "      cursor: pointer;\n",
              "      display: none;\n",
              "      fill: #1967D2;\n",
              "      height: 32px;\n",
              "      padding: 0 0 0 0;\n",
              "      width: 32px;\n",
              "    }\n",
              "\n",
              "    .colab-df-convert:hover {\n",
              "      background-color: #E2EBFA;\n",
              "      box-shadow: 0px 1px 2px rgba(60, 64, 67, 0.3), 0px 1px 3px 1px rgba(60, 64, 67, 0.15);\n",
              "      fill: #174EA6;\n",
              "    }\n",
              "\n",
              "    [theme=dark] .colab-df-convert {\n",
              "      background-color: #3B4455;\n",
              "      fill: #D2E3FC;\n",
              "    }\n",
              "\n",
              "    [theme=dark] .colab-df-convert:hover {\n",
              "      background-color: #434B5C;\n",
              "      box-shadow: 0px 1px 3px 1px rgba(0, 0, 0, 0.15);\n",
              "      filter: drop-shadow(0px 1px 2px rgba(0, 0, 0, 0.3));\n",
              "      fill: #FFFFFF;\n",
              "    }\n",
              "  </style>\n",
              "\n",
              "      <script>\n",
              "        const buttonEl =\n",
              "          document.querySelector('#df-faf8c0ce-f90f-421f-92a2-d10f3050e55f button.colab-df-convert');\n",
              "        buttonEl.style.display =\n",
              "          google.colab.kernel.accessAllowed ? 'block' : 'none';\n",
              "\n",
              "        async function convertToInteractive(key) {\n",
              "          const element = document.querySelector('#df-faf8c0ce-f90f-421f-92a2-d10f3050e55f');\n",
              "          const dataTable =\n",
              "            await google.colab.kernel.invokeFunction('convertToInteractive',\n",
              "                                                     [key], {});\n",
              "          if (!dataTable) return;\n",
              "\n",
              "          const docLinkHtml = 'Like what you see? Visit the ' +\n",
              "            '<a target=\"_blank\" href=https://colab.research.google.com/notebooks/data_table.ipynb>data table notebook</a>'\n",
              "            + ' to learn more about interactive tables.';\n",
              "          element.innerHTML = '';\n",
              "          dataTable['output_type'] = 'display_data';\n",
              "          await google.colab.output.renderOutput(dataTable, element);\n",
              "          const docLink = document.createElement('div');\n",
              "          docLink.innerHTML = docLinkHtml;\n",
              "          element.appendChild(docLink);\n",
              "        }\n",
              "      </script>\n",
              "    </div>\n",
              "  </div>\n",
              "  "
            ]
          },
          "metadata": {},
          "execution_count": 6
        }
      ]
    },
    {
      "cell_type": "code",
      "source": [
        "custdf = last.groupby('customer_id').agg({\"article_id\": list}).reset_index()"
      ],
      "metadata": {
        "id": "Dbn3KrVctbsy"
      },
      "execution_count": 7,
      "outputs": []
    },
    {
      "cell_type": "code",
      "source": [
        "custdf.index  = custdf['customer_id']\n",
        "custdf"
      ],
      "metadata": {
        "colab": {
          "base_uri": "https://localhost:8080/",
          "height": 602
        },
        "id": "dZCPpadTtfzS",
        "outputId": "07722dfb-caa5-4824-b339-8c46fbab8dee"
      },
      "execution_count": 8,
      "outputs": [
        {
          "output_type": "execute_result",
          "data": {
            "text/plain": [
              "                                                                                          customer_id  \\\n",
              "customer_id                                                                                             \n",
              "00000dbacae5abe5e23885899a1fa44253a17956c6d1c3d...  00000dbacae5abe5e23885899a1fa44253a17956c6d1c3...   \n",
              "000058a12d5b43e67d225668fa1f8d618c13dc232df0cad...  000058a12d5b43e67d225668fa1f8d618c13dc232df0ca...   \n",
              "0000757967448a6cb83efb3ea7a3fb9d418ac7adf2379d8...  0000757967448a6cb83efb3ea7a3fb9d418ac7adf2379d...   \n",
              "000172a9c322560c849754ffbdfdb2180d408aa7176b943...  000172a9c322560c849754ffbdfdb2180d408aa7176b94...   \n",
              "0001d44dbe7f6c4b35200abdb052c77a87596fe1bdcc37e...  0001d44dbe7f6c4b35200abdb052c77a87596fe1bdcc37...   \n",
              "...                                                                                               ...   \n",
              "fffd0248a95c2e49fee876ff93598e2e20839e51b9b7678...  fffd0248a95c2e49fee876ff93598e2e20839e51b9b767...   \n",
              "fffd870c6324ad3bda24e4d6aeae221c199479086bfdfd0...  fffd870c6324ad3bda24e4d6aeae221c199479086bfdfd...   \n",
              "fffef3b6b73545df065b521e19f64bf6fe93bfd450ab20e...  fffef3b6b73545df065b521e19f64bf6fe93bfd450ab20...   \n",
              "ffffbbf78b6eaac697a8a5dfbfd2bfa8113ee5b403e4747...  ffffbbf78b6eaac697a8a5dfbfd2bfa8113ee5b403e474...   \n",
              "ffffcf35913a0bee60e8741cb2b4e78b8a98ee5ff2e6a17...  ffffcf35913a0bee60e8741cb2b4e78b8a98ee5ff2e6a1...   \n",
              "\n",
              "                                                                                           article_id  \n",
              "customer_id                                                                                            \n",
              "00000dbacae5abe5e23885899a1fa44253a17956c6d1c3d...                                       [0568601043]  \n",
              "000058a12d5b43e67d225668fa1f8d618c13dc232df0cad...                                       [0794321007]  \n",
              "0000757967448a6cb83efb3ea7a3fb9d418ac7adf2379d8...                           [0719530003, 0448509014]  \n",
              "000172a9c322560c849754ffbdfdb2180d408aa7176b943...               [0685814001, 0685814001, 0685814001]  \n",
              "0001d44dbe7f6c4b35200abdb052c77a87596fe1bdcc37e...  [0777148006, 0835801001, 0923134005, 086592900...  \n",
              "...                                                                                               ...  \n",
              "fffd0248a95c2e49fee876ff93598e2e20839e51b9b7678...  [0509091057, 0859737002, 0573085028, 074568600...  \n",
              "fffd870c6324ad3bda24e4d6aeae221c199479086bfdfd0...                           [0750423010, 0761269001]  \n",
              "fffef3b6b73545df065b521e19f64bf6fe93bfd450ab20e...  [0910601003, 0873276003, 0905365002, 090536500...  \n",
              "ffffbbf78b6eaac697a8a5dfbfd2bfa8113ee5b403e4747...  [0713997002, 0720125039, 0740922009, 079158700...  \n",
              "ffffcf35913a0bee60e8741cb2b4e78b8a98ee5ff2e6a17...   [0689365050, 0884081001, 0794819001, 0762846027]  \n",
              "\n",
              "[189510 rows x 2 columns]"
            ],
            "text/html": [
              "\n",
              "  <div id=\"df-4712954f-c533-4bc6-95fe-b94d7df2e062\">\n",
              "    <div class=\"colab-df-container\">\n",
              "      <div>\n",
              "<style scoped>\n",
              "    .dataframe tbody tr th:only-of-type {\n",
              "        vertical-align: middle;\n",
              "    }\n",
              "\n",
              "    .dataframe tbody tr th {\n",
              "        vertical-align: top;\n",
              "    }\n",
              "\n",
              "    .dataframe thead th {\n",
              "        text-align: right;\n",
              "    }\n",
              "</style>\n",
              "<table border=\"1\" class=\"dataframe\">\n",
              "  <thead>\n",
              "    <tr style=\"text-align: right;\">\n",
              "      <th></th>\n",
              "      <th>customer_id</th>\n",
              "      <th>article_id</th>\n",
              "    </tr>\n",
              "    <tr>\n",
              "      <th>customer_id</th>\n",
              "      <th></th>\n",
              "      <th></th>\n",
              "    </tr>\n",
              "  </thead>\n",
              "  <tbody>\n",
              "    <tr>\n",
              "      <th>00000dbacae5abe5e23885899a1fa44253a17956c6d1c3d25f88aa139fdfc657</th>\n",
              "      <td>00000dbacae5abe5e23885899a1fa44253a17956c6d1c3...</td>\n",
              "      <td>[0568601043]</td>\n",
              "    </tr>\n",
              "    <tr>\n",
              "      <th>000058a12d5b43e67d225668fa1f8d618c13dc232df0cad8ffe7ad4a1091e318</th>\n",
              "      <td>000058a12d5b43e67d225668fa1f8d618c13dc232df0ca...</td>\n",
              "      <td>[0794321007]</td>\n",
              "    </tr>\n",
              "    <tr>\n",
              "      <th>0000757967448a6cb83efb3ea7a3fb9d418ac7adf2379d8cd0c725276a467a2a</th>\n",
              "      <td>0000757967448a6cb83efb3ea7a3fb9d418ac7adf2379d...</td>\n",
              "      <td>[0719530003, 0448509014]</td>\n",
              "    </tr>\n",
              "    <tr>\n",
              "      <th>000172a9c322560c849754ffbdfdb2180d408aa7176b943f957804686be8e1f0</th>\n",
              "      <td>000172a9c322560c849754ffbdfdb2180d408aa7176b94...</td>\n",
              "      <td>[0685814001, 0685814001, 0685814001]</td>\n",
              "    </tr>\n",
              "    <tr>\n",
              "      <th>0001d44dbe7f6c4b35200abdb052c77a87596fe1bdcc37e011580a479e80aa94</th>\n",
              "      <td>0001d44dbe7f6c4b35200abdb052c77a87596fe1bdcc37...</td>\n",
              "      <td>[0777148006, 0835801001, 0923134005, 086592900...</td>\n",
              "    </tr>\n",
              "    <tr>\n",
              "      <th>...</th>\n",
              "      <td>...</td>\n",
              "      <td>...</td>\n",
              "    </tr>\n",
              "    <tr>\n",
              "      <th>fffd0248a95c2e49fee876ff93598e2e20839e51b9b7678aab75d9e8f9f3c6c8</th>\n",
              "      <td>fffd0248a95c2e49fee876ff93598e2e20839e51b9b767...</td>\n",
              "      <td>[0509091057, 0859737002, 0573085028, 074568600...</td>\n",
              "    </tr>\n",
              "    <tr>\n",
              "      <th>fffd870c6324ad3bda24e4d6aeae221c199479086bfdfd0eb40a3065971d0e01</th>\n",
              "      <td>fffd870c6324ad3bda24e4d6aeae221c199479086bfdfd...</td>\n",
              "      <td>[0750423010, 0761269001]</td>\n",
              "    </tr>\n",
              "    <tr>\n",
              "      <th>fffef3b6b73545df065b521e19f64bf6fe93bfd450ab20e02ce5d1e58a8f700b</th>\n",
              "      <td>fffef3b6b73545df065b521e19f64bf6fe93bfd450ab20...</td>\n",
              "      <td>[0910601003, 0873276003, 0905365002, 090536500...</td>\n",
              "    </tr>\n",
              "    <tr>\n",
              "      <th>ffffbbf78b6eaac697a8a5dfbfd2bfa8113ee5b403e4747568cac33e8c541831</th>\n",
              "      <td>ffffbbf78b6eaac697a8a5dfbfd2bfa8113ee5b403e474...</td>\n",
              "      <td>[0713997002, 0720125039, 0740922009, 079158700...</td>\n",
              "    </tr>\n",
              "    <tr>\n",
              "      <th>ffffcf35913a0bee60e8741cb2b4e78b8a98ee5ff2e6a1778d0116cffd259264</th>\n",
              "      <td>ffffcf35913a0bee60e8741cb2b4e78b8a98ee5ff2e6a1...</td>\n",
              "      <td>[0689365050, 0884081001, 0794819001, 0762846027]</td>\n",
              "    </tr>\n",
              "  </tbody>\n",
              "</table>\n",
              "<p>189510 rows × 2 columns</p>\n",
              "</div>\n",
              "      <button class=\"colab-df-convert\" onclick=\"convertToInteractive('df-4712954f-c533-4bc6-95fe-b94d7df2e062')\"\n",
              "              title=\"Convert this dataframe to an interactive table.\"\n",
              "              style=\"display:none;\">\n",
              "        \n",
              "  <svg xmlns=\"http://www.w3.org/2000/svg\" height=\"24px\"viewBox=\"0 0 24 24\"\n",
              "       width=\"24px\">\n",
              "    <path d=\"M0 0h24v24H0V0z\" fill=\"none\"/>\n",
              "    <path d=\"M18.56 5.44l.94 2.06.94-2.06 2.06-.94-2.06-.94-.94-2.06-.94 2.06-2.06.94zm-11 1L8.5 8.5l.94-2.06 2.06-.94-2.06-.94L8.5 2.5l-.94 2.06-2.06.94zm10 10l.94 2.06.94-2.06 2.06-.94-2.06-.94-.94-2.06-.94 2.06-2.06.94z\"/><path d=\"M17.41 7.96l-1.37-1.37c-.4-.4-.92-.59-1.43-.59-.52 0-1.04.2-1.43.59L10.3 9.45l-7.72 7.72c-.78.78-.78 2.05 0 2.83L4 21.41c.39.39.9.59 1.41.59.51 0 1.02-.2 1.41-.59l7.78-7.78 2.81-2.81c.8-.78.8-2.07 0-2.86zM5.41 20L4 18.59l7.72-7.72 1.47 1.35L5.41 20z\"/>\n",
              "  </svg>\n",
              "      </button>\n",
              "      \n",
              "  <style>\n",
              "    .colab-df-container {\n",
              "      display:flex;\n",
              "      flex-wrap:wrap;\n",
              "      gap: 12px;\n",
              "    }\n",
              "\n",
              "    .colab-df-convert {\n",
              "      background-color: #E8F0FE;\n",
              "      border: none;\n",
              "      border-radius: 50%;\n",
              "      cursor: pointer;\n",
              "      display: none;\n",
              "      fill: #1967D2;\n",
              "      height: 32px;\n",
              "      padding: 0 0 0 0;\n",
              "      width: 32px;\n",
              "    }\n",
              "\n",
              "    .colab-df-convert:hover {\n",
              "      background-color: #E2EBFA;\n",
              "      box-shadow: 0px 1px 2px rgba(60, 64, 67, 0.3), 0px 1px 3px 1px rgba(60, 64, 67, 0.15);\n",
              "      fill: #174EA6;\n",
              "    }\n",
              "\n",
              "    [theme=dark] .colab-df-convert {\n",
              "      background-color: #3B4455;\n",
              "      fill: #D2E3FC;\n",
              "    }\n",
              "\n",
              "    [theme=dark] .colab-df-convert:hover {\n",
              "      background-color: #434B5C;\n",
              "      box-shadow: 0px 1px 3px 1px rgba(0, 0, 0, 0.15);\n",
              "      filter: drop-shadow(0px 1px 2px rgba(0, 0, 0, 0.3));\n",
              "      fill: #FFFFFF;\n",
              "    }\n",
              "  </style>\n",
              "\n",
              "      <script>\n",
              "        const buttonEl =\n",
              "          document.querySelector('#df-4712954f-c533-4bc6-95fe-b94d7df2e062 button.colab-df-convert');\n",
              "        buttonEl.style.display =\n",
              "          google.colab.kernel.accessAllowed ? 'block' : 'none';\n",
              "\n",
              "        async function convertToInteractive(key) {\n",
              "          const element = document.querySelector('#df-4712954f-c533-4bc6-95fe-b94d7df2e062');\n",
              "          const dataTable =\n",
              "            await google.colab.kernel.invokeFunction('convertToInteractive',\n",
              "                                                     [key], {});\n",
              "          if (!dataTable) return;\n",
              "\n",
              "          const docLinkHtml = 'Like what you see? Visit the ' +\n",
              "            '<a target=\"_blank\" href=https://colab.research.google.com/notebooks/data_table.ipynb>data table notebook</a>'\n",
              "            + ' to learn more about interactive tables.';\n",
              "          element.innerHTML = '';\n",
              "          dataTable['output_type'] = 'display_data';\n",
              "          await google.colab.output.renderOutput(dataTable, element);\n",
              "          const docLink = document.createElement('div');\n",
              "          docLink.innerHTML = docLinkHtml;\n",
              "          element.appendChild(docLink);\n",
              "        }\n",
              "      </script>\n",
              "    </div>\n",
              "  </div>\n",
              "  "
            ]
          },
          "metadata": {},
          "execution_count": 8
        }
      ]
    },
    {
      "cell_type": "code",
      "source": [
        "cust_dict = custdf.drop('customer_id', axis=1).to_dict()\n",
        "cust_dict = cust_dict['article_id']"
      ],
      "metadata": {
        "id": "ouxlPAipue3y"
      },
      "execution_count": 9,
      "outputs": []
    },
    {
      "cell_type": "code",
      "source": [
        "with open('customer_articles_202009.json','w') as f:\n",
        "  json.dump(cust_dict, f)"
      ],
      "metadata": {
        "id": "IlJ-vA14ur_c"
      },
      "execution_count": 10,
      "outputs": []
    },
    {
      "cell_type": "markdown",
      "source": [
        "## item2vec作成"
      ],
      "metadata": {
        "id": "zCvVpifYwLw1"
      }
    },
    {
      "cell_type": "code",
      "source": [
        "from tqdm import tqdm\n",
        "# テキスト形式にしｔ保存\n",
        "with open('items.txt', 'w') as f:\n",
        "    for e in tqdm(cust_dict) :\n",
        "      l = \" \".join(cust_dict[e])\n",
        "      f.write(l + '\\n')"
      ],
      "metadata": {
        "colab": {
          "base_uri": "https://localhost:8080/"
        },
        "id": "7V1qeZsav54W",
        "outputId": "8f726860-4553-4b9a-8ce9-e354f08f0720"
      },
      "execution_count": 11,
      "outputs": [
        {
          "output_type": "stream",
          "name": "stderr",
          "text": [
            "100%|██████████| 189510/189510 [00:00<00:00, 590825.64it/s]\n"
          ]
        }
      ]
    },
    {
      "cell_type": "code",
      "source": [
        "sentences = word2vec.LineSentence('items.txt')\n",
        "\n",
        "# word2vecのモデルを構築\n",
        "#     sg: 1ならskip-gram(cbowではなく)\n",
        "#     size: 単語ベクトルの次元数\n",
        "#     window: ウィンドウサイズ(今回は1行に含まれる全ての単語を対象とするため大きな値を設定)\n",
        "#     hs: 0ならネガティブサンプリング(1なら階層的ソフトマックス)\n",
        "#     negative: ネガティブサンプリングする単語数(結果への影響が予測できなかったのでデフォルトの5に設定)\n",
        "#     seed: 乱数シード(結果を安定させたいので固定値を設定)\n",
        "#model = word2vec.Word2Vec(sentences, sg=1, size=100, window=100000, hs=0, negative=5, seed=42)\n",
        "model = word2vec.Word2Vec(sentences,  size=256, window=100000, seed=42, min_count=1, workers=cpu)"
      ],
      "metadata": {
        "id": "dCB9G56Ywl4c"
      },
      "execution_count": 14,
      "outputs": []
    },
    {
      "cell_type": "code",
      "source": [
        "model.save(\"word2vec.model\")"
      ],
      "metadata": {
        "id": "DgB3cRcLwpuz"
      },
      "execution_count": 15,
      "outputs": []
    },
    {
      "cell_type": "code",
      "source": [
        "!cp *.json *.txt word2vec*  /content/drive/MyDrive/datas/h_and_m/trend202009"
      ],
      "metadata": {
        "id": "n7uisxO_x9Ve"
      },
      "execution_count": 17,
      "outputs": []
    },
    {
      "cell_type": "code",
      "source": [
        "model.wv.most_similar(['0802871001',\n",
        "  '0827428001',\n",
        "  '0865076001'], topn=10)\n"
      ],
      "metadata": {
        "colab": {
          "base_uri": "https://localhost:8080/"
        },
        "id": "nwHck934yUro",
        "outputId": "56700f20-d54b-4f6d-f388-4fe265d52131"
      },
      "execution_count": 21,
      "outputs": [
        {
          "output_type": "execute_result",
          "data": {
            "text/plain": [
              "[('0826646009', 0.9663570523262024),\n",
              " ('0824995006', 0.963238000869751),\n",
              " ('0778064038', 0.9616572260856628),\n",
              " ('0768931006', 0.9572802186012268),\n",
              " ('0754005001', 0.9561100006103516),\n",
              " ('0820484003', 0.9558284282684326),\n",
              " ('0881425002', 0.9556455612182617),\n",
              " ('0516000001', 0.9549257755279541),\n",
              " ('0825719002', 0.9548330307006836),\n",
              " ('0622969001', 0.9534097909927368)]"
            ]
          },
          "metadata": {},
          "execution_count": 21
        }
      ]
    },
    {
      "cell_type": "code",
      "source": [
        "i = 0\n",
        "for e in cust_dict :  \n",
        "  ret = model.wv.most_similar(cust_dict[e], topn=4)\n",
        "  print(ret)\n",
        "  if i == 20: break\n",
        "  i += 1"
      ],
      "metadata": {
        "colab": {
          "base_uri": "https://localhost:8080/"
        },
        "id": "nqZbMX2-y_C5",
        "outputId": "0e065d50-51d4-43cd-fbe7-539fb7b14a6b"
      },
      "execution_count": 31,
      "outputs": [
        {
          "output_type": "stream",
          "name": "stdout",
          "text": [
            "[('0779781015', 0.990409255027771), ('0770315020', 0.9825408458709717), ('0858856005', 0.9795480966567993), ('0695632001', 0.979347825050354)]\n",
            "[('0805000007', 0.9868990182876587), ('0805000008', 0.974185585975647), ('0804992016', 0.9660730957984924), ('0905518002', 0.9493032693862915)]\n",
            "[('0448509018', 0.929100513458252), ('0919365003', 0.9208903908729553), ('0448509035', 0.9195795059204102), ('0905365006', 0.9190483689308167)]\n",
            "[('0685814003', 0.8507223725318909), ('0685814062', 0.8505144119262695), ('0524465001', 0.8188444375991821), ('0742258025', 0.8187606334686279)]\n",
            "[('0731525009', 0.9695224165916443), ('0732409048', 0.9673168659210205), ('0844059001', 0.9658563137054443), ('0828116001', 0.965390682220459)]\n",
            "[('0821417002', 0.9831748008728027), ('0837351002', 0.9814471006393433), ('0733097008', 0.9810389876365662), ('0556539018', 0.9770254492759705)]\n",
            "[('0910601003', 0.9632487893104553), ('0910601001', 0.8899194598197937), ('0844483001', 0.8257529735565186), ('0910447001', 0.8200836181640625)]\n",
            "[('0624486064', 0.9697882533073425), ('0909734001', 0.9567083120346069), ('0874110001', 0.951526403427124), ('0874116005', 0.9425980448722839)]\n",
            "[('0864297004', 0.9765820503234863), ('0919541001', 0.9570649862289429), ('0937466002', 0.9451065063476562), ('0933408002', 0.9439725875854492)]\n",
            "[('0896198002', 0.938928484916687), ('0906744001', 0.938271164894104), ('0906296001', 0.9380701780319214), ('0887757002', 0.9344532489776611)]\n",
            "[('0732842008', 0.9600461721420288), ('0664133001', 0.9511833190917969), ('0820827002', 0.9500675201416016), ('0706016053', 0.9386379718780518)]\n",
            "[('0443696057', 0.9204919338226318), ('0798938018', 0.9089490175247192), ('0874113031', 0.9074122905731201), ('0907702002', 0.9027671217918396)]\n",
            "[('0759814010', 0.9752651453018188), ('0925521001', 0.9734392166137695), ('0880481003', 0.9667675495147705), ('0759871034', 0.9656875729560852)]\n",
            "[('0863646002', 0.9510392546653748), ('0863646005', 0.9332205057144165), ('0863646001', 0.9188865423202515), ('0863646003', 0.907568633556366)]\n",
            "[('0753237011', 0.9373534321784973), ('0568601006', 0.9355707168579102), ('0708138026', 0.9302550554275513), ('0568597006', 0.9246349930763245)]\n",
            "[('0865434001', 0.9523192644119263), ('0831686003', 0.9456642866134644), ('0811529002', 0.9278290271759033), ('0939151003', 0.9221193790435791)]\n",
            "[('0903256001', 0.9540373086929321), ('0920283001', 0.9398456811904907), ('0888475002', 0.9331323504447937), ('0904414003', 0.9299394488334656)]\n",
            "[('0800691009', 0.9554529190063477), ('0800691031', 0.9152449369430542), ('0717490071', 0.8439332246780396), ('0784926001', 0.8428379893302917)]\n",
            "[('0921682002', 0.9454178214073181), ('0946282001', 0.9442341327667236), ('0867141003', 0.9386400580406189), ('0921757001', 0.9361927509307861)]\n",
            "[('0843380007', 0.9122852087020874), ('0930058002', 0.8914774656295776), ('0882481001', 0.8774211406707764), ('0930058001', 0.8751598596572876)]\n",
            "[('0837351002', 0.9767077565193176), ('0820671001', 0.9723286032676697), ('0846356001', 0.9709058403968811), ('0826492001', 0.9688704609870911)]\n"
          ]
        }
      ]
    },
    {
      "cell_type": "code",
      "source": [
        ""
      ],
      "metadata": {
        "id": "aQaBFlfdzAJB"
      },
      "execution_count": 27,
      "outputs": []
    },
    {
      "cell_type": "code",
      "source": [
        ""
      ],
      "metadata": {
        "id": "tzkRckDEzbbo"
      },
      "execution_count": null,
      "outputs": []
    },
    {
      "cell_type": "markdown",
      "source": [
        "## articleからカテゴリーを取り出し、カスタマーの購入したカテゴリーを設定する"
      ],
      "metadata": {
        "id": "hlIFnCTEAmi5"
      }
    },
    {
      "cell_type": "code",
      "source": [
        "df = pd.read_csv('/content/drive/MyDrive/datas/h_and_m/articles.csv',\n",
        "                 usecols= ['article_id','index_group_no','index_group_name'],\n",
        "                 dtype={'article_id': 'string', 'index_group_no' : 'int' ,'index_group_name' : 'string'})"
      ],
      "metadata": {
        "id": "g068cBxeAnM7"
      },
      "execution_count": 98,
      "outputs": []
    },
    {
      "cell_type": "code",
      "source": [
        "df.head()"
      ],
      "metadata": {
        "colab": {
          "base_uri": "https://localhost:8080/",
          "height": 206
        },
        "id": "XbWInwRqA2rC",
        "outputId": "2df2e444-f732-467a-9fc0-f9fd848db2b9"
      },
      "execution_count": 99,
      "outputs": [
        {
          "output_type": "execute_result",
          "data": {
            "text/plain": [
              "   article_id  index_group_no index_group_name\n",
              "0  0108775015               1       Ladieswear\n",
              "1  0108775044               1       Ladieswear\n",
              "2  0108775051               1       Ladieswear\n",
              "3  0110065001               1       Ladieswear\n",
              "4  0110065002               1       Ladieswear"
            ],
            "text/html": [
              "\n",
              "  <div id=\"df-c1d6d169-5ce4-4757-a2d2-b1f417245f33\">\n",
              "    <div class=\"colab-df-container\">\n",
              "      <div>\n",
              "<style scoped>\n",
              "    .dataframe tbody tr th:only-of-type {\n",
              "        vertical-align: middle;\n",
              "    }\n",
              "\n",
              "    .dataframe tbody tr th {\n",
              "        vertical-align: top;\n",
              "    }\n",
              "\n",
              "    .dataframe thead th {\n",
              "        text-align: right;\n",
              "    }\n",
              "</style>\n",
              "<table border=\"1\" class=\"dataframe\">\n",
              "  <thead>\n",
              "    <tr style=\"text-align: right;\">\n",
              "      <th></th>\n",
              "      <th>article_id</th>\n",
              "      <th>index_group_no</th>\n",
              "      <th>index_group_name</th>\n",
              "    </tr>\n",
              "  </thead>\n",
              "  <tbody>\n",
              "    <tr>\n",
              "      <th>0</th>\n",
              "      <td>0108775015</td>\n",
              "      <td>1</td>\n",
              "      <td>Ladieswear</td>\n",
              "    </tr>\n",
              "    <tr>\n",
              "      <th>1</th>\n",
              "      <td>0108775044</td>\n",
              "      <td>1</td>\n",
              "      <td>Ladieswear</td>\n",
              "    </tr>\n",
              "    <tr>\n",
              "      <th>2</th>\n",
              "      <td>0108775051</td>\n",
              "      <td>1</td>\n",
              "      <td>Ladieswear</td>\n",
              "    </tr>\n",
              "    <tr>\n",
              "      <th>3</th>\n",
              "      <td>0110065001</td>\n",
              "      <td>1</td>\n",
              "      <td>Ladieswear</td>\n",
              "    </tr>\n",
              "    <tr>\n",
              "      <th>4</th>\n",
              "      <td>0110065002</td>\n",
              "      <td>1</td>\n",
              "      <td>Ladieswear</td>\n",
              "    </tr>\n",
              "  </tbody>\n",
              "</table>\n",
              "</div>\n",
              "      <button class=\"colab-df-convert\" onclick=\"convertToInteractive('df-c1d6d169-5ce4-4757-a2d2-b1f417245f33')\"\n",
              "              title=\"Convert this dataframe to an interactive table.\"\n",
              "              style=\"display:none;\">\n",
              "        \n",
              "  <svg xmlns=\"http://www.w3.org/2000/svg\" height=\"24px\"viewBox=\"0 0 24 24\"\n",
              "       width=\"24px\">\n",
              "    <path d=\"M0 0h24v24H0V0z\" fill=\"none\"/>\n",
              "    <path d=\"M18.56 5.44l.94 2.06.94-2.06 2.06-.94-2.06-.94-.94-2.06-.94 2.06-2.06.94zm-11 1L8.5 8.5l.94-2.06 2.06-.94-2.06-.94L8.5 2.5l-.94 2.06-2.06.94zm10 10l.94 2.06.94-2.06 2.06-.94-2.06-.94-.94-2.06-.94 2.06-2.06.94z\"/><path d=\"M17.41 7.96l-1.37-1.37c-.4-.4-.92-.59-1.43-.59-.52 0-1.04.2-1.43.59L10.3 9.45l-7.72 7.72c-.78.78-.78 2.05 0 2.83L4 21.41c.39.39.9.59 1.41.59.51 0 1.02-.2 1.41-.59l7.78-7.78 2.81-2.81c.8-.78.8-2.07 0-2.86zM5.41 20L4 18.59l7.72-7.72 1.47 1.35L5.41 20z\"/>\n",
              "  </svg>\n",
              "      </button>\n",
              "      \n",
              "  <style>\n",
              "    .colab-df-container {\n",
              "      display:flex;\n",
              "      flex-wrap:wrap;\n",
              "      gap: 12px;\n",
              "    }\n",
              "\n",
              "    .colab-df-convert {\n",
              "      background-color: #E8F0FE;\n",
              "      border: none;\n",
              "      border-radius: 50%;\n",
              "      cursor: pointer;\n",
              "      display: none;\n",
              "      fill: #1967D2;\n",
              "      height: 32px;\n",
              "      padding: 0 0 0 0;\n",
              "      width: 32px;\n",
              "    }\n",
              "\n",
              "    .colab-df-convert:hover {\n",
              "      background-color: #E2EBFA;\n",
              "      box-shadow: 0px 1px 2px rgba(60, 64, 67, 0.3), 0px 1px 3px 1px rgba(60, 64, 67, 0.15);\n",
              "      fill: #174EA6;\n",
              "    }\n",
              "\n",
              "    [theme=dark] .colab-df-convert {\n",
              "      background-color: #3B4455;\n",
              "      fill: #D2E3FC;\n",
              "    }\n",
              "\n",
              "    [theme=dark] .colab-df-convert:hover {\n",
              "      background-color: #434B5C;\n",
              "      box-shadow: 0px 1px 3px 1px rgba(0, 0, 0, 0.15);\n",
              "      filter: drop-shadow(0px 1px 2px rgba(0, 0, 0, 0.3));\n",
              "      fill: #FFFFFF;\n",
              "    }\n",
              "  </style>\n",
              "\n",
              "      <script>\n",
              "        const buttonEl =\n",
              "          document.querySelector('#df-c1d6d169-5ce4-4757-a2d2-b1f417245f33 button.colab-df-convert');\n",
              "        buttonEl.style.display =\n",
              "          google.colab.kernel.accessAllowed ? 'block' : 'none';\n",
              "\n",
              "        async function convertToInteractive(key) {\n",
              "          const element = document.querySelector('#df-c1d6d169-5ce4-4757-a2d2-b1f417245f33');\n",
              "          const dataTable =\n",
              "            await google.colab.kernel.invokeFunction('convertToInteractive',\n",
              "                                                     [key], {});\n",
              "          if (!dataTable) return;\n",
              "\n",
              "          const docLinkHtml = 'Like what you see? Visit the ' +\n",
              "            '<a target=\"_blank\" href=https://colab.research.google.com/notebooks/data_table.ipynb>data table notebook</a>'\n",
              "            + ' to learn more about interactive tables.';\n",
              "          element.innerHTML = '';\n",
              "          dataTable['output_type'] = 'display_data';\n",
              "          await google.colab.output.renderOutput(dataTable, element);\n",
              "          const docLink = document.createElement('div');\n",
              "          docLink.innerHTML = docLinkHtml;\n",
              "          element.appendChild(docLink);\n",
              "        }\n",
              "      </script>\n",
              "    </div>\n",
              "  </div>\n",
              "  "
            ]
          },
          "metadata": {},
          "execution_count": 99
        }
      ]
    },
    {
      "cell_type": "code",
      "source": [
        "df['index_group_name'].unique()"
      ],
      "metadata": {
        "colab": {
          "base_uri": "https://localhost:8080/"
        },
        "id": "_IORv2MrA3ws",
        "outputId": "fa7e928b-1cc3-4ff2-86fc-dee3b4823bfb"
      },
      "execution_count": 100,
      "outputs": [
        {
          "output_type": "execute_result",
          "data": {
            "text/plain": [
              "<StringArray>\n",
              "['Ladieswear', 'Baby/Children', 'Menswear', 'Sport', 'Divided']\n",
              "Length: 5, dtype: string"
            ]
          },
          "metadata": {},
          "execution_count": 100
        }
      ]
    },
    {
      "cell_type": "code",
      "source": [
        "df['index_group_no'].unique()"
      ],
      "metadata": {
        "colab": {
          "base_uri": "https://localhost:8080/"
        },
        "id": "B4XlgSWHBFUv",
        "outputId": "efa3813e-8b2b-4e34-de6f-2d5190946cf4"
      },
      "execution_count": 101,
      "outputs": [
        {
          "output_type": "execute_result",
          "data": {
            "text/plain": [
              "array([ 1,  4,  3, 26,  2])"
            ]
          },
          "metadata": {},
          "execution_count": 101
        }
      ]
    },
    {
      "cell_type": "code",
      "source": [
        "article_group_dict = df.set_index('article_id')['index_group_no'].to_dict()"
      ],
      "metadata": {
        "id": "nNeCmHTKZy1n"
      },
      "execution_count": 117,
      "outputs": []
    },
    {
      "cell_type": "code",
      "source": [
        "import pickle\n",
        "with open('article_group_dict.pkl', 'wb') as f:\n",
        "  pickle.dump(article_group_dict, f)"
      ],
      "metadata": {
        "id": "AXIgBMBGaitZ"
      },
      "execution_count": 113,
      "outputs": []
    },
    {
      "cell_type": "code",
      "source": [
        "df = last.merge(df, on='article_id', how='inner')\n",
        "df"
      ],
      "metadata": {
        "colab": {
          "base_uri": "https://localhost:8080/",
          "height": 423
        },
        "id": "_-5NoaXYBRGI",
        "outputId": "e8d0a3af-47bb-4a11-9430-fb805154ec2c"
      },
      "execution_count": 82,
      "outputs": [
        {
          "output_type": "execute_result",
          "data": {
            "text/plain": [
              "            t_dat                                        customer_id  \\\n",
              "0      2020-09-01  0001d44dbe7f6c4b35200abdb052c77a87596fe1bdcc37...   \n",
              "1      2020-09-03  5ac5e1825104ed5fe3333e75b9337eebc4b45ad761056b...   \n",
              "2      2020-09-06  0dcf3023ea1992a78a1fcc769b6befc956f7308186496d...   \n",
              "3      2020-09-06  28b30893bbe946358103760387e3dcd09fdb7b077a942f...   \n",
              "4      2020-09-10  278f23c7fac720c2b96b25455d640860bdfa8bb3c867cf...   \n",
              "...           ...                                                ...   \n",
              "798264 2020-09-22  f71529889de7a28df0015fad0a043941ecc98883286ef0...   \n",
              "798265 2020-09-22  f79e372e21c1359dfebc7da0bf7f321d55e47b3275c351...   \n",
              "798266 2020-09-22  f82c91decd5f9abd0a7a72eae0d4911b00ed4f5b4f04f9...   \n",
              "798267 2020-09-22  f96661e9e56449885d4c4b90d3227e4abea5e0d2382e2d...   \n",
              "798268 2020-09-22  fd5ce8716faf00f6a83616f609e0403ac516727d4ca4aa...   \n",
              "\n",
              "        article_id  index_group_no index_group_name  \n",
              "0       0777148006               1       Ladieswear  \n",
              "1       0777148006               1       Ladieswear  \n",
              "2       0777148006               1       Ladieswear  \n",
              "3       0777148006               1       Ladieswear  \n",
              "4       0777148006               1       Ladieswear  \n",
              "...            ...             ...              ...  \n",
              "798264  0737994021               4    Baby/Children  \n",
              "798265  0533261032               4    Baby/Children  \n",
              "798266  0865792012               4    Baby/Children  \n",
              "798267  0772659001               1       Ladieswear  \n",
              "798268  0807775001               3         Menswear  \n",
              "\n",
              "[798269 rows x 5 columns]"
            ],
            "text/html": [
              "\n",
              "  <div id=\"df-d18d7d8a-37de-499c-b080-d4f5f480bfe7\">\n",
              "    <div class=\"colab-df-container\">\n",
              "      <div>\n",
              "<style scoped>\n",
              "    .dataframe tbody tr th:only-of-type {\n",
              "        vertical-align: middle;\n",
              "    }\n",
              "\n",
              "    .dataframe tbody tr th {\n",
              "        vertical-align: top;\n",
              "    }\n",
              "\n",
              "    .dataframe thead th {\n",
              "        text-align: right;\n",
              "    }\n",
              "</style>\n",
              "<table border=\"1\" class=\"dataframe\">\n",
              "  <thead>\n",
              "    <tr style=\"text-align: right;\">\n",
              "      <th></th>\n",
              "      <th>t_dat</th>\n",
              "      <th>customer_id</th>\n",
              "      <th>article_id</th>\n",
              "      <th>index_group_no</th>\n",
              "      <th>index_group_name</th>\n",
              "    </tr>\n",
              "  </thead>\n",
              "  <tbody>\n",
              "    <tr>\n",
              "      <th>0</th>\n",
              "      <td>2020-09-01</td>\n",
              "      <td>0001d44dbe7f6c4b35200abdb052c77a87596fe1bdcc37...</td>\n",
              "      <td>0777148006</td>\n",
              "      <td>1</td>\n",
              "      <td>Ladieswear</td>\n",
              "    </tr>\n",
              "    <tr>\n",
              "      <th>1</th>\n",
              "      <td>2020-09-03</td>\n",
              "      <td>5ac5e1825104ed5fe3333e75b9337eebc4b45ad761056b...</td>\n",
              "      <td>0777148006</td>\n",
              "      <td>1</td>\n",
              "      <td>Ladieswear</td>\n",
              "    </tr>\n",
              "    <tr>\n",
              "      <th>2</th>\n",
              "      <td>2020-09-06</td>\n",
              "      <td>0dcf3023ea1992a78a1fcc769b6befc956f7308186496d...</td>\n",
              "      <td>0777148006</td>\n",
              "      <td>1</td>\n",
              "      <td>Ladieswear</td>\n",
              "    </tr>\n",
              "    <tr>\n",
              "      <th>3</th>\n",
              "      <td>2020-09-06</td>\n",
              "      <td>28b30893bbe946358103760387e3dcd09fdb7b077a942f...</td>\n",
              "      <td>0777148006</td>\n",
              "      <td>1</td>\n",
              "      <td>Ladieswear</td>\n",
              "    </tr>\n",
              "    <tr>\n",
              "      <th>4</th>\n",
              "      <td>2020-09-10</td>\n",
              "      <td>278f23c7fac720c2b96b25455d640860bdfa8bb3c867cf...</td>\n",
              "      <td>0777148006</td>\n",
              "      <td>1</td>\n",
              "      <td>Ladieswear</td>\n",
              "    </tr>\n",
              "    <tr>\n",
              "      <th>...</th>\n",
              "      <td>...</td>\n",
              "      <td>...</td>\n",
              "      <td>...</td>\n",
              "      <td>...</td>\n",
              "      <td>...</td>\n",
              "    </tr>\n",
              "    <tr>\n",
              "      <th>798264</th>\n",
              "      <td>2020-09-22</td>\n",
              "      <td>f71529889de7a28df0015fad0a043941ecc98883286ef0...</td>\n",
              "      <td>0737994021</td>\n",
              "      <td>4</td>\n",
              "      <td>Baby/Children</td>\n",
              "    </tr>\n",
              "    <tr>\n",
              "      <th>798265</th>\n",
              "      <td>2020-09-22</td>\n",
              "      <td>f79e372e21c1359dfebc7da0bf7f321d55e47b3275c351...</td>\n",
              "      <td>0533261032</td>\n",
              "      <td>4</td>\n",
              "      <td>Baby/Children</td>\n",
              "    </tr>\n",
              "    <tr>\n",
              "      <th>798266</th>\n",
              "      <td>2020-09-22</td>\n",
              "      <td>f82c91decd5f9abd0a7a72eae0d4911b00ed4f5b4f04f9...</td>\n",
              "      <td>0865792012</td>\n",
              "      <td>4</td>\n",
              "      <td>Baby/Children</td>\n",
              "    </tr>\n",
              "    <tr>\n",
              "      <th>798267</th>\n",
              "      <td>2020-09-22</td>\n",
              "      <td>f96661e9e56449885d4c4b90d3227e4abea5e0d2382e2d...</td>\n",
              "      <td>0772659001</td>\n",
              "      <td>1</td>\n",
              "      <td>Ladieswear</td>\n",
              "    </tr>\n",
              "    <tr>\n",
              "      <th>798268</th>\n",
              "      <td>2020-09-22</td>\n",
              "      <td>fd5ce8716faf00f6a83616f609e0403ac516727d4ca4aa...</td>\n",
              "      <td>0807775001</td>\n",
              "      <td>3</td>\n",
              "      <td>Menswear</td>\n",
              "    </tr>\n",
              "  </tbody>\n",
              "</table>\n",
              "<p>798269 rows × 5 columns</p>\n",
              "</div>\n",
              "      <button class=\"colab-df-convert\" onclick=\"convertToInteractive('df-d18d7d8a-37de-499c-b080-d4f5f480bfe7')\"\n",
              "              title=\"Convert this dataframe to an interactive table.\"\n",
              "              style=\"display:none;\">\n",
              "        \n",
              "  <svg xmlns=\"http://www.w3.org/2000/svg\" height=\"24px\"viewBox=\"0 0 24 24\"\n",
              "       width=\"24px\">\n",
              "    <path d=\"M0 0h24v24H0V0z\" fill=\"none\"/>\n",
              "    <path d=\"M18.56 5.44l.94 2.06.94-2.06 2.06-.94-2.06-.94-.94-2.06-.94 2.06-2.06.94zm-11 1L8.5 8.5l.94-2.06 2.06-.94-2.06-.94L8.5 2.5l-.94 2.06-2.06.94zm10 10l.94 2.06.94-2.06 2.06-.94-2.06-.94-.94-2.06-.94 2.06-2.06.94z\"/><path d=\"M17.41 7.96l-1.37-1.37c-.4-.4-.92-.59-1.43-.59-.52 0-1.04.2-1.43.59L10.3 9.45l-7.72 7.72c-.78.78-.78 2.05 0 2.83L4 21.41c.39.39.9.59 1.41.59.51 0 1.02-.2 1.41-.59l7.78-7.78 2.81-2.81c.8-.78.8-2.07 0-2.86zM5.41 20L4 18.59l7.72-7.72 1.47 1.35L5.41 20z\"/>\n",
              "  </svg>\n",
              "      </button>\n",
              "      \n",
              "  <style>\n",
              "    .colab-df-container {\n",
              "      display:flex;\n",
              "      flex-wrap:wrap;\n",
              "      gap: 12px;\n",
              "    }\n",
              "\n",
              "    .colab-df-convert {\n",
              "      background-color: #E8F0FE;\n",
              "      border: none;\n",
              "      border-radius: 50%;\n",
              "      cursor: pointer;\n",
              "      display: none;\n",
              "      fill: #1967D2;\n",
              "      height: 32px;\n",
              "      padding: 0 0 0 0;\n",
              "      width: 32px;\n",
              "    }\n",
              "\n",
              "    .colab-df-convert:hover {\n",
              "      background-color: #E2EBFA;\n",
              "      box-shadow: 0px 1px 2px rgba(60, 64, 67, 0.3), 0px 1px 3px 1px rgba(60, 64, 67, 0.15);\n",
              "      fill: #174EA6;\n",
              "    }\n",
              "\n",
              "    [theme=dark] .colab-df-convert {\n",
              "      background-color: #3B4455;\n",
              "      fill: #D2E3FC;\n",
              "    }\n",
              "\n",
              "    [theme=dark] .colab-df-convert:hover {\n",
              "      background-color: #434B5C;\n",
              "      box-shadow: 0px 1px 3px 1px rgba(0, 0, 0, 0.15);\n",
              "      filter: drop-shadow(0px 1px 2px rgba(0, 0, 0, 0.3));\n",
              "      fill: #FFFFFF;\n",
              "    }\n",
              "  </style>\n",
              "\n",
              "      <script>\n",
              "        const buttonEl =\n",
              "          document.querySelector('#df-d18d7d8a-37de-499c-b080-d4f5f480bfe7 button.colab-df-convert');\n",
              "        buttonEl.style.display =\n",
              "          google.colab.kernel.accessAllowed ? 'block' : 'none';\n",
              "\n",
              "        async function convertToInteractive(key) {\n",
              "          const element = document.querySelector('#df-d18d7d8a-37de-499c-b080-d4f5f480bfe7');\n",
              "          const dataTable =\n",
              "            await google.colab.kernel.invokeFunction('convertToInteractive',\n",
              "                                                     [key], {});\n",
              "          if (!dataTable) return;\n",
              "\n",
              "          const docLinkHtml = 'Like what you see? Visit the ' +\n",
              "            '<a target=\"_blank\" href=https://colab.research.google.com/notebooks/data_table.ipynb>data table notebook</a>'\n",
              "            + ' to learn more about interactive tables.';\n",
              "          element.innerHTML = '';\n",
              "          dataTable['output_type'] = 'display_data';\n",
              "          await google.colab.output.renderOutput(dataTable, element);\n",
              "          const docLink = document.createElement('div');\n",
              "          docLink.innerHTML = docLinkHtml;\n",
              "          element.appendChild(docLink);\n",
              "        }\n",
              "      </script>\n",
              "    </div>\n",
              "  </div>\n",
              "  "
            ]
          },
          "metadata": {},
          "execution_count": 82
        }
      ]
    },
    {
      "cell_type": "code",
      "source": [
        "df = df.groupby('customer_id').agg({\"index_group_no\": set}).reset_index()"
      ],
      "metadata": {
        "id": "eJG5ytJUBjMS"
      },
      "execution_count": 83,
      "outputs": []
    },
    {
      "cell_type": "code",
      "source": [
        "cust_itemgrp_dict = df.set_index('customer_id').T.to_dict('list')\n",
        "cust_itemgrp_dict"
      ],
      "metadata": {
        "id": "mAMlYZ8lDZBl"
      },
      "execution_count": 84,
      "outputs": []
    },
    {
      "cell_type": "code",
      "source": [
        "cust_itemgrp_dict['0144aeab64b960936bf1532290e59997224b63deacf76e42c4766e6cea318b6a']"
      ],
      "metadata": {
        "colab": {
          "base_uri": "https://localhost:8080/"
        },
        "id": "WU6USuhuWwjt",
        "outputId": "57cccd2c-5445-4cd2-b7e6-94bb325af98e"
      },
      "execution_count": 93,
      "outputs": [
        {
          "output_type": "execute_result",
          "data": {
            "text/plain": [
              "[{1, 26}]"
            ]
          },
          "metadata": {},
          "execution_count": 93
        }
      ]
    },
    {
      "cell_type": "code",
      "source": [
        "import pickle\n",
        "with open('customer_itemgrp_dict.pkl', 'wb') as f:\n",
        "  pickle.dump(cust_itemgrp_dict, f)"
      ],
      "metadata": {
        "id": "-AfIHOwgXzl1"
      },
      "execution_count": 96,
      "outputs": []
    },
    {
      "cell_type": "code",
      "source": [
        ""
      ],
      "metadata": {
        "id": "hBvJtkdaZnI7"
      },
      "execution_count": null,
      "outputs": []
    },
    {
      "cell_type": "code",
      "source": [
        ""
      ],
      "metadata": {
        "id": "YCgDie-AZm4X"
      },
      "execution_count": null,
      "outputs": []
    },
    {
      "cell_type": "code",
      "source": [
        "!cp *.pkl *.json *.txt word2vec*  /content/drive/MyDrive/datas/h_and_m/trend202009"
      ],
      "metadata": {
        "id": "1GVIsPX3ZM-e"
      },
      "execution_count": 114,
      "outputs": []
    },
    {
      "cell_type": "code",
      "source": [
        "!ls"
      ],
      "metadata": {
        "colab": {
          "base_uri": "https://localhost:8080/"
        },
        "id": "R4bWfjFdZUAt",
        "outputId": "edb404e3-3f41-4c80-917a-2dc907db381d"
      },
      "execution_count": 115,
      "outputs": [
        {
          "output_type": "stream",
          "name": "stdout",
          "text": [
            "article_group_dict.pkl\t       drive\t    word2vec.model\n",
            "customer_articles_202009.json  items.txt\n",
            "customer_itemgrp_dict.pkl      sample_data\n"
          ]
        }
      ]
    },
    {
      "cell_type": "code",
      "source": [
        ""
      ],
      "metadata": {
        "id": "54GP5arwatjm"
      },
      "execution_count": null,
      "outputs": []
    }
  ]
}