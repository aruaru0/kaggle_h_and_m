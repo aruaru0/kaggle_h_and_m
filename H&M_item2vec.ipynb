{
  "nbformat": 4,
  "nbformat_minor": 0,
  "metadata": {
    "colab": {
      "name": "H&M item2vec",
      "provenance": [],
      "mount_file_id": "11SRcQHEUCgG8RQqmfrd8dJ5FeyajkzVy",
      "authorship_tag": "ABX9TyNwY1oxCW+RVQQ+Rc21Uite",
      "include_colab_link": true
    },
    "kernelspec": {
      "name": "python3",
      "display_name": "Python 3"
    },
    "language_info": {
      "name": "python"
    }
  },
  "cells": [
    {
      "cell_type": "markdown",
      "metadata": {
        "id": "view-in-github",
        "colab_type": "text"
      },
      "source": [
        "<a href=\"https://colab.research.google.com/github/aruaru0/kaggle_h_and_m/blob/main/H%26M_item2vec.ipynb\" target=\"_parent\"><img src=\"https://colab.research.google.com/assets/colab-badge.svg\" alt=\"Open In Colab\"/></a>"
      ]
    },
    {
      "cell_type": "code",
      "execution_count": null,
      "metadata": {
        "id": "fuqNbJ_4W3l7"
      },
      "outputs": [],
      "source": [
        "from gensim.models import word2vec\n",
        "import pandas as pd"
      ]
    },
    {
      "cell_type": "code",
      "source": [
        "customers = pd.read_csv(\"/content/drive/MyDrive/datas/h_and_m/customers.csv\")\n",
        "items = pd.read_csv('/content/drive/MyDrive/datas/items.csv')"
      ],
      "metadata": {
        "id": "HddhiBlqXCmx"
      },
      "execution_count": null,
      "outputs": []
    },
    {
      "cell_type": "code",
      "source": [
        "items.head()\n",
        "items.iloc[0]['customer_id']"
      ],
      "metadata": {
        "colab": {
          "base_uri": "https://localhost:8080/",
          "height": 36
        },
        "id": "Bgaq5hYlYcie",
        "outputId": "42d59d8b-2d36-4408-e76c-a1f2ae9d24a1"
      },
      "execution_count": null,
      "outputs": [
        {
          "output_type": "execute_result",
          "data": {
            "text/plain": [
              "'000058a12d5b43e67d225668fa1f8d618c13dc232df0cad8ffe7ad4a1091e318'"
            ],
            "application/vnd.google.colaboratory.intrinsic+json": {
              "type": "string"
            }
          },
          "metadata": {},
          "execution_count": 3
        }
      ]
    },
    {
      "cell_type": "code",
      "source": [
        "items.dtypes"
      ],
      "metadata": {
        "colab": {
          "base_uri": "https://localhost:8080/"
        },
        "id": "L5MFwWJ4dvd-",
        "outputId": "f446d0fe-f5ce-4744-fd54-6feae551f4a8"
      },
      "execution_count": null,
      "outputs": [
        {
          "output_type": "execute_result",
          "data": {
            "text/plain": [
              "customer_id    object\n",
              "items          object\n",
              "dtype: object"
            ]
          },
          "metadata": {},
          "execution_count": 4
        }
      ]
    },
    {
      "cell_type": "code",
      "source": [
        "items[items['customer_id']=='00a4f2c8cc87ffb0ea7db47b4b0b247b9ef11033c8d976f374f709a6fb80f1b9']"
      ],
      "metadata": {
        "colab": {
          "base_uri": "https://localhost:8080/",
          "height": 142
        },
        "id": "4VGo7GhTc7WE",
        "outputId": "b39d58a9-d2fb-4fcd-c272-af7b6e41965d"
      },
      "execution_count": null,
      "outputs": [
        {
          "output_type": "execute_result",
          "data": {
            "text/plain": [
              "                                          customer_id  \\\n",
              "35  00a4f2c8cc87ffb0ea7db47b4b0b247b9ef11033c8d976...   \n",
              "\n",
              "                                                items  \n",
              "35  610097001 640755002 559193001 615307002 637075...  "
            ],
            "text/html": [
              "\n",
              "  <div id=\"df-1ef7d3f1-303a-47d7-8c81-8523d36b9797\">\n",
              "    <div class=\"colab-df-container\">\n",
              "      <div>\n",
              "<style scoped>\n",
              "    .dataframe tbody tr th:only-of-type {\n",
              "        vertical-align: middle;\n",
              "    }\n",
              "\n",
              "    .dataframe tbody tr th {\n",
              "        vertical-align: top;\n",
              "    }\n",
              "\n",
              "    .dataframe thead th {\n",
              "        text-align: right;\n",
              "    }\n",
              "</style>\n",
              "<table border=\"1\" class=\"dataframe\">\n",
              "  <thead>\n",
              "    <tr style=\"text-align: right;\">\n",
              "      <th></th>\n",
              "      <th>customer_id</th>\n",
              "      <th>items</th>\n",
              "    </tr>\n",
              "  </thead>\n",
              "  <tbody>\n",
              "    <tr>\n",
              "      <th>35</th>\n",
              "      <td>00a4f2c8cc87ffb0ea7db47b4b0b247b9ef11033c8d976...</td>\n",
              "      <td>610097001 640755002 559193001 615307002 637075...</td>\n",
              "    </tr>\n",
              "  </tbody>\n",
              "</table>\n",
              "</div>\n",
              "      <button class=\"colab-df-convert\" onclick=\"convertToInteractive('df-1ef7d3f1-303a-47d7-8c81-8523d36b9797')\"\n",
              "              title=\"Convert this dataframe to an interactive table.\"\n",
              "              style=\"display:none;\">\n",
              "        \n",
              "  <svg xmlns=\"http://www.w3.org/2000/svg\" height=\"24px\"viewBox=\"0 0 24 24\"\n",
              "       width=\"24px\">\n",
              "    <path d=\"M0 0h24v24H0V0z\" fill=\"none\"/>\n",
              "    <path d=\"M18.56 5.44l.94 2.06.94-2.06 2.06-.94-2.06-.94-.94-2.06-.94 2.06-2.06.94zm-11 1L8.5 8.5l.94-2.06 2.06-.94-2.06-.94L8.5 2.5l-.94 2.06-2.06.94zm10 10l.94 2.06.94-2.06 2.06-.94-2.06-.94-.94-2.06-.94 2.06-2.06.94z\"/><path d=\"M17.41 7.96l-1.37-1.37c-.4-.4-.92-.59-1.43-.59-.52 0-1.04.2-1.43.59L10.3 9.45l-7.72 7.72c-.78.78-.78 2.05 0 2.83L4 21.41c.39.39.9.59 1.41.59.51 0 1.02-.2 1.41-.59l7.78-7.78 2.81-2.81c.8-.78.8-2.07 0-2.86zM5.41 20L4 18.59l7.72-7.72 1.47 1.35L5.41 20z\"/>\n",
              "  </svg>\n",
              "      </button>\n",
              "      \n",
              "  <style>\n",
              "    .colab-df-container {\n",
              "      display:flex;\n",
              "      flex-wrap:wrap;\n",
              "      gap: 12px;\n",
              "    }\n",
              "\n",
              "    .colab-df-convert {\n",
              "      background-color: #E8F0FE;\n",
              "      border: none;\n",
              "      border-radius: 50%;\n",
              "      cursor: pointer;\n",
              "      display: none;\n",
              "      fill: #1967D2;\n",
              "      height: 32px;\n",
              "      padding: 0 0 0 0;\n",
              "      width: 32px;\n",
              "    }\n",
              "\n",
              "    .colab-df-convert:hover {\n",
              "      background-color: #E2EBFA;\n",
              "      box-shadow: 0px 1px 2px rgba(60, 64, 67, 0.3), 0px 1px 3px 1px rgba(60, 64, 67, 0.15);\n",
              "      fill: #174EA6;\n",
              "    }\n",
              "\n",
              "    [theme=dark] .colab-df-convert {\n",
              "      background-color: #3B4455;\n",
              "      fill: #D2E3FC;\n",
              "    }\n",
              "\n",
              "    [theme=dark] .colab-df-convert:hover {\n",
              "      background-color: #434B5C;\n",
              "      box-shadow: 0px 1px 3px 1px rgba(0, 0, 0, 0.15);\n",
              "      filter: drop-shadow(0px 1px 2px rgba(0, 0, 0, 0.3));\n",
              "      fill: #FFFFFF;\n",
              "    }\n",
              "  </style>\n",
              "\n",
              "      <script>\n",
              "        const buttonEl =\n",
              "          document.querySelector('#df-1ef7d3f1-303a-47d7-8c81-8523d36b9797 button.colab-df-convert');\n",
              "        buttonEl.style.display =\n",
              "          google.colab.kernel.accessAllowed ? 'block' : 'none';\n",
              "\n",
              "        async function convertToInteractive(key) {\n",
              "          const element = document.querySelector('#df-1ef7d3f1-303a-47d7-8c81-8523d36b9797');\n",
              "          const dataTable =\n",
              "            await google.colab.kernel.invokeFunction('convertToInteractive',\n",
              "                                                     [key], {});\n",
              "          if (!dataTable) return;\n",
              "\n",
              "          const docLinkHtml = 'Like what you see? Visit the ' +\n",
              "            '<a target=\"_blank\" href=https://colab.research.google.com/notebooks/data_table.ipynb>data table notebook</a>'\n",
              "            + ' to learn more about interactive tables.';\n",
              "          element.innerHTML = '';\n",
              "          dataTable['output_type'] = 'display_data';\n",
              "          await google.colab.output.renderOutput(dataTable, element);\n",
              "          const docLink = document.createElement('div');\n",
              "          docLink.innerHTML = docLinkHtml;\n",
              "          element.appendChild(docLink);\n",
              "        }\n",
              "      </script>\n",
              "    </div>\n",
              "  </div>\n",
              "  "
            ]
          },
          "metadata": {},
          "execution_count": 5
        }
      ]
    },
    {
      "cell_type": "code",
      "source": [
        "model = word2vec.Word2Vec.load(\"/content/drive/MyDrive/datas/word2vec.model\")"
      ],
      "metadata": {
        "id": "lZo-ji2_YnyM"
      },
      "execution_count": null,
      "outputs": []
    },
    {
      "cell_type": "code",
      "source": [
        "model.wv.most_similar('610097001', topn=12)"
      ],
      "metadata": {
        "colab": {
          "base_uri": "https://localhost:8080/"
        },
        "id": "CTL4fVt4bqiA",
        "outputId": "4d495411-d417-400b-98d0-d0d2cadb6ad5"
      },
      "execution_count": null,
      "outputs": [
        {
          "output_type": "execute_result",
          "data": {
            "text/plain": [
              "[('511242001', 0.8731133937835693),\n",
              " ('410024007', 0.8599233627319336),\n",
              " ('553800001', 0.8595214486122131),\n",
              " ('329052020', 0.8572720289230347),\n",
              " ('745256004', 0.8551398515701294),\n",
              " ('581102001', 0.8487990498542786),\n",
              " ('585200001', 0.848778486251831),\n",
              " ('606727001', 0.8464922904968262),\n",
              " ('487050005', 0.8449820280075073),\n",
              " ('485691001', 0.8415278196334839),\n",
              " ('580680001', 0.8414571285247803),\n",
              " ('562636001', 0.8413000702857971)]"
            ]
          },
          "metadata": {},
          "execution_count": 7
        }
      ]
    },
    {
      "cell_type": "code",
      "source": [
        "import tqdm\n",
        "c_list = []\n",
        "pred_list = []\n",
        "\n",
        "for i in tqdm.tqdm(range(len(items))) :\n",
        "  id, item = items.iloc[i]\n",
        "  m = model.wv.most_similar(item.split(), topn=12)\n",
        "  d = []\n",
        "  for x, p in m :\n",
        "    d.append(x)\n",
        "  c_list.append(id)\n",
        "  pred_list.append(\" \".join(d))\n",
        "\n",
        "df = pd.DataFrame()\n",
        "df['customer_id'] = c_list\n",
        "df['prediction'] = pred_list\n",
        "\n",
        "df"
      ],
      "metadata": {
        "colab": {
          "base_uri": "https://localhost:8080/",
          "height": 660
        },
        "id": "fJJ_vvAaZXa8",
        "outputId": "20c4eab9-c43c-48c7-93dc-516c4177a58c"
      },
      "execution_count": null,
      "outputs": [
        {
          "output_type": "stream",
          "name": "stderr",
          "text": [
            "100%|██████████| 1362281/1362281 [4:58:53<00:00, 75.96it/s]\n"
          ]
        },
        {
          "output_type": "execute_result",
          "data": {
            "text/plain": [
              "                                               customer_id  \\\n",
              "0        000058a12d5b43e67d225668fa1f8d618c13dc232df0ca...   \n",
              "1        00007d2de826758b65a93dd24ce629ed66842531df6699...   \n",
              "2        00083cda041544b2fbb0e0d2905ad17da7cf1007526fb4...   \n",
              "3        0008968c0d451dbc5a9968da03196fe20051965edde741...   \n",
              "4        000aa7f0dc06cd7174389e76c9e132a67860c5f65f9706...   \n",
              "...                                                    ...   \n",
              "1362276  fe99a0069d6b3c64c2707d0ce53b9311540917471d82df...   \n",
              "1362277  fecc5f77b5f7ee4570efde9ab05ec94d0de2bf80efb4f6...   \n",
              "1362278  fece2f68864c311a0b5208e2eb735b3dcde7e41461d327...   \n",
              "1362279  fee56cc5315dafb35a4490ccc6f711092cae913550c832...   \n",
              "1362280  ff5b8a8b26bf93a66290e9bd1b73393ac6a58968a78519...   \n",
              "\n",
              "                                                prediction  \n",
              "0        838358001 855767002 564358053 591466047 818059...  \n",
              "1        533618007 693805002 517931010 599742006 643642...  \n",
              "2        687033002 559619004 559717004 559619003 649677...  \n",
              "3        777273005 529841002 685848002 660312001 675827...  \n",
              "4        709414002 657512002 739354003 556699002 670169...  \n",
              "...                                                    ...  \n",
              "1362276  867969002 677930077 677930086 715624051 867969...  \n",
              "1362277  854602009 854602008 916866001 909588006 762846...  \n",
              "1362278  822311016 860797003 891763004 883026003 887681...  \n",
              "1362279  902999001 898860002 786022008 899282001 898860...  \n",
              "1362280  767423010 767423011 761406005 767423013 902265...  \n",
              "\n",
              "[1362281 rows x 2 columns]"
            ],
            "text/html": [
              "\n",
              "  <div id=\"df-9bbe8f0d-de9f-447d-8f37-14548d410005\">\n",
              "    <div class=\"colab-df-container\">\n",
              "      <div>\n",
              "<style scoped>\n",
              "    .dataframe tbody tr th:only-of-type {\n",
              "        vertical-align: middle;\n",
              "    }\n",
              "\n",
              "    .dataframe tbody tr th {\n",
              "        vertical-align: top;\n",
              "    }\n",
              "\n",
              "    .dataframe thead th {\n",
              "        text-align: right;\n",
              "    }\n",
              "</style>\n",
              "<table border=\"1\" class=\"dataframe\">\n",
              "  <thead>\n",
              "    <tr style=\"text-align: right;\">\n",
              "      <th></th>\n",
              "      <th>customer_id</th>\n",
              "      <th>prediction</th>\n",
              "    </tr>\n",
              "  </thead>\n",
              "  <tbody>\n",
              "    <tr>\n",
              "      <th>0</th>\n",
              "      <td>000058a12d5b43e67d225668fa1f8d618c13dc232df0ca...</td>\n",
              "      <td>838358001 855767002 564358053 591466047 818059...</td>\n",
              "    </tr>\n",
              "    <tr>\n",
              "      <th>1</th>\n",
              "      <td>00007d2de826758b65a93dd24ce629ed66842531df6699...</td>\n",
              "      <td>533618007 693805002 517931010 599742006 643642...</td>\n",
              "    </tr>\n",
              "    <tr>\n",
              "      <th>2</th>\n",
              "      <td>00083cda041544b2fbb0e0d2905ad17da7cf1007526fb4...</td>\n",
              "      <td>687033002 559619004 559717004 559619003 649677...</td>\n",
              "    </tr>\n",
              "    <tr>\n",
              "      <th>3</th>\n",
              "      <td>0008968c0d451dbc5a9968da03196fe20051965edde741...</td>\n",
              "      <td>777273005 529841002 685848002 660312001 675827...</td>\n",
              "    </tr>\n",
              "    <tr>\n",
              "      <th>4</th>\n",
              "      <td>000aa7f0dc06cd7174389e76c9e132a67860c5f65f9706...</td>\n",
              "      <td>709414002 657512002 739354003 556699002 670169...</td>\n",
              "    </tr>\n",
              "    <tr>\n",
              "      <th>...</th>\n",
              "      <td>...</td>\n",
              "      <td>...</td>\n",
              "    </tr>\n",
              "    <tr>\n",
              "      <th>1362276</th>\n",
              "      <td>fe99a0069d6b3c64c2707d0ce53b9311540917471d82df...</td>\n",
              "      <td>867969002 677930077 677930086 715624051 867969...</td>\n",
              "    </tr>\n",
              "    <tr>\n",
              "      <th>1362277</th>\n",
              "      <td>fecc5f77b5f7ee4570efde9ab05ec94d0de2bf80efb4f6...</td>\n",
              "      <td>854602009 854602008 916866001 909588006 762846...</td>\n",
              "    </tr>\n",
              "    <tr>\n",
              "      <th>1362278</th>\n",
              "      <td>fece2f68864c311a0b5208e2eb735b3dcde7e41461d327...</td>\n",
              "      <td>822311016 860797003 891763004 883026003 887681...</td>\n",
              "    </tr>\n",
              "    <tr>\n",
              "      <th>1362279</th>\n",
              "      <td>fee56cc5315dafb35a4490ccc6f711092cae913550c832...</td>\n",
              "      <td>902999001 898860002 786022008 899282001 898860...</td>\n",
              "    </tr>\n",
              "    <tr>\n",
              "      <th>1362280</th>\n",
              "      <td>ff5b8a8b26bf93a66290e9bd1b73393ac6a58968a78519...</td>\n",
              "      <td>767423010 767423011 761406005 767423013 902265...</td>\n",
              "    </tr>\n",
              "  </tbody>\n",
              "</table>\n",
              "<p>1362281 rows × 2 columns</p>\n",
              "</div>\n",
              "      <button class=\"colab-df-convert\" onclick=\"convertToInteractive('df-9bbe8f0d-de9f-447d-8f37-14548d410005')\"\n",
              "              title=\"Convert this dataframe to an interactive table.\"\n",
              "              style=\"display:none;\">\n",
              "        \n",
              "  <svg xmlns=\"http://www.w3.org/2000/svg\" height=\"24px\"viewBox=\"0 0 24 24\"\n",
              "       width=\"24px\">\n",
              "    <path d=\"M0 0h24v24H0V0z\" fill=\"none\"/>\n",
              "    <path d=\"M18.56 5.44l.94 2.06.94-2.06 2.06-.94-2.06-.94-.94-2.06-.94 2.06-2.06.94zm-11 1L8.5 8.5l.94-2.06 2.06-.94-2.06-.94L8.5 2.5l-.94 2.06-2.06.94zm10 10l.94 2.06.94-2.06 2.06-.94-2.06-.94-.94-2.06-.94 2.06-2.06.94z\"/><path d=\"M17.41 7.96l-1.37-1.37c-.4-.4-.92-.59-1.43-.59-.52 0-1.04.2-1.43.59L10.3 9.45l-7.72 7.72c-.78.78-.78 2.05 0 2.83L4 21.41c.39.39.9.59 1.41.59.51 0 1.02-.2 1.41-.59l7.78-7.78 2.81-2.81c.8-.78.8-2.07 0-2.86zM5.41 20L4 18.59l7.72-7.72 1.47 1.35L5.41 20z\"/>\n",
              "  </svg>\n",
              "      </button>\n",
              "      \n",
              "  <style>\n",
              "    .colab-df-container {\n",
              "      display:flex;\n",
              "      flex-wrap:wrap;\n",
              "      gap: 12px;\n",
              "    }\n",
              "\n",
              "    .colab-df-convert {\n",
              "      background-color: #E8F0FE;\n",
              "      border: none;\n",
              "      border-radius: 50%;\n",
              "      cursor: pointer;\n",
              "      display: none;\n",
              "      fill: #1967D2;\n",
              "      height: 32px;\n",
              "      padding: 0 0 0 0;\n",
              "      width: 32px;\n",
              "    }\n",
              "\n",
              "    .colab-df-convert:hover {\n",
              "      background-color: #E2EBFA;\n",
              "      box-shadow: 0px 1px 2px rgba(60, 64, 67, 0.3), 0px 1px 3px 1px rgba(60, 64, 67, 0.15);\n",
              "      fill: #174EA6;\n",
              "    }\n",
              "\n",
              "    [theme=dark] .colab-df-convert {\n",
              "      background-color: #3B4455;\n",
              "      fill: #D2E3FC;\n",
              "    }\n",
              "\n",
              "    [theme=dark] .colab-df-convert:hover {\n",
              "      background-color: #434B5C;\n",
              "      box-shadow: 0px 1px 3px 1px rgba(0, 0, 0, 0.15);\n",
              "      filter: drop-shadow(0px 1px 2px rgba(0, 0, 0, 0.3));\n",
              "      fill: #FFFFFF;\n",
              "    }\n",
              "  </style>\n",
              "\n",
              "      <script>\n",
              "        const buttonEl =\n",
              "          document.querySelector('#df-9bbe8f0d-de9f-447d-8f37-14548d410005 button.colab-df-convert');\n",
              "        buttonEl.style.display =\n",
              "          google.colab.kernel.accessAllowed ? 'block' : 'none';\n",
              "\n",
              "        async function convertToInteractive(key) {\n",
              "          const element = document.querySelector('#df-9bbe8f0d-de9f-447d-8f37-14548d410005');\n",
              "          const dataTable =\n",
              "            await google.colab.kernel.invokeFunction('convertToInteractive',\n",
              "                                                     [key], {});\n",
              "          if (!dataTable) return;\n",
              "\n",
              "          const docLinkHtml = 'Like what you see? Visit the ' +\n",
              "            '<a target=\"_blank\" href=https://colab.research.google.com/notebooks/data_table.ipynb>data table notebook</a>'\n",
              "            + ' to learn more about interactive tables.';\n",
              "          element.innerHTML = '';\n",
              "          dataTable['output_type'] = 'display_data';\n",
              "          await google.colab.output.renderOutput(dataTable, element);\n",
              "          const docLink = document.createElement('div');\n",
              "          docLink.innerHTML = docLinkHtml;\n",
              "          element.appendChild(docLink);\n",
              "        }\n",
              "      </script>\n",
              "    </div>\n",
              "  </div>\n",
              "  "
            ]
          },
          "metadata": {},
          "execution_count": 9
        }
      ]
    },
    {
      "cell_type": "code",
      "source": [
        "df.to_csv(\"/content/drive/MyDrive/datas/submission.csv\", index=False)"
      ],
      "metadata": {
        "id": "-7t32BSqZx9J"
      },
      "execution_count": null,
      "outputs": []
    },
    {
      "cell_type": "code",
      "source": [
        "df.to_csv(\"/content/drive/MyDrive/datas/submission.csv\", index=False)"
      ],
      "metadata": {
        "id": "Fb_q_IfnnvYt"
      },
      "execution_count": null,
      "outputs": []
    },
    {
      "cell_type": "code",
      "source": [
        ""
      ],
      "metadata": {
        "id": "pgR6Evc8rSAS"
      },
      "execution_count": null,
      "outputs": []
    }
  ]
}